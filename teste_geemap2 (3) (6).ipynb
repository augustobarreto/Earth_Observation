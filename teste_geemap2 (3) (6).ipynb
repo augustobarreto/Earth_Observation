{
 "cells": [
  {
   "cell_type": "code",
   "execution_count": 15,
   "id": "deadly-gravity",
   "metadata": {},
   "outputs": [],
   "source": [
    "import ee\n",
    "import geemap\n",
    "ee.Initialize()"
   ]
  },
  {
   "cell_type": "code",
   "execution_count": 16,
   "id": "authentic-catalyst",
   "metadata": {},
   "outputs": [],
   "source": [
    "import requests\n",
    "import pandas as pd\n",
    "import json\n",
    "import time"
   ]
  },
  {
   "cell_type": "code",
   "execution_count": 17,
   "id": "spare-prefix",
   "metadata": {},
   "outputs": [],
   "source": [
    "GEOCODE = '4318309'\n",
    "url = f'http://servicodados.ibge.gov.br/api/v3/malhas/municipios/{GEOCODE}?formato=application/vnd.geo+json'\n",
    "response = requests.get(url)\n",
    "geo = response.json();\n",
    "ee_object = geemap.geojson_to_ee(geo)\n",
    "geometry = ee_object.geometry()"
   ]
  },
  {
   "cell_type": "code",
   "execution_count": 2,
   "id": "hidden-sequence",
   "metadata": {},
   "outputs": [
    {
     "data": {
      "application/vnd.jupyter.widget-view+json": {
       "model_id": "3ade116914c54542a1915408366ab35e",
       "version_major": 2,
       "version_minor": 0
      },
      "text/plain": [
       "Map(center=[-11.77, -45.76], controls=(WidgetControl(options=['position', 'transparent_bg'], widget=HBox(child…"
      ]
     },
     "metadata": {},
     "output_type": "display_data"
    }
   ],
   "source": [
    "Map = geemap.Map(center=[-11.77,-45.76], zoom=8)\n",
    "\n",
    "# Define a region in which to generate a sample of the input.\n",
    "region = geometry = ee.Geometry.Polygon(\n",
    "        [[[-46.31633300781251, -12.379228237680417],\n",
    "          [-45.31108398437501, -12.298734131305821],\n",
    "          [-45.30009765625001, -11.589339623793398],\n",
    "          [-46.33830566406251, -11.605482676116234]]])\n",
    "\n",
    "Map\n",
    "\n",
    "#Draw the region polygon"
   ]
  },
  {
   "cell_type": "code",
   "execution_count": 35,
   "id": "divine-session",
   "metadata": {},
   "outputs": [
    {
     "data": {
      "application/vnd.jupyter.widget-view+json": {
       "model_id": "24a2b0f6dc8243ac90fbddcee4475e22",
       "version_major": 2,
       "version_minor": 0
      },
      "text/plain": [
       "Map(bottom=35226.0, center=[-11.77, -45.76], controls=(WidgetControl(options=['position', 'transparent_bg'], w…"
      ]
     },
     "metadata": {},
     "output_type": "display_data"
    }
   ],
   "source": [
    "Map.draw_features\n",
    "roi = ee.FeatureCollection(Map.draw_features)\n",
    "geometry = roi.geometry()\n",
    "Map"
   ]
  },
  {
   "cell_type": "code",
   "execution_count": 13,
   "id": "opening-implement",
   "metadata": {},
   "outputs": [
    {
     "data": {
      "application/vnd.jupyter.widget-view+json": {
       "model_id": "3ade116914c54542a1915408366ab35e",
       "version_major": 2,
       "version_minor": 0
      },
      "text/plain": [
       "Map(bottom=35226.0, center=[-11.77, -45.76], controls=(WidgetControl(options=['position', 'transparent_bg'], w…"
      ]
     },
     "metadata": {},
     "output_type": "display_data"
    }
   ],
   "source": [
    "Map.addLayer(ee_object)\n",
    "Map"
   ]
  },
  {
   "cell_type": "code",
   "execution_count": 18,
   "id": "grateful-variety",
   "metadata": {},
   "outputs": [],
   "source": [
    "def clusterization(image):\n",
    "\n",
    "          \n",
    "    # Load a pre-computed Landsat composite for input.\n",
    "    input = image.clip(geometry).select(\"EVI\");\n",
    "  \n",
    "    #Make the training dataset.\n",
    "    training = input.sample(**{\n",
    "    'region': geometry,\n",
    "    'scale': 250,\n",
    "    'numPixels': 5000\n",
    "    });\n",
    "\n",
    "    #Instantiate the clusterer and train it.\n",
    "    clusterer = ee.Clusterer.wekaKMeans(5).train(training)\n",
    "    #Cluster the input using the trained clusterer.\n",
    "    result = input.cluster(clusterer)\n",
    " \n",
    "    #Combine the mean and standard deviation reducers.\n",
    "    reducers = ee.Reducer.mean()\n",
    "\n",
    "    #Inicialização Lista de EVI dos clustes\n",
    "    lista = ee.List([])\n",
    "\n",
    "    #Iteração sobre os 5 Clusters para calcular a estatística de cada região\n",
    "    for i in range(5):\n",
    "\n",
    "        #Cálculo da geometria\n",
    "        geom = result.select(\"cluster\").eq(i).selfMask().reduceToVectors(**{\n",
    "        'scale':250,\n",
    "        });\n",
    "\n",
    "\n",
    "\n",
    "        #Reducer para cálculo do EVI médio de cada cluster\n",
    "        stats = image.reduceRegion(**{\n",
    "        'reducer': reducers,\n",
    "        'geometry':geom.geometry(),\n",
    "        'scale':250,\n",
    "        'bestEffort':True,\n",
    "        'maxPixels':10000000000,\n",
    "        });\n",
    "\n",
    "        #Armarzena o EVI médio de cada clúster em uma lista\n",
    "        lista = lista.add(stats.get(\"EVI\"));\n",
    "\n",
    "\n",
    "    #Cópia da Lista para ordenar os 2 maiores EVIs\n",
    "    lista2 = lista;\n",
    "\n",
    "\n",
    "    #Ordenar a lista para pegar os 2 maiores valores de EVI médio nos clusters\n",
    "    #Agora nossos clustests de interesse estão nas posições 3 e 4 da lista 2\n",
    "    lista2 = lista2.sort()\n",
    "\n",
    "    #Pegar as chaves dos clusteres de interesse na lista original\n",
    "    chaves1 = lista.indexOf(lista2.get(3))\n",
    "    chaves2 = lista.indexOf(lista2.get(4))\n",
    "\n",
    "\n",
    "    #Cálculo da Geometria final\n",
    "\n",
    "    geom1 = result.select(\"cluster\").eq(chaves1).selfMask().reduceToVectors(**{\n",
    "    'scale':250,\n",
    "    });\n",
    "\n",
    "    geom2 = result.select(\"cluster\").eq(chaves2).selfMask().reduceToVectors(**{\n",
    "    'scale':250,\n",
    "    });\n",
    "\n",
    "    #Geom é a feature collection de nossos clusters de interesse\n",
    "    geom = geom1.merge(geom2);\n",
    "\n",
    "\n",
    "\n",
    "    stats = image.reduceRegion(**{\n",
    "    'reducer': reducers,\n",
    "    'geometry':geom.geometry(),\n",
    "    'scale':250,\n",
    "    'bestEffort':True,\n",
    "    'maxPixels':10000000000,\n",
    "    });\n",
    "\n",
    "\n",
    "    return image.set('EVI_Cluster', stats.get(\"EVI\"))\n",
    "    "
   ]
  },
  {
   "cell_type": "code",
   "execution_count": 19,
   "id": "further-cliff",
   "metadata": {},
   "outputs": [],
   "source": [
    "import requests\n",
    "import pandas as pd\n",
    "import json\n",
    "import time\n",
    "#import os\n",
    "\n",
    "#out_dir = os.path.join(os.path.expanduser('~'), 'Downloads')\n"
   ]
  },
  {
   "cell_type": "code",
   "execution_count": 20,
   "id": "dated-combination",
   "metadata": {},
   "outputs": [],
   "source": [
    "stats = list();"
   ]
  },
  {
   "cell_type": "code",
   "execution_count": null,
   "id": "animal-married",
   "metadata": {},
   "outputs": [
    {
     "name": "stdout",
     "output_type": "stream",
     "text": [
      "2000\n",
      "2001\n",
      "2002\n"
     ]
    }
   ],
   "source": [
    "#Dividir o processamento das imagens de acordo com o ano para não sobrecarregar o sistema\n",
    "ano = list(range(2000, 2022))\n",
    "\n",
    "string_ints = [str(int) for int in ano]\n",
    "#stats = list();\n",
    "    \n",
    "for i in (string_ints):\n",
    "    \n",
    "    print (i)\n",
    "    #Filtrar a territorialidade \n",
    "    #4 principais meses de safra\n",
    "    #filter start and end date   \n",
    "    mcollection = ee.ImageCollection('MODIS/006/MOD13Q1').filterBounds(geometry).filterDate( i + '-01-01', i +'-04-30').filter(ee.Filter.calendarRange(1, 4,'month')).map(clusterization)\n",
    "        \n",
    "    #Pegar a propriedade que nos interessa em cada imagem - o EVI_Cluster Calculado \n",
    "    a = mcollection.aggregate_array('EVI_Cluster')\n",
    "    \n",
    "    \n",
    "    #10s de soneca pra o GEE não derrubar as requests\n",
    "    time.sleep(10)\n",
    "    # Fazer a informação passar do servidor do google para o jupyter\n",
    "    x = a.getInfo()\n",
    "    #Salvar cada ano\n",
    "    stats.append(x)    \n",
    "    "
   ]
  },
  {
   "cell_type": "code",
   "execution_count": null,
   "id": "inclusive-defendant",
   "metadata": {},
   "outputs": [],
   "source": [
    "stats"
   ]
  },
  {
   "cell_type": "code",
   "execution_count": 8,
   "id": "proprietary-cisco",
   "metadata": {},
   "outputs": [],
   "source": [
    "df = pd.DataFrame({'lin':stats})"
   ]
  },
  {
   "cell_type": "code",
   "execution_count": 9,
   "id": "located-dayton",
   "metadata": {},
   "outputs": [],
   "source": [
    "#Separate comma\n",
    "#df = df.apply(lambda x:pd.Series(x))"
   ]
  },
  {
   "cell_type": "code",
   "execution_count": 10,
   "id": "fourth-richmond",
   "metadata": {},
   "outputs": [],
   "source": [
    "df = pd.DataFrame(stats, columns = ['EVI1', 'EVI2','EVI3','EVI4','EVI5','EVI6','EVI7','EVI8'])"
   ]
  },
  {
   "cell_type": "code",
   "execution_count": 11,
   "id": "forward-nature",
   "metadata": {},
   "outputs": [
    {
     "data": {
      "text/html": [
       "<div>\n",
       "<style scoped>\n",
       "    .dataframe tbody tr th:only-of-type {\n",
       "        vertical-align: middle;\n",
       "    }\n",
       "\n",
       "    .dataframe tbody tr th {\n",
       "        vertical-align: top;\n",
       "    }\n",
       "\n",
       "    .dataframe thead th {\n",
       "        text-align: right;\n",
       "    }\n",
       "</style>\n",
       "<table border=\"1\" class=\"dataframe\">\n",
       "  <thead>\n",
       "    <tr style=\"text-align: right;\">\n",
       "      <th></th>\n",
       "      <th>EVI1</th>\n",
       "      <th>EVI2</th>\n",
       "      <th>EVI3</th>\n",
       "      <th>EVI4</th>\n",
       "      <th>EVI5</th>\n",
       "      <th>EVI6</th>\n",
       "      <th>EVI7</th>\n",
       "      <th>EVI8</th>\n",
       "    </tr>\n",
       "  </thead>\n",
       "  <tbody>\n",
       "    <tr>\n",
       "      <th>0</th>\n",
       "      <td>6874.760046</td>\n",
       "      <td>6394.279193</td>\n",
       "      <td>6123.178791</td>\n",
       "      <td>4253.107086</td>\n",
       "      <td>3838.841842</td>\n",
       "      <td>NaN</td>\n",
       "      <td>NaN</td>\n",
       "      <td>NaN</td>\n",
       "    </tr>\n",
       "    <tr>\n",
       "      <th>1</th>\n",
       "      <td>5259.268695</td>\n",
       "      <td>6258.676460</td>\n",
       "      <td>7031.668107</td>\n",
       "      <td>7296.111598</td>\n",
       "      <td>6880.736274</td>\n",
       "      <td>6378.035851</td>\n",
       "      <td>4772.181429</td>\n",
       "      <td>3973.964507</td>\n",
       "    </tr>\n",
       "    <tr>\n",
       "      <th>2</th>\n",
       "      <td>6423.580115</td>\n",
       "      <td>8020.402898</td>\n",
       "      <td>7868.045985</td>\n",
       "      <td>7133.997767</td>\n",
       "      <td>4857.447994</td>\n",
       "      <td>4072.496887</td>\n",
       "      <td>3881.073860</td>\n",
       "      <td>3893.338139</td>\n",
       "    </tr>\n",
       "    <tr>\n",
       "      <th>3</th>\n",
       "      <td>6578.208822</td>\n",
       "      <td>7070.053478</td>\n",
       "      <td>7292.763609</td>\n",
       "      <td>7051.363568</td>\n",
       "      <td>6780.649960</td>\n",
       "      <td>5283.531319</td>\n",
       "      <td>4649.450547</td>\n",
       "      <td>4371.640042</td>\n",
       "    </tr>\n",
       "    <tr>\n",
       "      <th>4</th>\n",
       "      <td>6718.109843</td>\n",
       "      <td>7036.585587</td>\n",
       "      <td>7988.745246</td>\n",
       "      <td>7543.445755</td>\n",
       "      <td>6559.527911</td>\n",
       "      <td>5558.025200</td>\n",
       "      <td>4846.263621</td>\n",
       "      <td>4601.596827</td>\n",
       "    </tr>\n",
       "    <tr>\n",
       "      <th>5</th>\n",
       "      <td>5862.068056</td>\n",
       "      <td>6604.773912</td>\n",
       "      <td>7686.325468</td>\n",
       "      <td>7541.497538</td>\n",
       "      <td>7247.702175</td>\n",
       "      <td>6307.824137</td>\n",
       "      <td>5332.146685</td>\n",
       "      <td>5279.069751</td>\n",
       "    </tr>\n",
       "    <tr>\n",
       "      <th>6</th>\n",
       "      <td>6061.925739</td>\n",
       "      <td>5825.807586</td>\n",
       "      <td>7359.243333</td>\n",
       "      <td>7091.745079</td>\n",
       "      <td>7043.773647</td>\n",
       "      <td>6863.455807</td>\n",
       "      <td>6539.112422</td>\n",
       "      <td>6297.635018</td>\n",
       "    </tr>\n",
       "    <tr>\n",
       "      <th>7</th>\n",
       "      <td>7232.073196</td>\n",
       "      <td>7605.324347</td>\n",
       "      <td>7664.341318</td>\n",
       "      <td>7631.458098</td>\n",
       "      <td>7331.321532</td>\n",
       "      <td>6433.052025</td>\n",
       "      <td>5034.180131</td>\n",
       "      <td>5030.260769</td>\n",
       "    </tr>\n",
       "    <tr>\n",
       "      <th>8</th>\n",
       "      <td>4999.699570</td>\n",
       "      <td>7348.651631</td>\n",
       "      <td>7688.411261</td>\n",
       "      <td>7908.436345</td>\n",
       "      <td>8486.042040</td>\n",
       "      <td>7014.634689</td>\n",
       "      <td>6424.546801</td>\n",
       "      <td>5131.027017</td>\n",
       "    </tr>\n",
       "    <tr>\n",
       "      <th>9</th>\n",
       "      <td>6366.144577</td>\n",
       "      <td>7535.637696</td>\n",
       "      <td>8258.047953</td>\n",
       "      <td>8232.011604</td>\n",
       "      <td>7413.414015</td>\n",
       "      <td>6926.599555</td>\n",
       "      <td>5692.455953</td>\n",
       "      <td>6373.981787</td>\n",
       "    </tr>\n",
       "    <tr>\n",
       "      <th>10</th>\n",
       "      <td>7545.828976</td>\n",
       "      <td>8082.179114</td>\n",
       "      <td>7798.372092</td>\n",
       "      <td>6883.939901</td>\n",
       "      <td>6243.971280</td>\n",
       "      <td>6216.260403</td>\n",
       "      <td>5244.555745</td>\n",
       "      <td>5228.217013</td>\n",
       "    </tr>\n",
       "    <tr>\n",
       "      <th>11</th>\n",
       "      <td>7951.847997</td>\n",
       "      <td>8322.594650</td>\n",
       "      <td>7680.156522</td>\n",
       "      <td>8141.202721</td>\n",
       "      <td>7016.856089</td>\n",
       "      <td>6081.158453</td>\n",
       "      <td>6498.254666</td>\n",
       "      <td>6187.557118</td>\n",
       "    </tr>\n",
       "    <tr>\n",
       "      <th>12</th>\n",
       "      <td>7252.068995</td>\n",
       "      <td>7797.050138</td>\n",
       "      <td>7371.449366</td>\n",
       "      <td>6879.330936</td>\n",
       "      <td>6743.482019</td>\n",
       "      <td>5865.982146</td>\n",
       "      <td>6199.202845</td>\n",
       "      <td>5496.214750</td>\n",
       "    </tr>\n",
       "    <tr>\n",
       "      <th>13</th>\n",
       "      <td>5147.403223</td>\n",
       "      <td>7543.352282</td>\n",
       "      <td>7766.106345</td>\n",
       "      <td>7352.308479</td>\n",
       "      <td>6349.700845</td>\n",
       "      <td>6105.807216</td>\n",
       "      <td>6014.556046</td>\n",
       "      <td>6068.479445</td>\n",
       "    </tr>\n",
       "    <tr>\n",
       "      <th>14</th>\n",
       "      <td>6951.547497</td>\n",
       "      <td>6914.625493</td>\n",
       "      <td>7239.405393</td>\n",
       "      <td>7351.245302</td>\n",
       "      <td>6867.959891</td>\n",
       "      <td>5904.828855</td>\n",
       "      <td>6348.270813</td>\n",
       "      <td>6054.837484</td>\n",
       "    </tr>\n",
       "    <tr>\n",
       "      <th>15</th>\n",
       "      <td>7361.248994</td>\n",
       "      <td>7026.132274</td>\n",
       "      <td>8030.381176</td>\n",
       "      <td>7928.866206</td>\n",
       "      <td>6689.612109</td>\n",
       "      <td>6589.019973</td>\n",
       "      <td>6437.223303</td>\n",
       "      <td>6366.019622</td>\n",
       "    </tr>\n",
       "    <tr>\n",
       "      <th>16</th>\n",
       "      <td>6271.799391</td>\n",
       "      <td>8128.302857</td>\n",
       "      <td>8257.051529</td>\n",
       "      <td>6556.981430</td>\n",
       "      <td>5452.368045</td>\n",
       "      <td>4720.437755</td>\n",
       "      <td>4779.098729</td>\n",
       "      <td>5030.203659</td>\n",
       "    </tr>\n",
       "    <tr>\n",
       "      <th>17</th>\n",
       "      <td>6311.840520</td>\n",
       "      <td>7274.054823</td>\n",
       "      <td>7894.825259</td>\n",
       "      <td>7623.158312</td>\n",
       "      <td>6849.302776</td>\n",
       "      <td>6839.671214</td>\n",
       "      <td>6212.986162</td>\n",
       "      <td>5925.450239</td>\n",
       "    </tr>\n",
       "    <tr>\n",
       "      <th>18</th>\n",
       "      <td>8180.492000</td>\n",
       "      <td>8582.717308</td>\n",
       "      <td>8852.244623</td>\n",
       "      <td>7896.474278</td>\n",
       "      <td>7084.952366</td>\n",
       "      <td>6818.260531</td>\n",
       "      <td>6374.791574</td>\n",
       "      <td>6413.086440</td>\n",
       "    </tr>\n",
       "    <tr>\n",
       "      <th>19</th>\n",
       "      <td>7748.061658</td>\n",
       "      <td>8001.537427</td>\n",
       "      <td>7302.426817</td>\n",
       "      <td>7209.385159</td>\n",
       "      <td>6794.232495</td>\n",
       "      <td>6991.409895</td>\n",
       "      <td>6521.264749</td>\n",
       "      <td>6915.948273</td>\n",
       "    </tr>\n",
       "    <tr>\n",
       "      <th>20</th>\n",
       "      <td>7385.276813</td>\n",
       "      <td>8495.536356</td>\n",
       "      <td>8148.692939</td>\n",
       "      <td>8456.677720</td>\n",
       "      <td>7373.441144</td>\n",
       "      <td>7075.421447</td>\n",
       "      <td>6314.883616</td>\n",
       "      <td>6648.418022</td>\n",
       "    </tr>\n",
       "    <tr>\n",
       "      <th>21</th>\n",
       "      <td>7376.757254</td>\n",
       "      <td>8289.355512</td>\n",
       "      <td>8378.505445</td>\n",
       "      <td>7310.832363</td>\n",
       "      <td>7313.102550</td>\n",
       "      <td>6883.330094</td>\n",
       "      <td>6782.831224</td>\n",
       "      <td>6608.550012</td>\n",
       "    </tr>\n",
       "  </tbody>\n",
       "</table>\n",
       "</div>"
      ],
      "text/plain": [
       "           EVI1         EVI2         EVI3         EVI4         EVI5  \\\n",
       "0   6874.760046  6394.279193  6123.178791  4253.107086  3838.841842   \n",
       "1   5259.268695  6258.676460  7031.668107  7296.111598  6880.736274   \n",
       "2   6423.580115  8020.402898  7868.045985  7133.997767  4857.447994   \n",
       "3   6578.208822  7070.053478  7292.763609  7051.363568  6780.649960   \n",
       "4   6718.109843  7036.585587  7988.745246  7543.445755  6559.527911   \n",
       "5   5862.068056  6604.773912  7686.325468  7541.497538  7247.702175   \n",
       "6   6061.925739  5825.807586  7359.243333  7091.745079  7043.773647   \n",
       "7   7232.073196  7605.324347  7664.341318  7631.458098  7331.321532   \n",
       "8   4999.699570  7348.651631  7688.411261  7908.436345  8486.042040   \n",
       "9   6366.144577  7535.637696  8258.047953  8232.011604  7413.414015   \n",
       "10  7545.828976  8082.179114  7798.372092  6883.939901  6243.971280   \n",
       "11  7951.847997  8322.594650  7680.156522  8141.202721  7016.856089   \n",
       "12  7252.068995  7797.050138  7371.449366  6879.330936  6743.482019   \n",
       "13  5147.403223  7543.352282  7766.106345  7352.308479  6349.700845   \n",
       "14  6951.547497  6914.625493  7239.405393  7351.245302  6867.959891   \n",
       "15  7361.248994  7026.132274  8030.381176  7928.866206  6689.612109   \n",
       "16  6271.799391  8128.302857  8257.051529  6556.981430  5452.368045   \n",
       "17  6311.840520  7274.054823  7894.825259  7623.158312  6849.302776   \n",
       "18  8180.492000  8582.717308  8852.244623  7896.474278  7084.952366   \n",
       "19  7748.061658  8001.537427  7302.426817  7209.385159  6794.232495   \n",
       "20  7385.276813  8495.536356  8148.692939  8456.677720  7373.441144   \n",
       "21  7376.757254  8289.355512  8378.505445  7310.832363  7313.102550   \n",
       "\n",
       "           EVI6         EVI7         EVI8  \n",
       "0           NaN          NaN          NaN  \n",
       "1   6378.035851  4772.181429  3973.964507  \n",
       "2   4072.496887  3881.073860  3893.338139  \n",
       "3   5283.531319  4649.450547  4371.640042  \n",
       "4   5558.025200  4846.263621  4601.596827  \n",
       "5   6307.824137  5332.146685  5279.069751  \n",
       "6   6863.455807  6539.112422  6297.635018  \n",
       "7   6433.052025  5034.180131  5030.260769  \n",
       "8   7014.634689  6424.546801  5131.027017  \n",
       "9   6926.599555  5692.455953  6373.981787  \n",
       "10  6216.260403  5244.555745  5228.217013  \n",
       "11  6081.158453  6498.254666  6187.557118  \n",
       "12  5865.982146  6199.202845  5496.214750  \n",
       "13  6105.807216  6014.556046  6068.479445  \n",
       "14  5904.828855  6348.270813  6054.837484  \n",
       "15  6589.019973  6437.223303  6366.019622  \n",
       "16  4720.437755  4779.098729  5030.203659  \n",
       "17  6839.671214  6212.986162  5925.450239  \n",
       "18  6818.260531  6374.791574  6413.086440  \n",
       "19  6991.409895  6521.264749  6915.948273  \n",
       "20  7075.421447  6314.883616  6648.418022  \n",
       "21  6883.330094  6782.831224  6608.550012  "
      ]
     },
     "execution_count": 11,
     "metadata": {},
     "output_type": "execute_result"
    }
   ],
   "source": [
    "df"
   ]
  },
  {
   "cell_type": "code",
   "execution_count": 12,
   "id": "twelve-large",
   "metadata": {},
   "outputs": [],
   "source": [
    "#Reshape da 1a linha - Imagens do MODIS a partir de Mar/2000\n",
    "new_order =  ['EVI6', 'EVI7', 'EVI8','EVI1','EVI2','EVI3','EVI4','EVI5'] # specify new order of the third row\n",
    "i = 0 # specify row number\n",
    "df.loc[0] = df.loc[0, new_order].values"
   ]
  },
  {
   "cell_type": "code",
   "execution_count": 13,
   "id": "wanted-moscow",
   "metadata": {},
   "outputs": [
    {
     "data": {
      "text/html": [
       "<div>\n",
       "<style scoped>\n",
       "    .dataframe tbody tr th:only-of-type {\n",
       "        vertical-align: middle;\n",
       "    }\n",
       "\n",
       "    .dataframe tbody tr th {\n",
       "        vertical-align: top;\n",
       "    }\n",
       "\n",
       "    .dataframe thead th {\n",
       "        text-align: right;\n",
       "    }\n",
       "</style>\n",
       "<table border=\"1\" class=\"dataframe\">\n",
       "  <thead>\n",
       "    <tr style=\"text-align: right;\">\n",
       "      <th></th>\n",
       "      <th>EVI1</th>\n",
       "      <th>EVI2</th>\n",
       "      <th>EVI3</th>\n",
       "      <th>EVI4</th>\n",
       "      <th>EVI5</th>\n",
       "      <th>EVI6</th>\n",
       "      <th>EVI7</th>\n",
       "      <th>EVI8</th>\n",
       "    </tr>\n",
       "  </thead>\n",
       "  <tbody>\n",
       "    <tr>\n",
       "      <th>0</th>\n",
       "      <td>0.000000</td>\n",
       "      <td>0.000000</td>\n",
       "      <td>0.000000</td>\n",
       "      <td>6874.760046</td>\n",
       "      <td>6394.279193</td>\n",
       "      <td>6123.178791</td>\n",
       "      <td>4253.107086</td>\n",
       "      <td>3838.841842</td>\n",
       "    </tr>\n",
       "    <tr>\n",
       "      <th>1</th>\n",
       "      <td>5259.268695</td>\n",
       "      <td>6258.676460</td>\n",
       "      <td>7031.668107</td>\n",
       "      <td>7296.111598</td>\n",
       "      <td>6880.736274</td>\n",
       "      <td>6378.035851</td>\n",
       "      <td>4772.181429</td>\n",
       "      <td>3973.964507</td>\n",
       "    </tr>\n",
       "    <tr>\n",
       "      <th>2</th>\n",
       "      <td>6423.580115</td>\n",
       "      <td>8020.402898</td>\n",
       "      <td>7868.045985</td>\n",
       "      <td>7133.997767</td>\n",
       "      <td>4857.447994</td>\n",
       "      <td>4072.496887</td>\n",
       "      <td>3881.073860</td>\n",
       "      <td>3893.338139</td>\n",
       "    </tr>\n",
       "    <tr>\n",
       "      <th>3</th>\n",
       "      <td>6578.208822</td>\n",
       "      <td>7070.053478</td>\n",
       "      <td>7292.763609</td>\n",
       "      <td>7051.363568</td>\n",
       "      <td>6780.649960</td>\n",
       "      <td>5283.531319</td>\n",
       "      <td>4649.450547</td>\n",
       "      <td>4371.640042</td>\n",
       "    </tr>\n",
       "    <tr>\n",
       "      <th>4</th>\n",
       "      <td>6718.109843</td>\n",
       "      <td>7036.585587</td>\n",
       "      <td>7988.745246</td>\n",
       "      <td>7543.445755</td>\n",
       "      <td>6559.527911</td>\n",
       "      <td>5558.025200</td>\n",
       "      <td>4846.263621</td>\n",
       "      <td>4601.596827</td>\n",
       "    </tr>\n",
       "    <tr>\n",
       "      <th>5</th>\n",
       "      <td>5862.068056</td>\n",
       "      <td>6604.773912</td>\n",
       "      <td>7686.325468</td>\n",
       "      <td>7541.497538</td>\n",
       "      <td>7247.702175</td>\n",
       "      <td>6307.824137</td>\n",
       "      <td>5332.146685</td>\n",
       "      <td>5279.069751</td>\n",
       "    </tr>\n",
       "    <tr>\n",
       "      <th>6</th>\n",
       "      <td>6061.925739</td>\n",
       "      <td>5825.807586</td>\n",
       "      <td>7359.243333</td>\n",
       "      <td>7091.745079</td>\n",
       "      <td>7043.773647</td>\n",
       "      <td>6863.455807</td>\n",
       "      <td>6539.112422</td>\n",
       "      <td>6297.635018</td>\n",
       "    </tr>\n",
       "    <tr>\n",
       "      <th>7</th>\n",
       "      <td>7232.073196</td>\n",
       "      <td>7605.324347</td>\n",
       "      <td>7664.341318</td>\n",
       "      <td>7631.458098</td>\n",
       "      <td>7331.321532</td>\n",
       "      <td>6433.052025</td>\n",
       "      <td>5034.180131</td>\n",
       "      <td>5030.260769</td>\n",
       "    </tr>\n",
       "    <tr>\n",
       "      <th>8</th>\n",
       "      <td>4999.699570</td>\n",
       "      <td>7348.651631</td>\n",
       "      <td>7688.411261</td>\n",
       "      <td>7908.436345</td>\n",
       "      <td>8486.042040</td>\n",
       "      <td>7014.634689</td>\n",
       "      <td>6424.546801</td>\n",
       "      <td>5131.027017</td>\n",
       "    </tr>\n",
       "    <tr>\n",
       "      <th>9</th>\n",
       "      <td>6366.144577</td>\n",
       "      <td>7535.637696</td>\n",
       "      <td>8258.047953</td>\n",
       "      <td>8232.011604</td>\n",
       "      <td>7413.414015</td>\n",
       "      <td>6926.599555</td>\n",
       "      <td>5692.455953</td>\n",
       "      <td>6373.981787</td>\n",
       "    </tr>\n",
       "    <tr>\n",
       "      <th>10</th>\n",
       "      <td>7545.828976</td>\n",
       "      <td>8082.179114</td>\n",
       "      <td>7798.372092</td>\n",
       "      <td>6883.939901</td>\n",
       "      <td>6243.971280</td>\n",
       "      <td>6216.260403</td>\n",
       "      <td>5244.555745</td>\n",
       "      <td>5228.217013</td>\n",
       "    </tr>\n",
       "    <tr>\n",
       "      <th>11</th>\n",
       "      <td>7951.847997</td>\n",
       "      <td>8322.594650</td>\n",
       "      <td>7680.156522</td>\n",
       "      <td>8141.202721</td>\n",
       "      <td>7016.856089</td>\n",
       "      <td>6081.158453</td>\n",
       "      <td>6498.254666</td>\n",
       "      <td>6187.557118</td>\n",
       "    </tr>\n",
       "    <tr>\n",
       "      <th>12</th>\n",
       "      <td>7252.068995</td>\n",
       "      <td>7797.050138</td>\n",
       "      <td>7371.449366</td>\n",
       "      <td>6879.330936</td>\n",
       "      <td>6743.482019</td>\n",
       "      <td>5865.982146</td>\n",
       "      <td>6199.202845</td>\n",
       "      <td>5496.214750</td>\n",
       "    </tr>\n",
       "    <tr>\n",
       "      <th>13</th>\n",
       "      <td>5147.403223</td>\n",
       "      <td>7543.352282</td>\n",
       "      <td>7766.106345</td>\n",
       "      <td>7352.308479</td>\n",
       "      <td>6349.700845</td>\n",
       "      <td>6105.807216</td>\n",
       "      <td>6014.556046</td>\n",
       "      <td>6068.479445</td>\n",
       "    </tr>\n",
       "    <tr>\n",
       "      <th>14</th>\n",
       "      <td>6951.547497</td>\n",
       "      <td>6914.625493</td>\n",
       "      <td>7239.405393</td>\n",
       "      <td>7351.245302</td>\n",
       "      <td>6867.959891</td>\n",
       "      <td>5904.828855</td>\n",
       "      <td>6348.270813</td>\n",
       "      <td>6054.837484</td>\n",
       "    </tr>\n",
       "    <tr>\n",
       "      <th>15</th>\n",
       "      <td>7361.248994</td>\n",
       "      <td>7026.132274</td>\n",
       "      <td>8030.381176</td>\n",
       "      <td>7928.866206</td>\n",
       "      <td>6689.612109</td>\n",
       "      <td>6589.019973</td>\n",
       "      <td>6437.223303</td>\n",
       "      <td>6366.019622</td>\n",
       "    </tr>\n",
       "    <tr>\n",
       "      <th>16</th>\n",
       "      <td>6271.799391</td>\n",
       "      <td>8128.302857</td>\n",
       "      <td>8257.051529</td>\n",
       "      <td>6556.981430</td>\n",
       "      <td>5452.368045</td>\n",
       "      <td>4720.437755</td>\n",
       "      <td>4779.098729</td>\n",
       "      <td>5030.203659</td>\n",
       "    </tr>\n",
       "    <tr>\n",
       "      <th>17</th>\n",
       "      <td>6311.840520</td>\n",
       "      <td>7274.054823</td>\n",
       "      <td>7894.825259</td>\n",
       "      <td>7623.158312</td>\n",
       "      <td>6849.302776</td>\n",
       "      <td>6839.671214</td>\n",
       "      <td>6212.986162</td>\n",
       "      <td>5925.450239</td>\n",
       "    </tr>\n",
       "    <tr>\n",
       "      <th>18</th>\n",
       "      <td>8180.492000</td>\n",
       "      <td>8582.717308</td>\n",
       "      <td>8852.244623</td>\n",
       "      <td>7896.474278</td>\n",
       "      <td>7084.952366</td>\n",
       "      <td>6818.260531</td>\n",
       "      <td>6374.791574</td>\n",
       "      <td>6413.086440</td>\n",
       "    </tr>\n",
       "    <tr>\n",
       "      <th>19</th>\n",
       "      <td>7748.061658</td>\n",
       "      <td>8001.537427</td>\n",
       "      <td>7302.426817</td>\n",
       "      <td>7209.385159</td>\n",
       "      <td>6794.232495</td>\n",
       "      <td>6991.409895</td>\n",
       "      <td>6521.264749</td>\n",
       "      <td>6915.948273</td>\n",
       "    </tr>\n",
       "    <tr>\n",
       "      <th>20</th>\n",
       "      <td>7385.276813</td>\n",
       "      <td>8495.536356</td>\n",
       "      <td>8148.692939</td>\n",
       "      <td>8456.677720</td>\n",
       "      <td>7373.441144</td>\n",
       "      <td>7075.421447</td>\n",
       "      <td>6314.883616</td>\n",
       "      <td>6648.418022</td>\n",
       "    </tr>\n",
       "    <tr>\n",
       "      <th>21</th>\n",
       "      <td>7376.757254</td>\n",
       "      <td>8289.355512</td>\n",
       "      <td>8378.505445</td>\n",
       "      <td>7310.832363</td>\n",
       "      <td>7313.102550</td>\n",
       "      <td>6883.330094</td>\n",
       "      <td>6782.831224</td>\n",
       "      <td>6608.550012</td>\n",
       "    </tr>\n",
       "  </tbody>\n",
       "</table>\n",
       "</div>"
      ],
      "text/plain": [
       "           EVI1         EVI2         EVI3         EVI4         EVI5  \\\n",
       "0      0.000000     0.000000     0.000000  6874.760046  6394.279193   \n",
       "1   5259.268695  6258.676460  7031.668107  7296.111598  6880.736274   \n",
       "2   6423.580115  8020.402898  7868.045985  7133.997767  4857.447994   \n",
       "3   6578.208822  7070.053478  7292.763609  7051.363568  6780.649960   \n",
       "4   6718.109843  7036.585587  7988.745246  7543.445755  6559.527911   \n",
       "5   5862.068056  6604.773912  7686.325468  7541.497538  7247.702175   \n",
       "6   6061.925739  5825.807586  7359.243333  7091.745079  7043.773647   \n",
       "7   7232.073196  7605.324347  7664.341318  7631.458098  7331.321532   \n",
       "8   4999.699570  7348.651631  7688.411261  7908.436345  8486.042040   \n",
       "9   6366.144577  7535.637696  8258.047953  8232.011604  7413.414015   \n",
       "10  7545.828976  8082.179114  7798.372092  6883.939901  6243.971280   \n",
       "11  7951.847997  8322.594650  7680.156522  8141.202721  7016.856089   \n",
       "12  7252.068995  7797.050138  7371.449366  6879.330936  6743.482019   \n",
       "13  5147.403223  7543.352282  7766.106345  7352.308479  6349.700845   \n",
       "14  6951.547497  6914.625493  7239.405393  7351.245302  6867.959891   \n",
       "15  7361.248994  7026.132274  8030.381176  7928.866206  6689.612109   \n",
       "16  6271.799391  8128.302857  8257.051529  6556.981430  5452.368045   \n",
       "17  6311.840520  7274.054823  7894.825259  7623.158312  6849.302776   \n",
       "18  8180.492000  8582.717308  8852.244623  7896.474278  7084.952366   \n",
       "19  7748.061658  8001.537427  7302.426817  7209.385159  6794.232495   \n",
       "20  7385.276813  8495.536356  8148.692939  8456.677720  7373.441144   \n",
       "21  7376.757254  8289.355512  8378.505445  7310.832363  7313.102550   \n",
       "\n",
       "           EVI6         EVI7         EVI8  \n",
       "0   6123.178791  4253.107086  3838.841842  \n",
       "1   6378.035851  4772.181429  3973.964507  \n",
       "2   4072.496887  3881.073860  3893.338139  \n",
       "3   5283.531319  4649.450547  4371.640042  \n",
       "4   5558.025200  4846.263621  4601.596827  \n",
       "5   6307.824137  5332.146685  5279.069751  \n",
       "6   6863.455807  6539.112422  6297.635018  \n",
       "7   6433.052025  5034.180131  5030.260769  \n",
       "8   7014.634689  6424.546801  5131.027017  \n",
       "9   6926.599555  5692.455953  6373.981787  \n",
       "10  6216.260403  5244.555745  5228.217013  \n",
       "11  6081.158453  6498.254666  6187.557118  \n",
       "12  5865.982146  6199.202845  5496.214750  \n",
       "13  6105.807216  6014.556046  6068.479445  \n",
       "14  5904.828855  6348.270813  6054.837484  \n",
       "15  6589.019973  6437.223303  6366.019622  \n",
       "16  4720.437755  4779.098729  5030.203659  \n",
       "17  6839.671214  6212.986162  5925.450239  \n",
       "18  6818.260531  6374.791574  6413.086440  \n",
       "19  6991.409895  6521.264749  6915.948273  \n",
       "20  7075.421447  6314.883616  6648.418022  \n",
       "21  6883.330094  6782.831224  6608.550012  "
      ]
     },
     "execution_count": 13,
     "metadata": {},
     "output_type": "execute_result"
    }
   ],
   "source": [
    "#Corrigir os Nans\n",
    "#Features dos EVIS pronta\n",
    "df.fillna(0)\n"
   ]
  },
  {
   "cell_type": "code",
   "execution_count": 14,
   "id": "varied-venue",
   "metadata": {},
   "outputs": [],
   "source": [
    "GEOCODE = '2919553'\n"
   ]
  },
  {
   "cell_type": "code",
   "execution_count": 15,
   "id": "atlantic-coupon",
   "metadata": {},
   "outputs": [
    {
     "data": {
      "text/plain": [
       "{'estacao': {'UF': 'TO',\n",
       "  'CODIGO': 'A038',\n",
       "  'LONGITUDE': '-46.84722221',\n",
       "  'REGIAO': 'N',\n",
       "  'DISTANCIA_EM_KM': '115',\n",
       "  'NOME': 'DIANOPOLIS',\n",
       "  'LATITUDE': '-11.59444444',\n",
       "  'GEOCODE': '1707009'},\n",
       " 'dados': {'DC_NOME': 'DIANOPOLIS',\n",
       "  'PRE_INS': '934.7',\n",
       "  'TEM_SEN': '25.7',\n",
       "  'VL_LATITUDE': '-11.59444444',\n",
       "  'PRE_MAX': '934.7',\n",
       "  'UF': 'TO',\n",
       "  'RAD_GLO': '2285.817',\n",
       "  'PTO_INS': '9.6',\n",
       "  'TEM_MIN': '27.8',\n",
       "  'VL_LONGITUDE': '-46.84722221',\n",
       "  'UMD_MIN': '29',\n",
       "  'PTO_MAX': '11.3',\n",
       "  'VEN_DIR': '123',\n",
       "  'DT_MEDICAO': '2021-07-28',\n",
       "  'CHUVA': '0',\n",
       "  'PRE_MIN': '934.4',\n",
       "  'UMD_MAX': '35',\n",
       "  'VEN_VEL': '2.8',\n",
       "  'PTO_MIN': '8.7',\n",
       "  'TEM_MAX': '29.1',\n",
       "  'VEN_RAJ': '4.8',\n",
       "  'TEM_INS': '28.4',\n",
       "  'UMD_INS': '31',\n",
       "  'CD_ESTACAO': 'A038',\n",
       "  'HR_MEDICAO': '1300'}}"
      ]
     },
     "execution_count": 15,
     "metadata": {},
     "output_type": "execute_result"
    }
   ],
   "source": [
    "url = f'https://apiprevmet3.inmet.gov.br/estacao/proxima/{GEOCODE}'\n",
    "response = requests.get(url).json()\n",
    "response"
   ]
  },
  {
   "cell_type": "code",
   "execution_count": 16,
   "id": "spoken-clerk",
   "metadata": {},
   "outputs": [],
   "source": [
    "estacao = response['dados']['CD_ESTACAO']"
   ]
  },
  {
   "cell_type": "code",
   "execution_count": 17,
   "id": "north-occasions",
   "metadata": {},
   "outputs": [
    {
     "data": {
      "text/html": [
       "<div>\n",
       "<style scoped>\n",
       "    .dataframe tbody tr th:only-of-type {\n",
       "        vertical-align: middle;\n",
       "    }\n",
       "\n",
       "    .dataframe tbody tr th {\n",
       "        vertical-align: top;\n",
       "    }\n",
       "\n",
       "    .dataframe thead th {\n",
       "        text-align: right;\n",
       "    }\n",
       "</style>\n",
       "<table border=\"1\" class=\"dataframe\">\n",
       "  <thead>\n",
       "    <tr style=\"text-align: right;\">\n",
       "      <th></th>\n",
       "      <th>UMID_MED</th>\n",
       "      <th>DT_MEDICAO</th>\n",
       "      <th>DC_NOME</th>\n",
       "      <th>UMID_MIN</th>\n",
       "      <th>TEMP_MED</th>\n",
       "      <th>CHUVA</th>\n",
       "      <th>VL_LATITUDE</th>\n",
       "      <th>TEMP_MIN</th>\n",
       "      <th>TEMP_MAX</th>\n",
       "      <th>UF</th>\n",
       "      <th>VEL_VENTO_MED</th>\n",
       "      <th>CD_ESTACAO</th>\n",
       "      <th>VL_LONGITUDE</th>\n",
       "    </tr>\n",
       "  </thead>\n",
       "  <tbody>\n",
       "    <tr>\n",
       "      <th>0</th>\n",
       "      <td>None</td>\n",
       "      <td>1999-11-01</td>\n",
       "      <td>DIANOPOLIS</td>\n",
       "      <td>None</td>\n",
       "      <td>None</td>\n",
       "      <td>None</td>\n",
       "      <td>-11.59444444</td>\n",
       "      <td>None</td>\n",
       "      <td>None</td>\n",
       "      <td>TO</td>\n",
       "      <td>None</td>\n",
       "      <td>A038</td>\n",
       "      <td>-46.84722221</td>\n",
       "    </tr>\n",
       "    <tr>\n",
       "      <th>1</th>\n",
       "      <td>None</td>\n",
       "      <td>1999-11-02</td>\n",
       "      <td>DIANOPOLIS</td>\n",
       "      <td>None</td>\n",
       "      <td>None</td>\n",
       "      <td>None</td>\n",
       "      <td>-11.59444444</td>\n",
       "      <td>None</td>\n",
       "      <td>None</td>\n",
       "      <td>TO</td>\n",
       "      <td>None</td>\n",
       "      <td>A038</td>\n",
       "      <td>-46.84722221</td>\n",
       "    </tr>\n",
       "    <tr>\n",
       "      <th>2</th>\n",
       "      <td>None</td>\n",
       "      <td>1999-11-03</td>\n",
       "      <td>DIANOPOLIS</td>\n",
       "      <td>None</td>\n",
       "      <td>None</td>\n",
       "      <td>None</td>\n",
       "      <td>-11.59444444</td>\n",
       "      <td>None</td>\n",
       "      <td>None</td>\n",
       "      <td>TO</td>\n",
       "      <td>None</td>\n",
       "      <td>A038</td>\n",
       "      <td>-46.84722221</td>\n",
       "    </tr>\n",
       "    <tr>\n",
       "      <th>3</th>\n",
       "      <td>None</td>\n",
       "      <td>1999-11-04</td>\n",
       "      <td>DIANOPOLIS</td>\n",
       "      <td>None</td>\n",
       "      <td>None</td>\n",
       "      <td>None</td>\n",
       "      <td>-11.59444444</td>\n",
       "      <td>None</td>\n",
       "      <td>None</td>\n",
       "      <td>TO</td>\n",
       "      <td>None</td>\n",
       "      <td>A038</td>\n",
       "      <td>-46.84722221</td>\n",
       "    </tr>\n",
       "    <tr>\n",
       "      <th>4</th>\n",
       "      <td>None</td>\n",
       "      <td>1999-11-05</td>\n",
       "      <td>DIANOPOLIS</td>\n",
       "      <td>None</td>\n",
       "      <td>None</td>\n",
       "      <td>None</td>\n",
       "      <td>-11.59444444</td>\n",
       "      <td>None</td>\n",
       "      <td>None</td>\n",
       "      <td>TO</td>\n",
       "      <td>None</td>\n",
       "      <td>A038</td>\n",
       "      <td>-46.84722221</td>\n",
       "    </tr>\n",
       "    <tr>\n",
       "      <th>...</th>\n",
       "      <td>...</td>\n",
       "      <td>...</td>\n",
       "      <td>...</td>\n",
       "      <td>...</td>\n",
       "      <td>...</td>\n",
       "      <td>...</td>\n",
       "      <td>...</td>\n",
       "      <td>...</td>\n",
       "      <td>...</td>\n",
       "      <td>...</td>\n",
       "      <td>...</td>\n",
       "      <td>...</td>\n",
       "      <td>...</td>\n",
       "    </tr>\n",
       "    <tr>\n",
       "      <th>7847</th>\n",
       "      <td>86.9</td>\n",
       "      <td>2021-04-26</td>\n",
       "      <td>DIANOPOLIS</td>\n",
       "      <td>57</td>\n",
       "      <td>22.9</td>\n",
       "      <td>None</td>\n",
       "      <td>-11.59444444</td>\n",
       "      <td>18.6</td>\n",
       "      <td>30.3</td>\n",
       "      <td>TO</td>\n",
       "      <td>0.8</td>\n",
       "      <td>A038</td>\n",
       "      <td>-46.84722221</td>\n",
       "    </tr>\n",
       "    <tr>\n",
       "      <th>7848</th>\n",
       "      <td>88.5</td>\n",
       "      <td>2021-04-27</td>\n",
       "      <td>DIANOPOLIS</td>\n",
       "      <td>58</td>\n",
       "      <td>22.6</td>\n",
       "      <td>None</td>\n",
       "      <td>-11.59444444</td>\n",
       "      <td>19.3</td>\n",
       "      <td>28.9</td>\n",
       "      <td>TO</td>\n",
       "      <td>1.7</td>\n",
       "      <td>A038</td>\n",
       "      <td>-46.84722221</td>\n",
       "    </tr>\n",
       "    <tr>\n",
       "      <th>7849</th>\n",
       "      <td>83.8</td>\n",
       "      <td>2021-04-28</td>\n",
       "      <td>DIANOPOLIS</td>\n",
       "      <td>69</td>\n",
       "      <td>23.7</td>\n",
       "      <td>None</td>\n",
       "      <td>-11.59444444</td>\n",
       "      <td>21.4</td>\n",
       "      <td>28.1</td>\n",
       "      <td>TO</td>\n",
       "      <td>0.4</td>\n",
       "      <td>A038</td>\n",
       "      <td>-46.84722221</td>\n",
       "    </tr>\n",
       "    <tr>\n",
       "      <th>7850</th>\n",
       "      <td>83.3</td>\n",
       "      <td>2021-04-29</td>\n",
       "      <td>DIANOPOLIS</td>\n",
       "      <td>52</td>\n",
       "      <td>23.9</td>\n",
       "      <td>None</td>\n",
       "      <td>-11.59444444</td>\n",
       "      <td>20</td>\n",
       "      <td>31.6</td>\n",
       "      <td>TO</td>\n",
       "      <td>1.4</td>\n",
       "      <td>A038</td>\n",
       "      <td>-46.84722221</td>\n",
       "    </tr>\n",
       "    <tr>\n",
       "      <th>7851</th>\n",
       "      <td>82</td>\n",
       "      <td>2021-04-30</td>\n",
       "      <td>DIANOPOLIS</td>\n",
       "      <td>60</td>\n",
       "      <td>23.3</td>\n",
       "      <td>None</td>\n",
       "      <td>-11.59444444</td>\n",
       "      <td>20.5</td>\n",
       "      <td>28.3</td>\n",
       "      <td>TO</td>\n",
       "      <td>3</td>\n",
       "      <td>A038</td>\n",
       "      <td>-46.84722221</td>\n",
       "    </tr>\n",
       "  </tbody>\n",
       "</table>\n",
       "<p>7852 rows × 13 columns</p>\n",
       "</div>"
      ],
      "text/plain": [
       "     UMID_MED  DT_MEDICAO     DC_NOME UMID_MIN TEMP_MED CHUVA   VL_LATITUDE  \\\n",
       "0        None  1999-11-01  DIANOPOLIS     None     None  None  -11.59444444   \n",
       "1        None  1999-11-02  DIANOPOLIS     None     None  None  -11.59444444   \n",
       "2        None  1999-11-03  DIANOPOLIS     None     None  None  -11.59444444   \n",
       "3        None  1999-11-04  DIANOPOLIS     None     None  None  -11.59444444   \n",
       "4        None  1999-11-05  DIANOPOLIS     None     None  None  -11.59444444   \n",
       "...       ...         ...         ...      ...      ...   ...           ...   \n",
       "7847     86.9  2021-04-26  DIANOPOLIS       57     22.9  None  -11.59444444   \n",
       "7848     88.5  2021-04-27  DIANOPOLIS       58     22.6  None  -11.59444444   \n",
       "7849     83.8  2021-04-28  DIANOPOLIS       69     23.7  None  -11.59444444   \n",
       "7850     83.3  2021-04-29  DIANOPOLIS       52     23.9  None  -11.59444444   \n",
       "7851       82  2021-04-30  DIANOPOLIS       60     23.3  None  -11.59444444   \n",
       "\n",
       "     TEMP_MIN TEMP_MAX  UF VEL_VENTO_MED CD_ESTACAO  VL_LONGITUDE  \n",
       "0        None     None  TO          None       A038  -46.84722221  \n",
       "1        None     None  TO          None       A038  -46.84722221  \n",
       "2        None     None  TO          None       A038  -46.84722221  \n",
       "3        None     None  TO          None       A038  -46.84722221  \n",
       "4        None     None  TO          None       A038  -46.84722221  \n",
       "...       ...      ...  ..           ...        ...           ...  \n",
       "7847     18.6     30.3  TO           0.8       A038  -46.84722221  \n",
       "7848     19.3     28.9  TO           1.7       A038  -46.84722221  \n",
       "7849     21.4     28.1  TO           0.4       A038  -46.84722221  \n",
       "7850       20     31.6  TO           1.4       A038  -46.84722221  \n",
       "7851     20.5     28.3  TO             3       A038  -46.84722221  \n",
       "\n",
       "[7852 rows x 13 columns]"
      ]
     },
     "execution_count": 17,
     "metadata": {},
     "output_type": "execute_result"
    }
   ],
   "source": [
    "new_url = f'https://apitempo.inmet.gov.br/estacao/diaria/1999-11-01/2021-04-30/{estacao}'\n",
    "json_response = requests.get(new_url).json()\n",
    "dados_estacao = pd.DataFrame(json_response)\n",
    "dados_estacao"
   ]
  },
  {
   "cell_type": "code",
   "execution_count": 18,
   "id": "neutral-discharge",
   "metadata": {},
   "outputs": [
    {
     "data": {
      "text/html": [
       "<div>\n",
       "<style scoped>\n",
       "    .dataframe tbody tr th:only-of-type {\n",
       "        vertical-align: middle;\n",
       "    }\n",
       "\n",
       "    .dataframe tbody tr th {\n",
       "        vertical-align: top;\n",
       "    }\n",
       "\n",
       "    .dataframe thead th {\n",
       "        text-align: right;\n",
       "    }\n",
       "</style>\n",
       "<table border=\"1\" class=\"dataframe\">\n",
       "  <thead>\n",
       "    <tr style=\"text-align: right;\">\n",
       "      <th></th>\n",
       "      <th>UMID_MED</th>\n",
       "      <th>DT_MEDICAO</th>\n",
       "      <th>DC_NOME</th>\n",
       "      <th>UMID_MIN</th>\n",
       "      <th>TEMP_MED</th>\n",
       "      <th>CHUVA</th>\n",
       "      <th>VL_LATITUDE</th>\n",
       "      <th>TEMP_MIN</th>\n",
       "      <th>TEMP_MAX</th>\n",
       "      <th>UF</th>\n",
       "      <th>VEL_VENTO_MED</th>\n",
       "      <th>CD_ESTACAO</th>\n",
       "      <th>VL_LONGITUDE</th>\n",
       "      <th>ANO</th>\n",
       "      <th>MES</th>\n",
       "    </tr>\n",
       "  </thead>\n",
       "  <tbody>\n",
       "    <tr>\n",
       "      <th>0</th>\n",
       "      <td>None</td>\n",
       "      <td>1999-11-01</td>\n",
       "      <td>DIANOPOLIS</td>\n",
       "      <td>None</td>\n",
       "      <td>None</td>\n",
       "      <td>NaN</td>\n",
       "      <td>-11.59444444</td>\n",
       "      <td>None</td>\n",
       "      <td>None</td>\n",
       "      <td>TO</td>\n",
       "      <td>None</td>\n",
       "      <td>A038</td>\n",
       "      <td>-46.84722221</td>\n",
       "      <td>1999</td>\n",
       "      <td>11</td>\n",
       "    </tr>\n",
       "    <tr>\n",
       "      <th>1</th>\n",
       "      <td>None</td>\n",
       "      <td>1999-11-02</td>\n",
       "      <td>DIANOPOLIS</td>\n",
       "      <td>None</td>\n",
       "      <td>None</td>\n",
       "      <td>NaN</td>\n",
       "      <td>-11.59444444</td>\n",
       "      <td>None</td>\n",
       "      <td>None</td>\n",
       "      <td>TO</td>\n",
       "      <td>None</td>\n",
       "      <td>A038</td>\n",
       "      <td>-46.84722221</td>\n",
       "      <td>1999</td>\n",
       "      <td>11</td>\n",
       "    </tr>\n",
       "    <tr>\n",
       "      <th>2</th>\n",
       "      <td>None</td>\n",
       "      <td>1999-11-03</td>\n",
       "      <td>DIANOPOLIS</td>\n",
       "      <td>None</td>\n",
       "      <td>None</td>\n",
       "      <td>NaN</td>\n",
       "      <td>-11.59444444</td>\n",
       "      <td>None</td>\n",
       "      <td>None</td>\n",
       "      <td>TO</td>\n",
       "      <td>None</td>\n",
       "      <td>A038</td>\n",
       "      <td>-46.84722221</td>\n",
       "      <td>1999</td>\n",
       "      <td>11</td>\n",
       "    </tr>\n",
       "    <tr>\n",
       "      <th>3</th>\n",
       "      <td>None</td>\n",
       "      <td>1999-11-04</td>\n",
       "      <td>DIANOPOLIS</td>\n",
       "      <td>None</td>\n",
       "      <td>None</td>\n",
       "      <td>NaN</td>\n",
       "      <td>-11.59444444</td>\n",
       "      <td>None</td>\n",
       "      <td>None</td>\n",
       "      <td>TO</td>\n",
       "      <td>None</td>\n",
       "      <td>A038</td>\n",
       "      <td>-46.84722221</td>\n",
       "      <td>1999</td>\n",
       "      <td>11</td>\n",
       "    </tr>\n",
       "    <tr>\n",
       "      <th>4</th>\n",
       "      <td>None</td>\n",
       "      <td>1999-11-05</td>\n",
       "      <td>DIANOPOLIS</td>\n",
       "      <td>None</td>\n",
       "      <td>None</td>\n",
       "      <td>NaN</td>\n",
       "      <td>-11.59444444</td>\n",
       "      <td>None</td>\n",
       "      <td>None</td>\n",
       "      <td>TO</td>\n",
       "      <td>None</td>\n",
       "      <td>A038</td>\n",
       "      <td>-46.84722221</td>\n",
       "      <td>1999</td>\n",
       "      <td>11</td>\n",
       "    </tr>\n",
       "    <tr>\n",
       "      <th>...</th>\n",
       "      <td>...</td>\n",
       "      <td>...</td>\n",
       "      <td>...</td>\n",
       "      <td>...</td>\n",
       "      <td>...</td>\n",
       "      <td>...</td>\n",
       "      <td>...</td>\n",
       "      <td>...</td>\n",
       "      <td>...</td>\n",
       "      <td>...</td>\n",
       "      <td>...</td>\n",
       "      <td>...</td>\n",
       "      <td>...</td>\n",
       "      <td>...</td>\n",
       "      <td>...</td>\n",
       "    </tr>\n",
       "    <tr>\n",
       "      <th>7847</th>\n",
       "      <td>86.9</td>\n",
       "      <td>2021-04-26</td>\n",
       "      <td>DIANOPOLIS</td>\n",
       "      <td>57</td>\n",
       "      <td>22.9</td>\n",
       "      <td>NaN</td>\n",
       "      <td>-11.59444444</td>\n",
       "      <td>18.6</td>\n",
       "      <td>30.3</td>\n",
       "      <td>TO</td>\n",
       "      <td>0.8</td>\n",
       "      <td>A038</td>\n",
       "      <td>-46.84722221</td>\n",
       "      <td>2021</td>\n",
       "      <td>4</td>\n",
       "    </tr>\n",
       "    <tr>\n",
       "      <th>7848</th>\n",
       "      <td>88.5</td>\n",
       "      <td>2021-04-27</td>\n",
       "      <td>DIANOPOLIS</td>\n",
       "      <td>58</td>\n",
       "      <td>22.6</td>\n",
       "      <td>NaN</td>\n",
       "      <td>-11.59444444</td>\n",
       "      <td>19.3</td>\n",
       "      <td>28.9</td>\n",
       "      <td>TO</td>\n",
       "      <td>1.7</td>\n",
       "      <td>A038</td>\n",
       "      <td>-46.84722221</td>\n",
       "      <td>2021</td>\n",
       "      <td>4</td>\n",
       "    </tr>\n",
       "    <tr>\n",
       "      <th>7849</th>\n",
       "      <td>83.8</td>\n",
       "      <td>2021-04-28</td>\n",
       "      <td>DIANOPOLIS</td>\n",
       "      <td>69</td>\n",
       "      <td>23.7</td>\n",
       "      <td>NaN</td>\n",
       "      <td>-11.59444444</td>\n",
       "      <td>21.4</td>\n",
       "      <td>28.1</td>\n",
       "      <td>TO</td>\n",
       "      <td>0.4</td>\n",
       "      <td>A038</td>\n",
       "      <td>-46.84722221</td>\n",
       "      <td>2021</td>\n",
       "      <td>4</td>\n",
       "    </tr>\n",
       "    <tr>\n",
       "      <th>7850</th>\n",
       "      <td>83.3</td>\n",
       "      <td>2021-04-29</td>\n",
       "      <td>DIANOPOLIS</td>\n",
       "      <td>52</td>\n",
       "      <td>23.9</td>\n",
       "      <td>NaN</td>\n",
       "      <td>-11.59444444</td>\n",
       "      <td>20</td>\n",
       "      <td>31.6</td>\n",
       "      <td>TO</td>\n",
       "      <td>1.4</td>\n",
       "      <td>A038</td>\n",
       "      <td>-46.84722221</td>\n",
       "      <td>2021</td>\n",
       "      <td>4</td>\n",
       "    </tr>\n",
       "    <tr>\n",
       "      <th>7851</th>\n",
       "      <td>82</td>\n",
       "      <td>2021-04-30</td>\n",
       "      <td>DIANOPOLIS</td>\n",
       "      <td>60</td>\n",
       "      <td>23.3</td>\n",
       "      <td>NaN</td>\n",
       "      <td>-11.59444444</td>\n",
       "      <td>20.5</td>\n",
       "      <td>28.3</td>\n",
       "      <td>TO</td>\n",
       "      <td>3</td>\n",
       "      <td>A038</td>\n",
       "      <td>-46.84722221</td>\n",
       "      <td>2021</td>\n",
       "      <td>4</td>\n",
       "    </tr>\n",
       "  </tbody>\n",
       "</table>\n",
       "<p>7852 rows × 15 columns</p>\n",
       "</div>"
      ],
      "text/plain": [
       "     UMID_MED DT_MEDICAO     DC_NOME UMID_MIN TEMP_MED  CHUVA   VL_LATITUDE  \\\n",
       "0        None 1999-11-01  DIANOPOLIS     None     None    NaN  -11.59444444   \n",
       "1        None 1999-11-02  DIANOPOLIS     None     None    NaN  -11.59444444   \n",
       "2        None 1999-11-03  DIANOPOLIS     None     None    NaN  -11.59444444   \n",
       "3        None 1999-11-04  DIANOPOLIS     None     None    NaN  -11.59444444   \n",
       "4        None 1999-11-05  DIANOPOLIS     None     None    NaN  -11.59444444   \n",
       "...       ...        ...         ...      ...      ...    ...           ...   \n",
       "7847     86.9 2021-04-26  DIANOPOLIS       57     22.9    NaN  -11.59444444   \n",
       "7848     88.5 2021-04-27  DIANOPOLIS       58     22.6    NaN  -11.59444444   \n",
       "7849     83.8 2021-04-28  DIANOPOLIS       69     23.7    NaN  -11.59444444   \n",
       "7850     83.3 2021-04-29  DIANOPOLIS       52     23.9    NaN  -11.59444444   \n",
       "7851       82 2021-04-30  DIANOPOLIS       60     23.3    NaN  -11.59444444   \n",
       "\n",
       "     TEMP_MIN TEMP_MAX  UF VEL_VENTO_MED CD_ESTACAO  VL_LONGITUDE   ANO  MES  \n",
       "0        None     None  TO          None       A038  -46.84722221  1999   11  \n",
       "1        None     None  TO          None       A038  -46.84722221  1999   11  \n",
       "2        None     None  TO          None       A038  -46.84722221  1999   11  \n",
       "3        None     None  TO          None       A038  -46.84722221  1999   11  \n",
       "4        None     None  TO          None       A038  -46.84722221  1999   11  \n",
       "...       ...      ...  ..           ...        ...           ...   ...  ...  \n",
       "7847     18.6     30.3  TO           0.8       A038  -46.84722221  2021    4  \n",
       "7848     19.3     28.9  TO           1.7       A038  -46.84722221  2021    4  \n",
       "7849     21.4     28.1  TO           0.4       A038  -46.84722221  2021    4  \n",
       "7850       20     31.6  TO           1.4       A038  -46.84722221  2021    4  \n",
       "7851     20.5     28.3  TO             3       A038  -46.84722221  2021    4  \n",
       "\n",
       "[7852 rows x 15 columns]"
      ]
     },
     "execution_count": 18,
     "metadata": {},
     "output_type": "execute_result"
    }
   ],
   "source": [
    "dados_estacao['CHUVA'] = dados_estacao['CHUVA'].astype(float)\n",
    "dados_estacao['DT_MEDICAO'] = pd.to_datetime(dados_estacao['DT_MEDICAO'])\n",
    "dados_estacao['ANO'] = dados_estacao['DT_MEDICAO'].dt.year\n",
    "dados_estacao['MES'] = dados_estacao['DT_MEDICAO'].dt.month\n",
    "dados_estacao"
   ]
  },
  {
   "cell_type": "code",
   "execution_count": 19,
   "id": "north-department",
   "metadata": {},
   "outputs": [],
   "source": [
    "b  = dados_estacao.groupby(['ANO', 'MES'])['CHUVA'].sum().fillna(0)"
   ]
  },
  {
   "cell_type": "code",
   "execution_count": 20,
   "id": "adopted-jones",
   "metadata": {},
   "outputs": [],
   "source": [
    "mask = (dados_estacao['MES'] <= 4) | (dados_estacao['MES'] >= 11)  \n",
    "b = dados_estacao.loc[mask].groupby(['ANO', 'MES'])['CHUVA'].sum().fillna(0)"
   ]
  },
  {
   "cell_type": "code",
   "execution_count": 21,
   "id": "laughing-barrel",
   "metadata": {},
   "outputs": [
    {
     "data": {
      "text/html": [
       "<div>\n",
       "<style scoped>\n",
       "    .dataframe tbody tr th:only-of-type {\n",
       "        vertical-align: middle;\n",
       "    }\n",
       "\n",
       "    .dataframe tbody tr th {\n",
       "        vertical-align: top;\n",
       "    }\n",
       "\n",
       "    .dataframe thead th {\n",
       "        text-align: right;\n",
       "    }\n",
       "</style>\n",
       "<table border=\"1\" class=\"dataframe\">\n",
       "  <thead>\n",
       "    <tr style=\"text-align: right;\">\n",
       "      <th></th>\n",
       "      <th>C_NOV</th>\n",
       "      <th>C_DEZ</th>\n",
       "      <th>C_JAN</th>\n",
       "      <th>C_FEV</th>\n",
       "      <th>C_MAR</th>\n",
       "      <th>C_ABR</th>\n",
       "    </tr>\n",
       "  </thead>\n",
       "  <tbody>\n",
       "    <tr>\n",
       "      <th>0</th>\n",
       "      <td>0.0</td>\n",
       "      <td>0.0</td>\n",
       "      <td>0.0</td>\n",
       "      <td>0.0</td>\n",
       "      <td>0.0</td>\n",
       "      <td>0.0</td>\n",
       "    </tr>\n",
       "    <tr>\n",
       "      <th>1</th>\n",
       "      <td>0.0</td>\n",
       "      <td>0.0</td>\n",
       "      <td>0.0</td>\n",
       "      <td>0.0</td>\n",
       "      <td>0.0</td>\n",
       "      <td>0.0</td>\n",
       "    </tr>\n",
       "    <tr>\n",
       "      <th>2</th>\n",
       "      <td>0.0</td>\n",
       "      <td>0.0</td>\n",
       "      <td>0.0</td>\n",
       "      <td>0.0</td>\n",
       "      <td>0.0</td>\n",
       "      <td>0.0</td>\n",
       "    </tr>\n",
       "    <tr>\n",
       "      <th>3</th>\n",
       "      <td>0.0</td>\n",
       "      <td>0.0</td>\n",
       "      <td>0.0</td>\n",
       "      <td>0.0</td>\n",
       "      <td>0.0</td>\n",
       "      <td>0.0</td>\n",
       "    </tr>\n",
       "    <tr>\n",
       "      <th>4</th>\n",
       "      <td>0.0</td>\n",
       "      <td>0.0</td>\n",
       "      <td>0.0</td>\n",
       "      <td>0.0</td>\n",
       "      <td>0.0</td>\n",
       "      <td>0.0</td>\n",
       "    </tr>\n",
       "    <tr>\n",
       "      <th>5</th>\n",
       "      <td>0.0</td>\n",
       "      <td>0.0</td>\n",
       "      <td>0.0</td>\n",
       "      <td>0.0</td>\n",
       "      <td>0.0</td>\n",
       "      <td>0.0</td>\n",
       "    </tr>\n",
       "    <tr>\n",
       "      <th>6</th>\n",
       "      <td>0.0</td>\n",
       "      <td>0.0</td>\n",
       "      <td>0.0</td>\n",
       "      <td>0.0</td>\n",
       "      <td>0.0</td>\n",
       "      <td>0.0</td>\n",
       "    </tr>\n",
       "    <tr>\n",
       "      <th>7</th>\n",
       "      <td>0.0</td>\n",
       "      <td>0.0</td>\n",
       "      <td>0.0</td>\n",
       "      <td>0.0</td>\n",
       "      <td>0.0</td>\n",
       "      <td>0.0</td>\n",
       "    </tr>\n",
       "    <tr>\n",
       "      <th>8</th>\n",
       "      <td>0.0</td>\n",
       "      <td>0.0</td>\n",
       "      <td>0.0</td>\n",
       "      <td>0.0</td>\n",
       "      <td>0.0</td>\n",
       "      <td>0.0</td>\n",
       "    </tr>\n",
       "    <tr>\n",
       "      <th>9</th>\n",
       "      <td>261.4</td>\n",
       "      <td>320.8</td>\n",
       "      <td>367.4</td>\n",
       "      <td>231.4</td>\n",
       "      <td>273.8</td>\n",
       "      <td>337.4</td>\n",
       "    </tr>\n",
       "    <tr>\n",
       "      <th>10</th>\n",
       "      <td>211.4</td>\n",
       "      <td>317.2</td>\n",
       "      <td>123.8</td>\n",
       "      <td>111.4</td>\n",
       "      <td>0.0</td>\n",
       "      <td>0.0</td>\n",
       "    </tr>\n",
       "    <tr>\n",
       "      <th>11</th>\n",
       "      <td>357.8</td>\n",
       "      <td>198.0</td>\n",
       "      <td>279.0</td>\n",
       "      <td>338.4</td>\n",
       "      <td>277.0</td>\n",
       "      <td>236.2</td>\n",
       "    </tr>\n",
       "    <tr>\n",
       "      <th>12</th>\n",
       "      <td>293.4</td>\n",
       "      <td>209.4</td>\n",
       "      <td>284.0</td>\n",
       "      <td>269.2</td>\n",
       "      <td>307.4</td>\n",
       "      <td>33.2</td>\n",
       "    </tr>\n",
       "    <tr>\n",
       "      <th>13</th>\n",
       "      <td>327.6</td>\n",
       "      <td>65.4</td>\n",
       "      <td>306.0</td>\n",
       "      <td>131.8</td>\n",
       "      <td>205.0</td>\n",
       "      <td>165.6</td>\n",
       "    </tr>\n",
       "    <tr>\n",
       "      <th>14</th>\n",
       "      <td>227.2</td>\n",
       "      <td>314.2</td>\n",
       "      <td>236.4</td>\n",
       "      <td>215.2</td>\n",
       "      <td>320.8</td>\n",
       "      <td>183.2</td>\n",
       "    </tr>\n",
       "    <tr>\n",
       "      <th>15</th>\n",
       "      <td>245.8</td>\n",
       "      <td>199.4</td>\n",
       "      <td>134.2</td>\n",
       "      <td>291.0</td>\n",
       "      <td>264.8</td>\n",
       "      <td>351.4</td>\n",
       "    </tr>\n",
       "    <tr>\n",
       "      <th>16</th>\n",
       "      <td>106.8</td>\n",
       "      <td>159.6</td>\n",
       "      <td>364.4</td>\n",
       "      <td>24.0</td>\n",
       "      <td>53.8</td>\n",
       "      <td>4.4</td>\n",
       "    </tr>\n",
       "    <tr>\n",
       "      <th>17</th>\n",
       "      <td>0.0</td>\n",
       "      <td>0.0</td>\n",
       "      <td>0.0</td>\n",
       "      <td>132.2</td>\n",
       "      <td>253.8</td>\n",
       "      <td>187.8</td>\n",
       "    </tr>\n",
       "    <tr>\n",
       "      <th>18</th>\n",
       "      <td>174.0</td>\n",
       "      <td>428.4</td>\n",
       "      <td>215.6</td>\n",
       "      <td>443.4</td>\n",
       "      <td>59.2</td>\n",
       "      <td>45.2</td>\n",
       "    </tr>\n",
       "    <tr>\n",
       "      <th>19</th>\n",
       "      <td>281.6</td>\n",
       "      <td>0.0</td>\n",
       "      <td>0.0</td>\n",
       "      <td>142.4</td>\n",
       "      <td>270.6</td>\n",
       "      <td>125.4</td>\n",
       "    </tr>\n",
       "    <tr>\n",
       "      <th>20</th>\n",
       "      <td>248.8</td>\n",
       "      <td>116.4</td>\n",
       "      <td>367.2</td>\n",
       "      <td>256.0</td>\n",
       "      <td>196.2</td>\n",
       "      <td>186.4</td>\n",
       "    </tr>\n",
       "    <tr>\n",
       "      <th>21</th>\n",
       "      <td>0.0</td>\n",
       "      <td>0.0</td>\n",
       "      <td>0.0</td>\n",
       "      <td>0.0</td>\n",
       "      <td>0.0</td>\n",
       "      <td>0.0</td>\n",
       "    </tr>\n",
       "  </tbody>\n",
       "</table>\n",
       "</div>"
      ],
      "text/plain": [
       "    C_NOV  C_DEZ  C_JAN  C_FEV  C_MAR  C_ABR\n",
       "0     0.0    0.0    0.0    0.0    0.0    0.0\n",
       "1     0.0    0.0    0.0    0.0    0.0    0.0\n",
       "2     0.0    0.0    0.0    0.0    0.0    0.0\n",
       "3     0.0    0.0    0.0    0.0    0.0    0.0\n",
       "4     0.0    0.0    0.0    0.0    0.0    0.0\n",
       "5     0.0    0.0    0.0    0.0    0.0    0.0\n",
       "6     0.0    0.0    0.0    0.0    0.0    0.0\n",
       "7     0.0    0.0    0.0    0.0    0.0    0.0\n",
       "8     0.0    0.0    0.0    0.0    0.0    0.0\n",
       "9   261.4  320.8  367.4  231.4  273.8  337.4\n",
       "10  211.4  317.2  123.8  111.4    0.0    0.0\n",
       "11  357.8  198.0  279.0  338.4  277.0  236.2\n",
       "12  293.4  209.4  284.0  269.2  307.4   33.2\n",
       "13  327.6   65.4  306.0  131.8  205.0  165.6\n",
       "14  227.2  314.2  236.4  215.2  320.8  183.2\n",
       "15  245.8  199.4  134.2  291.0  264.8  351.4\n",
       "16  106.8  159.6  364.4   24.0   53.8    4.4\n",
       "17    0.0    0.0    0.0  132.2  253.8  187.8\n",
       "18  174.0  428.4  215.6  443.4   59.2   45.2\n",
       "19  281.6    0.0    0.0  142.4  270.6  125.4\n",
       "20  248.8  116.4  367.2  256.0  196.2  186.4\n",
       "21    0.0    0.0    0.0    0.0    0.0    0.0"
      ]
     },
     "execution_count": 21,
     "metadata": {},
     "output_type": "execute_result"
    }
   ],
   "source": [
    "chuva = b.values.reshape(22,6)\n",
    "df2 = pd.DataFrame(chuva, columns = ['C_NOV', 'C_DEZ','C_JAN','C_FEV','C_MAR','C_ABR'])\n",
    "df2"
   ]
  },
  {
   "cell_type": "code",
   "execution_count": 22,
   "id": "terminal-parade",
   "metadata": {},
   "outputs": [],
   "source": [
    "concat_data = pd.concat([df,df2],axis=1).fillna(0)"
   ]
  },
  {
   "cell_type": "code",
   "execution_count": 23,
   "id": "signal-packet",
   "metadata": {},
   "outputs": [
    {
     "data": {
      "text/html": [
       "<div>\n",
       "<style scoped>\n",
       "    .dataframe tbody tr th:only-of-type {\n",
       "        vertical-align: middle;\n",
       "    }\n",
       "\n",
       "    .dataframe tbody tr th {\n",
       "        vertical-align: top;\n",
       "    }\n",
       "\n",
       "    .dataframe thead th {\n",
       "        text-align: right;\n",
       "    }\n",
       "</style>\n",
       "<table border=\"1\" class=\"dataframe\">\n",
       "  <thead>\n",
       "    <tr style=\"text-align: right;\">\n",
       "      <th></th>\n",
       "      <th>EVI1</th>\n",
       "      <th>EVI2</th>\n",
       "      <th>EVI3</th>\n",
       "      <th>EVI4</th>\n",
       "      <th>EVI5</th>\n",
       "      <th>EVI6</th>\n",
       "      <th>EVI7</th>\n",
       "      <th>EVI8</th>\n",
       "      <th>C_NOV</th>\n",
       "      <th>C_DEZ</th>\n",
       "      <th>C_JAN</th>\n",
       "      <th>C_FEV</th>\n",
       "      <th>C_MAR</th>\n",
       "      <th>C_ABR</th>\n",
       "    </tr>\n",
       "  </thead>\n",
       "  <tbody>\n",
       "    <tr>\n",
       "      <th>0</th>\n",
       "      <td>0.000000</td>\n",
       "      <td>0.000000</td>\n",
       "      <td>0.000000</td>\n",
       "      <td>6874.760046</td>\n",
       "      <td>6394.279193</td>\n",
       "      <td>6123.178791</td>\n",
       "      <td>4253.107086</td>\n",
       "      <td>3838.841842</td>\n",
       "      <td>0.0</td>\n",
       "      <td>0.0</td>\n",
       "      <td>0.0</td>\n",
       "      <td>0.0</td>\n",
       "      <td>0.0</td>\n",
       "      <td>0.0</td>\n",
       "    </tr>\n",
       "    <tr>\n",
       "      <th>1</th>\n",
       "      <td>5259.268695</td>\n",
       "      <td>6258.676460</td>\n",
       "      <td>7031.668107</td>\n",
       "      <td>7296.111598</td>\n",
       "      <td>6880.736274</td>\n",
       "      <td>6378.035851</td>\n",
       "      <td>4772.181429</td>\n",
       "      <td>3973.964507</td>\n",
       "      <td>0.0</td>\n",
       "      <td>0.0</td>\n",
       "      <td>0.0</td>\n",
       "      <td>0.0</td>\n",
       "      <td>0.0</td>\n",
       "      <td>0.0</td>\n",
       "    </tr>\n",
       "    <tr>\n",
       "      <th>2</th>\n",
       "      <td>6423.580115</td>\n",
       "      <td>8020.402898</td>\n",
       "      <td>7868.045985</td>\n",
       "      <td>7133.997767</td>\n",
       "      <td>4857.447994</td>\n",
       "      <td>4072.496887</td>\n",
       "      <td>3881.073860</td>\n",
       "      <td>3893.338139</td>\n",
       "      <td>0.0</td>\n",
       "      <td>0.0</td>\n",
       "      <td>0.0</td>\n",
       "      <td>0.0</td>\n",
       "      <td>0.0</td>\n",
       "      <td>0.0</td>\n",
       "    </tr>\n",
       "    <tr>\n",
       "      <th>3</th>\n",
       "      <td>6578.208822</td>\n",
       "      <td>7070.053478</td>\n",
       "      <td>7292.763609</td>\n",
       "      <td>7051.363568</td>\n",
       "      <td>6780.649960</td>\n",
       "      <td>5283.531319</td>\n",
       "      <td>4649.450547</td>\n",
       "      <td>4371.640042</td>\n",
       "      <td>0.0</td>\n",
       "      <td>0.0</td>\n",
       "      <td>0.0</td>\n",
       "      <td>0.0</td>\n",
       "      <td>0.0</td>\n",
       "      <td>0.0</td>\n",
       "    </tr>\n",
       "    <tr>\n",
       "      <th>4</th>\n",
       "      <td>6718.109843</td>\n",
       "      <td>7036.585587</td>\n",
       "      <td>7988.745246</td>\n",
       "      <td>7543.445755</td>\n",
       "      <td>6559.527911</td>\n",
       "      <td>5558.025200</td>\n",
       "      <td>4846.263621</td>\n",
       "      <td>4601.596827</td>\n",
       "      <td>0.0</td>\n",
       "      <td>0.0</td>\n",
       "      <td>0.0</td>\n",
       "      <td>0.0</td>\n",
       "      <td>0.0</td>\n",
       "      <td>0.0</td>\n",
       "    </tr>\n",
       "    <tr>\n",
       "      <th>5</th>\n",
       "      <td>5862.068056</td>\n",
       "      <td>6604.773912</td>\n",
       "      <td>7686.325468</td>\n",
       "      <td>7541.497538</td>\n",
       "      <td>7247.702175</td>\n",
       "      <td>6307.824137</td>\n",
       "      <td>5332.146685</td>\n",
       "      <td>5279.069751</td>\n",
       "      <td>0.0</td>\n",
       "      <td>0.0</td>\n",
       "      <td>0.0</td>\n",
       "      <td>0.0</td>\n",
       "      <td>0.0</td>\n",
       "      <td>0.0</td>\n",
       "    </tr>\n",
       "    <tr>\n",
       "      <th>6</th>\n",
       "      <td>6061.925739</td>\n",
       "      <td>5825.807586</td>\n",
       "      <td>7359.243333</td>\n",
       "      <td>7091.745079</td>\n",
       "      <td>7043.773647</td>\n",
       "      <td>6863.455807</td>\n",
       "      <td>6539.112422</td>\n",
       "      <td>6297.635018</td>\n",
       "      <td>0.0</td>\n",
       "      <td>0.0</td>\n",
       "      <td>0.0</td>\n",
       "      <td>0.0</td>\n",
       "      <td>0.0</td>\n",
       "      <td>0.0</td>\n",
       "    </tr>\n",
       "    <tr>\n",
       "      <th>7</th>\n",
       "      <td>7232.073196</td>\n",
       "      <td>7605.324347</td>\n",
       "      <td>7664.341318</td>\n",
       "      <td>7631.458098</td>\n",
       "      <td>7331.321532</td>\n",
       "      <td>6433.052025</td>\n",
       "      <td>5034.180131</td>\n",
       "      <td>5030.260769</td>\n",
       "      <td>0.0</td>\n",
       "      <td>0.0</td>\n",
       "      <td>0.0</td>\n",
       "      <td>0.0</td>\n",
       "      <td>0.0</td>\n",
       "      <td>0.0</td>\n",
       "    </tr>\n",
       "    <tr>\n",
       "      <th>8</th>\n",
       "      <td>4999.699570</td>\n",
       "      <td>7348.651631</td>\n",
       "      <td>7688.411261</td>\n",
       "      <td>7908.436345</td>\n",
       "      <td>8486.042040</td>\n",
       "      <td>7014.634689</td>\n",
       "      <td>6424.546801</td>\n",
       "      <td>5131.027017</td>\n",
       "      <td>0.0</td>\n",
       "      <td>0.0</td>\n",
       "      <td>0.0</td>\n",
       "      <td>0.0</td>\n",
       "      <td>0.0</td>\n",
       "      <td>0.0</td>\n",
       "    </tr>\n",
       "    <tr>\n",
       "      <th>9</th>\n",
       "      <td>6366.144577</td>\n",
       "      <td>7535.637696</td>\n",
       "      <td>8258.047953</td>\n",
       "      <td>8232.011604</td>\n",
       "      <td>7413.414015</td>\n",
       "      <td>6926.599555</td>\n",
       "      <td>5692.455953</td>\n",
       "      <td>6373.981787</td>\n",
       "      <td>261.4</td>\n",
       "      <td>320.8</td>\n",
       "      <td>367.4</td>\n",
       "      <td>231.4</td>\n",
       "      <td>273.8</td>\n",
       "      <td>337.4</td>\n",
       "    </tr>\n",
       "    <tr>\n",
       "      <th>10</th>\n",
       "      <td>7545.828976</td>\n",
       "      <td>8082.179114</td>\n",
       "      <td>7798.372092</td>\n",
       "      <td>6883.939901</td>\n",
       "      <td>6243.971280</td>\n",
       "      <td>6216.260403</td>\n",
       "      <td>5244.555745</td>\n",
       "      <td>5228.217013</td>\n",
       "      <td>211.4</td>\n",
       "      <td>317.2</td>\n",
       "      <td>123.8</td>\n",
       "      <td>111.4</td>\n",
       "      <td>0.0</td>\n",
       "      <td>0.0</td>\n",
       "    </tr>\n",
       "    <tr>\n",
       "      <th>11</th>\n",
       "      <td>7951.847997</td>\n",
       "      <td>8322.594650</td>\n",
       "      <td>7680.156522</td>\n",
       "      <td>8141.202721</td>\n",
       "      <td>7016.856089</td>\n",
       "      <td>6081.158453</td>\n",
       "      <td>6498.254666</td>\n",
       "      <td>6187.557118</td>\n",
       "      <td>357.8</td>\n",
       "      <td>198.0</td>\n",
       "      <td>279.0</td>\n",
       "      <td>338.4</td>\n",
       "      <td>277.0</td>\n",
       "      <td>236.2</td>\n",
       "    </tr>\n",
       "    <tr>\n",
       "      <th>12</th>\n",
       "      <td>7252.068995</td>\n",
       "      <td>7797.050138</td>\n",
       "      <td>7371.449366</td>\n",
       "      <td>6879.330936</td>\n",
       "      <td>6743.482019</td>\n",
       "      <td>5865.982146</td>\n",
       "      <td>6199.202845</td>\n",
       "      <td>5496.214750</td>\n",
       "      <td>293.4</td>\n",
       "      <td>209.4</td>\n",
       "      <td>284.0</td>\n",
       "      <td>269.2</td>\n",
       "      <td>307.4</td>\n",
       "      <td>33.2</td>\n",
       "    </tr>\n",
       "    <tr>\n",
       "      <th>13</th>\n",
       "      <td>5147.403223</td>\n",
       "      <td>7543.352282</td>\n",
       "      <td>7766.106345</td>\n",
       "      <td>7352.308479</td>\n",
       "      <td>6349.700845</td>\n",
       "      <td>6105.807216</td>\n",
       "      <td>6014.556046</td>\n",
       "      <td>6068.479445</td>\n",
       "      <td>327.6</td>\n",
       "      <td>65.4</td>\n",
       "      <td>306.0</td>\n",
       "      <td>131.8</td>\n",
       "      <td>205.0</td>\n",
       "      <td>165.6</td>\n",
       "    </tr>\n",
       "    <tr>\n",
       "      <th>14</th>\n",
       "      <td>6951.547497</td>\n",
       "      <td>6914.625493</td>\n",
       "      <td>7239.405393</td>\n",
       "      <td>7351.245302</td>\n",
       "      <td>6867.959891</td>\n",
       "      <td>5904.828855</td>\n",
       "      <td>6348.270813</td>\n",
       "      <td>6054.837484</td>\n",
       "      <td>227.2</td>\n",
       "      <td>314.2</td>\n",
       "      <td>236.4</td>\n",
       "      <td>215.2</td>\n",
       "      <td>320.8</td>\n",
       "      <td>183.2</td>\n",
       "    </tr>\n",
       "    <tr>\n",
       "      <th>15</th>\n",
       "      <td>7361.248994</td>\n",
       "      <td>7026.132274</td>\n",
       "      <td>8030.381176</td>\n",
       "      <td>7928.866206</td>\n",
       "      <td>6689.612109</td>\n",
       "      <td>6589.019973</td>\n",
       "      <td>6437.223303</td>\n",
       "      <td>6366.019622</td>\n",
       "      <td>245.8</td>\n",
       "      <td>199.4</td>\n",
       "      <td>134.2</td>\n",
       "      <td>291.0</td>\n",
       "      <td>264.8</td>\n",
       "      <td>351.4</td>\n",
       "    </tr>\n",
       "    <tr>\n",
       "      <th>16</th>\n",
       "      <td>6271.799391</td>\n",
       "      <td>8128.302857</td>\n",
       "      <td>8257.051529</td>\n",
       "      <td>6556.981430</td>\n",
       "      <td>5452.368045</td>\n",
       "      <td>4720.437755</td>\n",
       "      <td>4779.098729</td>\n",
       "      <td>5030.203659</td>\n",
       "      <td>106.8</td>\n",
       "      <td>159.6</td>\n",
       "      <td>364.4</td>\n",
       "      <td>24.0</td>\n",
       "      <td>53.8</td>\n",
       "      <td>4.4</td>\n",
       "    </tr>\n",
       "    <tr>\n",
       "      <th>17</th>\n",
       "      <td>6311.840520</td>\n",
       "      <td>7274.054823</td>\n",
       "      <td>7894.825259</td>\n",
       "      <td>7623.158312</td>\n",
       "      <td>6849.302776</td>\n",
       "      <td>6839.671214</td>\n",
       "      <td>6212.986162</td>\n",
       "      <td>5925.450239</td>\n",
       "      <td>0.0</td>\n",
       "      <td>0.0</td>\n",
       "      <td>0.0</td>\n",
       "      <td>132.2</td>\n",
       "      <td>253.8</td>\n",
       "      <td>187.8</td>\n",
       "    </tr>\n",
       "    <tr>\n",
       "      <th>18</th>\n",
       "      <td>8180.492000</td>\n",
       "      <td>8582.717308</td>\n",
       "      <td>8852.244623</td>\n",
       "      <td>7896.474278</td>\n",
       "      <td>7084.952366</td>\n",
       "      <td>6818.260531</td>\n",
       "      <td>6374.791574</td>\n",
       "      <td>6413.086440</td>\n",
       "      <td>174.0</td>\n",
       "      <td>428.4</td>\n",
       "      <td>215.6</td>\n",
       "      <td>443.4</td>\n",
       "      <td>59.2</td>\n",
       "      <td>45.2</td>\n",
       "    </tr>\n",
       "    <tr>\n",
       "      <th>19</th>\n",
       "      <td>7748.061658</td>\n",
       "      <td>8001.537427</td>\n",
       "      <td>7302.426817</td>\n",
       "      <td>7209.385159</td>\n",
       "      <td>6794.232495</td>\n",
       "      <td>6991.409895</td>\n",
       "      <td>6521.264749</td>\n",
       "      <td>6915.948273</td>\n",
       "      <td>281.6</td>\n",
       "      <td>0.0</td>\n",
       "      <td>0.0</td>\n",
       "      <td>142.4</td>\n",
       "      <td>270.6</td>\n",
       "      <td>125.4</td>\n",
       "    </tr>\n",
       "    <tr>\n",
       "      <th>20</th>\n",
       "      <td>7385.276813</td>\n",
       "      <td>8495.536356</td>\n",
       "      <td>8148.692939</td>\n",
       "      <td>8456.677720</td>\n",
       "      <td>7373.441144</td>\n",
       "      <td>7075.421447</td>\n",
       "      <td>6314.883616</td>\n",
       "      <td>6648.418022</td>\n",
       "      <td>248.8</td>\n",
       "      <td>116.4</td>\n",
       "      <td>367.2</td>\n",
       "      <td>256.0</td>\n",
       "      <td>196.2</td>\n",
       "      <td>186.4</td>\n",
       "    </tr>\n",
       "    <tr>\n",
       "      <th>21</th>\n",
       "      <td>7376.757254</td>\n",
       "      <td>8289.355512</td>\n",
       "      <td>8378.505445</td>\n",
       "      <td>7310.832363</td>\n",
       "      <td>7313.102550</td>\n",
       "      <td>6883.330094</td>\n",
       "      <td>6782.831224</td>\n",
       "      <td>6608.550012</td>\n",
       "      <td>0.0</td>\n",
       "      <td>0.0</td>\n",
       "      <td>0.0</td>\n",
       "      <td>0.0</td>\n",
       "      <td>0.0</td>\n",
       "      <td>0.0</td>\n",
       "    </tr>\n",
       "  </tbody>\n",
       "</table>\n",
       "</div>"
      ],
      "text/plain": [
       "           EVI1         EVI2         EVI3         EVI4         EVI5  \\\n",
       "0      0.000000     0.000000     0.000000  6874.760046  6394.279193   \n",
       "1   5259.268695  6258.676460  7031.668107  7296.111598  6880.736274   \n",
       "2   6423.580115  8020.402898  7868.045985  7133.997767  4857.447994   \n",
       "3   6578.208822  7070.053478  7292.763609  7051.363568  6780.649960   \n",
       "4   6718.109843  7036.585587  7988.745246  7543.445755  6559.527911   \n",
       "5   5862.068056  6604.773912  7686.325468  7541.497538  7247.702175   \n",
       "6   6061.925739  5825.807586  7359.243333  7091.745079  7043.773647   \n",
       "7   7232.073196  7605.324347  7664.341318  7631.458098  7331.321532   \n",
       "8   4999.699570  7348.651631  7688.411261  7908.436345  8486.042040   \n",
       "9   6366.144577  7535.637696  8258.047953  8232.011604  7413.414015   \n",
       "10  7545.828976  8082.179114  7798.372092  6883.939901  6243.971280   \n",
       "11  7951.847997  8322.594650  7680.156522  8141.202721  7016.856089   \n",
       "12  7252.068995  7797.050138  7371.449366  6879.330936  6743.482019   \n",
       "13  5147.403223  7543.352282  7766.106345  7352.308479  6349.700845   \n",
       "14  6951.547497  6914.625493  7239.405393  7351.245302  6867.959891   \n",
       "15  7361.248994  7026.132274  8030.381176  7928.866206  6689.612109   \n",
       "16  6271.799391  8128.302857  8257.051529  6556.981430  5452.368045   \n",
       "17  6311.840520  7274.054823  7894.825259  7623.158312  6849.302776   \n",
       "18  8180.492000  8582.717308  8852.244623  7896.474278  7084.952366   \n",
       "19  7748.061658  8001.537427  7302.426817  7209.385159  6794.232495   \n",
       "20  7385.276813  8495.536356  8148.692939  8456.677720  7373.441144   \n",
       "21  7376.757254  8289.355512  8378.505445  7310.832363  7313.102550   \n",
       "\n",
       "           EVI6         EVI7         EVI8  C_NOV  C_DEZ  C_JAN  C_FEV  C_MAR  \\\n",
       "0   6123.178791  4253.107086  3838.841842    0.0    0.0    0.0    0.0    0.0   \n",
       "1   6378.035851  4772.181429  3973.964507    0.0    0.0    0.0    0.0    0.0   \n",
       "2   4072.496887  3881.073860  3893.338139    0.0    0.0    0.0    0.0    0.0   \n",
       "3   5283.531319  4649.450547  4371.640042    0.0    0.0    0.0    0.0    0.0   \n",
       "4   5558.025200  4846.263621  4601.596827    0.0    0.0    0.0    0.0    0.0   \n",
       "5   6307.824137  5332.146685  5279.069751    0.0    0.0    0.0    0.0    0.0   \n",
       "6   6863.455807  6539.112422  6297.635018    0.0    0.0    0.0    0.0    0.0   \n",
       "7   6433.052025  5034.180131  5030.260769    0.0    0.0    0.0    0.0    0.0   \n",
       "8   7014.634689  6424.546801  5131.027017    0.0    0.0    0.0    0.0    0.0   \n",
       "9   6926.599555  5692.455953  6373.981787  261.4  320.8  367.4  231.4  273.8   \n",
       "10  6216.260403  5244.555745  5228.217013  211.4  317.2  123.8  111.4    0.0   \n",
       "11  6081.158453  6498.254666  6187.557118  357.8  198.0  279.0  338.4  277.0   \n",
       "12  5865.982146  6199.202845  5496.214750  293.4  209.4  284.0  269.2  307.4   \n",
       "13  6105.807216  6014.556046  6068.479445  327.6   65.4  306.0  131.8  205.0   \n",
       "14  5904.828855  6348.270813  6054.837484  227.2  314.2  236.4  215.2  320.8   \n",
       "15  6589.019973  6437.223303  6366.019622  245.8  199.4  134.2  291.0  264.8   \n",
       "16  4720.437755  4779.098729  5030.203659  106.8  159.6  364.4   24.0   53.8   \n",
       "17  6839.671214  6212.986162  5925.450239    0.0    0.0    0.0  132.2  253.8   \n",
       "18  6818.260531  6374.791574  6413.086440  174.0  428.4  215.6  443.4   59.2   \n",
       "19  6991.409895  6521.264749  6915.948273  281.6    0.0    0.0  142.4  270.6   \n",
       "20  7075.421447  6314.883616  6648.418022  248.8  116.4  367.2  256.0  196.2   \n",
       "21  6883.330094  6782.831224  6608.550012    0.0    0.0    0.0    0.0    0.0   \n",
       "\n",
       "    C_ABR  \n",
       "0     0.0  \n",
       "1     0.0  \n",
       "2     0.0  \n",
       "3     0.0  \n",
       "4     0.0  \n",
       "5     0.0  \n",
       "6     0.0  \n",
       "7     0.0  \n",
       "8     0.0  \n",
       "9   337.4  \n",
       "10    0.0  \n",
       "11  236.2  \n",
       "12   33.2  \n",
       "13  165.6  \n",
       "14  183.2  \n",
       "15  351.4  \n",
       "16    4.4  \n",
       "17  187.8  \n",
       "18   45.2  \n",
       "19  125.4  \n",
       "20  186.4  \n",
       "21    0.0  "
      ]
     },
     "execution_count": 23,
     "metadata": {},
     "output_type": "execute_result"
    }
   ],
   "source": [
    "concat_data"
   ]
  },
  {
   "cell_type": "code",
   "execution_count": 24,
   "id": "valued-digit",
   "metadata": {},
   "outputs": [],
   "source": [
    "# Api PAM SIDRA/ https://apisidra.ibge.gov.br/values/t/5457/n6/2919553/v/112/p/last%2020/c782/40124"
   ]
  },
  {
   "cell_type": "code",
   "execution_count": 25,
   "id": "satisfactory-witness",
   "metadata": {},
   "outputs": [],
   "source": [
    "url3 = 'https://apisidra.ibge.gov.br/values/t/5457/n6/2919553/v/112/p/last%2020/c782/40124'\n",
    "json_response = requests.get(url3).json()\n",
    "produtividade = pd.DataFrame(json_response)\n",
    "Y = produtividade['V'].iloc[1:].values.ravel()\n",
    "Y[0] = Y[1];"
   ]
  },
  {
   "cell_type": "code",
   "execution_count": 26,
   "id": "radical-rapid",
   "metadata": {},
   "outputs": [],
   "source": [
    "#Produtividade de Soja por ano\n",
    "df3 = pd.DataFrame(Y)\n"
   ]
  },
  {
   "cell_type": "code",
   "execution_count": 27,
   "id": "decent-farming",
   "metadata": {},
   "outputs": [],
   "source": [
    "import sklearn"
   ]
  },
  {
   "cell_type": "code",
   "execution_count": 28,
   "id": "starting-blink",
   "metadata": {},
   "outputs": [],
   "source": [
    "#Divisão do modelo para teste e para treinamento\n",
    "from sklearn.model_selection import train_test_split\n",
    "X_train, X_test, y_train, y_test = train_test_split(concat_data.iloc[0:20,0:4].fillna(0), Y, test_size=(0.20))"
   ]
  },
  {
   "cell_type": "code",
   "execution_count": 79,
   "id": "automated-source",
   "metadata": {},
   "outputs": [],
   "source": [
    "X_train2 = df.iloc[1:21,2:3].fillna(0)\n",
    "X_test2 =  df.iloc[21:22,2:3]\n",
    "y_train2 = Y[1:20]\n",
    "y_test2 = Y[19:20]"
   ]
  },
  {
   "cell_type": "code",
   "execution_count": 30,
   "id": "restricted-austria",
   "metadata": {},
   "outputs": [],
   "source": [
    "from sklearn import preprocessing\n",
    "from sklearn.preprocessing import StandardScaler\n",
    "min_max_scaler = preprocessing.MinMaxScaler()\n",
    "X_train_minmax = min_max_scaler.fit_transform(X_train)"
   ]
  },
  {
   "cell_type": "code",
   "execution_count": 31,
   "id": "authorized-serum",
   "metadata": {},
   "outputs": [
    {
     "data": {
      "text/plain": [
       "KNeighborsClassifier(n_neighbors=10)"
      ]
     },
     "execution_count": 31,
     "metadata": {},
     "output_type": "execute_result"
    }
   ],
   "source": [
    "#Importamos o classificador KNN e aplicamos o modelo com k vizinhos com base em X_train e Y-train\n",
    "\n",
    "from sklearn.neighbors import KNeighborsClassifier\n",
    "classifier = KNeighborsClassifier(n_neighbors=10)\n",
    "classifier.fit(X_train_minmax, y_train)"
   ]
  },
  {
   "cell_type": "code",
   "execution_count": 81,
   "id": "awful-prize",
   "metadata": {},
   "outputs": [],
   "source": [
    "import numpy as np\n",
    "y_train2 = np.append(y_train2,'3950')"
   ]
  },
  {
   "cell_type": "code",
   "execution_count": 33,
   "id": "choice-creator",
   "metadata": {},
   "outputs": [
    {
     "ename": "NameError",
     "evalue": "name 'y_pred' is not defined",
     "output_type": "error",
     "traceback": [
      "\u001b[1;31m---------------------------------------------------------------------------\u001b[0m",
      "\u001b[1;31mNameError\u001b[0m                                 Traceback (most recent call last)",
      "\u001b[1;32m<ipython-input-33-bf9d8d8cb4af>\u001b[0m in \u001b[0;36m<module>\u001b[1;34m\u001b[0m\n\u001b[0;32m      2\u001b[0m \u001b[1;33m\u001b[0m\u001b[0m\n\u001b[0;32m      3\u001b[0m \u001b[1;32mfrom\u001b[0m \u001b[0msklearn\u001b[0m\u001b[1;33m.\u001b[0m\u001b[0mmetrics\u001b[0m \u001b[1;32mimport\u001b[0m \u001b[0mclassification_report\u001b[0m\u001b[1;33m,\u001b[0m \u001b[0mconfusion_matrix\u001b[0m\u001b[1;33m\u001b[0m\u001b[1;33m\u001b[0m\u001b[0m\n\u001b[1;32m----> 4\u001b[1;33m \u001b[0mprint\u001b[0m\u001b[1;33m(\u001b[0m\u001b[0mconfusion_matrix\u001b[0m\u001b[1;33m(\u001b[0m\u001b[0my_test\u001b[0m\u001b[1;33m,\u001b[0m \u001b[0my_pred\u001b[0m\u001b[1;33m)\u001b[0m\u001b[1;33m)\u001b[0m\u001b[1;33m\u001b[0m\u001b[1;33m\u001b[0m\u001b[0m\n\u001b[0m\u001b[0;32m      5\u001b[0m \u001b[0mprint\u001b[0m\u001b[1;33m(\u001b[0m\u001b[0mclassification_report\u001b[0m\u001b[1;33m(\u001b[0m\u001b[0my_test\u001b[0m\u001b[1;33m,\u001b[0m \u001b[0my_pred\u001b[0m\u001b[1;33m)\u001b[0m\u001b[1;33m)\u001b[0m\u001b[1;33m\u001b[0m\u001b[1;33m\u001b[0m\u001b[0m\n",
      "\u001b[1;31mNameError\u001b[0m: name 'y_pred' is not defined"
     ]
    }
   ],
   "source": [
    "#Métricas de acurácia do sklearn\n",
    "\n",
    "from sklearn.metrics import classification_report, confusion_matrix\n",
    "print(confusion_matrix(y_test, y_pred))\n",
    "print(classification_report(y_test, y_pred))"
   ]
  },
  {
   "cell_type": "code",
   "execution_count": 34,
   "id": "thrown-constitutional",
   "metadata": {},
   "outputs": [
    {
     "ename": "ValueError",
     "evalue": "Incompatible dimension for X and Y matrices: X.shape[1] == 8 while Y.shape[1] == 4",
     "output_type": "error",
     "traceback": [
      "\u001b[1;31m---------------------------------------------------------------------------\u001b[0m",
      "\u001b[1;31mValueError\u001b[0m                                Traceback (most recent call last)",
      "\u001b[1;32m<ipython-input-34-6783b84966ed>\u001b[0m in \u001b[0;36m<module>\u001b[1;34m\u001b[0m\n\u001b[0;32m      1\u001b[0m \u001b[1;31m#Predição para a safra 2006\u001b[0m\u001b[1;33m\u001b[0m\u001b[1;33m\u001b[0m\u001b[1;33m\u001b[0m\u001b[0m\n\u001b[1;32m----> 2\u001b[1;33m \u001b[0mclassifier\u001b[0m\u001b[1;33m.\u001b[0m\u001b[0mpredict\u001b[0m\u001b[1;33m(\u001b[0m\u001b[0mdf\u001b[0m\u001b[1;33m.\u001b[0m\u001b[0miloc\u001b[0m\u001b[1;33m[\u001b[0m\u001b[1;36m1\u001b[0m\u001b[1;33m:\u001b[0m\u001b[1;36m18\u001b[0m\u001b[1;33m,\u001b[0m\u001b[1;33m:\u001b[0m\u001b[1;33m]\u001b[0m\u001b[1;33m)\u001b[0m\u001b[1;33m\u001b[0m\u001b[1;33m\u001b[0m\u001b[0m\n\u001b[0m",
      "\u001b[1;32m~\\miniconda3\\lib\\site-packages\\sklearn\\neighbors\\_classification.py\u001b[0m in \u001b[0;36mpredict\u001b[1;34m(self, X)\u001b[0m\n\u001b[0;32m    195\u001b[0m         \u001b[0mX\u001b[0m \u001b[1;33m=\u001b[0m \u001b[0mcheck_array\u001b[0m\u001b[1;33m(\u001b[0m\u001b[0mX\u001b[0m\u001b[1;33m,\u001b[0m \u001b[0maccept_sparse\u001b[0m\u001b[1;33m=\u001b[0m\u001b[1;34m'csr'\u001b[0m\u001b[1;33m)\u001b[0m\u001b[1;33m\u001b[0m\u001b[1;33m\u001b[0m\u001b[0m\n\u001b[0;32m    196\u001b[0m \u001b[1;33m\u001b[0m\u001b[0m\n\u001b[1;32m--> 197\u001b[1;33m         \u001b[0mneigh_dist\u001b[0m\u001b[1;33m,\u001b[0m \u001b[0mneigh_ind\u001b[0m \u001b[1;33m=\u001b[0m \u001b[0mself\u001b[0m\u001b[1;33m.\u001b[0m\u001b[0mkneighbors\u001b[0m\u001b[1;33m(\u001b[0m\u001b[0mX\u001b[0m\u001b[1;33m)\u001b[0m\u001b[1;33m\u001b[0m\u001b[1;33m\u001b[0m\u001b[0m\n\u001b[0m\u001b[0;32m    198\u001b[0m         \u001b[0mclasses_\u001b[0m \u001b[1;33m=\u001b[0m \u001b[0mself\u001b[0m\u001b[1;33m.\u001b[0m\u001b[0mclasses_\u001b[0m\u001b[1;33m\u001b[0m\u001b[1;33m\u001b[0m\u001b[0m\n\u001b[0;32m    199\u001b[0m         \u001b[0m_y\u001b[0m \u001b[1;33m=\u001b[0m \u001b[0mself\u001b[0m\u001b[1;33m.\u001b[0m\u001b[0m_y\u001b[0m\u001b[1;33m\u001b[0m\u001b[1;33m\u001b[0m\u001b[0m\n",
      "\u001b[1;32m~\\miniconda3\\lib\\site-packages\\sklearn\\neighbors\\_base.py\u001b[0m in \u001b[0;36mkneighbors\u001b[1;34m(self, X, n_neighbors, return_distance)\u001b[0m\n\u001b[0;32m    703\u001b[0m                 \u001b[0mkwds\u001b[0m \u001b[1;33m=\u001b[0m \u001b[0mself\u001b[0m\u001b[1;33m.\u001b[0m\u001b[0meffective_metric_params_\u001b[0m\u001b[1;33m\u001b[0m\u001b[1;33m\u001b[0m\u001b[0m\n\u001b[0;32m    704\u001b[0m \u001b[1;33m\u001b[0m\u001b[0m\n\u001b[1;32m--> 705\u001b[1;33m             chunked_results = list(pairwise_distances_chunked(\n\u001b[0m\u001b[0;32m    706\u001b[0m                 \u001b[0mX\u001b[0m\u001b[1;33m,\u001b[0m \u001b[0mself\u001b[0m\u001b[1;33m.\u001b[0m\u001b[0m_fit_X\u001b[0m\u001b[1;33m,\u001b[0m \u001b[0mreduce_func\u001b[0m\u001b[1;33m=\u001b[0m\u001b[0mreduce_func\u001b[0m\u001b[1;33m,\u001b[0m\u001b[1;33m\u001b[0m\u001b[1;33m\u001b[0m\u001b[0m\n\u001b[0;32m    707\u001b[0m                 \u001b[0mmetric\u001b[0m\u001b[1;33m=\u001b[0m\u001b[0mself\u001b[0m\u001b[1;33m.\u001b[0m\u001b[0meffective_metric_\u001b[0m\u001b[1;33m,\u001b[0m \u001b[0mn_jobs\u001b[0m\u001b[1;33m=\u001b[0m\u001b[0mn_jobs\u001b[0m\u001b[1;33m,\u001b[0m\u001b[1;33m\u001b[0m\u001b[1;33m\u001b[0m\u001b[0m\n",
      "\u001b[1;32m~\\miniconda3\\lib\\site-packages\\sklearn\\metrics\\pairwise.py\u001b[0m in \u001b[0;36mpairwise_distances_chunked\u001b[1;34m(X, Y, reduce_func, metric, n_jobs, working_memory, **kwds)\u001b[0m\n\u001b[0;32m   1621\u001b[0m         \u001b[1;32melse\u001b[0m\u001b[1;33m:\u001b[0m\u001b[1;33m\u001b[0m\u001b[1;33m\u001b[0m\u001b[0m\n\u001b[0;32m   1622\u001b[0m             \u001b[0mX_chunk\u001b[0m \u001b[1;33m=\u001b[0m \u001b[0mX\u001b[0m\u001b[1;33m[\u001b[0m\u001b[0msl\u001b[0m\u001b[1;33m]\u001b[0m\u001b[1;33m\u001b[0m\u001b[1;33m\u001b[0m\u001b[0m\n\u001b[1;32m-> 1623\u001b[1;33m         D_chunk = pairwise_distances(X_chunk, Y, metric=metric,\n\u001b[0m\u001b[0;32m   1624\u001b[0m                                      n_jobs=n_jobs, **kwds)\n\u001b[0;32m   1625\u001b[0m         if ((X is Y or Y is None)\n",
      "\u001b[1;32m~\\miniconda3\\lib\\site-packages\\sklearn\\utils\\validation.py\u001b[0m in \u001b[0;36minner_f\u001b[1;34m(*args, **kwargs)\u001b[0m\n\u001b[0;32m     61\u001b[0m             \u001b[0mextra_args\u001b[0m \u001b[1;33m=\u001b[0m \u001b[0mlen\u001b[0m\u001b[1;33m(\u001b[0m\u001b[0margs\u001b[0m\u001b[1;33m)\u001b[0m \u001b[1;33m-\u001b[0m \u001b[0mlen\u001b[0m\u001b[1;33m(\u001b[0m\u001b[0mall_args\u001b[0m\u001b[1;33m)\u001b[0m\u001b[1;33m\u001b[0m\u001b[1;33m\u001b[0m\u001b[0m\n\u001b[0;32m     62\u001b[0m             \u001b[1;32mif\u001b[0m \u001b[0mextra_args\u001b[0m \u001b[1;33m<=\u001b[0m \u001b[1;36m0\u001b[0m\u001b[1;33m:\u001b[0m\u001b[1;33m\u001b[0m\u001b[1;33m\u001b[0m\u001b[0m\n\u001b[1;32m---> 63\u001b[1;33m                 \u001b[1;32mreturn\u001b[0m \u001b[0mf\u001b[0m\u001b[1;33m(\u001b[0m\u001b[1;33m*\u001b[0m\u001b[0margs\u001b[0m\u001b[1;33m,\u001b[0m \u001b[1;33m**\u001b[0m\u001b[0mkwargs\u001b[0m\u001b[1;33m)\u001b[0m\u001b[1;33m\u001b[0m\u001b[1;33m\u001b[0m\u001b[0m\n\u001b[0m\u001b[0;32m     64\u001b[0m \u001b[1;33m\u001b[0m\u001b[0m\n\u001b[0;32m     65\u001b[0m             \u001b[1;31m# extra_args > 0\u001b[0m\u001b[1;33m\u001b[0m\u001b[1;33m\u001b[0m\u001b[1;33m\u001b[0m\u001b[0m\n",
      "\u001b[1;32m~\\miniconda3\\lib\\site-packages\\sklearn\\metrics\\pairwise.py\u001b[0m in \u001b[0;36mpairwise_distances\u001b[1;34m(X, Y, metric, n_jobs, force_all_finite, **kwds)\u001b[0m\n\u001b[0;32m   1788\u001b[0m         \u001b[0mfunc\u001b[0m \u001b[1;33m=\u001b[0m \u001b[0mpartial\u001b[0m\u001b[1;33m(\u001b[0m\u001b[0mdistance\u001b[0m\u001b[1;33m.\u001b[0m\u001b[0mcdist\u001b[0m\u001b[1;33m,\u001b[0m \u001b[0mmetric\u001b[0m\u001b[1;33m=\u001b[0m\u001b[0mmetric\u001b[0m\u001b[1;33m,\u001b[0m \u001b[1;33m**\u001b[0m\u001b[0mkwds\u001b[0m\u001b[1;33m)\u001b[0m\u001b[1;33m\u001b[0m\u001b[1;33m\u001b[0m\u001b[0m\n\u001b[0;32m   1789\u001b[0m \u001b[1;33m\u001b[0m\u001b[0m\n\u001b[1;32m-> 1790\u001b[1;33m     \u001b[1;32mreturn\u001b[0m \u001b[0m_parallel_pairwise\u001b[0m\u001b[1;33m(\u001b[0m\u001b[0mX\u001b[0m\u001b[1;33m,\u001b[0m \u001b[0mY\u001b[0m\u001b[1;33m,\u001b[0m \u001b[0mfunc\u001b[0m\u001b[1;33m,\u001b[0m \u001b[0mn_jobs\u001b[0m\u001b[1;33m,\u001b[0m \u001b[1;33m**\u001b[0m\u001b[0mkwds\u001b[0m\u001b[1;33m)\u001b[0m\u001b[1;33m\u001b[0m\u001b[1;33m\u001b[0m\u001b[0m\n\u001b[0m\u001b[0;32m   1791\u001b[0m \u001b[1;33m\u001b[0m\u001b[0m\n\u001b[0;32m   1792\u001b[0m \u001b[1;33m\u001b[0m\u001b[0m\n",
      "\u001b[1;32m~\\miniconda3\\lib\\site-packages\\sklearn\\metrics\\pairwise.py\u001b[0m in \u001b[0;36m_parallel_pairwise\u001b[1;34m(X, Y, func, n_jobs, **kwds)\u001b[0m\n\u001b[0;32m   1357\u001b[0m \u001b[1;33m\u001b[0m\u001b[0m\n\u001b[0;32m   1358\u001b[0m     \u001b[1;32mif\u001b[0m \u001b[0meffective_n_jobs\u001b[0m\u001b[1;33m(\u001b[0m\u001b[0mn_jobs\u001b[0m\u001b[1;33m)\u001b[0m \u001b[1;33m==\u001b[0m \u001b[1;36m1\u001b[0m\u001b[1;33m:\u001b[0m\u001b[1;33m\u001b[0m\u001b[1;33m\u001b[0m\u001b[0m\n\u001b[1;32m-> 1359\u001b[1;33m         \u001b[1;32mreturn\u001b[0m \u001b[0mfunc\u001b[0m\u001b[1;33m(\u001b[0m\u001b[0mX\u001b[0m\u001b[1;33m,\u001b[0m \u001b[0mY\u001b[0m\u001b[1;33m,\u001b[0m \u001b[1;33m**\u001b[0m\u001b[0mkwds\u001b[0m\u001b[1;33m)\u001b[0m\u001b[1;33m\u001b[0m\u001b[1;33m\u001b[0m\u001b[0m\n\u001b[0m\u001b[0;32m   1360\u001b[0m \u001b[1;33m\u001b[0m\u001b[0m\n\u001b[0;32m   1361\u001b[0m     \u001b[1;31m# enforce a threading backend to prevent data communication overhead\u001b[0m\u001b[1;33m\u001b[0m\u001b[1;33m\u001b[0m\u001b[1;33m\u001b[0m\u001b[0m\n",
      "\u001b[1;32m~\\miniconda3\\lib\\site-packages\\sklearn\\utils\\validation.py\u001b[0m in \u001b[0;36minner_f\u001b[1;34m(*args, **kwargs)\u001b[0m\n\u001b[0;32m     61\u001b[0m             \u001b[0mextra_args\u001b[0m \u001b[1;33m=\u001b[0m \u001b[0mlen\u001b[0m\u001b[1;33m(\u001b[0m\u001b[0margs\u001b[0m\u001b[1;33m)\u001b[0m \u001b[1;33m-\u001b[0m \u001b[0mlen\u001b[0m\u001b[1;33m(\u001b[0m\u001b[0mall_args\u001b[0m\u001b[1;33m)\u001b[0m\u001b[1;33m\u001b[0m\u001b[1;33m\u001b[0m\u001b[0m\n\u001b[0;32m     62\u001b[0m             \u001b[1;32mif\u001b[0m \u001b[0mextra_args\u001b[0m \u001b[1;33m<=\u001b[0m \u001b[1;36m0\u001b[0m\u001b[1;33m:\u001b[0m\u001b[1;33m\u001b[0m\u001b[1;33m\u001b[0m\u001b[0m\n\u001b[1;32m---> 63\u001b[1;33m                 \u001b[1;32mreturn\u001b[0m \u001b[0mf\u001b[0m\u001b[1;33m(\u001b[0m\u001b[1;33m*\u001b[0m\u001b[0margs\u001b[0m\u001b[1;33m,\u001b[0m \u001b[1;33m**\u001b[0m\u001b[0mkwargs\u001b[0m\u001b[1;33m)\u001b[0m\u001b[1;33m\u001b[0m\u001b[1;33m\u001b[0m\u001b[0m\n\u001b[0m\u001b[0;32m     64\u001b[0m \u001b[1;33m\u001b[0m\u001b[0m\n\u001b[0;32m     65\u001b[0m             \u001b[1;31m# extra_args > 0\u001b[0m\u001b[1;33m\u001b[0m\u001b[1;33m\u001b[0m\u001b[1;33m\u001b[0m\u001b[0m\n",
      "\u001b[1;32m~\\miniconda3\\lib\\site-packages\\sklearn\\metrics\\pairwise.py\u001b[0m in \u001b[0;36meuclidean_distances\u001b[1;34m(X, Y, Y_norm_squared, squared, X_norm_squared)\u001b[0m\n\u001b[0;32m    270\u001b[0m            [1.41421356]])\n\u001b[0;32m    271\u001b[0m     \"\"\"\n\u001b[1;32m--> 272\u001b[1;33m     \u001b[0mX\u001b[0m\u001b[1;33m,\u001b[0m \u001b[0mY\u001b[0m \u001b[1;33m=\u001b[0m \u001b[0mcheck_pairwise_arrays\u001b[0m\u001b[1;33m(\u001b[0m\u001b[0mX\u001b[0m\u001b[1;33m,\u001b[0m \u001b[0mY\u001b[0m\u001b[1;33m)\u001b[0m\u001b[1;33m\u001b[0m\u001b[1;33m\u001b[0m\u001b[0m\n\u001b[0m\u001b[0;32m    273\u001b[0m \u001b[1;33m\u001b[0m\u001b[0m\n\u001b[0;32m    274\u001b[0m     \u001b[1;31m# If norms are passed as float32, they are unused. If arrays are passed as\u001b[0m\u001b[1;33m\u001b[0m\u001b[1;33m\u001b[0m\u001b[1;33m\u001b[0m\u001b[0m\n",
      "\u001b[1;32m~\\miniconda3\\lib\\site-packages\\sklearn\\utils\\validation.py\u001b[0m in \u001b[0;36minner_f\u001b[1;34m(*args, **kwargs)\u001b[0m\n\u001b[0;32m     61\u001b[0m             \u001b[0mextra_args\u001b[0m \u001b[1;33m=\u001b[0m \u001b[0mlen\u001b[0m\u001b[1;33m(\u001b[0m\u001b[0margs\u001b[0m\u001b[1;33m)\u001b[0m \u001b[1;33m-\u001b[0m \u001b[0mlen\u001b[0m\u001b[1;33m(\u001b[0m\u001b[0mall_args\u001b[0m\u001b[1;33m)\u001b[0m\u001b[1;33m\u001b[0m\u001b[1;33m\u001b[0m\u001b[0m\n\u001b[0;32m     62\u001b[0m             \u001b[1;32mif\u001b[0m \u001b[0mextra_args\u001b[0m \u001b[1;33m<=\u001b[0m \u001b[1;36m0\u001b[0m\u001b[1;33m:\u001b[0m\u001b[1;33m\u001b[0m\u001b[1;33m\u001b[0m\u001b[0m\n\u001b[1;32m---> 63\u001b[1;33m                 \u001b[1;32mreturn\u001b[0m \u001b[0mf\u001b[0m\u001b[1;33m(\u001b[0m\u001b[1;33m*\u001b[0m\u001b[0margs\u001b[0m\u001b[1;33m,\u001b[0m \u001b[1;33m**\u001b[0m\u001b[0mkwargs\u001b[0m\u001b[1;33m)\u001b[0m\u001b[1;33m\u001b[0m\u001b[1;33m\u001b[0m\u001b[0m\n\u001b[0m\u001b[0;32m     64\u001b[0m \u001b[1;33m\u001b[0m\u001b[0m\n\u001b[0;32m     65\u001b[0m             \u001b[1;31m# extra_args > 0\u001b[0m\u001b[1;33m\u001b[0m\u001b[1;33m\u001b[0m\u001b[1;33m\u001b[0m\u001b[0m\n",
      "\u001b[1;32m~\\miniconda3\\lib\\site-packages\\sklearn\\metrics\\pairwise.py\u001b[0m in \u001b[0;36mcheck_pairwise_arrays\u001b[1;34m(X, Y, precomputed, dtype, accept_sparse, force_all_finite, copy)\u001b[0m\n\u001b[0;32m    158\u001b[0m                              (X.shape[0], X.shape[1], Y.shape[0]))\n\u001b[0;32m    159\u001b[0m     \u001b[1;32melif\u001b[0m \u001b[0mX\u001b[0m\u001b[1;33m.\u001b[0m\u001b[0mshape\u001b[0m\u001b[1;33m[\u001b[0m\u001b[1;36m1\u001b[0m\u001b[1;33m]\u001b[0m \u001b[1;33m!=\u001b[0m \u001b[0mY\u001b[0m\u001b[1;33m.\u001b[0m\u001b[0mshape\u001b[0m\u001b[1;33m[\u001b[0m\u001b[1;36m1\u001b[0m\u001b[1;33m]\u001b[0m\u001b[1;33m:\u001b[0m\u001b[1;33m\u001b[0m\u001b[1;33m\u001b[0m\u001b[0m\n\u001b[1;32m--> 160\u001b[1;33m         raise ValueError(\"Incompatible dimension for X and Y matrices: \"\n\u001b[0m\u001b[0;32m    161\u001b[0m                          \"X.shape[1] == %d while Y.shape[1] == %d\" % (\n\u001b[0;32m    162\u001b[0m                              X.shape[1], Y.shape[1]))\n",
      "\u001b[1;31mValueError\u001b[0m: Incompatible dimension for X and Y matrices: X.shape[1] == 8 while Y.shape[1] == 4"
     ]
    }
   ],
   "source": [
    "#Predição para a safra 2006\n",
    "classifier.predict(df.iloc[1:18,:])"
   ]
  },
  {
   "cell_type": "code",
   "execution_count": 35,
   "id": "lined-lebanon",
   "metadata": {},
   "outputs": [
    {
     "data": {
      "text/plain": [
       "array([[0.66485652, 0.74697109],\n",
       "       [0.71385452, 0.70029402],\n",
       "       [0.6960587 , 0.71798488],\n",
       "       [0.66097138, 0.75041111],\n",
       "       [0.65172917, 0.75845177],\n",
       "       [0.62068591, 0.78405931],\n",
       "       [0.70436857, 0.70983443],\n",
       "       [0.69095348, 0.72289922],\n",
       "       [0.67405864, 0.73867784],\n",
       "       [0.71962883, 0.69435895],\n",
       "       [0.73490195, 0.67817337],\n",
       "       [0.72666094, 0.68699627],\n",
       "       [0.69674456, 0.71731933],\n",
       "       [0.69069962, 0.72314178],\n",
       "       [0.65848066, 0.75259765],\n",
       "       [0.701529  , 0.71264091],\n",
       "       [0.677602  , 0.7354288 ],\n",
       "       [0.69609244, 0.71795217],\n",
       "       [0.7386383 , 0.67410197],\n",
       "       [0.72168526, 0.69222134]])"
      ]
     },
     "execution_count": 35,
     "metadata": {},
     "output_type": "execute_result"
    }
   ],
   "source": [
    "sklearn.preprocessing.normalize(X_train2)"
   ]
  },
  {
   "cell_type": "code",
   "execution_count": 85,
   "id": "dense-trinidad",
   "metadata": {},
   "outputs": [
    {
     "data": {
      "text/plain": [
       "LinearRegression()"
      ]
     },
     "execution_count": 85,
     "metadata": {},
     "output_type": "execute_result"
    }
   ],
   "source": [
    "# importing module\n",
    "from sklearn.linear_model import LinearRegression\n",
    "# creating an object of LinearRegression class\n",
    "LR = LinearRegression()\n",
    "# fitting the training data\n",
    "LR.fit(X_train2,y_train2)"
   ]
  },
  {
   "cell_type": "code",
   "execution_count": 86,
   "id": "killing-editor",
   "metadata": {},
   "outputs": [],
   "source": [
    "y_prediction =  LR.predict(X_train2)"
   ]
  },
  {
   "cell_type": "code",
   "execution_count": 87,
   "id": "patient-indicator",
   "metadata": {},
   "outputs": [
    {
     "data": {
      "text/plain": [
       "array(['2040', '1829', '1829', '2880', '2759', '2280', '2700', '3036',\n",
       "       '2550', '3060', '3360', '3480', '2280', '2580', '3240', '2100',\n",
       "       '3413', '4159', '3818', '3950'], dtype=object)"
      ]
     },
     "execution_count": 87,
     "metadata": {},
     "output_type": "execute_result"
    }
   ],
   "source": [
    "y_train2"
   ]
  },
  {
   "cell_type": "code",
   "execution_count": 88,
   "id": "brutal-color",
   "metadata": {},
   "outputs": [
    {
     "data": {
      "text/plain": [
       "array([2431.69411311, 2932.48077794, 2588.02673407, 3004.75024168,\n",
       "       2823.67444295, 2627.83189874, 2810.5112907 , 2824.92332512,\n",
       "       3165.99697926, 2890.76308392, 2819.98074642, 2635.14034   ,\n",
       "       2871.44375939, 2556.07815703, 3029.68002422, 3165.40036433,\n",
       "       2948.51504163, 3521.77607983, 2593.81264243, 3100.51995723])"
      ]
     },
     "execution_count": 88,
     "metadata": {},
     "output_type": "execute_result"
    }
   ],
   "source": [
    "y_prediction"
   ]
  },
  {
   "cell_type": "code",
   "execution_count": 53,
   "id": "growing-arizona",
   "metadata": {},
   "outputs": [
    {
     "data": {
      "text/html": [
       "<div>\n",
       "<style scoped>\n",
       "    .dataframe tbody tr th:only-of-type {\n",
       "        vertical-align: middle;\n",
       "    }\n",
       "\n",
       "    .dataframe tbody tr th {\n",
       "        vertical-align: top;\n",
       "    }\n",
       "\n",
       "    .dataframe thead th {\n",
       "        text-align: right;\n",
       "    }\n",
       "</style>\n",
       "<table border=\"1\" class=\"dataframe\">\n",
       "  <thead>\n",
       "    <tr style=\"text-align: right;\">\n",
       "      <th></th>\n",
       "      <th>EVI2</th>\n",
       "      <th>EVI3</th>\n",
       "    </tr>\n",
       "  </thead>\n",
       "  <tbody>\n",
       "    <tr>\n",
       "      <th>21</th>\n",
       "      <td>8289.355512</td>\n",
       "      <td>8378.505445</td>\n",
       "    </tr>\n",
       "  </tbody>\n",
       "</table>\n",
       "</div>"
      ],
      "text/plain": [
       "           EVI2         EVI3\n",
       "21  8289.355512  8378.505445"
      ]
     },
     "execution_count": 53,
     "metadata": {},
     "output_type": "execute_result"
    }
   ],
   "source": [
    "X_test2"
   ]
  },
  {
   "cell_type": "code",
   "execution_count": 64,
   "id": "recent-saturn",
   "metadata": {},
   "outputs": [
    {
     "name": "stdout",
     "output_type": "stream",
     "text": [
      "r2 socre is  0.26870263051025556\n",
      "mean_sqrd_error is== 336661.9053724002\n"
     ]
    }
   ],
   "source": [
    "# importing r2_score module\n",
    "from sklearn.metrics import r2_score\n",
    "from sklearn.metrics import mean_squared_error\n",
    "# predicting the accuracy score\n",
    "score=r2_score(y_train2,y_prediction)\n",
    "print(\"r2 socre is \",score)\n",
    "print(\"mean_sqrd_error is==\",mean_squared_error(y_train2,y_prediction))\n"
   ]
  },
  {
   "cell_type": "code",
   "execution_count": null,
   "id": "existing-engineer",
   "metadata": {},
   "outputs": [],
   "source": [
    "from sklearn.svm import SVR\n",
    "from sklearn.pipeline import make_pipeline\n",
    "from sklearn.preprocessing import StandardScaler\n",
    "from sklearn.model_selection import GridSearchCV\n",
    "from sklearn.model_selection import learning_curve\n",
    "from sklearn.kernel_ridge import KernelRidge\n",
    "import numpy as np\n",
    "\n",
    "svr_rbf = SVR(kernel='rbf', C=1e3, gamma=0.1)\n",
    "svr_lin = SVR(kernel='linear', C=1e3)\n",
    "svr_poly = SVR(kernel='poly', C=1e3, degree=3)\n",
    "y_rbf = svr_rbf.fit(X_train2, y_train2).predict(X_test2)\n",
    "y_lin = svr_lin.fit(X_train2, y_train2).predict(X_test2)\n",
    "y_poly = svr_poly.fit(X_train2, y_train2).predict(X_test2)\n"
   ]
  },
  {
   "cell_type": "code",
   "execution_count": 93,
   "id": "sufficient-nursing",
   "metadata": {},
   "outputs": [
    {
     "name": "stdout",
     "output_type": "stream",
     "text": [
      "[5469.88196539]\n"
     ]
    }
   ],
   "source": [
    "print(y_lin)\n"
   ]
  },
  {
   "cell_type": "code",
   "execution_count": 82,
   "id": "medical-picture",
   "metadata": {},
   "outputs": [],
   "source": [
    "from sklearn.naive_bayes import BernoulliNB\n",
    "\n",
    "gnb = BernoulliNB()\n",
    "\n",
    "y_pred = gnb.fit(X_train2,y_train2).predict(X_test2)"
   ]
  },
  {
   "cell_type": "code",
   "execution_count": 84,
   "id": "opening-processor",
   "metadata": {},
   "outputs": [
    {
     "data": {
      "text/plain": [
       "array(['1829'], dtype='<U4')"
      ]
     },
     "execution_count": 84,
     "metadata": {},
     "output_type": "execute_result"
    }
   ],
   "source": [
    "y_pred"
   ]
  },
  {
   "cell_type": "code",
   "execution_count": null,
   "id": "postal-civilian",
   "metadata": {},
   "outputs": [],
   "source": [
    "Y_predict\n",
    "\n",
    "\n"
   ]
  },
  {
   "cell_type": "code",
   "execution_count": null,
   "id": "small-jenny",
   "metadata": {},
   "outputs": [],
   "source": [
    "y_poly"
   ]
  },
  {
   "cell_type": "code",
   "execution_count": null,
   "id": "brutal-intersection",
   "metadata": {},
   "outputs": [],
   "source": [
    "#Overfitted total kkk\n",
    "Y_predict"
   ]
  },
  {
   "cell_type": "code",
   "execution_count": null,
   "id": "tight-regard",
   "metadata": {},
   "outputs": [],
   "source": [
    "x_Test3 = df.iloc[19:22,1:3]"
   ]
  },
  {
   "cell_type": "code",
   "execution_count": null,
   "id": "preceding-therapist",
   "metadata": {},
   "outputs": [],
   "source": [
    "x_Test3"
   ]
  },
  {
   "cell_type": "code",
   "execution_count": null,
   "id": "electrical-council",
   "metadata": {},
   "outputs": [],
   "source": [
    "y_poly = svr_poly.fit(X_train2, y_train2).predict(x_Test3)"
   ]
  },
  {
   "cell_type": "code",
   "execution_count": null,
   "id": "sexual-momentum",
   "metadata": {},
   "outputs": [],
   "source": [
    "y_poly"
   ]
  },
  {
   "cell_type": "code",
   "execution_count": 61,
   "id": "living-employee",
   "metadata": {},
   "outputs": [
    {
     "data": {
      "text/plain": [
       "array(['2040', '1829', '1829', '2880', '2759', '2280', '2700', '3036',\n",
       "       '2550', '3060', '3360', '3480', '2280', '2580', '3240', '2100',\n",
       "       '3413', '4159', '3818', 3950], dtype=object)"
      ]
     },
     "execution_count": 61,
     "metadata": {},
     "output_type": "execute_result"
    }
   ],
   "source": [
    "y_train2"
   ]
  },
  {
   "cell_type": "code",
   "execution_count": 75,
   "id": "flying-motor",
   "metadata": {},
   "outputs": [
    {
     "data": {
      "text/html": [
       "<div>\n",
       "<style scoped>\n",
       "    .dataframe tbody tr th:only-of-type {\n",
       "        vertical-align: middle;\n",
       "    }\n",
       "\n",
       "    .dataframe tbody tr th {\n",
       "        vertical-align: top;\n",
       "    }\n",
       "\n",
       "    .dataframe thead th {\n",
       "        text-align: right;\n",
       "    }\n",
       "</style>\n",
       "<table border=\"1\" class=\"dataframe\">\n",
       "  <thead>\n",
       "    <tr style=\"text-align: right;\">\n",
       "      <th></th>\n",
       "      <th>EVI2</th>\n",
       "      <th>EVI3</th>\n",
       "    </tr>\n",
       "  </thead>\n",
       "  <tbody>\n",
       "    <tr>\n",
       "      <th>21</th>\n",
       "      <td>8289.355512</td>\n",
       "      <td>8378.505445</td>\n",
       "    </tr>\n",
       "  </tbody>\n",
       "</table>\n",
       "</div>"
      ],
      "text/plain": [
       "           EVI2         EVI3\n",
       "21  8289.355512  8378.505445"
      ]
     },
     "execution_count": 75,
     "metadata": {},
     "output_type": "execute_result"
    }
   ],
   "source": [
    "X_test2"
   ]
  },
  {
   "cell_type": "code",
   "execution_count": null,
   "id": "matched-determination",
   "metadata": {},
   "outputs": [],
   "source": []
  },
  {
   "cell_type": "code",
   "execution_count": null,
   "id": "express-operations",
   "metadata": {},
   "outputs": [],
   "source": []
  },
  {
   "cell_type": "code",
   "execution_count": null,
   "id": "arabic-gothic",
   "metadata": {},
   "outputs": [],
   "source": []
  }
 ],
 "metadata": {
  "kernelspec": {
   "display_name": "Python 3",
   "language": "python",
   "name": "python3"
  },
  "widgets": {
   "application/vnd.jupyter.widget-state+json": {
    "state": {
     "00910cc5b6a449f49869f916484f7e7c": {
      "model_module": "jupyter-leaflet",
      "model_module_version": "^0.14.0",
      "model_name": "LeafletSearchControlModel",
      "state": {
       "_model_module": "jupyter-leaflet",
       "_model_module_version": "^0.14.0",
       "_view_count": null,
       "_view_module": "jupyter-leaflet",
       "_view_module_version": "^0.14.0",
       "marker": "IPY_MODEL_188bfeab5cc44dd2ae57f2c6ff9aee3c",
       "options": [
        "animate_location",
        "auto_collapse",
        "auto_type",
        "found_style",
        "jsonp_param",
        "position",
        "property_loc",
        "property_name",
        "url",
        "zoom"
       ],
       "position": "topleft",
       "url": "https://nominatim.openstreetmap.org/search?format=json&q={s}",
       "zoom": 5
      }
     },
     "00fc2bc61e25421e8fa06eef567965b4": {
      "model_module": "@jupyter-widgets/controls",
      "model_module_version": "1.5.0",
      "model_name": "DescriptionStyleModel",
      "state": {
       "description_width": ""
      }
     },
     "011a1bfe30714f768ee98d7355897d57": {
      "model_module": "@jupyter-widgets/controls",
      "model_module_version": "1.5.0",
      "model_name": "DescriptionStyleModel",
      "state": {
       "description_width": ""
      }
     },
     "024571c7c7274d4ab23d830365fe02f1": {
      "model_module": "@jupyter-widgets/controls",
      "model_module_version": "1.5.0",
      "model_name": "DescriptionStyleModel",
      "state": {
       "description_width": ""
      }
     },
     "02581f1dde844034853c825719cb87c6": {
      "model_module": "@jupyter-widgets/base",
      "model_module_version": "1.2.0",
      "model_name": "LayoutModel",
      "state": {}
     },
     "039bf12fa8ae483eb74afa42a2ba4ab2": {
      "model_module": "jupyter-leaflet",
      "model_module_version": "^0.14.0",
      "model_name": "LeafletTileLayerModel",
      "state": {
       "_model_module_version": "^0.14.0",
       "_view_module_version": "^0.14.0",
       "base": true,
       "max_native_zoom": 18,
       "max_zoom": 19,
       "min_native_zoom": 0,
       "min_zoom": 1,
       "options": [
        "attribution",
        "detect_retina",
        "max_native_zoom",
        "max_zoom",
        "min_native_zoom",
        "min_zoom",
        "no_wrap",
        "tile_size",
        "tms"
       ]
      }
     },
     "03a76a8b542c47e9a3097ad8545f6e4f": {
      "model_module": "jupyter-leaflet",
      "model_module_version": "^0.14.0",
      "model_name": "LeafletTileLayerModel",
      "state": {
       "_model_module_version": "^0.14.0",
       "_view_module_version": "^0.14.0",
       "attribution": "&copy; <a href=\"http://www.openstreetmap.org/copyright\">OpenStreetMap</a>",
       "max_native_zoom": 18,
       "min_native_zoom": 0,
       "min_zoom": 1,
       "name": "OpenStreetMap.DE",
       "options": [
        "attribution",
        "detect_retina",
        "max_native_zoom",
        "max_zoom",
        "min_native_zoom",
        "min_zoom",
        "no_wrap",
        "tile_size",
        "tms"
       ],
       "url": "http://{s}.tile.openstreetmap.de/tiles/osmde/{z}/{x}/{y}.png"
      }
     },
     "03b6e1d443c24c57b72ad096b5dea000": {
      "model_module": "@jupyter-widgets/base",
      "model_module_version": "1.2.0",
      "model_name": "LayoutModel",
      "state": {}
     },
     "03dd0faba1f64a08af7e7d6662062322": {
      "model_module": "jupyter-leaflet",
      "model_module_version": "^0.14.0",
      "model_name": "LeafletTileLayerModel",
      "state": {
       "_model_module_version": "^0.14.0",
       "_view_module_version": "^0.14.0",
       "attribution": "Map tiles by <a href=\"http://stamen.com/\">Stamen Design</a>, under <a href=\"http://creativecommons.org/licenses/by/3.0\">CC BY 3.0</a>. Data by <a href=\"http://openstreetmap.org/\">OpenStreetMap</a>, under <a href=\"http://creativecommons.org/licenses/by-sa/3.0\">CC BY SA</a>.",
       "max_native_zoom": 18,
       "max_zoom": 20,
       "min_native_zoom": 0,
       "name": "Stamen.Toner",
       "options": [
        "attribution",
        "detect_retina",
        "max_native_zoom",
        "max_zoom",
        "min_native_zoom",
        "min_zoom",
        "no_wrap",
        "tile_size",
        "tms"
       ],
       "url": "https://stamen-tiles-a.a.ssl.fastly.net/toner/{z}/{x}/{y}.png"
      }
     },
     "03f860263ef0424da4c6bf883e7aecc6": {
      "model_module": "@jupyter-widgets/controls",
      "model_module_version": "1.5.0",
      "model_name": "DropdownModel",
      "state": {
       "index": null,
       "layout": "IPY_MODEL_0890a68a4e6042249b03b52beb3cbdb6",
       "style": "IPY_MODEL_f22b56ae159143c0816a00b55d3f1da3"
      }
     },
     "04fd5c9de4924929a06f4f3a56e419c6": {
      "model_module": "@jupyter-widgets/controls",
      "model_module_version": "1.5.0",
      "model_name": "DescriptionStyleModel",
      "state": {
       "description_width": ""
      }
     },
     "0517bce4e5f64f0780d14f7efa1e7747": {
      "model_module": "jupyter-leaflet",
      "model_module_version": "^0.14.0",
      "model_name": "LeafletTileLayerModel",
      "state": {
       "_model_module_version": "^0.14.0",
       "_view_module_version": "^0.14.0",
       "attribution": "Map tiles by <a href=\"http://stamen.com/\">Stamen Design</a>, under <a href=\"http://creativecommons.org/licenses/by/3.0\">CC BY 3.0</a>. Data by <a href=\"http://openstreetmap.org/\">OpenStreetMap</a>, under <a href=\"http://creativecommons.org/licenses/by-sa/3.0\">CC BY SA</a>.",
       "max_native_zoom": 18,
       "min_native_zoom": 0,
       "name": "Stamen.Terrain",
       "options": [
        "attribution",
        "detect_retina",
        "max_native_zoom",
        "max_zoom",
        "min_native_zoom",
        "min_zoom",
        "no_wrap",
        "tile_size",
        "tms"
       ],
       "url": "https://stamen-tiles-a.a.ssl.fastly.net/terrain/{z}/{x}/{y}.png"
      }
     },
     "06bf965ec857430c8f7323f048028a0f": {
      "model_module": "@jupyter-widgets/controls",
      "model_module_version": "1.5.0",
      "model_name": "DescriptionStyleModel",
      "state": {
       "description_width": ""
      }
     },
     "08693aee89394d4e8c55c5581c62dd5f": {
      "model_module": "@jupyter-widgets/controls",
      "model_module_version": "1.5.0",
      "model_name": "HBoxModel",
      "state": {
       "children": [
        "IPY_MODEL_596acfdf61cc408a988549fb111e9c56",
        "IPY_MODEL_f01a56199a4943b695b0fc17d5683541",
        "IPY_MODEL_3b8c5c122052472f8c587f5a0e523d3f"
       ],
       "layout": "IPY_MODEL_a72641c4963349d89ca3d9508df34bb6"
      }
     },
     "0877111eb46646d4b6b9a0bee2484125": {
      "model_module": "jupyter-leaflet",
      "model_module_version": "^0.14.0",
      "model_name": "LeafletTileLayerModel",
      "state": {
       "_model_module_version": "^0.14.0",
       "_view_module_version": "^0.14.0",
       "attribution": "Map tiles <a href=\"https://labs.strava.com/heatmap\">Strava 2017</a>",
       "max_native_zoom": 18,
       "max_zoom": 15,
       "min_native_zoom": 0,
       "min_zoom": 1,
       "name": "Strava.Ride",
       "options": [
        "attribution",
        "detect_retina",
        "max_native_zoom",
        "max_zoom",
        "min_native_zoom",
        "min_zoom",
        "no_wrap",
        "tile_size",
        "tms"
       ],
       "url": "https://heatmap-external-a.strava.com//tiles/ride/hot/{z}/{x}/{y}.png?v=19"
      }
     },
     "087aac63356a481b938479545952d6e0": {
      "model_module": "@jupyter-widgets/controls",
      "model_module_version": "1.5.0",
      "model_name": "HTMLModel",
      "state": {
       "layout": "IPY_MODEL_43d8fb8da8e84708b0801066cc1c2526",
       "style": "IPY_MODEL_a808c09c4c0a4bd88b05b2ef1585168a"
      }
     },
     "0890a68a4e6042249b03b52beb3cbdb6": {
      "model_module": "@jupyter-widgets/base",
      "model_module_version": "1.2.0",
      "model_name": "LayoutModel",
      "state": {
       "max_width": "279px",
       "min_width": "279px"
      }
     },
     "095ef9819b3248dab49954879693dd8d": {
      "model_module": "@jupyter-widgets/controls",
      "model_module_version": "1.5.0",
      "model_name": "RadioButtonsModel",
      "state": {
       "index": null,
       "layout": "IPY_MODEL_35dd15a9213540178c106cedb3e10498",
       "style": "IPY_MODEL_d355cb6bf1ad490b89ebeeef613447c9"
      }
     },
     "0b42d0ced6cc4ba39c4b4e47177098bc": {
      "model_module": "@jupyter-widgets/controls",
      "model_module_version": "1.5.0",
      "model_name": "DescriptionStyleModel",
      "state": {
       "description_width": ""
      }
     },
     "0b7737f0cb1145d68eb432ad92ad0c9e": {
      "model_module": "jupyter-leaflet",
      "model_module_version": "^0.14.0",
      "model_name": "LeafletTileLayerModel",
      "state": {
       "_model_module_version": "^0.14.0",
       "_view_module_version": "^0.14.0",
       "attribution": "Map tiles by <a href=\"https://labs.strava.com/heatmap\">Strava 2017</a>",
       "max_native_zoom": 18,
       "max_zoom": 15,
       "min_native_zoom": 0,
       "min_zoom": 1,
       "name": "Strava.Run",
       "options": [
        "attribution",
        "detect_retina",
        "max_native_zoom",
        "max_zoom",
        "min_native_zoom",
        "min_zoom",
        "no_wrap",
        "tile_size",
        "tms"
       ],
       "url": "https://heatmap-external-a.strava.com//tiles/run/bluered/{z}/{x}/{y}.png?v=19"
      }
     },
     "0be3a760f6e746bcbe8332e10dc13905": {
      "model_module": "@jupyter-widgets/controls",
      "model_module_version": "1.5.0",
      "model_name": "DescriptionStyleModel",
      "state": {
       "description_width": ""
      }
     },
     "0c09ceb5a79f42468027d388c5e1e7fd": {
      "model_module": "@jupyter-widgets/base",
      "model_module_version": "1.2.0",
      "model_name": "LayoutModel",
      "state": {}
     },
     "0c2c9a56967843e48bf57d6a2e44accf": {
      "model_module": "@jupyter-widgets/controls",
      "model_module_version": "1.5.0",
      "model_name": "ToggleButtonModel",
      "state": {
       "button_style": "primary",
       "icon": "question",
       "layout": "IPY_MODEL_dadb9176678f421da237c99857735799",
       "style": "IPY_MODEL_277e5e4a49714520bb553002ca9df4ff",
       "tooltip": "Get help"
      }
     },
     "0c79049634144b50a8f773a397395814": {
      "model_module": "jupyter-leaflet",
      "model_module_version": "^0.14.0",
      "model_name": "LeafletWMSLayerModel",
      "state": {
       "_model_module_version": "^0.14.0",
       "_view_module_version": "^0.14.0",
       "attribution": "USGS",
       "crs": {
        "custom": false,
        "name": "EPSG3857"
       },
       "format": "image/png",
       "layers": "3DEPElevation:None",
       "max_native_zoom": 18,
       "min_native_zoom": 0,
       "name": "USGS 3DEP Elevation",
       "options": [
        "attribution",
        "detect_retina",
        "format",
        "layers",
        "max_native_zoom",
        "max_zoom",
        "min_native_zoom",
        "min_zoom",
        "no_wrap",
        "styles",
        "tile_size",
        "tms",
        "transparent",
        "uppercase"
       ],
       "transparent": true,
       "url": "https://elevation.nationalmap.gov/arcgis/services/3DEPElevation/ImageServer/WMSServer?"
      }
     },
     "0d07e8a53b794b969924b6de39f83060": {
      "model_module": "jupyter-leaflet",
      "model_module_version": "^0.14.0",
      "model_name": "LeafletTileLayerModel",
      "state": {
       "_model_module_version": "^0.14.0",
       "_view_module_version": "^0.14.0",
       "attribution": "Tiles &copy; Esri &mdash; Source: Esri, DeLorme, NAVTEQ, USGS, Intermap, iPC, NRCAN, Esri Japan, METI, Esri China (Hong Kong), Esri (Thailand), TomTom, 2012",
       "max_native_zoom": 18,
       "max_zoom": 20,
       "min_native_zoom": 0,
       "min_zoom": 1,
       "name": "Esri.WorldStreetMap",
       "options": [
        "attribution",
        "detect_retina",
        "max_native_zoom",
        "max_zoom",
        "min_native_zoom",
        "min_zoom",
        "no_wrap",
        "tile_size",
        "tms"
       ],
       "url": "http://server.arcgisonline.com/ArcGIS/rest/services/World_Street_Map/MapServer/tile/{z}/{y}/{x}"
      }
     },
     "0d6fd175c1004ced8ee92b170b196b68": {
      "model_module": "@jupyter-widgets/base",
      "model_module_version": "1.2.0",
      "model_name": "LayoutModel",
      "state": {
       "width": "auto"
      }
     },
     "0e20947d3cba4b6eaf1de4441b7e78d7": {
      "model_module": "jupyter-leaflet",
      "model_module_version": "^0.14.0",
      "model_name": "LeafletMapStyleModel",
      "state": {
       "_model_module_version": "^0.14.0"
      }
     },
     "0e67fe8cfdfa49d981fbd9bf684d4439": {
      "model_module": "@jupyter-widgets/controls",
      "model_module_version": "1.5.0",
      "model_name": "ToggleButtonModel",
      "state": {
       "button_style": "primary",
       "icon": "random",
       "layout": "IPY_MODEL_a93a3b8066654d8586686880e4267b90",
       "style": "IPY_MODEL_04fd5c9de4924929a06f4f3a56e419c6",
       "tooltip": "Sankey plots"
      }
     },
     "0ef4c92e95ef4e588f38505ae1b00978": {
      "model_module": "@jupyter-widgets/controls",
      "model_module_version": "1.5.0",
      "model_name": "GridBoxModel",
      "state": {
       "children": [
        "IPY_MODEL_0efc3574f08b4bfd85509fb8c2b7ae3e",
        "IPY_MODEL_ca9aa59826784a319daf2f105823d48e",
        "IPY_MODEL_6e5145192a924afa9cb93ab9d908d65c",
        "IPY_MODEL_5e51468e4a044218a0a23e4a30ba9216",
        "IPY_MODEL_646d7d12c7ce49249299f4b7479f10ac",
        "IPY_MODEL_f9d16c7846a441bb9a6e8eff9a081d8b",
        "IPY_MODEL_dc01b9a8a0fa407da4d9efed1be335ac",
        "IPY_MODEL_702cf9cb1a9b41b99cd76bc01c2dd5f5",
        "IPY_MODEL_bdb4b15ac33d4e7cb353c877092fd510",
        "IPY_MODEL_896b0b2371554d7e89fd0e3685f93117",
        "IPY_MODEL_3557abb9e13647d2aca1cdf4f0590149",
        "IPY_MODEL_212b6f4f4c814e02b799ea15ac5df3ca",
        "IPY_MODEL_c91e94cc389945b49558af97613e31fa",
        "IPY_MODEL_0e67fe8cfdfa49d981fbd9bf684d4439",
        "IPY_MODEL_fbb98c1b12a84d74812f5709987e24ec",
        "IPY_MODEL_f6259d2925394d7480ad36e43a7c6468",
        "IPY_MODEL_dd7ef69059b1499f8231ce78607ba5ff",
        "IPY_MODEL_0c2c9a56967843e48bf57d6a2e44accf"
       ],
       "layout": "IPY_MODEL_e2177f0f3d224c7f95c7166fb19abb33"
      }
     },
     "0efc3574f08b4bfd85509fb8c2b7ae3e": {
      "model_module": "@jupyter-widgets/controls",
      "model_module_version": "1.5.0",
      "model_name": "ToggleButtonModel",
      "state": {
       "button_style": "primary",
       "icon": "info",
       "layout": "IPY_MODEL_6a36a74fe54842c595d74c1a381ff3ae",
       "style": "IPY_MODEL_8b461559732b4ea99e0cdd2fa939c7bd",
       "tooltip": "Inspector"
      }
     },
     "0f12ae8a471a48028985600abcbdd360": {
      "model_module": "jupyter-leaflet",
      "model_module_version": "^0.14.0",
      "model_name": "LeafletTileLayerModel",
      "state": {
       "_model_module_version": "^0.14.0",
       "_view_module_version": "^0.14.0",
       "attribution": "&copy; <a href=\"http://www.openstreetmap.org/copyright\">OpenStreetMap</a>",
       "max_native_zoom": 18,
       "min_native_zoom": 0,
       "min_zoom": 1,
       "name": "OpenStreetMap.DE",
       "options": [
        "attribution",
        "detect_retina",
        "max_native_zoom",
        "max_zoom",
        "min_native_zoom",
        "min_zoom",
        "no_wrap",
        "tile_size",
        "tms"
       ],
       "url": "http://{s}.tile.openstreetmap.de/tiles/osmde/{z}/{x}/{y}.png"
      }
     },
     "0f6df18f2a5d41fb939c992e0e8017c7": {
      "model_module": "@jupyter-widgets/controls",
      "model_module_version": "1.5.0",
      "model_name": "ToggleButtonModel",
      "state": {
       "button_style": "primary",
       "icon": "hand-o-up",
       "layout": "IPY_MODEL_39c91a9f7e0247a4af4873a90035d28e",
       "style": "IPY_MODEL_4bd2ba59e39343188218db5ad620133a",
       "tooltip": "Collect training samples"
      }
     },
     "101127a2dd6a4284ba0eb38fd6d1c68e": {
      "model_module": "@jupyter-widgets/controls",
      "model_module_version": "1.5.0",
      "model_name": "ToggleButtonModel",
      "state": {
       "icon": "server",
       "layout": "IPY_MODEL_6ccae8165175450b9e296b2152555d35",
       "style": "IPY_MODEL_4ecf66e1d1de41969efc747d49774868",
       "tooltip": "Layers"
      }
     },
     "101a38cc119f4d29a546083f0f054ba0": {
      "model_module": "@jupyter-widgets/base",
      "model_module_version": "1.2.0",
      "model_name": "LayoutModel",
      "state": {}
     },
     "10b9d14967a247678861c1f5952330f1": {
      "model_module": "jupyter-leaflet",
      "model_module_version": "^0.14.0",
      "model_name": "LeafletWMSLayerModel",
      "state": {
       "_model_module_version": "^0.14.0",
       "_view_module_version": "^0.14.0",
       "attribution": "MRLC",
       "crs": {
        "custom": false,
        "name": "EPSG3857"
       },
       "format": "image/png",
       "layers": "NLCD_2004_Land_Cover_L48",
       "max_native_zoom": 18,
       "min_native_zoom": 0,
       "name": "NLCD 2004 CONUS Land Cover",
       "options": [
        "attribution",
        "detect_retina",
        "format",
        "layers",
        "max_native_zoom",
        "max_zoom",
        "min_native_zoom",
        "min_zoom",
        "no_wrap",
        "styles",
        "tile_size",
        "tms",
        "transparent",
        "uppercase"
       ],
       "transparent": true,
       "url": "https://www.mrlc.gov/geoserver/mrlc_display/NLCD_2004_Land_Cover_L48/wms?"
      }
     },
     "143e6da207f848fd8bc3ffb9677cf0d3": {
      "model_module": "@jupyter-widgets/base",
      "model_module_version": "1.2.0",
      "model_name": "LayoutModel",
      "state": {
       "height": "auto",
       "padding": "0px 0px 0px 4px",
       "width": "auto"
      }
     },
     "1547c1aca0234ab1a8a076543a60d53a": {
      "model_module": "@jupyter-widgets/controls",
      "model_module_version": "1.5.0",
      "model_name": "DescriptionStyleModel",
      "state": {
       "description_width": ""
      }
     },
     "1574bee730c4408f9f93a94dd88f5d0f": {
      "model_module": "@jupyter-widgets/base",
      "model_module_version": "1.2.0",
      "model_name": "LayoutModel",
      "state": {
       "height": "28px",
       "padding": "0px 0px 0px 4px",
       "width": "28px"
      }
     },
     "15905979668a47a48cb01ad925e2fc03": {
      "model_module": "jupyter-leaflet",
      "model_module_version": "^0.14.0",
      "model_name": "LeafletWMSLayerModel",
      "state": {
       "_model_module_version": "^0.14.0",
       "_view_module_version": "^0.14.0",
       "attribution": "MRLC",
       "crs": {
        "custom": false,
        "name": "EPSG3857"
       },
       "format": "image/png",
       "layers": "NLCD_2011_Land_Cover_L48",
       "max_native_zoom": 18,
       "min_native_zoom": 0,
       "name": "NLCD 2011 CONUS Land Cover",
       "options": [
        "attribution",
        "detect_retina",
        "format",
        "layers",
        "max_native_zoom",
        "max_zoom",
        "min_native_zoom",
        "min_zoom",
        "no_wrap",
        "styles",
        "tile_size",
        "tms",
        "transparent",
        "uppercase"
       ],
       "transparent": true,
       "url": "https://www.mrlc.gov/geoserver/mrlc_display/NLCD_2011_Land_Cover_L48/wms?"
      }
     },
     "16604e5bc2c04d2299a0cf1cd7e6b2a1": {
      "model_module": "jupyter-leaflet",
      "model_module_version": "^0.14.0",
      "model_name": "LeafletZoomControlModel",
      "state": {
       "_model_module_version": "^0.14.0",
       "_view_module_version": "^0.14.0",
       "options": [
        "position",
        "zoom_in_text",
        "zoom_in_title",
        "zoom_out_text",
        "zoom_out_title"
       ]
      }
     },
     "175854cfd2904079824a94062e487db9": {
      "model_module": "@jupyter-widgets/output",
      "model_module_version": "1.0.0",
      "model_name": "OutputModel",
      "state": {
       "layout": "IPY_MODEL_3db9c12eae274c93a4daa914f32eb6ad"
      }
     },
     "188bfeab5cc44dd2ae57f2c6ff9aee3c": {
      "model_module": "jupyter-leaflet",
      "model_module_version": "^0.14.0",
      "model_name": "LeafletMarkerModel",
      "state": {
       "_model_module_version": "^0.14.0",
       "_view_module_version": "^0.14.0",
       "icon": "IPY_MODEL_2aad652b8be14adeb522aa8d03105118",
       "options": [
        "alt",
        "draggable",
        "keyboard",
        "rise_offset",
        "rise_on_hover",
        "rotation_angle",
        "rotation_origin",
        "title",
        "z_index_offset"
       ]
      }
     },
     "19536afa489b4082b260a330ce1ba16a": {
      "model_module": "jupyter-leaflet",
      "model_module_version": "^0.14.0",
      "model_name": "LeafletWidgetControlModel",
      "state": {
       "_model_module": "jupyter-leaflet",
       "_model_module_version": "^0.14.0",
       "_view_count": null,
       "_view_module": "jupyter-leaflet",
       "_view_module_version": "^0.14.0",
       "options": [
        "position",
        "transparent_bg"
       ],
       "position": "topleft",
       "widget": "IPY_MODEL_fea189c91a96426b90a36993fb43c3c1"
      }
     },
     "1953c437342643568b8d452e9dc1d571": {
      "model_module": "jupyter-leaflet",
      "model_module_version": "^0.14.0",
      "model_name": "LeafletTileLayerModel",
      "state": {
       "_model_module_version": "^0.14.0",
       "_view_module_version": "^0.14.0",
       "attribution": "\nImagery provided by services from the Global Imagery Browse Services (GIBS), operated by the NASA/GSFC/Earth Science Data and Information System (<a href=\"https://earthdata.nasa.gov\">ESDIS</a>) with funding provided by NASA/HQ.\n",
       "max_native_zoom": 18,
       "max_zoom": 8,
       "min_native_zoom": 0,
       "min_zoom": 1,
       "name": "NASAGIBS.ViirsEarthAtNight2012",
       "options": [
        "attribution",
        "detect_retina",
        "max_native_zoom",
        "max_zoom",
        "min_native_zoom",
        "min_zoom",
        "no_wrap",
        "tile_size",
        "tms"
       ],
       "url": "http://gibs.earthdata.nasa.gov/wmts/epsg3857/best/VIIRS_Black_Marble/default/2012-01-01/GoogleMapsCompatible_Level8/{z}/{y}/{x}.png"
      }
     },
     "19c57970993e4c2fbdbab18fa31bc373": {
      "model_module": "@jupyter-widgets/controls",
      "model_module_version": "1.5.0",
      "model_name": "VBoxModel",
      "state": {
       "children": [
        "IPY_MODEL_d4bdd69ae1184f1a819e3afe83f10ea0",
        "IPY_MODEL_fc20025fd605410b98afdf0cfb5e9a1e",
        "IPY_MODEL_08693aee89394d4e8c55c5581c62dd5f"
       ],
       "layout": "IPY_MODEL_7d6476c3b37346669229817b6e395e2b"
      }
     },
     "1b33bad8721848809a2fd27e738d03a3": {
      "model_module": "@jupyter-widgets/base",
      "model_module_version": "1.2.0",
      "model_name": "LayoutModel",
      "state": {}
     },
     "1c3051b1cb9a43cca72494ac512e2e01": {
      "model_module": "@jupyter-widgets/controls",
      "model_module_version": "1.5.0",
      "model_name": "RadioButtonsModel",
      "state": {
       "index": null,
       "layout": "IPY_MODEL_101a38cc119f4d29a546083f0f054ba0",
       "style": "IPY_MODEL_d5e3d46657b041faa03d10e459c21282"
      }
     },
     "1da713450d6e4786a9037b4d36534769": {
      "model_module": "jupyter-leaflet",
      "model_module_version": "^0.14.0",
      "model_name": "LeafletTileLayerModel",
      "state": {
       "_model_module_version": "^0.14.0",
       "_view_module_version": "^0.14.0",
       "attribution": "\nImagery provided by services from the Global Imagery Browse Services (GIBS), operated by the NASA/GSFC/Earth Science Data and Information System (<a href=\"https://earthdata.nasa.gov\">ESDIS</a>) with funding provided by NASA/HQ.\n",
       "max_native_zoom": 18,
       "max_zoom": 5,
       "min_native_zoom": 0,
       "min_zoom": 1,
       "name": "NASAGIBS.BlueMarble3031",
       "options": [
        "attribution",
        "detect_retina",
        "max_native_zoom",
        "max_zoom",
        "min_native_zoom",
        "min_zoom",
        "no_wrap",
        "tile_size",
        "tms"
       ],
       "url": "https://gibs.earthdata.nasa.gov/wmts/epsg3031/best/BlueMarble_NextGeneration/default/EPSG3031_500m/{z}/{y}/{x}.jpeg"
      }
     },
     "1dbbe3fa34694eb3832de2cd00ee6e1a": {
      "model_module": "@jupyter-widgets/controls",
      "model_module_version": "1.5.0",
      "model_name": "ButtonStyleModel",
      "state": {}
     },
     "1dc952c7f20a4209b63a035e60d8dcdd": {
      "model_module": "@jupyter-widgets/base",
      "model_module_version": "1.2.0",
      "model_name": "LayoutModel",
      "state": {}
     },
     "1e9440d6bd444c868bc464c964e2992e": {
      "model_module": "jupyter-leaflet",
      "model_module_version": "^0.14.0",
      "model_name": "LeafletTileLayerModel",
      "state": {
       "_model_module_version": "^0.14.0",
       "_view_module_version": "^0.14.0",
       "attribution": "Google",
       "max_native_zoom": 18,
       "min_native_zoom": 0,
       "name": "Google Satellite",
       "options": [
        "attribution",
        "detect_retina",
        "max_native_zoom",
        "max_zoom",
        "min_native_zoom",
        "min_zoom",
        "no_wrap",
        "tile_size",
        "tms"
       ],
       "url": "https://mt1.google.com/vt/lyrs=y&x={x}&y={y}&z={z}"
      }
     },
     "1ecfc4c77e2747fda83d7bbf2727252e": {
      "model_module": "@jupyter-widgets/controls",
      "model_module_version": "1.5.0",
      "model_name": "ToggleButtonsStyleModel",
      "state": {
       "button_width": "",
       "description_width": ""
      }
     },
     "1f3f6326ebfd4c98b441f7b0b66543db": {
      "model_module": "@jupyter-widgets/controls",
      "model_module_version": "1.5.0",
      "model_name": "DescriptionStyleModel",
      "state": {
       "description_width": ""
      }
     },
     "1f89cbbf8d4943f98297e5abc163cbe4": {
      "model_module": "jupyter-leaflet",
      "model_module_version": "^0.14.0",
      "model_name": "LeafletWMSLayerModel",
      "state": {
       "_model_module_version": "^0.14.0",
       "_view_module_version": "^0.14.0",
       "attribution": "MRLC",
       "crs": {
        "custom": false,
        "name": "EPSG3857"
       },
       "format": "image/png",
       "layers": "NLCD_2016_Land_Cover_L48",
       "max_native_zoom": 18,
       "min_native_zoom": 0,
       "name": "NLCD 2016 CONUS Land Cover",
       "options": [
        "attribution",
        "detect_retina",
        "format",
        "layers",
        "max_native_zoom",
        "max_zoom",
        "min_native_zoom",
        "min_zoom",
        "no_wrap",
        "styles",
        "tile_size",
        "tms",
        "transparent",
        "uppercase"
       ],
       "transparent": true,
       "url": "https://www.mrlc.gov/geoserver/mrlc_display/NLCD_2016_Land_Cover_L48/wms?"
      }
     },
     "208f68844e58423897de1f9451c99f10": {
      "model_module": "jupyter-leaflet",
      "model_module_version": "^0.14.0",
      "model_name": "LeafletWMSLayerModel",
      "state": {
       "_model_module_version": "^0.14.0",
       "_view_module_version": "^0.14.0",
       "attribution": "MRLC",
       "crs": {
        "custom": false,
        "name": "EPSG3857"
       },
       "format": "image/png",
       "layers": "NLCD_2008_Land_Cover_L48",
       "max_native_zoom": 18,
       "min_native_zoom": 0,
       "name": "NLCD 2008 CONUS Land Cover",
       "options": [
        "attribution",
        "detect_retina",
        "format",
        "layers",
        "max_native_zoom",
        "max_zoom",
        "min_native_zoom",
        "min_zoom",
        "no_wrap",
        "styles",
        "tile_size",
        "tms",
        "transparent",
        "uppercase"
       ],
       "transparent": true,
       "url": "https://www.mrlc.gov/geoserver/mrlc_display/NLCD_2008_Land_Cover_L48/wms?"
      }
     },
     "212b6f4f4c814e02b799ea15ac5df3ca": {
      "model_module": "@jupyter-widgets/controls",
      "model_module_version": "1.5.0",
      "model_name": "ToggleButtonModel",
      "state": {
       "button_style": "primary",
       "icon": "hand-o-up",
       "layout": "IPY_MODEL_3e37c9e07aa14e9cb50c753ac0b43969",
       "style": "IPY_MODEL_8aadb538f66a49ccb68e533489d411ca",
       "tooltip": "Collect training samples"
      }
     },
     "218e9efd8cf444a998b94b5ada2f3d59": {
      "model_module": "@jupyter-widgets/base",
      "model_module_version": "1.2.0",
      "model_name": "LayoutModel",
      "state": {
       "height": "auto",
       "padding": "0px 0px 0px 4px",
       "width": "auto"
      }
     },
     "21b1ecea4066482c9fcd7e0451026912": {
      "model_module": "jupyter-leaflet",
      "model_module_version": "^0.14.0",
      "model_name": "LeafletTileLayerModel",
      "state": {
       "_model_module_version": "^0.14.0",
       "_view_module_version": "^0.14.0",
       "attribution": "Tiles &copy; Esri &mdash; Copyright: &copy;2012 DeLorme",
       "max_native_zoom": 18,
       "max_zoom": 11,
       "min_native_zoom": 0,
       "min_zoom": 1,
       "name": "Esri.DeLorme",
       "options": [
        "attribution",
        "detect_retina",
        "max_native_zoom",
        "max_zoom",
        "min_native_zoom",
        "min_zoom",
        "no_wrap",
        "tile_size",
        "tms"
       ],
       "url": "http://server.arcgisonline.com/ArcGIS/rest/services/Specialty/DeLorme_World_Base_Map/MapServer/tile/{z}/{y}/{x}"
      }
     },
     "21c8b45b3a854ecb8687597ed77edfd6": {
      "model_module": "jupyter-leaflet",
      "model_module_version": "^0.14.0",
      "model_name": "LeafletTileLayerModel",
      "state": {
       "_model_module_version": "^0.14.0",
       "_view_module_version": "^0.14.0",
       "attribution": "Google",
       "max_native_zoom": 18,
       "min_native_zoom": 0,
       "name": "Google Maps",
       "options": [
        "attribution",
        "detect_retina",
        "max_native_zoom",
        "max_zoom",
        "min_native_zoom",
        "min_zoom",
        "no_wrap",
        "tile_size",
        "tms"
       ],
       "url": "https://mt1.google.com/vt/lyrs=m&x={x}&y={y}&z={z}"
      }
     },
     "2250ec555c3745a4bf6e1ece35ed2739": {
      "model_module": "@jupyter-widgets/base",
      "model_module_version": "1.2.0",
      "model_name": "LayoutModel",
      "state": {
       "height": "auto",
       "padding": "0px 0px 0px 4px",
       "width": "auto"
      }
     },
     "22635b6b74d545329d77f733c866f8e6": {
      "model_module": "@jupyter-widgets/base",
      "model_module_version": "1.2.0",
      "model_name": "LayoutModel",
      "state": {
       "height": "28px",
       "width": "72px"
      }
     },
     "227281968d6540879fb47f8f8d40b000": {
      "model_module": "@jupyter-widgets/controls",
      "model_module_version": "1.5.0",
      "model_name": "ButtonStyleModel",
      "state": {}
     },
     "23080e2d4a2d4ccf8e005ca5e29a0a4c": {
      "model_module": "jupyter-leaflet",
      "model_module_version": "^0.14.0",
      "model_name": "LeafletTileLayerModel",
      "state": {
       "_model_module_version": "^0.14.0",
       "_view_module_version": "^0.14.0",
       "attribution": "Esri",
       "max_native_zoom": 18,
       "min_native_zoom": 0,
       "name": "Esri Standard",
       "options": [
        "attribution",
        "detect_retina",
        "max_native_zoom",
        "max_zoom",
        "min_native_zoom",
        "min_zoom",
        "no_wrap",
        "tile_size",
        "tms"
       ],
       "url": "https://server.arcgisonline.com/ArcGIS/rest/services/World_Street_Map/MapServer/tile/{z}/{y}/{x}"
      }
     },
     "243e62c085b14b32af987aee2be92cd8": {
      "model_module": "jupyter-leaflet",
      "model_module_version": "^0.14.0",
      "model_name": "LeafletTileLayerModel",
      "state": {
       "_model_module_version": "^0.14.0",
       "_view_module_version": "^0.14.0",
       "attribution": "Esri",
       "max_native_zoom": 18,
       "min_native_zoom": 0,
       "name": "Esri Satellite",
       "options": [
        "attribution",
        "detect_retina",
        "max_native_zoom",
        "max_zoom",
        "min_native_zoom",
        "min_zoom",
        "no_wrap",
        "tile_size",
        "tms"
       ],
       "url": "https://server.arcgisonline.com/ArcGIS/rest/services/World_Imagery/MapServer/tile/{z}/{y}/{x}"
      }
     },
     "253059dd7a834a0980711164070f0814": {
      "model_module": "@jupyter-widgets/base",
      "model_module_version": "1.2.0",
      "model_name": "LayoutModel",
      "state": {
       "display": "none",
       "grid_gap": "0px 0px",
       "grid_template_areas": "\n                    'pathlist filename'\n                    'dircontent dircontent'\n                    ",
       "grid_template_columns": "60% 40%",
       "grid_template_rows": "auto auto",
       "width": "500px"
      }
     },
     "26699d3e47db41cbaba2f272dfe4e9b5": {
      "model_module": "@jupyter-widgets/controls",
      "model_module_version": "1.5.0",
      "model_name": "ToggleButtonModel",
      "state": {
       "icon": "server",
       "layout": "IPY_MODEL_22635b6b74d545329d77f733c866f8e6",
       "style": "IPY_MODEL_b0d4e0df414545d8892b6d20af085ec7",
       "tooltip": "Layers"
      }
     },
     "26979c5bb6674e4ba2a1cd0911d71ba6": {
      "model_module": "jupyter-leaflet",
      "model_module_version": "^0.14.0",
      "model_name": "LeafletTileLayerModel",
      "state": {
       "_model_module_version": "^0.14.0",
       "_view_module_version": "^0.14.0",
       "attribution": "Google",
       "max_native_zoom": 18,
       "min_native_zoom": 0,
       "name": "Google Satellite",
       "options": [
        "attribution",
        "detect_retina",
        "max_native_zoom",
        "max_zoom",
        "min_native_zoom",
        "min_zoom",
        "no_wrap",
        "tile_size",
        "tms"
       ],
       "url": "https://mt1.google.com/vt/lyrs=s&x={x}&y={y}&z={z}"
      }
     },
     "277e5e4a49714520bb553002ca9df4ff": {
      "model_module": "@jupyter-widgets/controls",
      "model_module_version": "1.5.0",
      "model_name": "DescriptionStyleModel",
      "state": {
       "description_width": ""
      }
     },
     "2788846e2a074129a445b35af96edd15": {
      "model_module": "jupyter-leaflet",
      "model_module_version": "^0.14.0",
      "model_name": "LeafletTileLayerModel",
      "state": {
       "_model_module_version": "^0.14.0",
       "_view_module_version": "^0.14.0",
       "attribution": "Tiles &copy; Esri &mdash; Source: Esri, i-cubed, USDA, USGS, AEX, GeoEye, Getmapping, Aerogrid, IGN, IGP, UPR-EGP, and the GIS User Community",
       "max_native_zoom": 18,
       "max_zoom": 20,
       "min_native_zoom": 0,
       "min_zoom": 1,
       "name": "Esri.WorldImagery",
       "options": [
        "attribution",
        "detect_retina",
        "max_native_zoom",
        "max_zoom",
        "min_native_zoom",
        "min_zoom",
        "no_wrap",
        "tile_size",
        "tms"
       ],
       "url": "http://server.arcgisonline.com/ArcGIS/rest/services/World_Imagery/MapServer/tile/{z}/{y}/{x}"
      }
     },
     "27d3fbb01e8b4ff1861e60bf8400549b": {
      "model_module": "@jupyter-widgets/controls",
      "model_module_version": "1.5.0",
      "model_name": "DescriptionStyleModel",
      "state": {
       "description_width": ""
      }
     },
     "280a9be3d5d34bd6ba224a26c4007013": {
      "model_module": "jupyter-leaflet",
      "model_module_version": "^0.14.0",
      "model_name": "LeafletWidgetControlModel",
      "state": {
       "_model_module": "jupyter-leaflet",
       "_model_module_version": "^0.14.0",
       "_view_count": null,
       "_view_module": "jupyter-leaflet",
       "_view_module_version": "^0.14.0",
       "options": [
        "position",
        "transparent_bg"
       ],
       "position": "topright",
       "widget": "IPY_MODEL_452362e302be44149866fca2be87fdbb"
      }
     },
     "288d9e39159e4b8492dfce306e7a51b1": {
      "model_module": "@jupyter-widgets/controls",
      "model_module_version": "1.5.0",
      "model_name": "ToggleButtonModel",
      "state": {
       "button_style": "primary",
       "icon": "retweet",
       "layout": "IPY_MODEL_50cc7ffb34a94b59b46321080fe75451",
       "style": "IPY_MODEL_959a6861b47c4e5b89257ef5b59769df",
       "tooltip": "Convert Earth Engine JavaScript to Python"
      }
     },
     "2aad652b8be14adeb522aa8d03105118": {
      "model_module": "jupyter-leaflet",
      "model_module_version": "^0.14.0",
      "model_name": "LeafletAwesomeIconModel",
      "state": {
       "_model_module_version": "^0.14.0",
       "_view_module_version": "^0.14.0",
       "icon_color": "darkgreen",
       "marker_color": "green",
       "name": "check"
      }
     },
     "2b8ac4f6790c4417a359533576e52545": {
      "model_module": "jupyter-leaflet",
      "model_module_version": "^0.14.0",
      "model_name": "LeafletMarkerClusterModel",
      "state": {
       "_model_module_version": "^0.14.0",
       "_view_module_version": "^0.14.0",
       "disable_clustering_at_zoom": 18,
       "max_cluster_radius": 80,
       "name": "Marker Cluster",
       "options": [
        "disable_clustering_at_zoom",
        "max_cluster_radius"
       ]
      }
     },
     "2c1e2c790b07418294bdbf337ca0d793": {
      "model_module": "jupyter-leaflet",
      "model_module_version": "^0.14.0",
      "model_name": "LeafletTileLayerModel",
      "state": {
       "_model_module_version": "^0.14.0",
       "_view_module_version": "^0.14.0",
       "attribution": "\nImagery provided by services from the Global Imagery Browse Services (GIBS), operated by the NASA/GSFC/Earth Science Data and Information System (<a href=\"https://earthdata.nasa.gov\">ESDIS</a>) with funding provided by NASA/HQ.\n",
       "max_native_zoom": 18,
       "max_zoom": 5,
       "min_native_zoom": 0,
       "min_zoom": 1,
       "name": "NASAGIBS.BlueMarble3031",
       "options": [
        "attribution",
        "detect_retina",
        "max_native_zoom",
        "max_zoom",
        "min_native_zoom",
        "min_zoom",
        "no_wrap",
        "tile_size",
        "tms"
       ],
       "url": "https://gibs.earthdata.nasa.gov/wmts/epsg3031/best/BlueMarble_NextGeneration/default/EPSG3031_500m/{z}/{y}/{x}.jpeg"
      }
     },
     "2c5f8f6f66724ecf8dfb8bc9dda22160": {
      "model_module": "jupyter-leaflet",
      "model_module_version": "^0.14.0",
      "model_name": "LeafletTileLayerModel",
      "state": {
       "_model_module_version": "^0.14.0",
       "_view_module_version": "^0.14.0",
       "attribution": "Esri",
       "max_native_zoom": 18,
       "min_native_zoom": 0,
       "name": "Esri Terrain",
       "options": [
        "attribution",
        "detect_retina",
        "max_native_zoom",
        "max_zoom",
        "min_native_zoom",
        "min_zoom",
        "no_wrap",
        "tile_size",
        "tms"
       ],
       "url": "https://server.arcgisonline.com/ArcGIS/rest/services/World_Terrain_Base/MapServer/tile/{z}/{y}/{x}"
      }
     },
     "2d5a1c87f029457d96e3d44a41efaa21": {
      "model_module": "@jupyter-widgets/base",
      "model_module_version": "1.2.0",
      "model_name": "LayoutModel",
      "state": {
       "height": "auto",
       "padding": "0px 0px 0px 4px",
       "width": "auto"
      }
     },
     "2e0de7f0fe6a4257b5ddf165e68f0db5": {
      "model_module": "@jupyter-widgets/controls",
      "model_module_version": "1.5.0",
      "model_name": "ToggleButtonModel",
      "state": {
       "button_style": "primary",
       "icon": "folder-open",
       "layout": "IPY_MODEL_44d3ee70f0fc4735b65886ab5a5aace4",
       "style": "IPY_MODEL_f04616a2f8f2408da93ac6e7561e0c0c",
       "tooltip": "Open local vector/raster data"
      }
     },
     "2e544b7d51a14b4f9cc95a65e520961e": {
      "model_module": "@jupyter-widgets/controls",
      "model_module_version": "1.5.0",
      "model_name": "ToggleButtonModel",
      "state": {
       "button_style": "primary",
       "icon": "adjust",
       "layout": "IPY_MODEL_eaef2644cd784f0287a197c5fd5d79d8",
       "style": "IPY_MODEL_75b0e37835294bf9913be28f14c8375e",
       "tooltip": "Planet imagery"
      }
     },
     "2f09cb6e64ba4df98ad1339a784ab5eb": {
      "model_module": "@jupyter-widgets/base",
      "model_module_version": "1.2.0",
      "model_name": "LayoutModel",
      "state": {}
     },
     "2f3119e76f4e40c08d2319c9dda47f53": {
      "model_module": "jupyter-leaflet",
      "model_module_version": "^0.14.0",
      "model_name": "LeafletTileLayerModel",
      "state": {
       "_model_module_version": "^0.14.0",
       "_view_module_version": "^0.14.0",
       "attribution": "Esri",
       "max_native_zoom": 18,
       "min_native_zoom": 0,
       "name": "Esri Satellite",
       "options": [
        "attribution",
        "detect_retina",
        "max_native_zoom",
        "max_zoom",
        "min_native_zoom",
        "min_zoom",
        "no_wrap",
        "tile_size",
        "tms"
       ],
       "url": "https://server.arcgisonline.com/ArcGIS/rest/services/World_Imagery/MapServer/tile/{z}/{y}/{x}"
      }
     },
     "3074c015abce4353a52db8ebb96669de": {
      "model_module": "@jupyter-widgets/base",
      "model_module_version": "1.2.0",
      "model_name": "LayoutModel",
      "state": {
       "height": "auto",
       "padding": "0px 0px 0px 4px",
       "width": "auto"
      }
     },
     "30b4af19f32e4dfc82ed3bf8b08f656f": {
      "model_module": "@jupyter-widgets/controls",
      "model_module_version": "1.5.0",
      "model_name": "ToggleButtonModel",
      "state": {
       "button_style": "primary",
       "icon": "smile-o",
       "layout": "IPY_MODEL_8e0d727c38914ed4aed816b0af340e72",
       "style": "IPY_MODEL_340b8f9127af4d6391fdf16c9e0d7040",
       "tooltip": "This is a placehold"
      }
     },
     "314c6143b1314fb09668e7ea703bfecb": {
      "model_module": "@jupyter-widgets/controls",
      "model_module_version": "1.5.0",
      "model_name": "DescriptionStyleModel",
      "state": {
       "description_width": ""
      }
     },
     "31a3acef67274a2c94f7e4416b4b1af5": {
      "model_module": "@jupyter-widgets/controls",
      "model_module_version": "1.5.0",
      "model_name": "ToggleButtonsModel",
      "state": {
       "_options_labels": [
        "OK",
        "Cancel"
       ],
       "button_style": "primary",
       "icons": [],
       "index": null,
       "layout": "IPY_MODEL_1b33bad8721848809a2fd27e738d03a3",
       "style": "IPY_MODEL_541e09ce690d4ad6a90745d296c51bca",
       "tooltips": [
        "OK",
        "Cancel"
       ]
      }
     },
     "31cd9f29750a44b7bc7c215bddc8e45d": {
      "model_module": "jupyter-leaflet",
      "model_module_version": "^0.14.0",
      "model_name": "LeafletTileLayerModel",
      "state": {
       "_model_module_version": "^0.14.0",
       "_view_module_version": "^0.14.0",
       "attribution": "&copy; <a href=\"http://www.openstreetmap.org/copyright\">OpenStreetMap</a> &amp; USGS",
       "max_native_zoom": 18,
       "max_zoom": 20,
       "min_native_zoom": 0,
       "min_zoom": 1,
       "name": "MtbMap",
       "options": [
        "attribution",
        "detect_retina",
        "max_native_zoom",
        "max_zoom",
        "min_native_zoom",
        "min_zoom",
        "no_wrap",
        "tile_size",
        "tms"
       ],
       "url": "http://tile.mtbmap.cz/mtbmap_tiles/{z}/{x}/{y}.png"
      }
     },
     "321807722e0f4675ada16534fb90ecd9": {
      "model_module": "jupyter-leaflet",
      "model_module_version": "^0.14.0",
      "model_name": "LeafletTileLayerModel",
      "state": {
       "_model_module_version": "^0.14.0",
       "_view_module_version": "^0.14.0",
       "attribution": "Google",
       "max_native_zoom": 18,
       "min_native_zoom": 0,
       "name": "Google Terrain",
       "options": [
        "attribution",
        "detect_retina",
        "max_native_zoom",
        "max_zoom",
        "min_native_zoom",
        "min_zoom",
        "no_wrap",
        "tile_size",
        "tms"
       ],
       "url": "https://mt1.google.com/vt/lyrs=p&x={x}&y={y}&z={z}"
      }
     },
     "32484ef83dd84cf4a947eaa36eb07786": {
      "model_module": "jupyter-leaflet",
      "model_module_version": "^0.14.0",
      "model_name": "LeafletTileLayerModel",
      "state": {
       "_model_module_version": "^0.14.0",
       "_view_module_version": "^0.14.0",
       "attribution": "&copy; <a href=\"http://www.openstreetmap.org/copyright\">OpenStreetMap</a>",
       "max_native_zoom": 18,
       "min_native_zoom": 0,
       "min_zoom": 1,
       "name": "OpenStreetMap.BlackAndWhite",
       "options": [
        "attribution",
        "detect_retina",
        "max_native_zoom",
        "max_zoom",
        "min_native_zoom",
        "min_zoom",
        "no_wrap",
        "tile_size",
        "tms"
       ],
       "url": "http://{s}.tiles.wmflabs.org/bw-mapnik/{z}/{x}/{y}.png"
      }
     },
     "32791011b9d84297985bc0fcc2cb8ed9": {
      "model_module": "jupyter-leaflet",
      "model_module_version": "^0.14.0",
      "model_name": "LeafletTileLayerModel",
      "state": {
       "_model_module_version": "^0.14.0",
       "_view_module_version": "^0.14.0",
       "attribution": "Map tiles by <a href=\"http://stamen.com/\">Stamen Design</a>, under <a href=\"http://creativecommons.org/licenses/by/3.0\">CC BY 3.0</a>. Data by <a href=\"http://openstreetmap.org/\">OpenStreetMap</a>, under <a href=\"http://creativecommons.org/licenses/by-sa/3.0\">CC BY SA</a>.",
       "max_native_zoom": 18,
       "min_native_zoom": 0,
       "name": "Stamen.Terrain",
       "options": [
        "attribution",
        "detect_retina",
        "max_native_zoom",
        "max_zoom",
        "min_native_zoom",
        "min_zoom",
        "no_wrap",
        "tile_size",
        "tms"
       ],
       "url": "https://stamen-tiles-a.a.ssl.fastly.net/terrain/{z}/{x}/{y}.png"
      }
     },
     "328a27431525485596e1e0116fda43df": {
      "model_module": "@jupyter-widgets/base",
      "model_module_version": "1.2.0",
      "model_name": "LayoutModel",
      "state": {
       "grid_area": "pathlist",
       "width": "auto"
      }
     },
     "32a81029fee4459f9e12b068f8cde754": {
      "model_module": "@jupyter-widgets/base",
      "model_module_version": "1.2.0",
      "model_name": "LayoutModel",
      "state": {
       "grid_area": "dircontent",
       "width": "auto"
      }
     },
     "33287659a83c4af99c124f5dbfd61326": {
      "model_module": "jupyter-leaflet",
      "model_module_version": "^0.14.0",
      "model_name": "LeafletTileLayerModel",
      "state": {
       "_model_module_version": "^0.14.0",
       "_view_module_version": "^0.14.0",
       "attribution": "Google",
       "max_native_zoom": 18,
       "min_native_zoom": 0,
       "name": "Google Terrain",
       "options": [
        "attribution",
        "detect_retina",
        "max_native_zoom",
        "max_zoom",
        "min_native_zoom",
        "min_zoom",
        "no_wrap",
        "tile_size",
        "tms"
       ],
       "url": "https://mt1.google.com/vt/lyrs=p&x={x}&y={y}&z={z}"
      }
     },
     "340b8f9127af4d6391fdf16c9e0d7040": {
      "model_module": "@jupyter-widgets/controls",
      "model_module_version": "1.5.0",
      "model_name": "DescriptionStyleModel",
      "state": {
       "description_width": ""
      }
     },
     "3419231c3854472294aa4f0575d53ce6": {
      "model_module": "@jupyter-widgets/base",
      "model_module_version": "1.2.0",
      "model_name": "LayoutModel",
      "state": {}
     },
     "343ca844dcd34afdbb8af56a02281f84": {
      "model_module": "jupyter-leaflet",
      "model_module_version": "^0.14.0",
      "model_name": "LeafletTileLayerModel",
      "state": {
       "_model_module_version": "^0.14.0",
       "_view_module_version": "^0.14.0",
       "attribution": "Google",
       "max_native_zoom": 18,
       "min_native_zoom": 0,
       "name": "Google Satellite",
       "options": [
        "attribution",
        "detect_retina",
        "max_native_zoom",
        "max_zoom",
        "min_native_zoom",
        "min_zoom",
        "no_wrap",
        "tile_size",
        "tms"
       ],
       "url": "https://mt1.google.com/vt/lyrs=y&x={x}&y={y}&z={z}"
      }
     },
     "34473c9ed1cd4d2ab48e348c211fd5bc": {
      "model_module": "jupyter-leaflet",
      "model_module_version": "^0.14.0",
      "model_name": "LeafletZoomControlModel",
      "state": {
       "_model_module_version": "^0.14.0",
       "_view_module_version": "^0.14.0",
       "options": [
        "position",
        "zoom_in_text",
        "zoom_in_title",
        "zoom_out_text",
        "zoom_out_title"
       ]
      }
     },
     "34ab1f6a454249ec846bfa3d0b127751": {
      "model_module": "@jupyter-widgets/controls",
      "model_module_version": "1.5.0",
      "model_name": "DescriptionStyleModel",
      "state": {
       "description_width": ""
      }
     },
     "34eacb2fff88416296c00509f354e2f5": {
      "model_module": "jupyter-leaflet",
      "model_module_version": "^0.14.0",
      "model_name": "LeafletTileLayerModel",
      "state": {
       "_model_module_version": "^0.14.0",
       "_view_module_version": "^0.14.0",
       "attribution": "Google",
       "max_native_zoom": 18,
       "min_native_zoom": 0,
       "name": "Google Satellite",
       "options": [
        "attribution",
        "detect_retina",
        "max_native_zoom",
        "max_zoom",
        "min_native_zoom",
        "min_zoom",
        "no_wrap",
        "tile_size",
        "tms"
       ],
       "url": "https://mt1.google.com/vt/lyrs=y&x={x}&y={y}&z={z}"
      }
     },
     "3557abb9e13647d2aca1cdf4f0590149": {
      "model_module": "@jupyter-widgets/controls",
      "model_module_version": "1.5.0",
      "model_name": "ToggleButtonModel",
      "state": {
       "button_style": "primary",
       "icon": "fast-forward",
       "layout": "IPY_MODEL_81646d95d671433490a4a2f643b03a93",
       "style": "IPY_MODEL_d2e679eea8424a6d9d04cd6ad5302cc8",
       "tooltip": "Activate timeslider"
      }
     },
     "3583e07160e24fa997ddf3136d622830": {
      "model_module": "jupyter-leaflet",
      "model_module_version": "^0.14.0",
      "model_name": "LeafletWidgetControlModel",
      "state": {
       "_model_module": "jupyter-leaflet",
       "_model_module_version": "^0.14.0",
       "_view_count": null,
       "_view_module": "jupyter-leaflet",
       "_view_module_version": "^0.14.0",
       "options": [
        "position",
        "transparent_bg"
       ],
       "position": "topright",
       "widget": "IPY_MODEL_916b9315794e4d5980cef3979dda1ec2"
      }
     },
     "35bca83e5bfc4e719f18061cd51ac5e1": {
      "model_module": "@jupyter-widgets/controls",
      "model_module_version": "1.5.0",
      "model_name": "ToggleButtonModel",
      "state": {
       "icon": "globe",
       "layout": "IPY_MODEL_e7dabebed6d5438eb7e6a7f75839730d",
       "style": "IPY_MODEL_d3efe4d1c07644f7959f9ed2bc96c7d3",
       "tooltip": "Search location/data"
      }
     },
     "35c51aaa8cf44dbf863ad38798d8754c": {
      "model_module": "@jupyter-widgets/controls",
      "model_module_version": "1.5.0",
      "model_name": "GridBoxModel",
      "state": {
       "children": [
        "IPY_MODEL_5dfcb5bb65aa441393210c02661224d7",
        "IPY_MODEL_b2475decd1654745afaaee6826555b58",
        "IPY_MODEL_a22b18646cbe4b7c81ce6a37d8dfbb77"
       ],
       "layout": "IPY_MODEL_253059dd7a834a0980711164070f0814"
      }
     },
     "35dd15a9213540178c106cedb3e10498": {
      "model_module": "@jupyter-widgets/base",
      "model_module_version": "1.2.0",
      "model_name": "LayoutModel",
      "state": {}
     },
     "38974fc7e68748fe9cc4f336194330e8": {
      "model_module": "@jupyter-widgets/base",
      "model_module_version": "1.2.0",
      "model_name": "LayoutModel",
      "state": {
       "width": "340px"
      }
     },
     "3918dac4a5304c1086a6f6e652db4b59": {
      "model_module": "jupyter-leaflet",
      "model_module_version": "^0.14.0",
      "model_name": "LeafletDrawControlModel",
      "state": {
       "_model_module_version": "^0.14.0",
       "_view_module_version": "^0.14.0",
       "circle": {
        "shapeOptions": {
         "color": "#3388ff"
        }
       },
       "marker": {
        "shapeOptions": {
         "color": "#3388ff"
        }
       },
       "options": [
        "position"
       ],
       "rectangle": {
        "shapeOptions": {
         "color": "#3388ff"
        }
       }
      }
     },
     "39c91a9f7e0247a4af4873a90035d28e": {
      "model_module": "@jupyter-widgets/base",
      "model_module_version": "1.2.0",
      "model_name": "LayoutModel",
      "state": {
       "height": "auto",
       "padding": "0px 0px 0px 4px",
       "width": "auto"
      }
     },
     "3a0cd1826da64050b9cfd774246fde70": {
      "model_module": "@jupyter-widgets/controls",
      "model_module_version": "1.5.0",
      "model_name": "VBoxModel",
      "state": {
       "_view_count": 1,
       "children": [
        "IPY_MODEL_7eced15af30d499e839a73ee04b036d4"
       ],
       "layout": "IPY_MODEL_8eebf8553c8b4452af00ea7d702f1003"
      }
     },
     "3a5e5c0b6ed14ed78d8d840d6b50694a": {
      "model_module": "@jupyter-widgets/base",
      "model_module_version": "1.2.0",
      "model_name": "LayoutModel",
      "state": {
       "height": "auto",
       "padding": "0px 0px 0px 4px",
       "width": "auto"
      }
     },
     "3a7ae2ed9dcc40ce90f014a903028791": {
      "model_module": "@jupyter-widgets/base",
      "model_module_version": "1.2.0",
      "model_name": "LayoutModel",
      "state": {
       "grid_area": "dircontent",
       "width": "auto"
      }
     },
     "3af3b627eb6c4d9a9e51c02921e32491": {
      "model_module": "@jupyter-widgets/controls",
      "model_module_version": "1.5.0",
      "model_name": "HBoxModel",
      "state": {
       "children": [
        "IPY_MODEL_26699d3e47db41cbaba2f272dfe4e9b5",
        "IPY_MODEL_7eced15af30d499e839a73ee04b036d4"
       ],
       "layout": "IPY_MODEL_f844b4115a604c4bb82fa57f4c960ee1"
      }
     },
     "3b48163ec4a2405f908d8521690c000f": {
      "model_module": "@jupyter-widgets/controls",
      "model_module_version": "1.5.0",
      "model_name": "ToggleButtonsModel",
      "state": {
       "_options_labels": [
        "name/address",
        "lat-lon",
        "data"
       ],
       "button_style": "",
       "icons": [],
       "index": 0,
       "layout": "IPY_MODEL_2f09cb6e64ba4df98ad1339a784ab5eb",
       "style": "IPY_MODEL_c6253c629cc04f34804fffbb5514a643",
       "tooltips": [
        "Search by place name or address",
        "Search by lat-lon coordinates",
        "Search Earth Engine data catalog"
       ]
      }
     },
     "3b690308a01743ff97fc5fc9868d0112": {
      "model_module": "jupyter-leaflet",
      "model_module_version": "^0.14.0",
      "model_name": "LeafletTileLayerModel",
      "state": {
       "_model_module_version": "^0.14.0",
       "_view_module_version": "^0.14.0",
       "attribution": "\nImagery provided by services from the Global Imagery Browse Services (GIBS), operated by the NASA/GSFC/Earth Science Data and Information System (<a href=\"https://earthdata.nasa.gov\">ESDIS</a>) with funding provided by NASA/HQ.\n",
       "max_native_zoom": 18,
       "max_zoom": 8,
       "min_native_zoom": 0,
       "min_zoom": 1,
       "name": "NASAGIBS.ViirsEarthAtNight2012",
       "options": [
        "attribution",
        "detect_retina",
        "max_native_zoom",
        "max_zoom",
        "min_native_zoom",
        "min_zoom",
        "no_wrap",
        "tile_size",
        "tms"
       ],
       "url": "http://gibs.earthdata.nasa.gov/wmts/epsg3857/best/VIIRS_Black_Marble/default/2012-01-01/GoogleMapsCompatible_Level8/{z}/{y}/{x}.png"
      }
     },
     "3b8c5c122052472f8c587f5a0e523d3f": {
      "model_module": "@jupyter-widgets/controls",
      "model_module_version": "1.5.0",
      "model_name": "HTMLModel",
      "state": {
       "layout": "IPY_MODEL_6f50a8988d1a482e8879f0aa94c1211a",
       "placeholder": "",
       "style": "IPY_MODEL_b81b5f6a2b1147ceb50de2077e4beefb",
       "value": "<span style=\"margin-left:10px; color:black;\">No file selected</span>"
      }
     },
     "3b9270834c214591b10fbed4e35333a5": {
      "model_module": "@jupyter-widgets/controls",
      "model_module_version": "1.5.0",
      "model_name": "ToggleButtonModel",
      "state": {
       "button_style": "primary",
       "icon": "fast-forward",
       "layout": "IPY_MODEL_7ea03e0c69fb470c80dcc3a47d42bd90",
       "style": "IPY_MODEL_ddd8ea13eab044a3a768aaefdf06cf19",
       "tooltip": "Activate timeslider"
      }
     },
     "3bdc9baa63a347ee9d9e12358718b9fb": {
      "model_module": "jupyter-leaflet",
      "model_module_version": "^0.14.0",
      "model_name": "LeafletWMSLayerModel",
      "state": {
       "_model_module_version": "^0.14.0",
       "_view_module_version": "^0.14.0",
       "attribution": "MRLC",
       "crs": {
        "custom": false,
        "name": "EPSG3857"
       },
       "format": "image/png",
       "layers": "NLCD_2001_Land_Cover_L48",
       "max_native_zoom": 18,
       "min_native_zoom": 0,
       "name": "NLCD 2001 CONUS Land Cover",
       "options": [
        "attribution",
        "detect_retina",
        "format",
        "layers",
        "max_native_zoom",
        "max_zoom",
        "min_native_zoom",
        "min_zoom",
        "no_wrap",
        "styles",
        "tile_size",
        "tms",
        "transparent",
        "uppercase"
       ],
       "transparent": true,
       "url": "https://www.mrlc.gov/geoserver/mrlc_display/NLCD_2001_Land_Cover_L48/wms?"
      }
     },
     "3c96b12c7d384655ad5cfdae11f405aa": {
      "model_module": "@jupyter-widgets/base",
      "model_module_version": "1.2.0",
      "model_name": "LayoutModel",
      "state": {
       "height": "auto",
       "padding": "0px 0px 0px 4px",
       "width": "auto"
      }
     },
     "3d65a8e55a3b43518f257a5438f3d035": {
      "model_module": "jupyter-leaflet",
      "model_module_version": "^0.14.0",
      "model_name": "LeafletWMSLayerModel",
      "state": {
       "_model_module_version": "^0.14.0",
       "_view_module_version": "^0.14.0",
       "attribution": "MRLC",
       "crs": {
        "custom": false,
        "name": "EPSG3857"
       },
       "format": "image/png",
       "layers": "NLCD_2006_Land_Cover_L48",
       "max_native_zoom": 18,
       "min_native_zoom": 0,
       "name": "NLCD 2006 CONUS Land Cover",
       "options": [
        "attribution",
        "detect_retina",
        "format",
        "layers",
        "max_native_zoom",
        "max_zoom",
        "min_native_zoom",
        "min_zoom",
        "no_wrap",
        "styles",
        "tile_size",
        "tms",
        "transparent",
        "uppercase"
       ],
       "transparent": true,
       "url": "https://www.mrlc.gov/geoserver/mrlc_display/NLCD_2006_Land_Cover_L48/wms?"
      }
     },
     "3d93cea21a9145759c61b5643651c4c7": {
      "model_module": "jupyter-leaflet",
      "model_module_version": "^0.14.0",
      "model_name": "LeafletTileLayerModel",
      "state": {
       "_model_module_version": "^0.14.0",
       "_view_module_version": "^0.14.0",
       "attribution": "\nImagery provided by services from the Global Imagery Browse Services (GIBS), operated by the NASA/GSFC/Earth Science Data and Information System (<a href=\"https://earthdata.nasa.gov\">ESDIS</a>) with funding provided by NASA/HQ.\n",
       "max_native_zoom": 18,
       "max_zoom": 9,
       "min_native_zoom": 0,
       "min_zoom": 1,
       "name": "NASAGIBS.ViirsTrueColorCR",
       "options": [
        "attribution",
        "detect_retina",
        "max_native_zoom",
        "max_zoom",
        "min_native_zoom",
        "min_zoom",
        "no_wrap",
        "tile_size",
        "tms"
       ],
       "url": "https://gibs.earthdata.nasa.gov/wmts/epsg3857/best/VIIRS_SNPP_CorrectedReflectance_TrueColor/default/2021-07-21/GoogleMapsCompatible_Level9/{z}/{y}/{x}.jpg"
      }
     },
     "3db9c12eae274c93a4daa914f32eb6ad": {
      "model_module": "@jupyter-widgets/base",
      "model_module_version": "1.2.0",
      "model_name": "LayoutModel",
      "state": {
       "border": "1px solid black"
      }
     },
     "3e37c9e07aa14e9cb50c753ac0b43969": {
      "model_module": "@jupyter-widgets/base",
      "model_module_version": "1.2.0",
      "model_name": "LayoutModel",
      "state": {
       "height": "auto",
       "padding": "0px 0px 0px 4px",
       "width": "auto"
      }
     },
     "3e636bb78bc7452a8d7b781dc523edc8": {
      "model_module": "jupyter-leaflet",
      "model_module_version": "^0.14.0",
      "model_name": "LeafletDrawControlModel",
      "state": {
       "_model_module_version": "^0.14.0",
       "_view_module_version": "^0.14.0",
       "circle": {
        "shapeOptions": {
         "color": "#3388ff"
        }
       },
       "edit": false,
       "options": [
        "position"
       ],
       "polygon": {},
       "polyline": {},
       "rectangle": {
        "shapeOptions": {
         "color": "#3388ff"
        }
       },
       "remove": false
      }
     },
     "3f03f3f6dd6c4eb8a13054ea72bce373": {
      "model_module": "jupyter-leaflet",
      "model_module_version": "^0.14.0",
      "model_name": "LeafletWMSLayerModel",
      "state": {
       "_model_module_version": "^0.14.0",
       "_view_module_version": "^0.14.0",
       "attribution": "MRLC",
       "crs": {
        "custom": false,
        "name": "EPSG3857"
       },
       "format": "image/png",
       "layers": "NLCD_2011_Land_Cover_L48",
       "max_native_zoom": 18,
       "min_native_zoom": 0,
       "name": "NLCD 2011 CONUS Land Cover",
       "options": [
        "attribution",
        "detect_retina",
        "format",
        "layers",
        "max_native_zoom",
        "max_zoom",
        "min_native_zoom",
        "min_zoom",
        "no_wrap",
        "styles",
        "tile_size",
        "tms",
        "transparent",
        "uppercase"
       ],
       "transparent": true,
       "url": "https://www.mrlc.gov/geoserver/mrlc_display/NLCD_2011_Land_Cover_L48/wms?"
      }
     },
     "3f2e8aca14c047faaff05fb9873f5542": {
      "model_module": "@jupyter-widgets/base",
      "model_module_version": "1.2.0",
      "model_name": "LayoutModel",
      "state": {
       "width": "auto"
      }
     },
     "3f8792982ca74c5892c1a0437d9b3083": {
      "model_module": "jupyter-leaflet",
      "model_module_version": "^0.14.0",
      "model_name": "LeafletWMSLayerModel",
      "state": {
       "_model_module_version": "^0.14.0",
       "_view_module_version": "^0.14.0",
       "attribution": "USGS",
       "crs": {
        "custom": false,
        "name": "EPSG3857"
       },
       "format": "image/png",
       "layers": "0",
       "max_native_zoom": 18,
       "min_native_zoom": 0,
       "name": "USGS Hydrography",
       "options": [
        "attribution",
        "detect_retina",
        "format",
        "layers",
        "max_native_zoom",
        "max_zoom",
        "min_native_zoom",
        "min_zoom",
        "no_wrap",
        "styles",
        "tile_size",
        "tms",
        "transparent",
        "uppercase"
       ],
       "transparent": true,
       "url": "https://basemap.nationalmap.gov/arcgis/services/USGSHydroCached/MapServer/WMSServer?"
      }
     },
     "4125bbd0301f4242a93a3921a27d307c": {
      "model_module": "jupyter-leaflet",
      "model_module_version": "^0.14.0",
      "model_name": "LeafletFullScreenControlModel",
      "state": {
       "_model_module_version": "^0.14.0",
       "_view_module_version": "^0.14.0",
       "options": [
        "position"
       ]
      }
     },
     "41f613d32b7a4e90890615012b41d0fe": {
      "model_module": "jupyter-leaflet",
      "model_module_version": "^0.14.0",
      "model_name": "LeafletTileLayerModel",
      "state": {
       "_model_module_version": "^0.14.0",
       "_view_module_version": "^0.14.0",
       "attribution": "\nImagery provided by services from the Global Imagery Browse Services (GIBS), operated by the NASA/GSFC/Earth Science Data and Information System (<a href=\"https://earthdata.nasa.gov\">ESDIS</a>) with funding provided by NASA/HQ.\n",
       "max_native_zoom": 18,
       "max_zoom": 9,
       "min_native_zoom": 0,
       "min_zoom": 1,
       "name": "NASAGIBS.ModisAquaTrueColorCR",
       "options": [
        "attribution",
        "detect_retina",
        "max_native_zoom",
        "max_zoom",
        "min_native_zoom",
        "min_zoom",
        "no_wrap",
        "tile_size",
        "tms"
       ],
       "url": "https://gibs.earthdata.nasa.gov/wmts/epsg3857/best/MODIS_Aqua_CorrectedReflectance_TrueColor/default/2021-07-21/GoogleMapsCompatible_Level9/{z}/{y}/{x}.jpg"
      }
     },
     "42f4e928d3e849f09b97cffc9b8aa1e1": {
      "model_module": "@jupyter-widgets/controls",
      "model_module_version": "1.5.0",
      "model_name": "SelectModel",
      "state": {
       "_options_labels": [
        "📁 ..",
        "📁 3D Objects",
        "📁 Ambiente de Impressão",
        "📁 Ambiente de Rede",
        "📁 AppData",
        "📁 Configurações Locais",
        "📁 Contacts",
        "📁 Cookies",
        "📁 Dados de Aplicativos",
        "📁 Desktop",
        "📁 Documents",
        "📁 Downloads",
        "📁 Favorites",
        "📁 IntelGraphicsProfiles",
        "📁 Links",
        "📁 Menu Iniciar",
        "📁 Meus Documentos",
        "📁 MicrosoftEdgeBackups",
        "📁 Modelos",
        "📁 Music",
        "📁 OneDrive",
        "📁 Pictures",
        "📁 PycharmProjects",
        "📁 Recent",
        "📁 Repo_test",
        "📁 Saved Games",
        "📁 Searches",
        "📁 SendTo",
        "📁 Videos",
        "📁 miniconda3",
        "📁 scikit_learn_data",
        "📁 seaborn-data",
        "Cartola_FC-Copy1.ipynb",
        "Cartola_FC.ipynb",
        "NBA_Salary_2000_2019.txt",
        "NTUSER.DAT",
        "NTUSER.DAT{417c3328-95b9-11eb-932d-c12f88aab537}.TM.blf",
        "NTUSER.DAT{417c3328-95b9-11eb-932d-c12f88aab537}.TMContainer00000000000000000001.regtrans-ms",
        "NTUSER.DAT{417c3328-95b9-11eb-932d-c12f88aab537}.TMContainer00000000000000000002.regtrans-ms",
        "SEI_BA_TI.csv",
        "Teste.ipynb",
        "Teste_2.ipynb",
        "Untitled.ipynb",
        "Untitled1.ipynb",
        "Untitled10.ipynb",
        "Untitled11.ipynb",
        "Untitled2.ipynb",
        "Untitled3.ipynb",
        "Untitled4.ipynb",
        "Untitled5.ipynb",
        "Untitled6.ipynb",
        "Untitled7.ipynb",
        "Untitled8.ipynb",
        "Untitled9.ipynb",
        "a.jpeg",
        "big_in.txt",
        "data.csv",
        "enterprise.db",
        "mercado_rodada_9.csv",
        "mushroom.csv",
        "mushroom2.csv",
        "mushroom_r.csv",
        "ntuser.dat.LOG1",
        "ntuser.dat.LOG2",
        "ntuser.ini",
        "out.csv",
        "relatorio (61).csv",
        "solucao_exemplo.ipynb",
        "solucao_knn_sklearn.ipynb",
        "solucao_manual.ipynb",
        "solucao_manual2.ipynb",
        "temp.png",
        "teste_geemap.ipynb",
        "teste_geemap2 (3).ipynb",
        "teste_geemap2.ipynb",
        "teste_geemap3.ipynb",
        "untitled.txt",
        "zoo.db"
       ],
       "index": null,
       "layout": "IPY_MODEL_32a81029fee4459f9e12b068f8cde754",
       "rows": 8,
       "style": "IPY_MODEL_6ba1d58b0e4f46e681c3e97a319d33c0"
      }
     },
     "43d8fb8da8e84708b0801066cc1c2526": {
      "model_module": "@jupyter-widgets/base",
      "model_module_version": "1.2.0",
      "model_name": "LayoutModel",
      "state": {}
     },
     "44631b9647154b81ac927d155f787988": {
      "model_module": "@jupyter-widgets/controls",
      "model_module_version": "1.5.0",
      "model_name": "ToggleButtonModel",
      "state": {
       "button_style": "primary",
       "icon": "random",
       "layout": "IPY_MODEL_3074c015abce4353a52db8ebb96669de",
       "style": "IPY_MODEL_bfea87486eb2407b94d029b77f459440",
       "tooltip": "Sankey plots"
      }
     },
     "44d3ee70f0fc4735b65886ab5a5aace4": {
      "model_module": "@jupyter-widgets/base",
      "model_module_version": "1.2.0",
      "model_name": "LayoutModel",
      "state": {
       "height": "auto",
       "padding": "0px 0px 0px 4px",
       "width": "auto"
      }
     },
     "450a2ec587434ecab9031fdf10fa4c91": {
      "model_module": "jupyter-leaflet",
      "model_module_version": "^0.14.0",
      "model_name": "LeafletTileLayerModel",
      "state": {
       "_model_module_version": "^0.14.0",
       "_view_module_version": "^0.14.0",
       "attribution": "",
       "max_native_zoom": 18,
       "max_zoom": 19,
       "min_native_zoom": 0,
       "min_zoom": 1,
       "name": "Gaode.Satellite",
       "options": [
        "attribution",
        "detect_retina",
        "max_native_zoom",
        "max_zoom",
        "min_native_zoom",
        "min_zoom",
        "no_wrap",
        "tile_size",
        "tms"
       ],
       "url": "http://webst01.is.autonavi.com/appmaptile?style=6&x={x}&y={y}&z={z}"
      }
     },
     "452362e302be44149866fca2be87fdbb": {
      "model_module": "@jupyter-widgets/controls",
      "model_module_version": "1.5.0",
      "model_name": "VBoxModel",
      "state": {
       "_view_count": 1,
       "children": [
        "IPY_MODEL_6bab684c59554d42a0152a161c3ef9e9"
       ],
       "layout": "IPY_MODEL_dbeaa53173d24dda9faac2bf884d00d2"
      }
     },
     "4582a4fe7c1544d58892aa7e253c8a53": {
      "model_module": "@jupyter-widgets/output",
      "model_module_version": "1.0.0",
      "model_name": "OutputModel",
      "state": {
       "layout": "IPY_MODEL_b75b8b821fe141359e312f4bbf0d3adc"
      }
     },
     "468f496f627c4473947e64845b29a8f8": {
      "model_module": "@jupyter-widgets/output",
      "model_module_version": "1.0.0",
      "model_name": "OutputModel",
      "state": {
       "layout": "IPY_MODEL_c735f5d9a4c74a89b41704c5d1250ebd"
      }
     },
     "46ceb902341241af9e0152958c7020a5": {
      "model_module": "jupyter-leaflet",
      "model_module_version": "^0.14.0",
      "model_name": "LeafletWMSLayerModel",
      "state": {
       "_model_module_version": "^0.14.0",
       "_view_module_version": "^0.14.0",
       "attribution": "MRLC",
       "crs": {
        "custom": false,
        "name": "EPSG3857"
       },
       "format": "image/png",
       "layers": "NLCD_2013_Land_Cover_L48",
       "max_native_zoom": 18,
       "min_native_zoom": 0,
       "name": "NLCD 2013 CONUS Land Cover",
       "options": [
        "attribution",
        "detect_retina",
        "format",
        "layers",
        "max_native_zoom",
        "max_zoom",
        "min_native_zoom",
        "min_zoom",
        "no_wrap",
        "styles",
        "tile_size",
        "tms",
        "transparent",
        "uppercase"
       ],
       "transparent": true,
       "url": "https://www.mrlc.gov/geoserver/mrlc_display/NLCD_2013_Land_Cover_L48/wms?"
      }
     },
     "471064be5c9f4211acf8962068bd98a6": {
      "model_module": "jupyter-leaflet",
      "model_module_version": "^0.14.0",
      "model_name": "LeafletWMSLayerModel",
      "state": {
       "_model_module_version": "^0.14.0",
       "_view_module_version": "^0.14.0",
       "attribution": "MRLC",
       "crs": {
        "custom": false,
        "name": "EPSG3857"
       },
       "format": "image/png",
       "layers": "NLCD_2013_Land_Cover_L48",
       "max_native_zoom": 18,
       "min_native_zoom": 0,
       "name": "NLCD 2013 CONUS Land Cover",
       "options": [
        "attribution",
        "detect_retina",
        "format",
        "layers",
        "max_native_zoom",
        "max_zoom",
        "min_native_zoom",
        "min_zoom",
        "no_wrap",
        "styles",
        "tile_size",
        "tms",
        "transparent",
        "uppercase"
       ],
       "transparent": true,
       "url": "https://www.mrlc.gov/geoserver/mrlc_display/NLCD_2013_Land_Cover_L48/wms?"
      }
     },
     "472fcd3c176c4d719f0d16a1e45ebb4e": {
      "model_module": "jupyter-leaflet",
      "model_module_version": "^0.14.0",
      "model_name": "LeafletTileLayerModel",
      "state": {
       "_model_module_version": "^0.14.0",
       "_view_module_version": "^0.14.0",
       "attribution": "\nImagery provided by services from the Global Imagery Browse Services (GIBS), operated by the NASA/GSFC/Earth Science Data and Information System (<a href=\"https://earthdata.nasa.gov\">ESDIS</a>) with funding provided by NASA/HQ.\n",
       "max_native_zoom": 18,
       "max_zoom": 9,
       "min_native_zoom": 0,
       "min_zoom": 1,
       "name": "NASAGIBS.ModisTerraBands367CR",
       "options": [
        "attribution",
        "detect_retina",
        "max_native_zoom",
        "max_zoom",
        "min_native_zoom",
        "min_zoom",
        "no_wrap",
        "tile_size",
        "tms"
       ],
       "url": "https://gibs.earthdata.nasa.gov/wmts/epsg3857/best/MODIS_Terra_CorrectedReflectance_Bands367/default/2021-07-21/GoogleMapsCompatible_Level9/{z}/{y}/{x}.jpg"
      }
     },
     "478cd67d954d49da98f05dd31ac3552c": {
      "model_module": "@jupyter-widgets/base",
      "model_module_version": "1.2.0",
      "model_name": "LayoutModel",
      "state": {
       "height": "auto",
       "padding": "0px 0px 0px 4px",
       "width": "auto"
      }
     },
     "47e49ef24ef946ba81231795aa503a15": {
      "model_module": "@jupyter-widgets/controls",
      "model_module_version": "1.5.0",
      "model_name": "VBoxModel",
      "state": {
       "children": [
        "IPY_MODEL_0ef4c92e95ef4e588f38505ae1b00978"
       ],
       "layout": "IPY_MODEL_03b6e1d443c24c57b72ad096b5dea000"
      }
     },
     "485c21df3d054abe933a62eaaf35ff96": {
      "model_module": "@jupyter-widgets/base",
      "model_module_version": "1.2.0",
      "model_name": "LayoutModel",
      "state": {
       "height": "auto",
       "padding": "0px 0px 0px 4px",
       "width": "auto"
      }
     },
     "48b59dedfa9448768c8801bad603dd21": {
      "model_module": "jupyter-leaflet",
      "model_module_version": "^0.14.0",
      "model_name": "LeafletTileLayerModel",
      "state": {
       "_model_module_version": "^0.14.0",
       "_view_module_version": "^0.14.0",
       "attribution": "Map tiles by <a href=\"https://labs.strava.com/heatmap\">Strava 2017</a>",
       "max_native_zoom": 18,
       "max_zoom": 15,
       "min_native_zoom": 0,
       "min_zoom": 1,
       "name": "Strava.Water",
       "options": [
        "attribution",
        "detect_retina",
        "max_native_zoom",
        "max_zoom",
        "min_native_zoom",
        "min_zoom",
        "no_wrap",
        "tile_size",
        "tms"
       ],
       "url": "https://heatmap-external-a.strava.com//tiles/water/blue/{z}/{x}/{y}.png?v=19"
      }
     },
     "48c34eee38814c6fb0192dcba91e5f53": {
      "model_module": "jupyter-leaflet",
      "model_module_version": "^0.14.0",
      "model_name": "LeafletTileLayerModel",
      "state": {
       "_model_module_version": "^0.14.0",
       "_view_module_version": "^0.14.0",
       "attribution": "Esri",
       "max_native_zoom": 18,
       "min_native_zoom": 0,
       "name": "Esri Topo World",
       "options": [
        "attribution",
        "detect_retina",
        "max_native_zoom",
        "max_zoom",
        "min_native_zoom",
        "min_zoom",
        "no_wrap",
        "tile_size",
        "tms"
       ],
       "url": "https://services.arcgisonline.com/ArcGIS/rest/services/World_Topo_Map/MapServer/tile/{z}/{y}/{x}"
      }
     },
     "4955ccf022a44e6fbd3eacdb006d8bbc": {
      "model_module": "jupyter-leaflet",
      "model_module_version": "^0.14.0",
      "model_name": "LeafletTileLayerModel",
      "state": {
       "_model_module_version": "^0.14.0",
       "_view_module_version": "^0.14.0",
       "attribution": "Esri",
       "max_native_zoom": 18,
       "min_native_zoom": 0,
       "name": "Esri Satellite",
       "options": [
        "attribution",
        "detect_retina",
        "max_native_zoom",
        "max_zoom",
        "min_native_zoom",
        "min_zoom",
        "no_wrap",
        "tile_size",
        "tms"
       ],
       "url": "https://server.arcgisonline.com/ArcGIS/rest/services/World_Imagery/MapServer/tile/{z}/{y}/{x}"
      }
     },
     "497327042889428abccbc029f284d65c": {
      "model_module": "jupyter-leaflet",
      "model_module_version": "^0.14.0",
      "model_name": "LeafletMapStyleModel",
      "state": {
       "_model_module_version": "^0.14.0",
       "cursor": "move"
      }
     },
     "49b02604c1c24244a4fe9aac76a7f0fa": {
      "model_module": "jupyter-leaflet",
      "model_module_version": "^0.14.0",
      "model_name": "LeafletDrawControlModel",
      "state": {
       "_model_module_version": "^0.14.0",
       "_view_module_version": "^0.14.0",
       "circle": {
        "shapeOptions": {
         "color": "#3388ff"
        }
       },
       "marker": {
        "shapeOptions": {
         "color": "#3388ff"
        }
       },
       "options": [
        "position"
       ],
       "rectangle": {
        "shapeOptions": {
         "color": "#3388ff"
        }
       }
      }
     },
     "49f9381acc3f4450a9915940bf809721": {
      "model_module": "jupyter-leaflet",
      "model_module_version": "^0.14.0",
      "model_name": "LeafletTileLayerModel",
      "state": {
       "_model_module_version": "^0.14.0",
       "_view_module_version": "^0.14.0",
       "attribution": "\nImagery provided by services from the Global Imagery Browse Services (GIBS), operated by the NASA/GSFC/Earth Science Data and Information System (<a href=\"https://earthdata.nasa.gov\">ESDIS</a>) with funding provided by NASA/HQ.\n",
       "max_native_zoom": 18,
       "max_zoom": 8,
       "min_native_zoom": 0,
       "min_zoom": 1,
       "name": "NASAGIBS.BlueMarble",
       "options": [
        "attribution",
        "detect_retina",
        "max_native_zoom",
        "max_zoom",
        "min_native_zoom",
        "min_zoom",
        "no_wrap",
        "tile_size",
        "tms"
       ],
       "url": "https://gibs.earthdata.nasa.gov/wmts/epsg3857/best/BlueMarble_NextGeneration/default/EPSG3857_500m/{z}/{y}/{x}.jpeg"
      }
     },
     "4aff593455f34dfe874a8e1a646f4869": {
      "model_module": "@jupyter-widgets/base",
      "model_module_version": "1.2.0",
      "model_name": "LayoutModel",
      "state": {}
     },
     "4bd2ba59e39343188218db5ad620133a": {
      "model_module": "@jupyter-widgets/controls",
      "model_module_version": "1.5.0",
      "model_name": "DescriptionStyleModel",
      "state": {
       "description_width": ""
      }
     },
     "4e520dc030d344ccb2eb20d22cd8b2d1": {
      "model_module": "@jupyter-widgets/base",
      "model_module_version": "1.2.0",
      "model_name": "LayoutModel",
      "state": {
       "display": "none"
      }
     },
     "4e55619a047d4f25a8df1ff6becb0925": {
      "model_module": "@jupyter-widgets/base",
      "model_module_version": "1.2.0",
      "model_name": "LayoutModel",
      "state": {}
     },
     "4ebe5151fad1405c9b9636faf8df60ff": {
      "model_module": "jupyter-leaflet",
      "model_module_version": "^0.14.0",
      "model_name": "LeafletScaleControlModel",
      "state": {
       "_model_module_version": "^0.14.0",
       "_view_module_version": "^0.14.0",
       "imperial": true,
       "max_width": 100,
       "metric": true,
       "options": [
        "imperial",
        "max_width",
        "metric",
        "position",
        "update_when_idle"
       ],
       "position": "bottomleft",
       "update_when_idle": false
      }
     },
     "4ecf66e1d1de41969efc747d49774868": {
      "model_module": "@jupyter-widgets/controls",
      "model_module_version": "1.5.0",
      "model_name": "DescriptionStyleModel",
      "state": {
       "description_width": ""
      }
     },
     "4f39175319114c14b6914c5fe3ef1da5": {
      "model_module": "jupyter-leaflet",
      "model_module_version": "^0.14.0",
      "model_name": "LeafletWMSLayerModel",
      "state": {
       "_model_module_version": "^0.14.0",
       "_view_module_version": "^0.14.0",
       "attribution": "USGS",
       "crs": {
        "custom": false,
        "name": "EPSG3857"
       },
       "format": "image/png",
       "layers": "0",
       "max_native_zoom": 18,
       "min_native_zoom": 0,
       "name": "USGS NAIP Imagery",
       "options": [
        "attribution",
        "detect_retina",
        "format",
        "layers",
        "max_native_zoom",
        "max_zoom",
        "min_native_zoom",
        "min_zoom",
        "no_wrap",
        "styles",
        "tile_size",
        "tms",
        "transparent",
        "uppercase"
       ],
       "transparent": true,
       "url": "https://services.nationalmap.gov/arcgis/services/USGSNAIPImagery/ImageServer/WMSServer?"
      }
     },
     "50cc7ffb34a94b59b46321080fe75451": {
      "model_module": "@jupyter-widgets/base",
      "model_module_version": "1.2.0",
      "model_name": "LayoutModel",
      "state": {
       "height": "auto",
       "padding": "0px 0px 0px 4px",
       "width": "auto"
      }
     },
     "5184432316024197bd483c59b617a46e": {
      "model_module": "@jupyter-widgets/controls",
      "model_module_version": "1.5.0",
      "model_name": "ToggleButtonsModel",
      "state": {
       "_options_labels": [
        "OK",
        "Cancel"
       ],
       "button_style": "primary",
       "icons": [],
       "index": null,
       "layout": "IPY_MODEL_4e55619a047d4f25a8df1ff6becb0925",
       "style": "IPY_MODEL_dcb4b0a03247421c909925ad7e5db575",
       "tooltips": [
        "OK",
        "Cancel"
       ]
      }
     },
     "541e09ce690d4ad6a90745d296c51bca": {
      "model_module": "@jupyter-widgets/controls",
      "model_module_version": "1.5.0",
      "model_name": "ToggleButtonsStyleModel",
      "state": {
       "button_width": "",
       "description_width": ""
      }
     },
     "552ac2428ef845c28e7bb138abb4f0d0": {
      "model_module": "@jupyter-widgets/controls",
      "model_module_version": "1.5.0",
      "model_name": "TextModel",
      "state": {
       "layout": "IPY_MODEL_d96f18f993f246a8a69e6c7a619e7227",
       "placeholder": "output filename",
       "style": "IPY_MODEL_bce5ce339725448c845e3069dc1ea0c1",
       "value": "my_map.html"
      }
     },
     "561e4635d5184b19bd9f6f97b6ad7efe": {
      "model_module": "@jupyter-widgets/controls",
      "model_module_version": "1.5.0",
      "model_name": "DescriptionStyleModel",
      "state": {
       "description_width": ""
      }
     },
     "565dcf7653f249a892f72ca547800221": {
      "model_module": "jupyter-leaflet",
      "model_module_version": "^0.14.0",
      "model_name": "LeafletTileLayerModel",
      "state": {
       "_model_module_version": "^0.14.0",
       "_view_module_version": "^0.14.0",
       "attribution": "Tiles &copy; Esri &mdash; Esri, DeLorme, NAVTEQ, TomTom, Intermap, iPC, USGS, FAO, NPS, NRCAN, GeoBase, Kadaster NL, Ordnance Survey, Esri Japan, METI, Esri China (Hong Kong), and the GIS User Community",
       "max_native_zoom": 18,
       "max_zoom": 20,
       "min_native_zoom": 0,
       "min_zoom": 1,
       "name": "Esri.WorldTopoMap",
       "options": [
        "attribution",
        "detect_retina",
        "max_native_zoom",
        "max_zoom",
        "min_native_zoom",
        "min_zoom",
        "no_wrap",
        "tile_size",
        "tms"
       ],
       "url": "http://server.arcgisonline.com/ArcGIS/rest/services/World_Topo_Map/MapServer/tile/{z}/{y}/{x}"
      }
     },
     "56f832358adb48ad8cccb04f922359bb": {
      "model_module": "ipyevents",
      "model_module_version": "1.8.2",
      "model_name": "EventModel",
      "state": {
       "_supported_key_events": [
        "keydown",
        "keyup"
       ],
       "_supported_mouse_events": [
        "click",
        "auxclick",
        "dblclick",
        "mouseenter",
        "mouseleave",
        "mousedown",
        "mouseup",
        "mousemove",
        "wheel",
        "contextmenu",
        "dragstart",
        "drag",
        "dragend",
        "dragenter",
        "dragover",
        "dragleave",
        "drop"
       ],
       "_view_module": "@jupyter-widgets/controls",
       "_view_module_version": "1.5.0",
       "source": "IPY_MODEL_452362e302be44149866fca2be87fdbb",
       "throttle_or_debounce": "",
       "watched_events": [
        "mouseenter",
        "mouseleave"
       ],
       "xy_coordinate_system": ""
      }
     },
     "5714a4f27ae8424698fd93b5f2d71e62": {
      "model_module": "jupyter-leaflet",
      "model_module_version": "^0.14.0",
      "model_name": "LeafletTileLayerModel",
      "state": {
       "_model_module_version": "^0.14.0",
       "_view_module_version": "^0.14.0",
       "attribution": "Google",
       "max_native_zoom": 18,
       "min_native_zoom": 0,
       "name": "Google Satellite",
       "options": [
        "attribution",
        "detect_retina",
        "max_native_zoom",
        "max_zoom",
        "min_native_zoom",
        "min_zoom",
        "no_wrap",
        "tile_size",
        "tms"
       ],
       "url": "https://mt1.google.com/vt/lyrs=s&x={x}&y={y}&z={z}"
      }
     },
     "582e7769894645329db604b2270bc21d": {
      "model_module": "jupyter-leaflet",
      "model_module_version": "^0.14.0",
      "model_name": "LeafletWidgetControlModel",
      "state": {
       "_model_module": "jupyter-leaflet",
       "_model_module_version": "^0.14.0",
       "_view_count": null,
       "_view_module": "jupyter-leaflet",
       "_view_module_version": "^0.14.0",
       "options": [
        "position",
        "transparent_bg"
       ],
       "position": "topright",
       "widget": "IPY_MODEL_3a0cd1826da64050b9cfd774246fde70"
      }
     },
     "58918f21965044b09dd96bc5c5f29fd4": {
      "model_module": "@jupyter-widgets/controls",
      "model_module_version": "1.5.0",
      "model_name": "TextModel",
      "state": {
       "layout": "IPY_MODEL_38974fc7e68748fe9cc4f336194330e8",
       "placeholder": "Search by place name or address",
       "style": "IPY_MODEL_011a1bfe30714f768ee98d7355897d57"
      }
     },
     "589acdb49c604bdbbeed053eb0623eda": {
      "model_module": "@jupyter-widgets/controls",
      "model_module_version": "1.5.0",
      "model_name": "ButtonStyleModel",
      "state": {}
     },
     "58ada51ecbe44844b755ea25e417909d": {
      "model_module": "jupyter-leaflet",
      "model_module_version": "^0.14.0",
      "model_name": "LeafletWMSLayerModel",
      "state": {
       "_model_module_version": "^0.14.0",
       "_view_module_version": "^0.14.0",
       "attribution": "FWS",
       "crs": {
        "custom": false,
        "name": "EPSG3857"
       },
       "format": "image/png",
       "layers": "1",
       "max_native_zoom": 18,
       "min_native_zoom": 0,
       "name": "FWS NWI Wetlands",
       "options": [
        "attribution",
        "detect_retina",
        "format",
        "layers",
        "max_native_zoom",
        "max_zoom",
        "min_native_zoom",
        "min_zoom",
        "no_wrap",
        "styles",
        "tile_size",
        "tms",
        "transparent",
        "uppercase"
       ],
       "transparent": true,
       "url": "https://www.fws.gov/wetlands/arcgis/services/Wetlands/MapServer/WMSServer?"
      }
     },
     "58f8f699389b4e1b9a7b18d0c79fda00": {
      "model_module": "jupyter-leaflet",
      "model_module_version": "^0.14.0",
      "model_name": "LeafletTileLayerModel",
      "state": {
       "_model_module_version": "^0.14.0",
       "_view_module_version": "^0.14.0",
       "attribution": "Esri",
       "max_native_zoom": 18,
       "min_native_zoom": 0,
       "name": "Esri Shaded Relief",
       "options": [
        "attribution",
        "detect_retina",
        "max_native_zoom",
        "max_zoom",
        "min_native_zoom",
        "min_zoom",
        "no_wrap",
        "tile_size",
        "tms"
       ],
       "url": "https://services.arcgisonline.com/arcgis/rest/services/World_Shaded_Relief/MapServer/tile/{z}/{y}/{x}"
      }
     },
     "596acfdf61cc408a988549fb111e9c56": {
      "model_module": "@jupyter-widgets/controls",
      "model_module_version": "1.5.0",
      "model_name": "ButtonModel",
      "state": {
       "description": "Select",
       "layout": "IPY_MODEL_0d6fd175c1004ced8ee92b170b196b68",
       "style": "IPY_MODEL_efc5f33a5252401ca8f44eab24d0dd83"
      }
     },
     "5a04369fbe9d4db78ad6f2c3ff7aed2e": {
      "model_module": "jupyter-leaflet",
      "model_module_version": "^0.14.0",
      "model_name": "LeafletMeasureControlModel",
      "state": {
       "_model_module_version": "^0.14.0",
       "_view_module_version": "^0.14.0",
       "active_color": "orange",
       "options": [
        "active_color",
        "capture_z_index",
        "completed_color",
        "popup_options",
        "position",
        "primary_area_unit",
        "primary_length_unit",
        "secondary_area_unit",
        "secondary_length_unit"
       ],
       "position": "bottomleft",
       "primary_length_unit": "kilometers",
       "secondary_area_unit": null,
       "secondary_length_unit": null
      }
     },
     "5af830e5f9754a4b94f2e0a7eb314940": {
      "model_module": "@jupyter-widgets/base",
      "model_module_version": "1.2.0",
      "model_name": "LayoutModel",
      "state": {
       "height": "auto",
       "padding": "0px 0px 0px 4px",
       "width": "auto"
      }
     },
     "5ba693e509764788b76723f8123ff8b4": {
      "model_module": "@jupyter-widgets/controls",
      "model_module_version": "1.5.0",
      "model_name": "ToggleButtonModel",
      "state": {
       "button_style": "primary",
       "icon": "question",
       "layout": "IPY_MODEL_218e9efd8cf444a998b94b5ada2f3d59",
       "style": "IPY_MODEL_924f120cce8d4fe4adfdd8276d6713ef",
       "tooltip": "Get help"
      }
     },
     "5c1271864cbe46e585789e3b9de67d38": {
      "model_module": "@jupyter-widgets/controls",
      "model_module_version": "1.5.0",
      "model_name": "DropdownModel",
      "state": {
       "_options_labels": [
        "C:\\Users\\Guga",
        "C:\\Users",
        "C:\\",
        "D:\\"
       ],
       "index": 0,
       "layout": "IPY_MODEL_df68203d8c994fb486f50b63d82a647f",
       "style": "IPY_MODEL_956d05b99a0f4a519ff3dc6e7a5ebf3f"
      }
     },
     "5dfcb5bb65aa441393210c02661224d7": {
      "model_module": "@jupyter-widgets/controls",
      "model_module_version": "1.5.0",
      "model_name": "DropdownModel",
      "state": {
       "_options_labels": [
        "C:\\Users\\Guga",
        "C:\\Users",
        "C:\\",
        "D:\\"
       ],
       "index": 0,
       "layout": "IPY_MODEL_328a27431525485596e1e0116fda43df",
       "style": "IPY_MODEL_7245e0efb5564b1d9b2142ce9003537e"
      }
     },
     "5e51468e4a044218a0a23e4a30ba9216": {
      "model_module": "@jupyter-widgets/controls",
      "model_module_version": "1.5.0",
      "model_name": "ToggleButtonModel",
      "state": {
       "button_style": "primary",
       "icon": "eraser",
       "layout": "IPY_MODEL_78a0db99d40446fe80dc9a36876a4f34",
       "style": "IPY_MODEL_d94d9a51ea2e4232a9368672aaf85c73",
       "tooltip": "Remove all drawn features"
      }
     },
     "5e551bc0dbf14e9c8c53d2ad32027a78": {
      "model_module": "@jupyter-widgets/controls",
      "model_module_version": "1.5.0",
      "model_name": "ToggleButtonsModel",
      "state": {
       "_options_labels": [
        "name/address",
        "lat-lon",
        "data"
       ],
       "button_style": "",
       "icons": [],
       "index": 0,
       "layout": "IPY_MODEL_b15731162bfd4d98a7431c11e12f632c",
       "style": "IPY_MODEL_8d51e0ecbded43868578b2dce1fbd070",
       "tooltips": [
        "Search by place name or address",
        "Search by lat-lon coordinates",
        "Search Earth Engine data catalog"
       ]
      }
     },
     "5ea52021d1f64b87aeabef1bc3a2a9b4": {
      "model_module": "jupyter-leaflet",
      "model_module_version": "^0.14.0",
      "model_name": "LeafletTileLayerModel",
      "state": {
       "_model_module_version": "^0.14.0",
       "_view_module_version": "^0.14.0",
       "attribution": "Map tiles by <a href=\"https://labs.strava.com/heatmap\">Strava 2017</a>",
       "max_native_zoom": 18,
       "max_zoom": 15,
       "min_native_zoom": 0,
       "min_zoom": 1,
       "name": "Strava.All",
       "options": [
        "attribution",
        "detect_retina",
        "max_native_zoom",
        "max_zoom",
        "min_native_zoom",
        "min_zoom",
        "no_wrap",
        "tile_size",
        "tms"
       ],
       "url": "https://heatmap-external-a.strava.com//tiles/all/hot/{z}/{x}/{y}.png?v=19"
      }
     },
     "60160bfbc1f545f68718ca94c65ea30a": {
      "model_module": "@jupyter-widgets/base",
      "model_module_version": "1.2.0",
      "model_name": "LayoutModel",
      "state": {
       "max_width": "57px",
       "min_width": "57px"
      }
     },
     "603c39405dbc473d932333be626a6968": {
      "model_module": "jupyter-leaflet",
      "model_module_version": "^0.14.0",
      "model_name": "LeafletTileLayerModel",
      "state": {
       "_model_module_version": "^0.14.0",
       "_view_module_version": "^0.14.0",
       "attribution": "&copy; <a href=\"http://www.openstreetmap.org/copyright\">OpenStreetMap</a>",
       "max_native_zoom": 18,
       "max_zoom": 19,
       "min_native_zoom": 0,
       "min_zoom": 1,
       "name": "HikeBike.HikeBike",
       "options": [
        "attribution",
        "detect_retina",
        "max_native_zoom",
        "max_zoom",
        "min_native_zoom",
        "min_zoom",
        "no_wrap",
        "tile_size",
        "tms"
       ],
       "url": "http://{s}.tiles.wmflabs.org/hikebike/{z}/{x}/{y}.png"
      }
     },
     "60ae48522db34dd68129e7c990132208": {
      "model_module": "@jupyter-widgets/base",
      "model_module_version": "1.2.0",
      "model_name": "LayoutModel",
      "state": {}
     },
     "625c3aaa86804609ad8a2e140f7c0af5": {
      "model_module": "jupyter-leaflet",
      "model_module_version": "^0.14.0",
      "model_name": "LeafletTileLayerModel",
      "state": {
       "_model_module_version": "^0.14.0",
       "_view_module_version": "^0.14.0",
       "attribution": "\nImagery provided by services from the Global Imagery Browse Services (GIBS), operated by the NASA/GSFC/Earth Science Data and Information System (<a href=\"https://earthdata.nasa.gov\">ESDIS</a>) with funding provided by NASA/HQ.\n",
       "max_native_zoom": 18,
       "max_zoom": 9,
       "min_native_zoom": 0,
       "min_zoom": 1,
       "name": "NASAGIBS.ModisAquaBands721CR",
       "options": [
        "attribution",
        "detect_retina",
        "max_native_zoom",
        "max_zoom",
        "min_native_zoom",
        "min_zoom",
        "no_wrap",
        "tile_size",
        "tms"
       ],
       "url": "https://gibs.earthdata.nasa.gov/wmts/epsg3857/best/MODIS_Aqua_CorrectedReflectance_Bands721/default/2021-07-21/GoogleMapsCompatible_Level9/{z}/{y}/{x}.jpg"
      }
     },
     "62a0f72ce4e8447baf591d0d31161696": {
      "model_module": "@jupyter-widgets/controls",
      "model_module_version": "1.5.0",
      "model_name": "VBoxModel",
      "state": {
       "children": [
        "IPY_MODEL_9c3244c34f034c6e8dbdcf96999b502e",
        "IPY_MODEL_19c57970993e4c2fbdbab18fa31bc373"
       ],
       "layout": "IPY_MODEL_60ae48522db34dd68129e7c990132208"
      }
     },
     "646d7d12c7ce49249299f4b7479f10ac": {
      "model_module": "@jupyter-widgets/controls",
      "model_module_version": "1.5.0",
      "model_name": "ToggleButtonModel",
      "state": {
       "button_style": "primary",
       "icon": "folder-open",
       "layout": "IPY_MODEL_2d5a1c87f029457d96e3d44a41efaa21",
       "style": "IPY_MODEL_06bf965ec857430c8f7323f048028a0f",
       "tooltip": "Open local vector/raster data"
      }
     },
     "660e37c4f19840e7888b6a79282c9dc4": {
      "model_module": "@jupyter-widgets/controls",
      "model_module_version": "1.5.0",
      "model_name": "DescriptionStyleModel",
      "state": {
       "description_width": ""
      }
     },
     "674cc4ecccca458fab89733d9200b983": {
      "model_module": "@jupyter-widgets/controls",
      "model_module_version": "1.5.0",
      "model_name": "DescriptionStyleModel",
      "state": {
       "description_width": ""
      }
     },
     "67f08977a21f4c27be0b66691ff8479f": {
      "model_module": "@jupyter-widgets/controls",
      "model_module_version": "1.5.0",
      "model_name": "DescriptionStyleModel",
      "state": {
       "description_width": ""
      }
     },
     "68e97644ebb34566899efa3cb90a981b": {
      "model_module": "jupyter-leaflet",
      "model_module_version": "^0.14.0",
      "model_name": "LeafletWMSLayerModel",
      "state": {
       "_model_module_version": "^0.14.0",
       "_view_module_version": "^0.14.0",
       "attribution": "MRLC",
       "crs": {
        "custom": false,
        "name": "EPSG3857"
       },
       "format": "image/png",
       "layers": "NLCD_2016_Land_Cover_L48",
       "max_native_zoom": 18,
       "min_native_zoom": 0,
       "name": "NLCD 2016 CONUS Land Cover",
       "options": [
        "attribution",
        "detect_retina",
        "format",
        "layers",
        "max_native_zoom",
        "max_zoom",
        "min_native_zoom",
        "min_zoom",
        "no_wrap",
        "styles",
        "tile_size",
        "tms",
        "transparent",
        "uppercase"
       ],
       "transparent": true,
       "url": "https://www.mrlc.gov/geoserver/mrlc_display/NLCD_2016_Land_Cover_L48/wms?"
      }
     },
     "69866189dea041589d358388d1e04289": {
      "model_module": "jupyter-leaflet",
      "model_module_version": "^0.14.0",
      "model_name": "LeafletMapStyleModel",
      "state": {
       "_model_module_version": "^0.14.0"
      }
     },
     "6a36a74fe54842c595d74c1a381ff3ae": {
      "model_module": "@jupyter-widgets/base",
      "model_module_version": "1.2.0",
      "model_name": "LayoutModel",
      "state": {
       "height": "auto",
       "padding": "0px 0px 0px 4px",
       "width": "auto"
      }
     },
     "6ba1d58b0e4f46e681c3e97a319d33c0": {
      "model_module": "@jupyter-widgets/controls",
      "model_module_version": "1.5.0",
      "model_name": "DescriptionStyleModel",
      "state": {
       "description_width": ""
      }
     },
     "6bab684c59554d42a0152a161c3ef9e9": {
      "model_module": "@jupyter-widgets/controls",
      "model_module_version": "1.5.0",
      "model_name": "ToggleButtonModel",
      "state": {
       "icon": "wrench",
       "layout": "IPY_MODEL_1574bee730c4408f9f93a94dd88f5d0f",
       "style": "IPY_MODEL_1f3f6326ebfd4c98b441f7b0b66543db",
       "tooltip": "Toolbar"
      }
     },
     "6cb1a0d7c46244b4959e23ac4ed26ce8": {
      "model_module": "@jupyter-widgets/base",
      "model_module_version": "1.2.0",
      "model_name": "LayoutModel",
      "state": {
       "height": "600px"
      }
     },
     "6ccae8165175450b9e296b2152555d35": {
      "model_module": "@jupyter-widgets/base",
      "model_module_version": "1.2.0",
      "model_name": "LayoutModel",
      "state": {
       "height": "28px",
       "width": "72px"
      }
     },
     "6d473b1d355d4628b5968964d7d10a54": {
      "model_module": "@jupyter-widgets/base",
      "model_module_version": "1.2.0",
      "model_name": "LayoutModel",
      "state": {
       "height": "auto",
       "padding": "0px 0px 0px 4px",
       "width": "auto"
      }
     },
     "6e06d576d50949e38c70955fda1ec58d": {
      "model_module": "@jupyter-widgets/controls",
      "model_module_version": "1.5.0",
      "model_name": "ToggleButtonsModel",
      "state": {
       "_options_labels": [
        "HTML",
        "PNG",
        "JPG"
       ],
       "button_style": "",
       "icons": [],
       "index": 0,
       "layout": "IPY_MODEL_d9ed1ae655cc49a485a8f67f9aa356dc",
       "style": "IPY_MODEL_1ecfc4c77e2747fda83d7bbf2727252e",
       "tooltips": [
        "Save the map as an HTML file",
        "Take a screenshot and save as a PNG file",
        "Take a screenshot and save as a JPG file"
       ]
      }
     },
     "6e1f444d33c94a5a973379de50932e62": {
      "model_module": "jupyter-leaflet",
      "model_module_version": "^0.14.0",
      "model_name": "LeafletTileLayerModel",
      "state": {
       "_model_module_version": "^0.14.0",
       "_view_module_version": "^0.14.0",
       "attribution": "&copy; <a href=\"http://www.openstreetmap.org/copyright\">OpenStreetMap</a> &copy; <a href=\"http://cartodb.com/attributions\">CartoDB</a>",
       "max_native_zoom": 18,
       "max_zoom": 20,
       "min_native_zoom": 0,
       "min_zoom": 1,
       "name": "CartoDB.Positron",
       "options": [
        "attribution",
        "detect_retina",
        "max_native_zoom",
        "max_zoom",
        "min_native_zoom",
        "min_zoom",
        "no_wrap",
        "tile_size",
        "tms"
       ],
       "url": "http://c.basemaps.cartocdn.com/light_all/{z}/{x}/{y}.png"
      }
     },
     "6e5145192a924afa9cb93ab9d908d65c": {
      "model_module": "@jupyter-widgets/controls",
      "model_module_version": "1.5.0",
      "model_name": "ToggleButtonModel",
      "state": {
       "button_style": "primary",
       "icon": "camera",
       "layout": "IPY_MODEL_5af830e5f9754a4b94f2e0a7eb314940",
       "style": "IPY_MODEL_71f0d3678dd34214b729bb51a24c25c0",
       "tooltip": "Save map as HTML or image"
      }
     },
     "6f50a8988d1a482e8879f0aa94c1211a": {
      "model_module": "@jupyter-widgets/base",
      "model_module_version": "1.2.0",
      "model_name": "LayoutModel",
      "state": {}
     },
     "702cf9cb1a9b41b99cd76bc01c2dd5f5": {
      "model_module": "@jupyter-widgets/controls",
      "model_module_version": "1.5.0",
      "model_name": "ToggleButtonModel",
      "state": {
       "button_style": "primary",
       "icon": "google",
       "layout": "IPY_MODEL_8bd4b66aee694b8d96499e35a085a239",
       "style": "IPY_MODEL_e2d1567c08444d3fbd6f3917466aea48",
       "tooltip": "GEE Toolbox for cloud computing"
      }
     },
     "7045b4882d284fc39fe1878a813021ca": {
      "model_module": "jupyter-leaflet",
      "model_module_version": "^0.14.0",
      "model_name": "LeafletTileLayerModel",
      "state": {
       "_model_module_version": "^0.14.0",
       "_view_module_version": "^0.14.0",
       "attribution": "Tiles &copy; Esri &mdash; National Geographic, Esri, DeLorme, NAVTEQ, UNEP-WCMC, USGS, NASA, ESA, METI, NRCAN, GEBCO, NOAA, iPC",
       "max_native_zoom": 18,
       "max_zoom": 16,
       "min_native_zoom": 0,
       "min_zoom": 1,
       "name": "Esri.NatGeoWorldMap",
       "options": [
        "attribution",
        "detect_retina",
        "max_native_zoom",
        "max_zoom",
        "min_native_zoom",
        "min_zoom",
        "no_wrap",
        "tile_size",
        "tms"
       ],
       "url": "http://server.arcgisonline.com/ArcGIS/rest/services/NatGeo_World_Map/MapServer/tile/{z}/{y}/{x}"
      }
     },
     "71f0d3678dd34214b729bb51a24c25c0": {
      "model_module": "@jupyter-widgets/controls",
      "model_module_version": "1.5.0",
      "model_name": "DescriptionStyleModel",
      "state": {
       "description_width": ""
      }
     },
     "720de8ef7c9c49fa8ad84251144235fb": {
      "model_module": "jupyter-leaflet",
      "model_module_version": "^0.14.0",
      "model_name": "LeafletZoomControlModel",
      "state": {
       "_model_module_version": "^0.14.0",
       "_view_module_version": "^0.14.0",
       "options": [
        "position",
        "zoom_in_text",
        "zoom_in_title",
        "zoom_out_text",
        "zoom_out_title"
       ]
      }
     },
     "7245e0efb5564b1d9b2142ce9003537e": {
      "model_module": "@jupyter-widgets/controls",
      "model_module_version": "1.5.0",
      "model_name": "DescriptionStyleModel",
      "state": {
       "description_width": ""
      }
     },
     "72c987e4fa034ec28599c74f4608b380": {
      "model_module": "jupyter-leaflet",
      "model_module_version": "^0.14.0",
      "model_name": "LeafletTileLayerModel",
      "state": {
       "_model_module_version": "^0.14.0",
       "_view_module_version": "^0.14.0",
       "attribution": "Google",
       "max_native_zoom": 18,
       "min_native_zoom": 0,
       "name": "Google Satellite",
       "options": [
        "attribution",
        "detect_retina",
        "max_native_zoom",
        "max_zoom",
        "min_native_zoom",
        "min_zoom",
        "no_wrap",
        "tile_size",
        "tms"
       ],
       "url": "https://mt1.google.com/vt/lyrs=y&x={x}&y={y}&z={z}"
      }
     },
     "73543292e4354caa9b6a1ab0e2f12dbd": {
      "model_module": "@jupyter-widgets/base",
      "model_module_version": "1.2.0",
      "model_name": "LayoutModel",
      "state": {}
     },
     "751c46fe05fe4158836a82e462863d3a": {
      "model_module": "jupyter-leaflet",
      "model_module_version": "^0.14.0",
      "model_name": "LeafletTileLayerModel",
      "state": {
       "_model_module_version": "^0.14.0",
       "_view_module_version": "^0.14.0",
       "attribution": "Esri",
       "max_native_zoom": 18,
       "min_native_zoom": 0,
       "name": "Esri Physical Map",
       "options": [
        "attribution",
        "detect_retina",
        "max_native_zoom",
        "max_zoom",
        "min_native_zoom",
        "min_zoom",
        "no_wrap",
        "tile_size",
        "tms"
       ],
       "url": "https://services.arcgisonline.com/arcgis/rest/services/World_Physical_Map/MapServer/tile/{z}/{y}/{x}"
      }
     },
     "75552e285e60400f99ae365ac783f0f9": {
      "model_module": "jupyter-leaflet",
      "model_module_version": "^0.14.0",
      "model_name": "LeafletTileLayerModel",
      "state": {
       "_model_module_version": "^0.14.0",
       "_view_module_version": "^0.14.0",
       "attribution": "\nImagery provided by services from the Global Imagery Browse Services (GIBS), operated by the NASA/GSFC/Earth Science Data and Information System (<a href=\"https://earthdata.nasa.gov\">ESDIS</a>) with funding provided by NASA/HQ.\n",
       "max_native_zoom": 18,
       "max_zoom": 9,
       "min_native_zoom": 0,
       "min_zoom": 1,
       "name": "NASAGIBS.ModisTerraTrueColorCR",
       "options": [
        "attribution",
        "detect_retina",
        "max_native_zoom",
        "max_zoom",
        "min_native_zoom",
        "min_zoom",
        "no_wrap",
        "tile_size",
        "tms"
       ],
       "url": "https://gibs.earthdata.nasa.gov/wmts/epsg3857/best/MODIS_Terra_CorrectedReflectance_TrueColor/default/2021-07-21/GoogleMapsCompatible_Level9/{z}/{y}/{x}.jpg"
      }
     },
     "75b0e37835294bf9913be28f14c8375e": {
      "model_module": "@jupyter-widgets/controls",
      "model_module_version": "1.5.0",
      "model_name": "DescriptionStyleModel",
      "state": {
       "description_width": ""
      }
     },
     "75c3352fb904466596fb0c9466241fae": {
      "model_module": "jupyter-leaflet",
      "model_module_version": "^0.14.0",
      "model_name": "LeafletTileLayerModel",
      "state": {
       "_model_module_version": "^0.14.0",
       "_view_module_version": "^0.14.0",
       "attribution": "Esri",
       "max_native_zoom": 18,
       "min_native_zoom": 0,
       "name": "Esri Standard",
       "options": [
        "attribution",
        "detect_retina",
        "max_native_zoom",
        "max_zoom",
        "min_native_zoom",
        "min_zoom",
        "no_wrap",
        "tile_size",
        "tms"
       ],
       "url": "https://server.arcgisonline.com/ArcGIS/rest/services/World_Street_Map/MapServer/tile/{z}/{y}/{x}"
      }
     },
     "77fbfc50362b49d8b075f12d912ea8ed": {
      "model_module": "@jupyter-widgets/base",
      "model_module_version": "1.2.0",
      "model_name": "LayoutModel",
      "state": {
       "height": "auto",
       "padding": "0px 0px 0px 4px",
       "width": "auto"
      }
     },
     "7819f82bf1eb402e90ec35ee30b53ec3": {
      "model_module": "@jupyter-widgets/controls",
      "model_module_version": "1.5.0",
      "model_name": "HBoxModel",
      "state": {
       "children": [
        "IPY_MODEL_78ad8b340c974fcc865cf4be433ae38c",
        "IPY_MODEL_c3532fd9265d44049ccb362efef24146"
       ],
       "layout": "IPY_MODEL_ab9fd170c3f044c28e86acf62391ebc0"
      }
     },
     "787774ec0d3046a79d115186b8111f65": {
      "model_module": "@jupyter-widgets/controls",
      "model_module_version": "1.5.0",
      "model_name": "HBoxModel",
      "state": {
       "_view_count": 1,
       "children": [
        "IPY_MODEL_35bca83e5bfc4e719f18061cd51ac5e1"
       ],
       "layout": "IPY_MODEL_3419231c3854472294aa4f0575d53ce6"
      }
     },
     "78a0db99d40446fe80dc9a36876a4f34": {
      "model_module": "@jupyter-widgets/base",
      "model_module_version": "1.2.0",
      "model_name": "LayoutModel",
      "state": {
       "height": "auto",
       "padding": "0px 0px 0px 4px",
       "width": "auto"
      }
     },
     "78ad8b340c974fcc865cf4be433ae38c": {
      "model_module": "@jupyter-widgets/controls",
      "model_module_version": "1.5.0",
      "model_name": "ButtonModel",
      "state": {
       "button_style": "primary",
       "description": "import",
       "layout": "IPY_MODEL_c62d25dbbaf84e7ab099a894e35a5793",
       "style": "IPY_MODEL_589acdb49c604bdbbeed053eb0623eda",
       "tooltip": "Click to import the selected asset"
      }
     },
     "78dbfbbd578043068c53456bcb90c519": {
      "model_module": "jupyter-leaflet",
      "model_module_version": "^0.14.0",
      "model_name": "LeafletTileLayerModel",
      "state": {
       "_model_module_version": "^0.14.0",
       "_view_module_version": "^0.14.0",
       "attribution": "\nImagery provided by services from the Global Imagery Browse Services (GIBS), operated by the NASA/GSFC/Earth Science Data and Information System (<a href=\"https://earthdata.nasa.gov\">ESDIS</a>) with funding provided by NASA/HQ.\n",
       "max_native_zoom": 18,
       "max_zoom": 9,
       "min_native_zoom": 0,
       "min_zoom": 1,
       "name": "NASAGIBS.ModisAquaTrueColorCR",
       "options": [
        "attribution",
        "detect_retina",
        "max_native_zoom",
        "max_zoom",
        "min_native_zoom",
        "min_zoom",
        "no_wrap",
        "tile_size",
        "tms"
       ],
       "url": "https://gibs.earthdata.nasa.gov/wmts/epsg3857/best/MODIS_Aqua_CorrectedReflectance_TrueColor/default/2021-07-26/GoogleMapsCompatible_Level9/{z}/{y}/{x}.jpg"
      }
     },
     "79e5f2d91db04650aaa18eb716ea2914": {
      "model_module": "jupyter-leaflet",
      "model_module_version": "^0.14.0",
      "model_name": "LeafletWMSLayerModel",
      "state": {
       "_model_module_version": "^0.14.0",
       "_view_module_version": "^0.14.0",
       "attribution": "MRLC",
       "crs": {
        "custom": false,
        "name": "EPSG3857"
       },
       "format": "image/png",
       "layers": "NLCD_2001_Land_Cover_L48",
       "max_native_zoom": 18,
       "min_native_zoom": 0,
       "name": "NLCD 2001 CONUS Land Cover",
       "options": [
        "attribution",
        "detect_retina",
        "format",
        "layers",
        "max_native_zoom",
        "max_zoom",
        "min_native_zoom",
        "min_zoom",
        "no_wrap",
        "styles",
        "tile_size",
        "tms",
        "transparent",
        "uppercase"
       ],
       "transparent": true,
       "url": "https://www.mrlc.gov/geoserver/mrlc_display/NLCD_2001_Land_Cover_L48/wms?"
      }
     },
     "79fa84ea0d0a49799dfc1ba2a84fd1ac": {
      "model_module": "jupyter-leaflet",
      "model_module_version": "^0.14.0",
      "model_name": "LeafletTileLayerModel",
      "state": {
       "_model_module_version": "^0.14.0",
       "_view_module_version": "^0.14.0",
       "attribution": "",
       "max_native_zoom": 18,
       "max_zoom": 19,
       "min_native_zoom": 0,
       "min_zoom": 1,
       "name": "Gaode.Normal",
       "options": [
        "attribution",
        "detect_retina",
        "max_native_zoom",
        "max_zoom",
        "min_native_zoom",
        "min_zoom",
        "no_wrap",
        "tile_size",
        "tms"
       ],
       "url": "http://webrd01.is.autonavi.com/appmaptile?lang=zh_cn&size=1&scale=1&style=7&x={x}&y={y}&z={z}"
      }
     },
     "7a11979103734176af5abcd718e5a5d8": {
      "model_module": "jupyter-leaflet",
      "model_module_version": "^0.14.0",
      "model_name": "LeafletZoomControlModel",
      "state": {
       "_model_module_version": "^0.14.0",
       "_view_module_version": "^0.14.0",
       "options": [
        "position",
        "zoom_in_text",
        "zoom_in_title",
        "zoom_out_text",
        "zoom_out_title"
       ]
      }
     },
     "7abaf6abee004c93901b1ddaba9191ed": {
      "model_module": "jupyter-leaflet",
      "model_module_version": "^0.14.0",
      "model_name": "LeafletMapModel",
      "state": {
       "_model_module_version": "^0.14.0",
       "_view_module_version": "^0.14.0",
       "center": [
        -11.770570195625227,
        -45.75805664062501
       ],
       "controls": [
        "IPY_MODEL_fa8b18fcb0814ce2a3c5f075ab84d0f5",
        "IPY_MODEL_7a11979103734176af5abcd718e5a5d8",
        "IPY_MODEL_4ebe5151fad1405c9b9636faf8df60ff",
        "IPY_MODEL_4125bbd0301f4242a93a3921a27d307c",
        "IPY_MODEL_5a04369fbe9d4db78ad6f2c3ff7aed2e",
        "IPY_MODEL_3918dac4a5304c1086a6f6e652db4b59",
        "IPY_MODEL_582e7769894645329db604b2270bc21d"
       ],
       "default_style": "IPY_MODEL_0e20947d3cba4b6eaf1de4441b7e78d7",
       "dragging_style": "IPY_MODEL_d8fd4e4047db453b87df753f4cfea096",
       "east": -180,
       "fullscreen": false,
       "interpolation": "bilinear",
       "layers": [
        "IPY_MODEL_87b134d09c7041b8b51bf2e43ca35d28",
        "IPY_MODEL_a9c83f901f2b4120aa29029c3f3dbdf7"
       ],
       "layout": "IPY_MODEL_6cb1a0d7c46244b4959e23ac4ed26ce8",
       "modisdate": "yesterday",
       "north": -90,
       "options": [
        "bounce_at_zoom_limits",
        "box_zoom",
        "center",
        "close_popup_on_click",
        "double_click_zoom",
        "dragging",
        "fullscreen",
        "inertia",
        "inertia_deceleration",
        "inertia_max_speed",
        "interpolation",
        "keyboard",
        "keyboard_pan_offset",
        "keyboard_zoom_offset",
        "max_zoom",
        "min_zoom",
        "scroll_wheel_zoom",
        "tap",
        "tap_tolerance",
        "touch_zoom",
        "world_copy_jump",
        "zoom",
        "zoom_animation_threshold",
        "zoom_delta",
        "zoom_snap",
        "zoom_start"
       ],
       "scroll_wheel_zoom": true,
       "south": 90,
       "style": "IPY_MODEL_0e20947d3cba4b6eaf1de4441b7e78d7",
       "west": 180,
       "window_url": "http://localhost:8888/notebooks/teste_geemap2%20(3).ipynb",
       "zoom": 8
      }
     },
     "7b42d30971bf4040992052c6eb4e2038": {
      "model_module": "@jupyter-widgets/output",
      "model_module_version": "1.0.0",
      "model_name": "OutputModel",
      "state": {
       "layout": "IPY_MODEL_fc8d8df79ff34a38997b0553d0a82c6d"
      }
     },
     "7b59246dc1cb411ea6b5bceb4444a11e": {
      "model_module": "jupyter-leaflet",
      "model_module_version": "^0.14.0",
      "model_name": "LeafletWMSLayerModel",
      "state": {
       "_model_module_version": "^0.14.0",
       "_view_module_version": "^0.14.0",
       "attribution": "MRLC",
       "crs": {
        "custom": false,
        "name": "EPSG3857"
       },
       "format": "image/png",
       "layers": "NLCD_2006_Land_Cover_L48",
       "max_native_zoom": 18,
       "min_native_zoom": 0,
       "name": "NLCD 2006 CONUS Land Cover",
       "options": [
        "attribution",
        "detect_retina",
        "format",
        "layers",
        "max_native_zoom",
        "max_zoom",
        "min_native_zoom",
        "min_zoom",
        "no_wrap",
        "styles",
        "tile_size",
        "tms",
        "transparent",
        "uppercase"
       ],
       "transparent": true,
       "url": "https://www.mrlc.gov/geoserver/mrlc_display/NLCD_2006_Land_Cover_L48/wms?"
      }
     },
     "7bdfba6f750944a28e924995c467b559": {
      "model_module": "@jupyter-widgets/base",
      "model_module_version": "1.2.0",
      "model_name": "LayoutModel",
      "state": {
       "max_width": "279px",
       "min_width": "279px"
      }
     },
     "7d6476c3b37346669229817b6e395e2b": {
      "model_module": "@jupyter-widgets/base",
      "model_module_version": "1.2.0",
      "model_name": "LayoutModel",
      "state": {
       "width": "auto"
      }
     },
     "7e67d8aa7494438dbd460957b9de1973": {
      "model_module": "jupyter-leaflet",
      "model_module_version": "^0.14.0",
      "model_name": "LeafletTileLayerModel",
      "state": {
       "_model_module_version": "^0.14.0",
       "_view_module_version": "^0.14.0",
       "attribution": "Esri",
       "max_native_zoom": 18,
       "min_native_zoom": 0,
       "name": "Esri Ocean",
       "options": [
        "attribution",
        "detect_retina",
        "max_native_zoom",
        "max_zoom",
        "min_native_zoom",
        "min_zoom",
        "no_wrap",
        "tile_size",
        "tms"
       ],
       "url": "https://services.arcgisonline.com/ArcGIS/rest/services/Ocean/World_Ocean_Base/MapServer/tile/{z}/{y}/{x}"
      }
     },
     "7e723e9bcba14362b31f7336acc34992": {
      "model_module": "@jupyter-widgets/controls",
      "model_module_version": "1.5.0",
      "model_name": "DescriptionStyleModel",
      "state": {
       "description_width": ""
      }
     },
     "7ea03e0c69fb470c80dcc3a47d42bd90": {
      "model_module": "@jupyter-widgets/base",
      "model_module_version": "1.2.0",
      "model_name": "LayoutModel",
      "state": {
       "height": "auto",
       "padding": "0px 0px 0px 4px",
       "width": "auto"
      }
     },
     "7eced15af30d499e839a73ee04b036d4": {
      "model_module": "@jupyter-widgets/controls",
      "model_module_version": "1.5.0",
      "model_name": "ToggleButtonModel",
      "state": {
       "icon": "wrench",
       "layout": "IPY_MODEL_e1194c824b404bbcafd7be60ae95a285",
       "style": "IPY_MODEL_e0a72ce25bf14263ba34cc9542200150",
       "tooltip": "Toolbar"
      }
     },
     "7f182529248d4114b0dffbf3c9c357f4": {
      "model_module": "@jupyter-widgets/controls",
      "model_module_version": "1.5.0",
      "model_name": "HTMLModel",
      "state": {
       "layout": "IPY_MODEL_d11b8c07eec543978bab49e49c5e77fe",
       "style": "IPY_MODEL_d46efb2f0e9145a1b101c51d49bd5b84"
      }
     },
     "80f9f07659b84f48a22cc7c785ca6453": {
      "model_module": "jupyter-leaflet",
      "model_module_version": "^0.14.0",
      "model_name": "LeafletTileLayerModel",
      "state": {
       "_model_module_version": "^0.14.0",
       "_view_module_version": "^0.14.0",
       "attribution": "&copy; Openstreetmap France | &copy; <a href=\"http://www.openstreetmap.org/copyright\">OpenStreetMap</a>",
       "max_native_zoom": 18,
       "max_zoom": 20,
       "min_native_zoom": 0,
       "min_zoom": 1,
       "name": "OpenStreetMap.France",
       "options": [
        "attribution",
        "detect_retina",
        "max_native_zoom",
        "max_zoom",
        "min_native_zoom",
        "min_zoom",
        "no_wrap",
        "tile_size",
        "tms"
       ],
       "url": "http://{s}.tile.openstreetmap.fr/osmfr/{z}/{x}/{y}.png"
      }
     },
     "8145234e184444238676c94522fb8960": {
      "model_module": "jupyter-leaflet",
      "model_module_version": "^0.14.0",
      "model_name": "LeafletTileLayerModel",
      "state": {
       "_model_module_version": "^0.14.0",
       "_view_module_version": "^0.14.0",
       "attribution": "&copy; <a href=\"http://www.openstreetmap.org/copyright\">OpenStreetMap</a>",
       "max_native_zoom": 18,
       "max_zoom": 19,
       "min_native_zoom": 0,
       "min_zoom": 1,
       "name": "HikeBike.HikeBike",
       "options": [
        "attribution",
        "detect_retina",
        "max_native_zoom",
        "max_zoom",
        "min_native_zoom",
        "min_zoom",
        "no_wrap",
        "tile_size",
        "tms"
       ],
       "url": "http://{s}.tiles.wmflabs.org/hikebike/{z}/{x}/{y}.png"
      }
     },
     "81646d95d671433490a4a2f643b03a93": {
      "model_module": "@jupyter-widgets/base",
      "model_module_version": "1.2.0",
      "model_name": "LayoutModel",
      "state": {
       "height": "auto",
       "padding": "0px 0px 0px 4px",
       "width": "auto"
      }
     },
     "834c649b211849e397e59736e2aefefb": {
      "model_module": "@jupyter-widgets/base",
      "model_module_version": "1.2.0",
      "model_name": "LayoutModel",
      "state": {}
     },
     "83b159927e054177836ce25181cf8265": {
      "model_module": "jupyter-leaflet",
      "model_module_version": "^0.14.0",
      "model_name": "LeafletTileLayerModel",
      "state": {
       "_model_module_version": "^0.14.0",
       "_view_module_version": "^0.14.0",
       "attribution": "Map tiles by <a href=\"http://stamen.com/\">Stamen Design</a>, under <a href=\"http://creativecommons.org/licenses/by/3.0\">CC BY 3.0</a>. Data by <a href=\"http://openstreetmap.org/\">OpenStreetMap</a>, under <a href=\"http://creativecommons.org/licenses/by-sa/3.0\">CC BY SA</a>.",
       "max_native_zoom": 18,
       "max_zoom": 20,
       "min_native_zoom": 0,
       "name": "Stamen.Toner",
       "options": [
        "attribution",
        "detect_retina",
        "max_native_zoom",
        "max_zoom",
        "min_native_zoom",
        "min_zoom",
        "no_wrap",
        "tile_size",
        "tms"
       ],
       "url": "https://stamen-tiles-a.a.ssl.fastly.net/toner/{z}/{x}/{y}.png"
      }
     },
     "84ba4129bcd14cffaceb2bbc155bbb93": {
      "model_module": "@jupyter-widgets/controls",
      "model_module_version": "1.5.0",
      "model_name": "ToggleButtonModel",
      "state": {
       "icon": "globe",
       "layout": "IPY_MODEL_fb6ef07d9a734225a471993f3910facd",
       "style": "IPY_MODEL_8addaf2afe7e46c9b4b63aec0ed81e2f",
       "tooltip": "Search location/data"
      }
     },
     "854e7f55fce24691abe7e5eefde6bd02": {
      "model_module": "jupyter-leaflet",
      "model_module_version": "^0.14.0",
      "model_name": "LeafletTileLayerModel",
      "state": {
       "_model_module_version": "^0.14.0",
       "_view_module_version": "^0.14.0",
       "attribution": "Tiles courtesy of <a href=\"http://openstreetmap.se/\" target=\"_blank\">OpenStreetMap Sweden</a> &mdash; Map data &copy; <a href=\"http://www.openstreetmap.org/copyright\">OpenStreetMap</a>",
       "max_native_zoom": 18,
       "min_native_zoom": 0,
       "min_zoom": 1,
       "name": "Hydda.Full",
       "options": [
        "attribution",
        "detect_retina",
        "max_native_zoom",
        "max_zoom",
        "min_native_zoom",
        "min_zoom",
        "no_wrap",
        "tile_size",
        "tms"
       ],
       "url": "http://{s}.tile.openstreetmap.se/hydda/full/{z}/{x}/{y}.png"
      }
     },
     "85a687746d864cbda0374f62431997a5": {
      "model_module": "jupyter-leaflet",
      "model_module_version": "^0.14.0",
      "model_name": "LeafletWMSLayerModel",
      "state": {
       "_model_module_version": "^0.14.0",
       "_view_module_version": "^0.14.0",
       "attribution": "FWS",
       "crs": {
        "custom": false,
        "name": "EPSG3857"
       },
       "format": "image/png",
       "layers": "0",
       "max_native_zoom": 18,
       "min_native_zoom": 0,
       "name": "FWS NWI Wetlands Raster",
       "options": [
        "attribution",
        "detect_retina",
        "format",
        "layers",
        "max_native_zoom",
        "max_zoom",
        "min_native_zoom",
        "min_zoom",
        "no_wrap",
        "styles",
        "tile_size",
        "tms",
        "transparent",
        "uppercase"
       ],
       "transparent": true,
       "url": "https://www.fws.gov/wetlands/arcgis/services/Wetlands_Raster/ImageServer/WMSServer?"
      }
     },
     "86c41a48c1f44e1199fb2a29074ca7c0": {
      "model_module": "jupyter-leaflet",
      "model_module_version": "^0.14.0",
      "model_name": "LeafletMapStyleModel",
      "state": {
       "_model_module_version": "^0.14.0"
      }
     },
     "87b134d09c7041b8b51bf2e43ca35d28": {
      "model_module": "jupyter-leaflet",
      "model_module_version": "^0.14.0",
      "model_name": "LeafletTileLayerModel",
      "state": {
       "_model_module_version": "^0.14.0",
       "_view_module_version": "^0.14.0",
       "base": true,
       "max_native_zoom": 18,
       "max_zoom": 19,
       "min_native_zoom": 0,
       "min_zoom": 1,
       "options": [
        "attribution",
        "detect_retina",
        "max_native_zoom",
        "max_zoom",
        "min_native_zoom",
        "min_zoom",
        "no_wrap",
        "tile_size",
        "tms"
       ]
      }
     },
     "8849dba2d5a145469f2e8a56affeab8b": {
      "model_module": "jupyter-leaflet",
      "model_module_version": "^0.14.0",
      "model_name": "LeafletTileLayerModel",
      "state": {
       "_model_module_version": "^0.14.0",
       "_view_module_version": "^0.14.0",
       "attribution": "&copy; <a href=\"http://www.openstreetmap.org/copyright\">OpenStreetMap</a> &copy; <a href=\"http://cartodb.com/attributions\">CartoDB</a>",
       "max_native_zoom": 18,
       "max_zoom": 20,
       "min_native_zoom": 0,
       "min_zoom": 1,
       "name": "CartoDB.DarkMatter",
       "options": [
        "attribution",
        "detect_retina",
        "max_native_zoom",
        "max_zoom",
        "min_native_zoom",
        "min_zoom",
        "no_wrap",
        "tile_size",
        "tms"
       ],
       "url": "http://c.basemaps.cartocdn.com/dark_all/{z}/{x}/{y}.png"
      }
     },
     "8855b73d1dd248a7accb33b7518157a4": {
      "model_module": "jupyter-leaflet",
      "model_module_version": "^0.14.0",
      "model_name": "LeafletTileLayerModel",
      "state": {
       "_model_module_version": "^0.14.0",
       "_view_module_version": "^0.14.0",
       "attribution": "Esri",
       "max_native_zoom": 18,
       "min_native_zoom": 0,
       "name": "Esri Transportation",
       "options": [
        "attribution",
        "detect_retina",
        "max_native_zoom",
        "max_zoom",
        "min_native_zoom",
        "min_zoom",
        "no_wrap",
        "tile_size",
        "tms"
       ],
       "url": "https://server.arcgisonline.com/ArcGIS/rest/services/Reference/World_Transportation/MapServer/tile/{z}/{y}/{x}"
      }
     },
     "891b3719a5854488bf0bd9a723f53eaf": {
      "model_module": "jupyter-leaflet",
      "model_module_version": "^0.14.0",
      "model_name": "LeafletWidgetControlModel",
      "state": {
       "_model_module": "jupyter-leaflet",
       "_model_module_version": "^0.14.0",
       "_view_count": null,
       "_view_module": "jupyter-leaflet",
       "_view_module_version": "^0.14.0",
       "options": [
        "position",
        "transparent_bg"
       ],
       "position": "topright",
       "widget": "IPY_MODEL_4582a4fe7c1544d58892aa7e253c8a53"
      }
     },
     "896b0b2371554d7e89fd0e3685f93117": {
      "model_module": "@jupyter-widgets/controls",
      "model_module_version": "1.5.0",
      "model_name": "ToggleButtonModel",
      "state": {
       "button_style": "primary",
       "icon": "globe",
       "layout": "IPY_MODEL_3c96b12c7d384655ad5cfdae11f405aa",
       "style": "IPY_MODEL_314c6143b1314fb09668e7ea703bfecb",
       "tooltip": "Create timelapse"
      }
     },
     "89876d268e7641099a07aefd32c9d12c": {
      "model_module": "@jupyter-widgets/controls",
      "model_module_version": "1.5.0",
      "model_name": "ButtonModel",
      "state": {
       "description": "Cancel",
       "layout": "IPY_MODEL_cd51cd41df8748bab073ddfa178ab53f",
       "style": "IPY_MODEL_8f3e7eacbb2140ae8cf4024547babaa9"
      }
     },
     "8a9e49417e76448fa015e0873a346df6": {
      "model_module": "jupyter-leaflet",
      "model_module_version": "^0.14.0",
      "model_name": "LeafletWidgetControlModel",
      "state": {
       "_model_module": "jupyter-leaflet",
       "_model_module_version": "^0.14.0",
       "_view_count": null,
       "_view_module": "jupyter-leaflet",
       "_view_module_version": "^0.14.0",
       "options": [
        "position",
        "transparent_bg"
       ],
       "position": "topright",
       "widget": "IPY_MODEL_7b42d30971bf4040992052c6eb4e2038"
      }
     },
     "8aa994cabf5841e7a00ce8cc184254f7": {
      "model_module": "@jupyter-widgets/controls",
      "model_module_version": "1.5.0",
      "model_name": "VBoxModel",
      "state": {
       "children": [
        "IPY_MODEL_e95904e94cfd451ab41c49ba875df078"
       ],
       "layout": "IPY_MODEL_90b7b5094c2446f5a6ee2c5d21bab239"
      }
     },
     "8aadb538f66a49ccb68e533489d411ca": {
      "model_module": "@jupyter-widgets/controls",
      "model_module_version": "1.5.0",
      "model_name": "DescriptionStyleModel",
      "state": {
       "description_width": ""
      }
     },
     "8addaf2afe7e46c9b4b63aec0ed81e2f": {
      "model_module": "@jupyter-widgets/controls",
      "model_module_version": "1.5.0",
      "model_name": "DescriptionStyleModel",
      "state": {
       "description_width": ""
      }
     },
     "8b1acaab10144526a62dca39c5dd43f6": {
      "model_module": "@jupyter-widgets/base",
      "model_module_version": "1.2.0",
      "model_name": "LayoutModel",
      "state": {
       "height": "auto",
       "padding": "0px 0px 0px 4px",
       "width": "auto"
      }
     },
     "8b3bbf1a4e614ba8a1916481ed82cdc8": {
      "model_module": "@jupyter-widgets/base",
      "model_module_version": "1.2.0",
      "model_name": "LayoutModel",
      "state": {
       "height": "auto",
       "padding": "0px 0px 0px 4px",
       "width": "auto"
      }
     },
     "8b461559732b4ea99e0cdd2fa939c7bd": {
      "model_module": "@jupyter-widgets/controls",
      "model_module_version": "1.5.0",
      "model_name": "DescriptionStyleModel",
      "state": {
       "description_width": ""
      }
     },
     "8b4fb880cc904b4691bce57047be7915": {
      "model_module": "@jupyter-widgets/base",
      "model_module_version": "1.2.0",
      "model_name": "LayoutModel",
      "state": {
       "width": "340px"
      }
     },
     "8bd4b66aee694b8d96499e35a085a239": {
      "model_module": "@jupyter-widgets/base",
      "model_module_version": "1.2.0",
      "model_name": "LayoutModel",
      "state": {
       "height": "auto",
       "padding": "0px 0px 0px 4px",
       "width": "auto"
      }
     },
     "8d51e0ecbded43868578b2dce1fbd070": {
      "model_module": "@jupyter-widgets/controls",
      "model_module_version": "1.5.0",
      "model_name": "ToggleButtonsStyleModel",
      "state": {
       "button_width": "110px",
       "description_width": ""
      }
     },
     "8e0d727c38914ed4aed816b0af340e72": {
      "model_module": "@jupyter-widgets/base",
      "model_module_version": "1.2.0",
      "model_name": "LayoutModel",
      "state": {
       "height": "auto",
       "padding": "0px 0px 0px 4px",
       "width": "auto"
      }
     },
     "8e3c1723eac34e7e93768b275189c331": {
      "model_module": "jupyter-leaflet",
      "model_module_version": "^0.14.0",
      "model_name": "LeafletWidgetControlModel",
      "state": {
       "_model_module": "jupyter-leaflet",
       "_model_module_version": "^0.14.0",
       "_view_count": null,
       "_view_module": "jupyter-leaflet",
       "_view_module_version": "^0.14.0",
       "options": [
        "position",
        "transparent_bg"
       ],
       "position": "topright",
       "widget": "IPY_MODEL_175854cfd2904079824a94062e487db9"
      }
     },
     "8e45c1eec95542d58a5e11b9baf84e90": {
      "model_module": "jupyter-leaflet",
      "model_module_version": "^0.14.0",
      "model_name": "LeafletTileLayerModel",
      "state": {
       "_model_module_version": "^0.14.0",
       "_view_module_version": "^0.14.0",
       "attribution": "\nImagery provided by services from the Global Imagery Browse Services (GIBS), operated by the NASA/GSFC/Earth Science Data and Information System (<a href=\"https://earthdata.nasa.gov\">ESDIS</a>) with funding provided by NASA/HQ.\n",
       "max_native_zoom": 18,
       "max_zoom": 9,
       "min_native_zoom": 0,
       "min_zoom": 1,
       "name": "NASAGIBS.ViirsTrueColorCR",
       "options": [
        "attribution",
        "detect_retina",
        "max_native_zoom",
        "max_zoom",
        "min_native_zoom",
        "min_zoom",
        "no_wrap",
        "tile_size",
        "tms"
       ],
       "url": "https://gibs.earthdata.nasa.gov/wmts/epsg3857/best/VIIRS_SNPP_CorrectedReflectance_TrueColor/default/2021-07-26/GoogleMapsCompatible_Level9/{z}/{y}/{x}.jpg"
      }
     },
     "8e4aff412fae4fa793f2854ebd04b880": {
      "model_module": "@jupyter-widgets/base",
      "model_module_version": "1.2.0",
      "model_name": "LayoutModel",
      "state": {
       "height": "auto",
       "padding": "0px 0px 0px 4px",
       "width": "auto"
      }
     },
     "8eebf8553c8b4452af00ea7d702f1003": {
      "model_module": "@jupyter-widgets/base",
      "model_module_version": "1.2.0",
      "model_name": "LayoutModel",
      "state": {}
     },
     "8f2abffc36ab4a64bf3824007db7ffcd": {
      "model_module": "jupyter-leaflet",
      "model_module_version": "^0.14.0",
      "model_name": "LeafletTileLayerModel",
      "state": {
       "_model_module_version": "^0.14.0",
       "_view_module_version": "^0.14.0",
       "attribution": "Esri",
       "max_native_zoom": 18,
       "min_native_zoom": 0,
       "name": "Esri National Geographic",
       "options": [
        "attribution",
        "detect_retina",
        "max_native_zoom",
        "max_zoom",
        "min_native_zoom",
        "min_zoom",
        "no_wrap",
        "tile_size",
        "tms"
       ],
       "url": "http://services.arcgisonline.com/ArcGIS/rest/services/NatGeo_World_Map/MapServer/tile/{z}/{y}/{x}"
      }
     },
     "8f3e7eacbb2140ae8cf4024547babaa9": {
      "model_module": "@jupyter-widgets/controls",
      "model_module_version": "1.5.0",
      "model_name": "ButtonStyleModel",
      "state": {}
     },
     "90b7b5094c2446f5a6ee2c5d21bab239": {
      "model_module": "@jupyter-widgets/base",
      "model_module_version": "1.2.0",
      "model_name": "LayoutModel",
      "state": {}
     },
     "916b9315794e4d5980cef3979dda1ec2": {
      "model_module": "@jupyter-widgets/output",
      "model_module_version": "1.0.0",
      "model_name": "OutputModel",
      "state": {
       "layout": "IPY_MODEL_d4797054da41499fa1be13e81b8bc019"
      }
     },
     "924f120cce8d4fe4adfdd8276d6713ef": {
      "model_module": "@jupyter-widgets/controls",
      "model_module_version": "1.5.0",
      "model_name": "DescriptionStyleModel",
      "state": {
       "description_width": ""
      }
     },
     "92fe8b0f7f824d63bd69a7467d33ce16": {
      "model_module": "jupyter-leaflet",
      "model_module_version": "^0.14.0",
      "model_name": "LeafletTileLayerModel",
      "state": {
       "_model_module_version": "^0.14.0",
       "_view_module_version": "^0.14.0",
       "attribution": "Esri",
       "max_native_zoom": 18,
       "min_native_zoom": 0,
       "name": "Esri Transportation",
       "options": [
        "attribution",
        "detect_retina",
        "max_native_zoom",
        "max_zoom",
        "min_native_zoom",
        "min_zoom",
        "no_wrap",
        "tile_size",
        "tms"
       ],
       "url": "https://server.arcgisonline.com/ArcGIS/rest/services/Reference/World_Transportation/MapServer/tile/{z}/{y}/{x}"
      }
     },
     "931d8f1073c648b4a5a1439a7f051b63": {
      "model_module": "@jupyter-widgets/base",
      "model_module_version": "1.2.0",
      "model_name": "LayoutModel",
      "state": {
       "height": "auto",
       "padding": "0px 0px 0px 4px",
       "width": "auto"
      }
     },
     "93350a7b2edc43b6b7808d4d347f35c2": {
      "model_module": "jupyter-leaflet",
      "model_module_version": "^0.14.0",
      "model_name": "LeafletScaleControlModel",
      "state": {
       "_model_module_version": "^0.14.0",
       "_view_module_version": "^0.14.0",
       "imperial": true,
       "max_width": 100,
       "metric": true,
       "options": [
        "imperial",
        "max_width",
        "metric",
        "position",
        "update_when_idle"
       ],
       "position": "bottomleft",
       "update_when_idle": false
      }
     },
     "93bb42a960bf461e87f97ddf8b0b6a54": {
      "model_module": "@jupyter-widgets/base",
      "model_module_version": "1.2.0",
      "model_name": "LayoutModel",
      "state": {}
     },
     "956d05b99a0f4a519ff3dc6e7a5ebf3f": {
      "model_module": "@jupyter-widgets/controls",
      "model_module_version": "1.5.0",
      "model_name": "DescriptionStyleModel",
      "state": {
       "description_width": ""
      }
     },
     "957a35bae0774f2c86f1be698b7a7ac5": {
      "model_module": "jupyter-leaflet",
      "model_module_version": "^0.14.0",
      "model_name": "LeafletTileLayerModel",
      "state": {
       "_model_module_version": "^0.14.0",
       "_view_module_version": "^0.14.0",
       "max_native_zoom": 18,
       "max_zoom": 19,
       "min_native_zoom": 0,
       "min_zoom": 1,
       "name": "OpenStreetMap.Mapnik",
       "options": [
        "attribution",
        "detect_retina",
        "max_native_zoom",
        "max_zoom",
        "min_native_zoom",
        "min_zoom",
        "no_wrap",
        "tile_size",
        "tms"
       ]
      }
     },
     "959a6861b47c4e5b89257ef5b59769df": {
      "model_module": "@jupyter-widgets/controls",
      "model_module_version": "1.5.0",
      "model_name": "DescriptionStyleModel",
      "state": {
       "description_width": ""
      }
     },
     "95d10b68ca3248a9ba22a07269b65d03": {
      "model_module": "@jupyter-widgets/controls",
      "model_module_version": "1.5.0",
      "model_name": "DescriptionStyleModel",
      "state": {
       "description_width": ""
      }
     },
     "960df32317ff4de2a14a3239fc9bc5f0": {
      "model_module": "jupyter-leaflet",
      "model_module_version": "^0.14.0",
      "model_name": "LeafletTileLayerModel",
      "state": {
       "_model_module_version": "^0.14.0",
       "_view_module_version": "^0.14.0",
       "attribution": "Tiles &copy; Esri &mdash; Source: Esri, i-cubed, USDA, USGS, AEX, GeoEye, Getmapping, Aerogrid, IGN, IGP, UPR-EGP, and the GIS User Community",
       "max_native_zoom": 18,
       "max_zoom": 20,
       "min_native_zoom": 0,
       "min_zoom": 1,
       "name": "Esri.WorldImagery",
       "options": [
        "attribution",
        "detect_retina",
        "max_native_zoom",
        "max_zoom",
        "min_native_zoom",
        "min_zoom",
        "no_wrap",
        "tile_size",
        "tms"
       ],
       "url": "http://server.arcgisonline.com/ArcGIS/rest/services/World_Imagery/MapServer/tile/{z}/{y}/{x}"
      }
     },
     "977aad255ee24061bbadf72ca94981f8": {
      "model_module": "@jupyter-widgets/controls",
      "model_module_version": "1.5.0",
      "model_name": "VBoxModel",
      "state": {
       "children": [
        "IPY_MODEL_6e06d576d50949e38c70955fda1ec58d",
        "IPY_MODEL_e6de41a5e7e94232b6cca559540380e9"
       ],
       "layout": "IPY_MODEL_4aff593455f34dfe874a8e1a646f4869"
      }
     },
     "97971a9434f0433191078b683fdabf90": {
      "model_module": "ipyevents",
      "model_module_version": "1.8.2",
      "model_name": "EventModel",
      "state": {
       "_supported_key_events": [
        "keydown",
        "keyup"
       ],
       "_supported_mouse_events": [
        "click",
        "auxclick",
        "dblclick",
        "mouseenter",
        "mouseleave",
        "mousedown",
        "mouseup",
        "mousemove",
        "wheel",
        "contextmenu",
        "dragstart",
        "drag",
        "dragend",
        "dragenter",
        "dragover",
        "dragleave",
        "drop"
       ],
       "_view_module": "@jupyter-widgets/controls",
       "_view_module_version": "1.5.0",
       "source": "IPY_MODEL_fea189c91a96426b90a36993fb43c3c1",
       "throttle_or_debounce": "",
       "watched_events": [
        "mouseenter",
        "mouseleave"
       ],
       "xy_coordinate_system": ""
      }
     },
     "97fd496939cc44598f2570758fbb2020": {
      "model_module": "@jupyter-widgets/controls",
      "model_module_version": "1.5.0",
      "model_name": "ButtonModel",
      "state": {
       "description": "Select",
       "layout": "IPY_MODEL_3f2e8aca14c047faaff05fb9873f5542",
       "style": "IPY_MODEL_227281968d6540879fb47f8f8d40b000"
      }
     },
     "982d9580b23e4ca981f22489c65d650e": {
      "model_module": "jupyter-leaflet",
      "model_module_version": "^0.14.0",
      "model_name": "LeafletTileLayerModel",
      "state": {
       "_model_module_version": "^0.14.0",
       "_view_module_version": "^0.14.0",
       "attribution": "Tiles &copy; Esri &mdash; National Geographic, Esri, DeLorme, NAVTEQ, UNEP-WCMC, USGS, NASA, ESA, METI, NRCAN, GEBCO, NOAA, iPC",
       "max_native_zoom": 18,
       "max_zoom": 16,
       "min_native_zoom": 0,
       "min_zoom": 1,
       "name": "Esri.NatGeoWorldMap",
       "options": [
        "attribution",
        "detect_retina",
        "max_native_zoom",
        "max_zoom",
        "min_native_zoom",
        "min_zoom",
        "no_wrap",
        "tile_size",
        "tms"
       ],
       "url": "http://server.arcgisonline.com/ArcGIS/rest/services/NatGeo_World_Map/MapServer/tile/{z}/{y}/{x}"
      }
     },
     "98933d30723d436ab4613740e51902b1": {
      "model_module": "jupyter-leaflet",
      "model_module_version": "^0.14.0",
      "model_name": "LeafletTileLayerModel",
      "state": {
       "_model_module_version": "^0.14.0",
       "_view_module_version": "^0.14.0",
       "attribution": "Map data: &copy; <a href=\"http://www.openstreetmap.org/copyright\">OpenStreetMap</a>, <a href=\"http://viewfinderpanoramas.org\">SRTM</a> | Map style: &copy; <a href=\"https://opentopomap.org\">OpenTopoMap</a> (<a href=\"https://creativecommons.org/licenses/by-sa/3.0/\">CC-BY-SA</a>)",
       "max_native_zoom": 18,
       "max_zoom": 17,
       "min_native_zoom": 0,
       "min_zoom": 1,
       "name": "OpenTopoMap",
       "options": [
        "attribution",
        "detect_retina",
        "max_native_zoom",
        "max_zoom",
        "min_native_zoom",
        "min_zoom",
        "no_wrap",
        "tile_size",
        "tms"
       ],
       "url": "https://{s}.tile.opentopomap.org/{z}/{x}/{y}.png"
      }
     },
     "98be4f3edfdb4222996bb9af74621e73": {
      "model_module": "@jupyter-widgets/controls",
      "model_module_version": "1.5.0",
      "model_name": "DescriptionStyleModel",
      "state": {
       "description_width": ""
      }
     },
     "98d9aedcc09c4dabbbe9ffd0dd4b2c11": {
      "model_module": "jupyter-leaflet",
      "model_module_version": "^0.14.0",
      "model_name": "LeafletTileLayerModel",
      "state": {
       "_model_module_version": "^0.14.0",
       "_view_module_version": "^0.14.0",
       "attribution": "&copy; <a href=\"http://www.openstreetmap.org/copyright\">OpenStreetMap</a> &amp; USGS",
       "max_native_zoom": 18,
       "max_zoom": 20,
       "min_native_zoom": 0,
       "min_zoom": 1,
       "name": "MtbMap",
       "options": [
        "attribution",
        "detect_retina",
        "max_native_zoom",
        "max_zoom",
        "min_native_zoom",
        "min_zoom",
        "no_wrap",
        "tile_size",
        "tms"
       ],
       "url": "http://tile.mtbmap.cz/mtbmap_tiles/{z}/{x}/{y}.png"
      }
     },
     "99b3ddb469734ab680a7fee75d9579a6": {
      "model_module": "jupyter-leaflet",
      "model_module_version": "^0.14.0",
      "model_name": "LeafletTileLayerModel",
      "state": {
       "_model_module_version": "^0.14.0",
       "_view_module_version": "^0.14.0",
       "attribution": "Map tiles by <a href=\"https://labs.strava.com/heatmap\">Strava 2017</a>",
       "max_native_zoom": 18,
       "max_zoom": 15,
       "min_native_zoom": 0,
       "min_zoom": 1,
       "name": "Strava.Water",
       "options": [
        "attribution",
        "detect_retina",
        "max_native_zoom",
        "max_zoom",
        "min_native_zoom",
        "min_zoom",
        "no_wrap",
        "tile_size",
        "tms"
       ],
       "url": "https://heatmap-external-a.strava.com//tiles/water/blue/{z}/{x}/{y}.png?v=19"
      }
     },
     "9c068ee839a5421d8576d1e5f8411c20": {
      "model_module": "@jupyter-widgets/base",
      "model_module_version": "1.2.0",
      "model_name": "LayoutModel",
      "state": {
       "height": "600px"
      }
     },
     "9c311fcfd2e74033bb7ad94a41734a43": {
      "model_module": "jupyter-leaflet",
      "model_module_version": "^0.14.0",
      "model_name": "LeafletTileLayerModel",
      "state": {
       "_model_module_version": "^0.14.0",
       "_view_module_version": "^0.14.0",
       "attribution": "Tiles &copy; Esri &mdash; Copyright: &copy;2012 DeLorme",
       "max_native_zoom": 18,
       "max_zoom": 11,
       "min_native_zoom": 0,
       "min_zoom": 1,
       "name": "Esri.DeLorme",
       "options": [
        "attribution",
        "detect_retina",
        "max_native_zoom",
        "max_zoom",
        "min_native_zoom",
        "min_zoom",
        "no_wrap",
        "tile_size",
        "tms"
       ],
       "url": "http://server.arcgisonline.com/ArcGIS/rest/services/Specialty/DeLorme_World_Base_Map/MapServer/tile/{z}/{y}/{x}"
      }
     },
     "9c3244c34f034c6e8dbdcf96999b502e": {
      "model_module": "@jupyter-widgets/controls",
      "model_module_version": "1.5.0",
      "model_name": "ToggleButtonsModel",
      "state": {
       "_options_labels": [
        "HTML",
        "PNG",
        "JPG"
       ],
       "button_style": "",
       "icons": [],
       "index": 0,
       "layout": "IPY_MODEL_834c649b211849e397e59736e2aefefb",
       "style": "IPY_MODEL_ce97133acbda42e4b00bbf1b397b16c1",
       "tooltips": [
        "Save the map as an HTML file",
        "Take a screenshot and save as a PNG file",
        "Take a screenshot and save as a JPG file"
       ]
      }
     },
     "9c7466d5fbd84bc29c3089b9a053d6ac": {
      "model_module": "ipyevents",
      "model_module_version": "1.8.2",
      "model_name": "EventModel",
      "state": {
       "_supported_key_events": [
        "keydown",
        "keyup"
       ],
       "_supported_mouse_events": [
        "click",
        "auxclick",
        "dblclick",
        "mouseenter",
        "mouseleave",
        "mousedown",
        "mouseup",
        "mousemove",
        "wheel",
        "contextmenu",
        "dragstart",
        "drag",
        "dragend",
        "dragenter",
        "dragover",
        "dragleave",
        "drop"
       ],
       "_view_module": "@jupyter-widgets/controls",
       "_view_module_version": "1.5.0",
       "source": "IPY_MODEL_3a0cd1826da64050b9cfd774246fde70",
       "throttle_or_debounce": "",
       "watched_events": [
        "mouseenter",
        "mouseleave"
       ],
       "xy_coordinate_system": ""
      }
     },
     "9cfb5d37ed154857a00feda9f0ea528a": {
      "model_module": "jupyter-leaflet",
      "model_module_version": "^0.14.0",
      "model_name": "LeafletTileLayerModel",
      "state": {
       "_model_module_version": "^0.14.0",
       "_view_module_version": "^0.14.0",
       "attribution": "Map tiles by <a href=\"http://stamen.com/\">Stamen Design</a>, under <a href=\"http://creativecommons.org/licenses/by/3.0\">CC BY 3.0</a>. Data by <a href=\"http://openstreetmap.org/\">OpenStreetMap</a>, under <a href=\"http://creativecommons.org/licenses/by-sa/3.0\">CC BY SA</a>.",
       "max_native_zoom": 18,
       "min_native_zoom": 0,
       "min_zoom": 1,
       "name": "Stamen.Watercolor",
       "options": [
        "attribution",
        "detect_retina",
        "max_native_zoom",
        "max_zoom",
        "min_native_zoom",
        "min_zoom",
        "no_wrap",
        "tile_size",
        "tms"
       ],
       "url": "https://stamen-tiles-a.a.ssl.fastly.net/watercolor/{z}/{x}/{y}.png"
      }
     },
     "9d944e0e14804a0e9c58dd17d2057418": {
      "model_module": "@jupyter-widgets/controls",
      "model_module_version": "1.5.0",
      "model_name": "VBoxModel",
      "state": {
       "children": [
        "IPY_MODEL_3b48163ec4a2405f908d8521690c000f",
        "IPY_MODEL_58918f21965044b09dd96bc5c5f29fd4"
       ],
       "layout": "IPY_MODEL_1dc952c7f20a4209b63a035e60d8dcdd"
      }
     },
     "9d9dcb783024423ea60956bdcb32d851": {
      "model_module": "jupyter-leaflet",
      "model_module_version": "^0.14.0",
      "model_name": "LeafletAwesomeIconModel",
      "state": {
       "_model_module_version": "^0.14.0",
       "_view_module_version": "^0.14.0",
       "icon_color": "darkgreen",
       "marker_color": "green",
       "name": "check"
      }
     },
     "9e2665942a734ca8affce73c600039ea": {
      "model_module": "@jupyter-widgets/controls",
      "model_module_version": "1.5.0",
      "model_name": "ToggleButtonModel",
      "state": {
       "button_style": "primary",
       "icon": "camera",
       "layout": "IPY_MODEL_478cd67d954d49da98f05dd31ac3552c",
       "style": "IPY_MODEL_d88dc96a52c54ff593d7231cc0868f46",
       "tooltip": "Save map as HTML or image"
      }
     },
     "9f39230d50c94b7abd833e0d14acd29e": {
      "model_module": "jupyter-leaflet",
      "model_module_version": "^0.14.0",
      "model_name": "LeafletTileLayerModel",
      "state": {
       "_model_module_version": "^0.14.0",
       "_view_module_version": "^0.14.0",
       "attribution": "Esri",
       "max_native_zoom": 18,
       "min_native_zoom": 0,
       "name": "Esri Shaded Relief",
       "options": [
        "attribution",
        "detect_retina",
        "max_native_zoom",
        "max_zoom",
        "min_native_zoom",
        "min_zoom",
        "no_wrap",
        "tile_size",
        "tms"
       ],
       "url": "https://services.arcgisonline.com/arcgis/rest/services/World_Shaded_Relief/MapServer/tile/{z}/{y}/{x}"
      }
     },
     "a05fb703ba3d41848a30ce248068286f": {
      "model_module": "@jupyter-widgets/controls",
      "model_module_version": "1.5.0",
      "model_name": "DescriptionStyleModel",
      "state": {
       "description_width": ""
      }
     },
     "a14437c560364c11a9fceaefa87a2967": {
      "model_module": "@jupyter-widgets/base",
      "model_module_version": "1.2.0",
      "model_name": "LayoutModel",
      "state": {
       "width": "auto"
      }
     },
     "a22b18646cbe4b7c81ce6a37d8dfbb77": {
      "model_module": "@jupyter-widgets/controls",
      "model_module_version": "1.5.0",
      "model_name": "SelectModel",
      "state": {
       "_options_labels": [
        "📁 ..",
        "📁 3D Objects",
        "📁 Ambiente de Impressão",
        "📁 Ambiente de Rede",
        "📁 AppData",
        "📁 Configurações Locais",
        "📁 Contacts",
        "📁 Cookies",
        "📁 Dados de Aplicativos",
        "📁 Desktop",
        "📁 Documents",
        "📁 Downloads",
        "📁 Favorites",
        "📁 IntelGraphicsProfiles",
        "📁 Links",
        "📁 Menu Iniciar",
        "📁 Meus Documentos",
        "📁 MicrosoftEdgeBackups",
        "📁 Modelos",
        "📁 Music",
        "📁 OneDrive",
        "📁 Pictures",
        "📁 PycharmProjects",
        "📁 Recent",
        "📁 Repo_test",
        "📁 Saved Games",
        "📁 Searches",
        "📁 SendTo",
        "📁 Videos",
        "📁 miniconda3",
        "📁 scikit_learn_data",
        "📁 seaborn-data",
        "Cartola_FC-Copy1.ipynb",
        "Cartola_FC.ipynb",
        "NBA_Salary_2000_2019.txt",
        "NTUSER.DAT",
        "NTUSER.DAT{417c3328-95b9-11eb-932d-c12f88aab537}.TM.blf",
        "NTUSER.DAT{417c3328-95b9-11eb-932d-c12f88aab537}.TMContainer00000000000000000001.regtrans-ms",
        "NTUSER.DAT{417c3328-95b9-11eb-932d-c12f88aab537}.TMContainer00000000000000000002.regtrans-ms",
        "SEI_BA_TI.csv",
        "Teste.ipynb",
        "Teste_2.ipynb",
        "Untitled.ipynb",
        "Untitled1.ipynb",
        "Untitled10.ipynb",
        "Untitled11.ipynb",
        "Untitled2.ipynb",
        "Untitled3.ipynb",
        "Untitled4.ipynb",
        "Untitled5.ipynb",
        "Untitled6.ipynb",
        "Untitled7.ipynb",
        "Untitled8.ipynb",
        "Untitled9.ipynb",
        "a.jpeg",
        "big_in.txt",
        "data.csv",
        "enterprise.db",
        "mercado_rodada_9.csv",
        "mushroom.csv",
        "mushroom2.csv",
        "mushroom_r.csv",
        "ntuser.dat.LOG1",
        "ntuser.dat.LOG2",
        "ntuser.ini",
        "out.csv",
        "relatorio (61).csv",
        "solucao_exemplo.ipynb",
        "solucao_knn_sklearn.ipynb",
        "solucao_manual.ipynb",
        "solucao_manual2.ipynb",
        "temp.png",
        "teste_geemap.ipynb",
        "teste_geemap2 (3).ipynb",
        "teste_geemap2.ipynb",
        "teste_geemap3.ipynb",
        "untitled.txt",
        "zoo.db"
       ],
       "index": null,
       "layout": "IPY_MODEL_3a7ae2ed9dcc40ce90f014a903028791",
       "rows": 8,
       "style": "IPY_MODEL_34ab1f6a454249ec846bfa3d0b127751"
      }
     },
     "a37eadb289b846659141c3cf1498b42a": {
      "model_module": "@jupyter-widgets/controls",
      "model_module_version": "1.5.0",
      "model_name": "HBoxModel",
      "state": {
       "children": [
        "IPY_MODEL_101127a2dd6a4284ba0eb38fd6d1c68e",
        "IPY_MODEL_6bab684c59554d42a0152a161c3ef9e9"
       ],
       "layout": "IPY_MODEL_0c09ceb5a79f42468027d388c5e1e7fd"
      }
     },
     "a45fec5fa31d47f1a68edcb394789f5d": {
      "model_module": "jupyter-leaflet",
      "model_module_version": "^0.14.0",
      "model_name": "LeafletTileLayerModel",
      "state": {
       "_model_module_version": "^0.14.0",
       "_view_module_version": "^0.14.0",
       "attribution": "Map tiles by <a href=\"http://stamen.com/\">Stamen Design</a>, under <a href=\"http://creativecommons.org/licenses/by/3.0\">CC BY 3.0</a>. Data by <a href=\"http://openstreetmap.org/\">OpenStreetMap</a>, under <a href=\"http://creativecommons.org/licenses/by-sa/3.0\">CC BY SA</a>.",
       "max_native_zoom": 18,
       "min_native_zoom": 0,
       "min_zoom": 1,
       "name": "Stamen.Watercolor",
       "options": [
        "attribution",
        "detect_retina",
        "max_native_zoom",
        "max_zoom",
        "min_native_zoom",
        "min_zoom",
        "no_wrap",
        "tile_size",
        "tms"
       ],
       "url": "https://stamen-tiles-a.a.ssl.fastly.net/watercolor/{z}/{x}/{y}.png"
      }
     },
     "a59be6dabf144679a94aef700ea94e7d": {
      "model_module": "jupyter-leaflet",
      "model_module_version": "^0.14.0",
      "model_name": "LeafletTileLayerModel",
      "state": {
       "_model_module_version": "^0.14.0",
       "_view_module_version": "^0.14.0",
       "attribution": "Esri",
       "max_native_zoom": 18,
       "min_native_zoom": 0,
       "name": "Esri Topo World",
       "options": [
        "attribution",
        "detect_retina",
        "max_native_zoom",
        "max_zoom",
        "min_native_zoom",
        "min_zoom",
        "no_wrap",
        "tile_size",
        "tms"
       ],
       "url": "https://services.arcgisonline.com/ArcGIS/rest/services/World_Topo_Map/MapServer/tile/{z}/{y}/{x}"
      }
     },
     "a64093522470449b91bbf62506b11183": {
      "model_module": "@jupyter-widgets/base",
      "model_module_version": "1.2.0",
      "model_name": "LayoutModel",
      "state": {
       "grid_gap": "1px 1px",
       "grid_template_columns": "32px 32px 32px ",
       "grid_template_rows": "32px 32px 32px 32px 32px 32px ",
       "padding": "5px",
       "width": "107px"
      }
     },
     "a6af457a062946d79e2ab0228594fd64": {
      "model_module": "jupyter-leaflet",
      "model_module_version": "^0.14.0",
      "model_name": "LeafletTileLayerModel",
      "state": {
       "_model_module_version": "^0.14.0",
       "_view_module_version": "^0.14.0",
       "attribution": "Google",
       "max_native_zoom": 18,
       "min_native_zoom": 0,
       "name": "Google Satellite",
       "options": [
        "attribution",
        "detect_retina",
        "max_native_zoom",
        "max_zoom",
        "min_native_zoom",
        "min_zoom",
        "no_wrap",
        "tile_size",
        "tms"
       ],
       "url": "https://mt1.google.com/vt/lyrs=s&x={x}&y={y}&z={z}"
      }
     },
     "a6d34ff4e9fb43d39655b6476c7f4337": {
      "model_module": "@jupyter-widgets/controls",
      "model_module_version": "1.5.0",
      "model_name": "HTMLModel",
      "state": {
       "layout": "IPY_MODEL_c8a44e5808c04e59a5cba57fb1ccd5a8",
       "style": "IPY_MODEL_f33b51329c2e427b9da491da43daa879"
      }
     },
     "a72641c4963349d89ca3d9508df34bb6": {
      "model_module": "@jupyter-widgets/base",
      "model_module_version": "1.2.0",
      "model_name": "LayoutModel",
      "state": {
       "width": "auto"
      }
     },
     "a72897f8ac7f4824bf5180de1e345843": {
      "model_module": "@jupyter-widgets/controls",
      "model_module_version": "1.5.0",
      "model_name": "ToggleButtonModel",
      "state": {
       "button_style": "primary",
       "icon": "google",
       "layout": "IPY_MODEL_db1ef9a7efa9453a84f91e085b966551",
       "style": "IPY_MODEL_00fc2bc61e25421e8fa06eef567965b4",
       "tooltip": "GEE Toolbox for cloud computing"
      }
     },
     "a76820bc659747e3ac511fc37afacc49": {
      "model_module": "jupyter-leaflet",
      "model_module_version": "^0.14.0",
      "model_name": "LeafletTileLayerModel",
      "state": {
       "_model_module_version": "^0.14.0",
       "_view_module_version": "^0.14.0",
       "attribution": "\nImagery provided by services from the Global Imagery Browse Services (GIBS), operated by the NASA/GSFC/Earth Science Data and Information System (<a href=\"https://earthdata.nasa.gov\">ESDIS</a>) with funding provided by NASA/HQ.\n",
       "max_native_zoom": 18,
       "max_zoom": 5,
       "min_native_zoom": 0,
       "min_zoom": 1,
       "name": "NASAGIBS.BlueMarble3413",
       "options": [
        "attribution",
        "detect_retina",
        "max_native_zoom",
        "max_zoom",
        "min_native_zoom",
        "min_zoom",
        "no_wrap",
        "tile_size",
        "tms"
       ],
       "url": "https://gibs.earthdata.nasa.gov/wmts/epsg3413/best/BlueMarble_NextGeneration/default/EPSG3413_500m/{z}/{y}/{x}.jpeg"
      }
     },
     "a808c09c4c0a4bd88b05b2ef1585168a": {
      "model_module": "@jupyter-widgets/controls",
      "model_module_version": "1.5.0",
      "model_name": "DescriptionStyleModel",
      "state": {
       "description_width": ""
      }
     },
     "a93a3b8066654d8586686880e4267b90": {
      "model_module": "@jupyter-widgets/base",
      "model_module_version": "1.2.0",
      "model_name": "LayoutModel",
      "state": {
       "height": "auto",
       "padding": "0px 0px 0px 4px",
       "width": "auto"
      }
     },
     "a9c83f901f2b4120aa29029c3f3dbdf7": {
      "model_module": "jupyter-leaflet",
      "model_module_version": "^0.14.0",
      "model_name": "LeafletTileLayerModel",
      "state": {
       "_model_module_version": "^0.14.0",
       "_view_module_version": "^0.14.0",
       "attribution": "Google",
       "max_native_zoom": 18,
       "min_native_zoom": 0,
       "name": "Google Maps",
       "options": [
        "attribution",
        "detect_retina",
        "max_native_zoom",
        "max_zoom",
        "min_native_zoom",
        "min_zoom",
        "no_wrap",
        "tile_size",
        "tms"
       ],
       "url": "https://mt1.google.com/vt/lyrs=m&x={x}&y={y}&z={z}"
      }
     },
     "aa127a29991c41cbad0a3d13a573b834": {
      "model_module": "@jupyter-widgets/controls",
      "model_module_version": "1.5.0",
      "model_name": "ToggleButtonModel",
      "state": {
       "button_style": "primary",
       "icon": "eraser",
       "layout": "IPY_MODEL_8b3bbf1a4e614ba8a1916481ed82cdc8",
       "style": "IPY_MODEL_0b42d0ced6cc4ba39c4b4e47177098bc",
       "tooltip": "Remove all drawn features"
      }
     },
     "aa143b1f351e4891b62a18f78edd188f": {
      "model_module": "jupyter-leaflet",
      "model_module_version": "^0.14.0",
      "model_name": "LeafletWMSLayerModel",
      "state": {
       "_model_module_version": "^0.14.0",
       "_view_module_version": "^0.14.0",
       "attribution": "FWS",
       "crs": {
        "custom": false,
        "name": "EPSG3857"
       },
       "format": "image/png",
       "layers": "1",
       "max_native_zoom": 18,
       "min_native_zoom": 0,
       "name": "FWS NWI Wetlands",
       "options": [
        "attribution",
        "detect_retina",
        "format",
        "layers",
        "max_native_zoom",
        "max_zoom",
        "min_native_zoom",
        "min_zoom",
        "no_wrap",
        "styles",
        "tile_size",
        "tms",
        "transparent",
        "uppercase"
       ],
       "transparent": true,
       "url": "https://www.fws.gov/wetlands/arcgis/services/Wetlands/MapServer/WMSServer?"
      }
     },
     "aa5d0e17c9774bd0a28d4b6ee3518482": {
      "model_module": "jupyter-leaflet",
      "model_module_version": "^0.14.0",
      "model_name": "LeafletTileLayerModel",
      "state": {
       "_model_module_version": "^0.14.0",
       "_view_module_version": "^0.14.0",
       "attribution": "Tiles &copy; Esri &mdash; Source: Esri, DeLorme, NAVTEQ, USGS, Intermap, iPC, NRCAN, Esri Japan, METI, Esri China (Hong Kong), Esri (Thailand), TomTom, 2012",
       "max_native_zoom": 18,
       "max_zoom": 20,
       "min_native_zoom": 0,
       "min_zoom": 1,
       "name": "Esri.WorldStreetMap",
       "options": [
        "attribution",
        "detect_retina",
        "max_native_zoom",
        "max_zoom",
        "min_native_zoom",
        "min_zoom",
        "no_wrap",
        "tile_size",
        "tms"
       ],
       "url": "http://server.arcgisonline.com/ArcGIS/rest/services/World_Street_Map/MapServer/tile/{z}/{y}/{x}"
      }
     },
     "ab0b6fc014b8471d811477d8c39aecbb": {
      "model_module": "jupyter-leaflet",
      "model_module_version": "^0.14.0",
      "model_name": "LeafletTileLayerModel",
      "state": {
       "_model_module_version": "^0.14.0",
       "_view_module_version": "^0.14.0",
       "attribution": "\nImagery provided by services from the Global Imagery Browse Services (GIBS), operated by the NASA/GSFC/Earth Science Data and Information System (<a href=\"https://earthdata.nasa.gov\">ESDIS</a>) with funding provided by NASA/HQ.\n",
       "max_native_zoom": 18,
       "max_zoom": 9,
       "min_native_zoom": 0,
       "min_zoom": 1,
       "name": "NASAGIBS.ModisTerraTrueColorCR",
       "options": [
        "attribution",
        "detect_retina",
        "max_native_zoom",
        "max_zoom",
        "min_native_zoom",
        "min_zoom",
        "no_wrap",
        "tile_size",
        "tms"
       ],
       "url": "https://gibs.earthdata.nasa.gov/wmts/epsg3857/best/MODIS_Terra_CorrectedReflectance_TrueColor/default/2021-07-26/GoogleMapsCompatible_Level9/{z}/{y}/{x}.jpg"
      }
     },
     "ab9fd170c3f044c28e86acf62391ebc0": {
      "model_module": "@jupyter-widgets/base",
      "model_module_version": "1.2.0",
      "model_name": "LayoutModel",
      "state": {}
     },
     "abe39e36132047de864b244abfa0bac4": {
      "model_module": "jupyter-leaflet",
      "model_module_version": "^0.14.0",
      "model_name": "LeafletAttributionControlModel",
      "state": {
       "_model_module_version": "^0.14.0",
       "_view_module_version": "^0.14.0",
       "options": [
        "position",
        "prefix"
       ],
       "position": "bottomright",
       "prefix": "ipyleaflet"
      }
     },
     "ac51cc057cdb45968c6431c7fd76f09c": {
      "model_module": "@jupyter-widgets/base",
      "model_module_version": "1.2.0",
      "model_name": "LayoutModel",
      "state": {
       "max_height": "250px",
       "max_width": "340px",
       "overflow": "scroll"
      }
     },
     "acefd77850aa4769a42eb02c003ea02e": {
      "model_module": "@jupyter-widgets/controls",
      "model_module_version": "1.5.0",
      "model_name": "DescriptionStyleModel",
      "state": {
       "description_width": ""
      }
     },
     "b073736f636a4cfe889277493398c65b": {
      "model_module": "ipyevents",
      "model_module_version": "1.8.2",
      "model_name": "EventModel",
      "state": {
       "_supported_key_events": [
        "keydown",
        "keyup"
       ],
       "_supported_mouse_events": [
        "click",
        "auxclick",
        "dblclick",
        "mouseenter",
        "mouseleave",
        "mousedown",
        "mouseup",
        "mousemove",
        "wheel",
        "contextmenu",
        "dragstart",
        "drag",
        "dragend",
        "dragenter",
        "dragover",
        "dragleave",
        "drop"
       ],
       "_view_module": "@jupyter-widgets/controls",
       "_view_module_version": "1.5.0",
       "source": "IPY_MODEL_787774ec0d3046a79d115186b8111f65",
       "throttle_or_debounce": "",
       "watched_events": [
        "mouseenter",
        "mouseleave"
       ],
       "xy_coordinate_system": ""
      }
     },
     "b0d4e0df414545d8892b6d20af085ec7": {
      "model_module": "@jupyter-widgets/controls",
      "model_module_version": "1.5.0",
      "model_name": "DescriptionStyleModel",
      "state": {
       "description_width": ""
      }
     },
     "b15731162bfd4d98a7431c11e12f632c": {
      "model_module": "@jupyter-widgets/base",
      "model_module_version": "1.2.0",
      "model_name": "LayoutModel",
      "state": {}
     },
     "b2475decd1654745afaaee6826555b58": {
      "model_module": "@jupyter-widgets/controls",
      "model_module_version": "1.5.0",
      "model_name": "TextModel",
      "state": {
       "layout": "IPY_MODEL_d1286ed618af46a6a1c32a257e7bacaa",
       "placeholder": "output filename",
       "style": "IPY_MODEL_acefd77850aa4769a42eb02c003ea02e",
       "value": "my_map.html"
      }
     },
     "b2a6dda6aa88488a816c32ceaa8ed53f": {
      "model_module": "@jupyter-widgets/controls",
      "model_module_version": "1.5.0",
      "model_name": "DescriptionStyleModel",
      "state": {
       "description_width": ""
      }
     },
     "b2c562c89f7a4b99990c8458dbdde54b": {
      "model_module": "@jupyter-widgets/base",
      "model_module_version": "1.2.0",
      "model_name": "LayoutModel",
      "state": {
       "height": "auto",
       "padding": "0px 0px 0px 4px",
       "width": "auto"
      }
     },
     "b46d9c0bef8c4a548e0d9728be9a3fd0": {
      "model_module": "@jupyter-widgets/base",
      "model_module_version": "1.2.0",
      "model_name": "LayoutModel",
      "state": {
       "width": "auto"
      }
     },
     "b5d9eecc3cb4460a816d948a39cb3a7c": {
      "model_module": "@jupyter-widgets/controls",
      "model_module_version": "1.5.0",
      "model_name": "HTMLModel",
      "state": {
       "layout": "IPY_MODEL_73543292e4354caa9b6a1ab0e2f12dbd",
       "placeholder": "",
       "style": "IPY_MODEL_0be3a760f6e746bcbe8332e10dc13905",
       "value": "<span style=\"margin-left:10px; color:black;\">No file selected</span>"
      }
     },
     "b703c6b1469b4fa9b9e21a1d55356a4c": {
      "model_module": "@jupyter-widgets/base",
      "model_module_version": "1.2.0",
      "model_name": "LayoutModel",
      "state": {
       "display": "none",
       "width": "auto"
      }
     },
     "b7176750582d440d88ccd676e07b2e9e": {
      "model_module": "@jupyter-widgets/controls",
      "model_module_version": "1.5.0",
      "model_name": "ToggleButtonModel",
      "state": {
       "button_style": "primary",
       "icon": "spinner",
       "layout": "IPY_MODEL_b7e5877155904d4ca8c20311e527a3fb",
       "style": "IPY_MODEL_f23b4c10d70f499fa0f5976e3f2ed195",
       "tooltip": "This is a placehold"
      }
     },
     "b75b8b821fe141359e312f4bbf0d3adc": {
      "model_module": "@jupyter-widgets/base",
      "model_module_version": "1.2.0",
      "model_name": "LayoutModel",
      "state": {}
     },
     "b75c749b37a64f3d9019939b28501d41": {
      "model_module": "jupyter-leaflet",
      "model_module_version": "^0.14.0",
      "model_name": "LeafletTileLayerModel",
      "state": {
       "_model_module_version": "^0.14.0",
       "_view_module_version": "^0.14.0",
       "attribution": "Tiles courtesy of <a href=\"http://openstreetmap.se/\" target=\"_blank\">OpenStreetMap Sweden</a> &mdash; Map data &copy; <a href=\"http://www.openstreetmap.org/copyright\">OpenStreetMap</a>",
       "max_native_zoom": 18,
       "min_native_zoom": 0,
       "min_zoom": 1,
       "name": "Hydda.Base",
       "options": [
        "attribution",
        "detect_retina",
        "max_native_zoom",
        "max_zoom",
        "min_native_zoom",
        "min_zoom",
        "no_wrap",
        "tile_size",
        "tms"
       ],
       "url": "http://{s}.tile.openstreetmap.se/hydda/base/{z}/{x}/{y}.png"
      }
     },
     "b7e5877155904d4ca8c20311e527a3fb": {
      "model_module": "@jupyter-widgets/base",
      "model_module_version": "1.2.0",
      "model_name": "LayoutModel",
      "state": {
       "height": "auto",
       "padding": "0px 0px 0px 4px",
       "width": "auto"
      }
     },
     "b81b5f6a2b1147ceb50de2077e4beefb": {
      "model_module": "@jupyter-widgets/controls",
      "model_module_version": "1.5.0",
      "model_name": "DescriptionStyleModel",
      "state": {
       "description_width": ""
      }
     },
     "b8f030a4231b47f69d467977dd714d86": {
      "model_module": "jupyter-leaflet",
      "model_module_version": "^0.14.0",
      "model_name": "LeafletTileLayerModel",
      "state": {
       "_model_module_version": "^0.14.0",
       "_view_module_version": "^0.14.0",
       "attribution": "\nImagery provided by services from the Global Imagery Browse Services (GIBS), operated by the NASA/GSFC/Earth Science Data and Information System (<a href=\"https://earthdata.nasa.gov\">ESDIS</a>) with funding provided by NASA/HQ.\n",
       "max_native_zoom": 18,
       "max_zoom": 9,
       "min_native_zoom": 0,
       "min_zoom": 1,
       "name": "NASAGIBS.ModisTerraBands721CR",
       "options": [
        "attribution",
        "detect_retina",
        "max_native_zoom",
        "max_zoom",
        "min_native_zoom",
        "min_zoom",
        "no_wrap",
        "tile_size",
        "tms"
       ],
       "url": "https://gibs.earthdata.nasa.gov/wmts/epsg3857/best/MODIS_Terra_CorrectedReflectance_Bands721/default/2021-07-21/GoogleMapsCompatible_Level9/{z}/{y}/{x}.jpg"
      }
     },
     "bce5ce339725448c845e3069dc1ea0c1": {
      "model_module": "@jupyter-widgets/controls",
      "model_module_version": "1.5.0",
      "model_name": "DescriptionStyleModel",
      "state": {
       "description_width": ""
      }
     },
     "bdb4b15ac33d4e7cb353c877092fd510": {
      "model_module": "@jupyter-widgets/controls",
      "model_module_version": "1.5.0",
      "model_name": "ToggleButtonModel",
      "state": {
       "button_style": "primary",
       "icon": "map",
       "layout": "IPY_MODEL_8e4aff412fae4fa793f2854ebd04b880",
       "style": "IPY_MODEL_7e723e9bcba14362b31f7336acc34992",
       "tooltip": "Change basemap"
      }
     },
     "becdc1549fe34d7bacff9c47de9b3c2e": {
      "model_module": "jupyter-leaflet",
      "model_module_version": "^0.14.0",
      "model_name": "LeafletTileLayerModel",
      "state": {
       "_model_module_version": "^0.14.0",
       "_view_module_version": "^0.14.0",
       "attribution": "Google",
       "max_native_zoom": 18,
       "min_native_zoom": 0,
       "name": "Google Maps",
       "options": [
        "attribution",
        "detect_retina",
        "max_native_zoom",
        "max_zoom",
        "min_native_zoom",
        "min_zoom",
        "no_wrap",
        "tile_size",
        "tms"
       ],
       "url": "https://mt1.google.com/vt/lyrs=m&x={x}&y={y}&z={z}"
      }
     },
     "bfea87486eb2407b94d029b77f459440": {
      "model_module": "@jupyter-widgets/controls",
      "model_module_version": "1.5.0",
      "model_name": "DescriptionStyleModel",
      "state": {
       "description_width": ""
      }
     },
     "c0ba1471bf204d69a01cf6a3bfceccd3": {
      "model_module": "jupyter-leaflet",
      "model_module_version": "^0.14.0",
      "model_name": "LeafletTileLayerModel",
      "state": {
       "_model_module_version": "^0.14.0",
       "_view_module_version": "^0.14.0",
       "attribution": "&copy; <a href=\"http://www.openstreetmap.org/copyright\">OpenStreetMap</a> &copy; <a href=\"http://cartodb.com/attributions\">CartoDB</a>",
       "max_native_zoom": 18,
       "max_zoom": 20,
       "min_native_zoom": 0,
       "min_zoom": 1,
       "name": "CartoDB.Positron",
       "options": [
        "attribution",
        "detect_retina",
        "max_native_zoom",
        "max_zoom",
        "min_native_zoom",
        "min_zoom",
        "no_wrap",
        "tile_size",
        "tms"
       ],
       "url": "http://c.basemaps.cartocdn.com/light_all/{z}/{x}/{y}.png"
      }
     },
     "c1557bd9ea9941ff92a82ad0410e19e6": {
      "model_module": "jupyter-leaflet",
      "model_module_version": "^0.14.0",
      "model_name": "LeafletTileLayerModel",
      "state": {
       "_model_module_version": "^0.14.0",
       "_view_module_version": "^0.14.0",
       "attribution": "Tiles courtesy of <a href=\"http://openstreetmap.se/\" target=\"_blank\">OpenStreetMap Sweden</a> &mdash; Map data &copy; <a href=\"http://www.openstreetmap.org/copyright\">OpenStreetMap</a>",
       "max_native_zoom": 18,
       "min_native_zoom": 0,
       "min_zoom": 1,
       "name": "Hydda.Full",
       "options": [
        "attribution",
        "detect_retina",
        "max_native_zoom",
        "max_zoom",
        "min_native_zoom",
        "min_zoom",
        "no_wrap",
        "tile_size",
        "tms"
       ],
       "url": "http://{s}.tile.openstreetmap.se/hydda/full/{z}/{x}/{y}.png"
      }
     },
     "c21ada764b2a4c019f777329d764e7cf": {
      "model_module": "jupyter-leaflet",
      "model_module_version": "^0.14.0",
      "model_name": "LeafletTileLayerModel",
      "state": {
       "_model_module_version": "^0.14.0",
       "_view_module_version": "^0.14.0",
       "attribution": "Esri",
       "max_native_zoom": 18,
       "min_native_zoom": 0,
       "name": "Esri Ocean",
       "options": [
        "attribution",
        "detect_retina",
        "max_native_zoom",
        "max_zoom",
        "min_native_zoom",
        "min_zoom",
        "no_wrap",
        "tile_size",
        "tms"
       ],
       "url": "https://services.arcgisonline.com/ArcGIS/rest/services/Ocean/World_Ocean_Base/MapServer/tile/{z}/{y}/{x}"
      }
     },
     "c2ba00a20f804356a5dbd4e8382611bc": {
      "model_module": "jupyter-leaflet",
      "model_module_version": "^0.14.0",
      "model_name": "LeafletTileLayerModel",
      "state": {
       "_model_module_version": "^0.14.0",
       "_view_module_version": "^0.14.0",
       "attribution": "Map tiles by <a href=\"https://labs.strava.com/heatmap\">Strava 2017</a>",
       "max_native_zoom": 18,
       "max_zoom": 15,
       "min_native_zoom": 0,
       "min_zoom": 1,
       "name": "Strava.Winter",
       "options": [
        "attribution",
        "detect_retina",
        "max_native_zoom",
        "max_zoom",
        "min_native_zoom",
        "min_zoom",
        "no_wrap",
        "tile_size",
        "tms"
       ],
       "url": "https://heatmap-external-a.strava.com//tiles/winter/hot/{z}/{x}/{y}.png?v=19"
      }
     },
     "c2ffcefd27dd47afa965ef74dafe1098": {
      "model_module": "jupyter-leaflet",
      "model_module_version": "^0.14.0",
      "model_name": "LeafletTileLayerModel",
      "state": {
       "_model_module_version": "^0.14.0",
       "_view_module_version": "^0.14.0",
       "attribution": "&copy; Openstreetmap France | &copy; <a href=\"http://www.openstreetmap.org/copyright\">OpenStreetMap</a>",
       "max_native_zoom": 18,
       "max_zoom": 20,
       "min_native_zoom": 0,
       "min_zoom": 1,
       "name": "OpenStreetMap.France",
       "options": [
        "attribution",
        "detect_retina",
        "max_native_zoom",
        "max_zoom",
        "min_native_zoom",
        "min_zoom",
        "no_wrap",
        "tile_size",
        "tms"
       ],
       "url": "http://{s}.tile.openstreetmap.fr/osmfr/{z}/{x}/{y}.png"
      }
     },
     "c30e22a0032842399f5f1521c8080041": {
      "model_module": "@jupyter-widgets/base",
      "model_module_version": "1.2.0",
      "model_name": "LayoutModel",
      "state": {}
     },
     "c32426373349481b9e369bb67cce7bfe": {
      "model_module": "@jupyter-widgets/base",
      "model_module_version": "1.2.0",
      "model_name": "LayoutModel",
      "state": {
       "height": "auto",
       "padding": "0px 0px 0px 4px",
       "width": "auto"
      }
     },
     "c3365f9d538549c2aacc284f1141bcc0": {
      "model_module": "jupyter-leaflet",
      "model_module_version": "^0.14.0",
      "model_name": "LeafletTileLayerModel",
      "state": {
       "_model_module_version": "^0.14.0",
       "_view_module_version": "^0.14.0",
       "attribution": "Esri",
       "max_native_zoom": 18,
       "min_native_zoom": 0,
       "name": "Esri Satellite",
       "options": [
        "attribution",
        "detect_retina",
        "max_native_zoom",
        "max_zoom",
        "min_native_zoom",
        "min_zoom",
        "no_wrap",
        "tile_size",
        "tms"
       ],
       "url": "https://server.arcgisonline.com/ArcGIS/rest/services/World_Imagery/MapServer/tile/{z}/{y}/{x}"
      }
     },
     "c3532fd9265d44049ccb362efef24146": {
      "model_module": "@jupyter-widgets/controls",
      "model_module_version": "1.5.0",
      "model_name": "DropdownModel",
      "state": {
       "index": null,
       "layout": "IPY_MODEL_7bdfba6f750944a28e924995c467b559",
       "style": "IPY_MODEL_024571c7c7274d4ab23d830365fe02f1"
      }
     },
     "c3fb09542cd0475c90e01f7513fd7d27": {
      "model_module": "jupyter-leaflet",
      "model_module_version": "^0.14.0",
      "model_name": "LeafletWMSLayerModel",
      "state": {
       "_model_module_version": "^0.14.0",
       "_view_module_version": "^0.14.0",
       "attribution": "USGS",
       "crs": {
        "custom": false,
        "name": "EPSG3857"
       },
       "format": "image/png",
       "layers": "0",
       "max_native_zoom": 18,
       "min_native_zoom": 0,
       "name": "USGS Hydrography",
       "options": [
        "attribution",
        "detect_retina",
        "format",
        "layers",
        "max_native_zoom",
        "max_zoom",
        "min_native_zoom",
        "min_zoom",
        "no_wrap",
        "styles",
        "tile_size",
        "tms",
        "transparent",
        "uppercase"
       ],
       "transparent": true,
       "url": "https://basemap.nationalmap.gov/arcgis/services/USGSHydroCached/MapServer/WMSServer?"
      }
     },
     "c42e74943bb048709a501dff4667755e": {
      "model_module": "@jupyter-widgets/controls",
      "model_module_version": "1.5.0",
      "model_name": "ButtonStyleModel",
      "state": {}
     },
     "c4346ad6da08445f8d1b0d5b46cf2ef9": {
      "model_module": "jupyter-leaflet",
      "model_module_version": "^0.14.0",
      "model_name": "LeafletTileLayerModel",
      "state": {
       "_model_module_version": "^0.14.0",
       "_view_module_version": "^0.14.0",
       "attribution": "Google",
       "max_native_zoom": 18,
       "min_native_zoom": 0,
       "name": "Google Terrain",
       "options": [
        "attribution",
        "detect_retina",
        "max_native_zoom",
        "max_zoom",
        "min_native_zoom",
        "min_zoom",
        "no_wrap",
        "tile_size",
        "tms"
       ],
       "url": "https://mt1.google.com/vt/lyrs=p&x={x}&y={y}&z={z}"
      }
     },
     "c6253c629cc04f34804fffbb5514a643": {
      "model_module": "@jupyter-widgets/controls",
      "model_module_version": "1.5.0",
      "model_name": "ToggleButtonsStyleModel",
      "state": {
       "button_width": "110px",
       "description_width": ""
      }
     },
     "c62d25dbbaf84e7ab099a894e35a5793": {
      "model_module": "@jupyter-widgets/base",
      "model_module_version": "1.2.0",
      "model_name": "LayoutModel",
      "state": {
       "max_width": "57px",
       "min_width": "57px"
      }
     },
     "c6fe7a698003448c868d0d7fff7a52d9": {
      "model_module": "@jupyter-widgets/controls",
      "model_module_version": "1.5.0",
      "model_name": "HBoxModel",
      "state": {
       "children": [
        "IPY_MODEL_97fd496939cc44598f2570758fbb2020",
        "IPY_MODEL_89876d268e7641099a07aefd32c9d12c",
        "IPY_MODEL_b5d9eecc3cb4460a816d948a39cb3a7c"
       ],
       "layout": "IPY_MODEL_a14437c560364c11a9fceaefa87a2967"
      }
     },
     "c735f5d9a4c74a89b41704c5d1250ebd": {
      "model_module": "@jupyter-widgets/base",
      "model_module_version": "1.2.0",
      "model_name": "LayoutModel",
      "state": {
       "max_height": "250px",
       "max_width": "340px",
       "overflow": "scroll"
      }
     },
     "c7ecec660d6e49ba85622ce8c48b5395": {
      "model_module": "jupyter-leaflet",
      "model_module_version": "^0.14.0",
      "model_name": "LeafletMapModel",
      "state": {
       "_model_module_version": "^0.14.0",
       "_view_module_version": "^0.14.0",
       "bottom": 35226,
       "center": [
        -11.77,
        -45.76
       ],
       "controls": [
        "IPY_MODEL_19536afa489b4082b260a330ce1ba16a",
        "IPY_MODEL_720de8ef7c9c49fa8ad84251144235fb",
        "IPY_MODEL_93350a7b2edc43b6b7808d4d347f35c2",
        "IPY_MODEL_cbed40094c8f4772a0fc64a908b9c673",
        "IPY_MODEL_f760c8814f86429e88a359ca4bfbbccc",
        "IPY_MODEL_49b02604c1c24244a4fe9aac76a7f0fa",
        "IPY_MODEL_280a9be3d5d34bd6ba224a26c4007013"
       ],
       "default_style": "IPY_MODEL_86c41a48c1f44e1199fb2a29074ca7c0",
       "dragging_style": "IPY_MODEL_497327042889428abccbc029f284d65c",
       "east": -43.06640625000001,
       "fullscreen": false,
       "interpolation": "bilinear",
       "layers": [
        "IPY_MODEL_039bf12fa8ae483eb74afa42a2ba4ab2",
        "IPY_MODEL_f357c404adb84322a97b049d39d3a19b"
       ],
       "layout": "IPY_MODEL_9c068ee839a5421d8576d1e5f8411c20",
       "left": 23948,
       "modisdate": "yesterday",
       "north": -10.152746165571939,
       "options": [
        "bounce_at_zoom_limits",
        "box_zoom",
        "center",
        "close_popup_on_click",
        "double_click_zoom",
        "dragging",
        "fullscreen",
        "inertia",
        "inertia_deceleration",
        "inertia_max_speed",
        "interpolation",
        "keyboard",
        "keyboard_pan_offset",
        "keyboard_zoom_offset",
        "max_zoom",
        "min_zoom",
        "scroll_wheel_zoom",
        "tap",
        "tap_tolerance",
        "touch_zoom",
        "world_copy_jump",
        "zoom",
        "zoom_animation_threshold",
        "zoom_delta",
        "zoom_snap",
        "zoom_start"
       ],
       "right": 24928,
       "scroll_wheel_zoom": true,
       "south": -13.378931658431553,
       "style": "IPY_MODEL_e70d92fbd69b42c48da7ea1b624bb125",
       "top": 34626,
       "west": -48.44970703125001,
       "window_url": "http://localhost:8888/notebooks/teste_geemap2%20(3).ipynb#",
       "zoom": 8
      }
     },
     "c8362732a93a490d8b62e99d7761f9c9": {
      "model_module": "@jupyter-widgets/controls",
      "model_module_version": "1.5.0",
      "model_name": "ToggleButtonModel",
      "state": {
       "button_style": "primary",
       "icon": "map",
       "layout": "IPY_MODEL_77fbfc50362b49d8b075f12d912ea8ed",
       "style": "IPY_MODEL_660e37c4f19840e7888b6a79282c9dc4",
       "tooltip": "Change basemap"
      }
     },
     "c8a44e5808c04e59a5cba57fb1ccd5a8": {
      "model_module": "@jupyter-widgets/base",
      "model_module_version": "1.2.0",
      "model_name": "LayoutModel",
      "state": {}
     },
     "c91e94cc389945b49558af97613e31fa": {
      "model_module": "@jupyter-widgets/controls",
      "model_module_version": "1.5.0",
      "model_name": "ToggleButtonModel",
      "state": {
       "button_style": "primary",
       "icon": "line-chart",
       "layout": "IPY_MODEL_3a5e5c0b6ed14ed78d8d840d6b50694a",
       "style": "IPY_MODEL_674cc4ecccca458fab89733d9200b983",
       "tooltip": "Creating and plotting transects"
      }
     },
     "ca9aa59826784a319daf2f105823d48e": {
      "model_module": "@jupyter-widgets/controls",
      "model_module_version": "1.5.0",
      "model_name": "ToggleButtonModel",
      "state": {
       "button_style": "primary",
       "icon": "bar-chart",
       "layout": "IPY_MODEL_6d473b1d355d4628b5968964d7d10a54",
       "style": "IPY_MODEL_cc452fd39e874b00ad54934f584d091b",
       "tooltip": "Plotting"
      }
     },
     "cb656f803c834b31bc21d70286e8114d": {
      "model_module": "jupyter-leaflet",
      "model_module_version": "^0.14.0",
      "model_name": "LeafletTileLayerModel",
      "state": {
       "_model_module_version": "^0.14.0",
       "_view_module_version": "^0.14.0",
       "attribution": "Map tiles <a href=\"https://labs.strava.com/heatmap\">Strava 2017</a>",
       "max_native_zoom": 18,
       "max_zoom": 15,
       "min_native_zoom": 0,
       "min_zoom": 1,
       "name": "Strava.Ride",
       "options": [
        "attribution",
        "detect_retina",
        "max_native_zoom",
        "max_zoom",
        "min_native_zoom",
        "min_zoom",
        "no_wrap",
        "tile_size",
        "tms"
       ],
       "url": "https://heatmap-external-a.strava.com//tiles/ride/hot/{z}/{x}/{y}.png?v=19"
      }
     },
     "cb705f9cbe18462f9622baf980b4b9cc": {
      "model_module": "jupyter-leaflet",
      "model_module_version": "^0.14.0",
      "model_name": "LeafletTileLayerModel",
      "state": {
       "_model_module_version": "^0.14.0",
       "_view_module_version": "^0.14.0",
       "attribution": "",
       "max_native_zoom": 18,
       "max_zoom": 19,
       "min_native_zoom": 0,
       "min_zoom": 1,
       "name": "Gaode.Satellite",
       "options": [
        "attribution",
        "detect_retina",
        "max_native_zoom",
        "max_zoom",
        "min_native_zoom",
        "min_zoom",
        "no_wrap",
        "tile_size",
        "tms"
       ],
       "url": "http://webst01.is.autonavi.com/appmaptile?style=6&x={x}&y={y}&z={z}"
      }
     },
     "cbb0e43499cc4ea68610bda971fa92a8": {
      "model_module": "jupyter-leaflet",
      "model_module_version": "^0.14.0",
      "model_name": "LeafletTileLayerModel",
      "state": {
       "_model_module_version": "^0.14.0",
       "_view_module_version": "^0.14.0",
       "attribution": "",
       "max_native_zoom": 18,
       "max_zoom": 19,
       "min_native_zoom": 0,
       "min_zoom": 1,
       "name": "Gaode.Normal",
       "options": [
        "attribution",
        "detect_retina",
        "max_native_zoom",
        "max_zoom",
        "min_native_zoom",
        "min_zoom",
        "no_wrap",
        "tile_size",
        "tms"
       ],
       "url": "http://webrd01.is.autonavi.com/appmaptile?lang=zh_cn&size=1&scale=1&style=7&x={x}&y={y}&z={z}"
      }
     },
     "cbed40094c8f4772a0fc64a908b9c673": {
      "model_module": "jupyter-leaflet",
      "model_module_version": "^0.14.0",
      "model_name": "LeafletFullScreenControlModel",
      "state": {
       "_model_module_version": "^0.14.0",
       "_view_module_version": "^0.14.0",
       "options": [
        "position"
       ]
      }
     },
     "cc12bead1a6b4b28a80ea84271d9fb06": {
      "model_module": "jupyter-leaflet",
      "model_module_version": "^0.14.0",
      "model_name": "LeafletTileLayerModel",
      "state": {
       "_model_module_version": "^0.14.0",
       "_view_module_version": "^0.14.0",
       "attribution": "Esri",
       "max_native_zoom": 18,
       "min_native_zoom": 0,
       "name": "Esri National Geographic",
       "options": [
        "attribution",
        "detect_retina",
        "max_native_zoom",
        "max_zoom",
        "min_native_zoom",
        "min_zoom",
        "no_wrap",
        "tile_size",
        "tms"
       ],
       "url": "http://services.arcgisonline.com/ArcGIS/rest/services/NatGeo_World_Map/MapServer/tile/{z}/{y}/{x}"
      }
     },
     "cc452fd39e874b00ad54934f584d091b": {
      "model_module": "@jupyter-widgets/controls",
      "model_module_version": "1.5.0",
      "model_name": "DescriptionStyleModel",
      "state": {
       "description_width": ""
      }
     },
     "cc65aea00ea748729a3bf20e2eac18f8": {
      "model_module": "jupyter-leaflet",
      "model_module_version": "^0.14.0",
      "model_name": "LeafletTileLayerModel",
      "state": {
       "_model_module_version": "^0.14.0",
       "_view_module_version": "^0.14.0",
       "max_native_zoom": 18,
       "max_zoom": 19,
       "min_native_zoom": 0,
       "min_zoom": 1,
       "name": "OpenStreetMap.Mapnik",
       "options": [
        "attribution",
        "detect_retina",
        "max_native_zoom",
        "max_zoom",
        "min_native_zoom",
        "min_zoom",
        "no_wrap",
        "tile_size",
        "tms"
       ]
      }
     },
     "ccca1e487ceb441f99d669c462d58fc0": {
      "model_module": "jupyter-leaflet",
      "model_module_version": "^0.14.0",
      "model_name": "LeafletTileLayerModel",
      "state": {
       "_model_module_version": "^0.14.0",
       "_view_module_version": "^0.14.0",
       "attribution": "&copy; <a href=\"http://www.openstreetmap.org/copyright\">OpenStreetMap</a>, Tiles courtesy of <a href=\"http://hot.openstreetmap.org/\" target=\"_blank\">Humanitarian OpenStreetMap Team</a>",
       "max_native_zoom": 18,
       "max_zoom": 19,
       "min_native_zoom": 0,
       "min_zoom": 1,
       "name": "OpenStreetMap.HOT",
       "options": [
        "attribution",
        "detect_retina",
        "max_native_zoom",
        "max_zoom",
        "min_native_zoom",
        "min_zoom",
        "no_wrap",
        "tile_size",
        "tms"
       ],
       "url": "http://{s}.tile.openstreetmap.fr/hot/{z}/{x}/{y}.png"
      }
     },
     "cd22bd7228ba4f469f5583c1e5172d27": {
      "model_module": "jupyter-leaflet",
      "model_module_version": "^0.14.0",
      "model_name": "LeafletWMSLayerModel",
      "state": {
       "_model_module_version": "^0.14.0",
       "_view_module_version": "^0.14.0",
       "attribution": "USGS",
       "crs": {
        "custom": false,
        "name": "EPSG3857"
       },
       "format": "image/png",
       "layers": "3DEPElevation:None",
       "max_native_zoom": 18,
       "min_native_zoom": 0,
       "name": "USGS 3DEP Elevation",
       "options": [
        "attribution",
        "detect_retina",
        "format",
        "layers",
        "max_native_zoom",
        "max_zoom",
        "min_native_zoom",
        "min_zoom",
        "no_wrap",
        "styles",
        "tile_size",
        "tms",
        "transparent",
        "uppercase"
       ],
       "transparent": true,
       "url": "https://elevation.nationalmap.gov/arcgis/services/3DEPElevation/ImageServer/WMSServer?"
      }
     },
     "cd51cd41df8748bab073ddfa178ab53f": {
      "model_module": "@jupyter-widgets/base",
      "model_module_version": "1.2.0",
      "model_name": "LayoutModel",
      "state": {
       "display": "none",
       "width": "auto"
      }
     },
     "cda940b695334979bd896b3cbb875de9": {
      "model_module": "@jupyter-widgets/controls",
      "model_module_version": "1.5.0",
      "model_name": "ToggleButtonModel",
      "state": {
       "button_style": "primary",
       "icon": "bar-chart",
       "layout": "IPY_MODEL_8b1acaab10144526a62dca39c5dd43f6",
       "style": "IPY_MODEL_561e4635d5184b19bd9f6f97b6ad7efe",
       "tooltip": "Plotting"
      }
     },
     "ce97133acbda42e4b00bbf1b397b16c1": {
      "model_module": "@jupyter-widgets/controls",
      "model_module_version": "1.5.0",
      "model_name": "ToggleButtonsStyleModel",
      "state": {
       "button_width": "",
       "description_width": ""
      }
     },
     "cf170f1a41a24466892f9132b98eb25c": {
      "model_module": "jupyter-leaflet",
      "model_module_version": "^0.14.0",
      "model_name": "LeafletTileLayerModel",
      "state": {
       "_model_module_version": "^0.14.0",
       "_view_module_version": "^0.14.0",
       "attribution": "\nImagery provided by services from the Global Imagery Browse Services (GIBS), operated by the NASA/GSFC/Earth Science Data and Information System (<a href=\"https://earthdata.nasa.gov\">ESDIS</a>) with funding provided by NASA/HQ.\n",
       "max_native_zoom": 18,
       "max_zoom": 9,
       "min_native_zoom": 0,
       "min_zoom": 1,
       "name": "NASAGIBS.ModisTerraBands721CR",
       "options": [
        "attribution",
        "detect_retina",
        "max_native_zoom",
        "max_zoom",
        "min_native_zoom",
        "min_zoom",
        "no_wrap",
        "tile_size",
        "tms"
       ],
       "url": "https://gibs.earthdata.nasa.gov/wmts/epsg3857/best/MODIS_Terra_CorrectedReflectance_Bands721/default/2021-07-26/GoogleMapsCompatible_Level9/{z}/{y}/{x}.jpg"
      }
     },
     "cffdcc828df94bccad48afef51f3e655": {
      "model_module": "jupyter-leaflet",
      "model_module_version": "^0.14.0",
      "model_name": "LeafletTileLayerModel",
      "state": {
       "_model_module_version": "^0.14.0",
       "_view_module_version": "^0.14.0",
       "attribution": "Tiles courtesy of <a href=\"http://openstreetmap.se/\" target=\"_blank\">OpenStreetMap Sweden</a> &mdash; Map data &copy; <a href=\"http://www.openstreetmap.org/copyright\">OpenStreetMap</a>",
       "max_native_zoom": 18,
       "min_native_zoom": 0,
       "min_zoom": 1,
       "name": "Hydda.Base",
       "options": [
        "attribution",
        "detect_retina",
        "max_native_zoom",
        "max_zoom",
        "min_native_zoom",
        "min_zoom",
        "no_wrap",
        "tile_size",
        "tms"
       ],
       "url": "http://{s}.tile.openstreetmap.se/hydda/base/{z}/{x}/{y}.png"
      }
     },
     "d11b8c07eec543978bab49e49c5e77fe": {
      "model_module": "@jupyter-widgets/base",
      "model_module_version": "1.2.0",
      "model_name": "LayoutModel",
      "state": {
       "display": "none"
      }
     },
     "d11e12b499cd46a4b0905f78940245cb": {
      "model_module": "jupyter-leaflet",
      "model_module_version": "^0.14.0",
      "model_name": "LeafletDrawControlModel",
      "state": {
       "_model_module_version": "^0.14.0",
       "_view_module_version": "^0.14.0",
       "circle": {
        "shapeOptions": {
         "color": "#3388ff"
        }
       },
       "edit": false,
       "options": [
        "position"
       ],
       "polygon": {},
       "polyline": {},
       "rectangle": {
        "shapeOptions": {
         "color": "#3388ff"
        }
       },
       "remove": false
      }
     },
     "d1286ed618af46a6a1c32a257e7bacaa": {
      "model_module": "@jupyter-widgets/base",
      "model_module_version": "1.2.0",
      "model_name": "LayoutModel",
      "state": {
       "grid_area": "filename",
       "width": "auto"
      }
     },
     "d2e679eea8424a6d9d04cd6ad5302cc8": {
      "model_module": "@jupyter-widgets/controls",
      "model_module_version": "1.5.0",
      "model_name": "DescriptionStyleModel",
      "state": {
       "description_width": ""
      }
     },
     "d2f6949d3dbd4f64994539617371207c": {
      "model_module": "jupyter-leaflet",
      "model_module_version": "^0.14.0",
      "model_name": "LeafletTileLayerModel",
      "state": {
       "_model_module_version": "^0.14.0",
       "_view_module_version": "^0.14.0",
       "attribution": "\nImagery provided by services from the Global Imagery Browse Services (GIBS), operated by the NASA/GSFC/Earth Science Data and Information System (<a href=\"https://earthdata.nasa.gov\">ESDIS</a>) with funding provided by NASA/HQ.\n",
       "max_native_zoom": 18,
       "max_zoom": 8,
       "min_native_zoom": 0,
       "min_zoom": 1,
       "name": "NASAGIBS.BlueMarble",
       "options": [
        "attribution",
        "detect_retina",
        "max_native_zoom",
        "max_zoom",
        "min_native_zoom",
        "min_zoom",
        "no_wrap",
        "tile_size",
        "tms"
       ],
       "url": "https://gibs.earthdata.nasa.gov/wmts/epsg3857/best/BlueMarble_NextGeneration/default/EPSG3857_500m/{z}/{y}/{x}.jpeg"
      }
     },
     "d355cb6bf1ad490b89ebeeef613447c9": {
      "model_module": "@jupyter-widgets/controls",
      "model_module_version": "1.5.0",
      "model_name": "DescriptionStyleModel",
      "state": {
       "description_width": ""
      }
     },
     "d3a6398176b24fdbbd80c706ff862465": {
      "model_module": "jupyter-leaflet",
      "model_module_version": "^0.14.0",
      "model_name": "LeafletWMSLayerModel",
      "state": {
       "_model_module_version": "^0.14.0",
       "_view_module_version": "^0.14.0",
       "attribution": "FWS",
       "crs": {
        "custom": false,
        "name": "EPSG3857"
       },
       "format": "image/png",
       "layers": "0",
       "max_native_zoom": 18,
       "min_native_zoom": 0,
       "name": "FWS NWI Wetlands Raster",
       "options": [
        "attribution",
        "detect_retina",
        "format",
        "layers",
        "max_native_zoom",
        "max_zoom",
        "min_native_zoom",
        "min_zoom",
        "no_wrap",
        "styles",
        "tile_size",
        "tms",
        "transparent",
        "uppercase"
       ],
       "transparent": true,
       "url": "https://www.fws.gov/wetlands/arcgis/services/Wetlands_Raster/ImageServer/WMSServer?"
      }
     },
     "d3efe4d1c07644f7959f9ed2bc96c7d3": {
      "model_module": "@jupyter-widgets/controls",
      "model_module_version": "1.5.0",
      "model_name": "DescriptionStyleModel",
      "state": {
       "description_width": ""
      }
     },
     "d46efb2f0e9145a1b101c51d49bd5b84": {
      "model_module": "@jupyter-widgets/controls",
      "model_module_version": "1.5.0",
      "model_name": "DescriptionStyleModel",
      "state": {
       "description_width": ""
      }
     },
     "d4797054da41499fa1be13e81b8bc019": {
      "model_module": "@jupyter-widgets/base",
      "model_module_version": "1.2.0",
      "model_name": "LayoutModel",
      "state": {}
     },
     "d4bdd69ae1184f1a819e3afe83f10ea0": {
      "model_module": "@jupyter-widgets/controls",
      "model_module_version": "1.5.0",
      "model_name": "HTMLModel",
      "state": {
       "layout": "IPY_MODEL_4e520dc030d344ccb2eb20d22cd8b2d1",
       "style": "IPY_MODEL_b2a6dda6aa88488a816c32ceaa8ed53f"
      }
     },
     "d5aff1a371e145eb90bc4ee4d21c76b4": {
      "model_module": "jupyter-leaflet",
      "model_module_version": "^0.14.0",
      "model_name": "LeafletTileLayerModel",
      "state": {
       "_model_module_version": "^0.14.0",
       "_view_module_version": "^0.14.0",
       "attribution": "Esri",
       "max_native_zoom": 18,
       "min_native_zoom": 0,
       "name": "Esri Physical Map",
       "options": [
        "attribution",
        "detect_retina",
        "max_native_zoom",
        "max_zoom",
        "min_native_zoom",
        "min_zoom",
        "no_wrap",
        "tile_size",
        "tms"
       ],
       "url": "https://services.arcgisonline.com/arcgis/rest/services/World_Physical_Map/MapServer/tile/{z}/{y}/{x}"
      }
     },
     "d5d5b32782034643a65e95f64daa92af": {
      "model_module": "jupyter-leaflet",
      "model_module_version": "^0.14.0",
      "model_name": "LeafletTileLayerModel",
      "state": {
       "_model_module_version": "^0.14.0",
       "_view_module_version": "^0.14.0",
       "attribution": "Google",
       "max_native_zoom": 18,
       "min_native_zoom": 0,
       "name": "Google Satellite",
       "options": [
        "attribution",
        "detect_retina",
        "max_native_zoom",
        "max_zoom",
        "min_native_zoom",
        "min_zoom",
        "no_wrap",
        "tile_size",
        "tms"
       ],
       "url": "https://mt1.google.com/vt/lyrs=s&x={x}&y={y}&z={z}"
      }
     },
     "d5e3d46657b041faa03d10e459c21282": {
      "model_module": "@jupyter-widgets/controls",
      "model_module_version": "1.5.0",
      "model_name": "DescriptionStyleModel",
      "state": {
       "description_width": ""
      }
     },
     "d6b876299b8b4d5aa0325003600c4cdb": {
      "model_module": "jupyter-leaflet",
      "model_module_version": "^0.14.0",
      "model_name": "LeafletTileLayerModel",
      "state": {
       "_model_module_version": "^0.14.0",
       "_view_module_version": "^0.14.0",
       "attribution": "Tiles &copy; Esri &mdash; Esri, DeLorme, NAVTEQ, TomTom, Intermap, iPC, USGS, FAO, NPS, NRCAN, GeoBase, Kadaster NL, Ordnance Survey, Esri Japan, METI, Esri China (Hong Kong), and the GIS User Community",
       "max_native_zoom": 18,
       "max_zoom": 20,
       "min_native_zoom": 0,
       "min_zoom": 1,
       "name": "Esri.WorldTopoMap",
       "options": [
        "attribution",
        "detect_retina",
        "max_native_zoom",
        "max_zoom",
        "min_native_zoom",
        "min_zoom",
        "no_wrap",
        "tile_size",
        "tms"
       ],
       "url": "http://server.arcgisonline.com/ArcGIS/rest/services/World_Topo_Map/MapServer/tile/{z}/{y}/{x}"
      }
     },
     "d73113dbb59d42e096810d845d98010b": {
      "model_module": "@jupyter-widgets/controls",
      "model_module_version": "1.5.0",
      "model_name": "ToggleButtonModel",
      "state": {
       "button_style": "primary",
       "icon": "line-chart",
       "layout": "IPY_MODEL_dfad92c2381541318fdeb55e9729be0a",
       "style": "IPY_MODEL_27d3fbb01e8b4ff1861e60bf8400549b",
       "tooltip": "Creating and plotting transects"
      }
     },
     "d79312cf792441469bfa2271d9ec1033": {
      "model_module": "@jupyter-widgets/base",
      "model_module_version": "1.2.0",
      "model_name": "LayoutModel",
      "state": {
       "height": "auto",
       "padding": "0px 0px 0px 4px",
       "width": "auto"
      }
     },
     "d7b1752453ca41bd8d0dea2acde43800": {
      "model_module": "jupyter-leaflet",
      "model_module_version": "^0.14.0",
      "model_name": "LeafletAttributionControlModel",
      "state": {
       "_model_module_version": "^0.14.0",
       "_view_module_version": "^0.14.0",
       "options": [
        "position",
        "prefix"
       ],
       "position": "bottomright",
       "prefix": "ipyleaflet"
      }
     },
     "d88dc96a52c54ff593d7231cc0868f46": {
      "model_module": "@jupyter-widgets/controls",
      "model_module_version": "1.5.0",
      "model_name": "DescriptionStyleModel",
      "state": {
       "description_width": ""
      }
     },
     "d8fd4e4047db453b87df753f4cfea096": {
      "model_module": "jupyter-leaflet",
      "model_module_version": "^0.14.0",
      "model_name": "LeafletMapStyleModel",
      "state": {
       "_model_module_version": "^0.14.0",
       "cursor": "move"
      }
     },
     "d92f3f3b96c3405fa6bbdcf83b8df458": {
      "model_module": "jupyter-leaflet",
      "model_module_version": "^0.14.0",
      "model_name": "LeafletWMSLayerModel",
      "state": {
       "_model_module_version": "^0.14.0",
       "_view_module_version": "^0.14.0",
       "attribution": "MRLC",
       "crs": {
        "custom": false,
        "name": "EPSG3857"
       },
       "format": "image/png",
       "layers": "NLCD_2008_Land_Cover_L48",
       "max_native_zoom": 18,
       "min_native_zoom": 0,
       "name": "NLCD 2008 CONUS Land Cover",
       "options": [
        "attribution",
        "detect_retina",
        "format",
        "layers",
        "max_native_zoom",
        "max_zoom",
        "min_native_zoom",
        "min_zoom",
        "no_wrap",
        "styles",
        "tile_size",
        "tms",
        "transparent",
        "uppercase"
       ],
       "transparent": true,
       "url": "https://www.mrlc.gov/geoserver/mrlc_display/NLCD_2008_Land_Cover_L48/wms?"
      }
     },
     "d94d9a51ea2e4232a9368672aaf85c73": {
      "model_module": "@jupyter-widgets/controls",
      "model_module_version": "1.5.0",
      "model_name": "DescriptionStyleModel",
      "state": {
       "description_width": ""
      }
     },
     "d96f18f993f246a8a69e6c7a619e7227": {
      "model_module": "@jupyter-widgets/base",
      "model_module_version": "1.2.0",
      "model_name": "LayoutModel",
      "state": {
       "grid_area": "filename",
       "width": "auto"
      }
     },
     "d98fffa82ea64eefbbb3644036b1d83e": {
      "model_module": "jupyter-leaflet",
      "model_module_version": "^0.14.0",
      "model_name": "LeafletMarkerModel",
      "state": {
       "_model_module_version": "^0.14.0",
       "_view_module_version": "^0.14.0",
       "icon": "IPY_MODEL_9d9dcb783024423ea60956bdcb32d851",
       "options": [
        "alt",
        "draggable",
        "keyboard",
        "rise_offset",
        "rise_on_hover",
        "rotation_angle",
        "rotation_origin",
        "title",
        "z_index_offset"
       ]
      }
     },
     "d9a02e1299824ce0beebae28f6a8949e": {
      "model_module": "jupyter-leaflet",
      "model_module_version": "^0.14.0",
      "model_name": "LeafletTileLayerModel",
      "state": {
       "_model_module_version": "^0.14.0",
       "_view_module_version": "^0.14.0",
       "attribution": "Map data: &copy; <a href=\"http://www.openstreetmap.org/copyright\">OpenStreetMap</a>, <a href=\"http://viewfinderpanoramas.org\">SRTM</a> | Map style: &copy; <a href=\"https://opentopomap.org\">OpenTopoMap</a> (<a href=\"https://creativecommons.org/licenses/by-sa/3.0/\">CC-BY-SA</a>)",
       "max_native_zoom": 18,
       "max_zoom": 17,
       "min_native_zoom": 0,
       "min_zoom": 1,
       "name": "OpenTopoMap",
       "options": [
        "attribution",
        "detect_retina",
        "max_native_zoom",
        "max_zoom",
        "min_native_zoom",
        "min_zoom",
        "no_wrap",
        "tile_size",
        "tms"
       ],
       "url": "https://{s}.tile.opentopomap.org/{z}/{x}/{y}.png"
      }
     },
     "d9ed1ae655cc49a485a8f67f9aa356dc": {
      "model_module": "@jupyter-widgets/base",
      "model_module_version": "1.2.0",
      "model_name": "LayoutModel",
      "state": {}
     },
     "dadb9176678f421da237c99857735799": {
      "model_module": "@jupyter-widgets/base",
      "model_module_version": "1.2.0",
      "model_name": "LayoutModel",
      "state": {
       "height": "auto",
       "padding": "0px 0px 0px 4px",
       "width": "auto"
      }
     },
     "db1ef9a7efa9453a84f91e085b966551": {
      "model_module": "@jupyter-widgets/base",
      "model_module_version": "1.2.0",
      "model_name": "LayoutModel",
      "state": {
       "height": "auto",
       "padding": "0px 0px 0px 4px",
       "width": "auto"
      }
     },
     "dba03da801db4c70bb048f7b32629fa5": {
      "model_module": "@jupyter-widgets/base",
      "model_module_version": "1.2.0",
      "model_name": "LayoutModel",
      "state": {
       "display": "none",
       "grid_gap": "0px 0px",
       "grid_template_areas": "\n                    'pathlist filename'\n                    'dircontent dircontent'\n                    ",
       "grid_template_columns": "60% 40%",
       "grid_template_rows": "auto auto",
       "width": "500px"
      }
     },
     "dbbf5c28442a4d459e52d9deb5994287": {
      "model_module": "@jupyter-widgets/controls",
      "model_module_version": "1.5.0",
      "model_name": "ToggleButtonModel",
      "state": {
       "button_style": "primary",
       "icon": "gears",
       "layout": "IPY_MODEL_f7f726ada33c457e91da306986cf8336",
       "style": "IPY_MODEL_98be4f3edfdb4222996bb9af74621e73",
       "tooltip": "WhiteboxTools for local geoprocessing"
      }
     },
     "dbeaa53173d24dda9faac2bf884d00d2": {
      "model_module": "@jupyter-widgets/base",
      "model_module_version": "1.2.0",
      "model_name": "LayoutModel",
      "state": {}
     },
     "dc01b9a8a0fa407da4d9efed1be335ac": {
      "model_module": "@jupyter-widgets/controls",
      "model_module_version": "1.5.0",
      "model_name": "ToggleButtonModel",
      "state": {
       "button_style": "primary",
       "icon": "gears",
       "layout": "IPY_MODEL_b2c562c89f7a4b99990c8458dbdde54b",
       "style": "IPY_MODEL_67f08977a21f4c27be0b66691ff8479f",
       "tooltip": "WhiteboxTools for local geoprocessing"
      }
     },
     "dcb4b0a03247421c909925ad7e5db575": {
      "model_module": "@jupyter-widgets/controls",
      "model_module_version": "1.5.0",
      "model_name": "ToggleButtonsStyleModel",
      "state": {
       "button_width": "",
       "description_width": ""
      }
     },
     "dcc7160cef7148f7a1e13199f99b9c83": {
      "model_module": "jupyter-leaflet",
      "model_module_version": "^0.14.0",
      "model_name": "LeafletSearchControlModel",
      "state": {
       "_model_module": "jupyter-leaflet",
       "_model_module_version": "^0.14.0",
       "_view_count": null,
       "_view_module": "jupyter-leaflet",
       "_view_module_version": "^0.14.0",
       "marker": "IPY_MODEL_d98fffa82ea64eefbbb3644036b1d83e",
       "options": [
        "animate_location",
        "auto_collapse",
        "auto_type",
        "found_style",
        "jsonp_param",
        "position",
        "property_loc",
        "property_name",
        "url",
        "zoom"
       ],
       "position": "topleft",
       "url": "https://nominatim.openstreetmap.org/search?format=json&q={s}",
       "zoom": 5
      }
     },
     "dce805b4064247488b83a0f0d5975997": {
      "model_module": "jupyter-leaflet",
      "model_module_version": "^0.14.0",
      "model_name": "LeafletWMSLayerModel",
      "state": {
       "_model_module_version": "^0.14.0",
       "_view_module_version": "^0.14.0",
       "attribution": "USGS",
       "crs": {
        "custom": false,
        "name": "EPSG3857"
       },
       "format": "image/png",
       "layers": "0",
       "max_native_zoom": 18,
       "min_native_zoom": 0,
       "name": "USGS NAIP Imagery",
       "options": [
        "attribution",
        "detect_retina",
        "format",
        "layers",
        "max_native_zoom",
        "max_zoom",
        "min_native_zoom",
        "min_zoom",
        "no_wrap",
        "styles",
        "tile_size",
        "tms",
        "transparent",
        "uppercase"
       ],
       "transparent": true,
       "url": "https://services.nationalmap.gov/arcgis/services/USGSNAIPImagery/ImageServer/WMSServer?"
      }
     },
     "dd7ef69059b1499f8231ce78607ba5ff": {
      "model_module": "@jupyter-widgets/controls",
      "model_module_version": "1.5.0",
      "model_name": "ToggleButtonModel",
      "state": {
       "button_style": "primary",
       "icon": "spinner",
       "layout": "IPY_MODEL_143e6da207f848fd8bc3ffb9677cf0d3",
       "style": "IPY_MODEL_1547c1aca0234ab1a8a076543a60d53a",
       "tooltip": "This is a placehold"
      }
     },
     "ddd8ea13eab044a3a768aaefdf06cf19": {
      "model_module": "@jupyter-widgets/controls",
      "model_module_version": "1.5.0",
      "model_name": "DescriptionStyleModel",
      "state": {
       "description_width": ""
      }
     },
     "de763383d4ac4354b8535df2cedcdbb8": {
      "model_module": "jupyter-leaflet",
      "model_module_version": "^0.14.0",
      "model_name": "LeafletTileLayerModel",
      "state": {
       "_model_module_version": "^0.14.0",
       "_view_module_version": "^0.14.0",
       "attribution": "Esri",
       "max_native_zoom": 18,
       "min_native_zoom": 0,
       "name": "Esri Terrain",
       "options": [
        "attribution",
        "detect_retina",
        "max_native_zoom",
        "max_zoom",
        "min_native_zoom",
        "min_zoom",
        "no_wrap",
        "tile_size",
        "tms"
       ],
       "url": "https://server.arcgisonline.com/ArcGIS/rest/services/World_Terrain_Base/MapServer/tile/{z}/{y}/{x}"
      }
     },
     "df1e11451d434e6cbb30c5595a07253b": {
      "model_module": "jupyter-leaflet",
      "model_module_version": "^0.14.0",
      "model_name": "LeafletWMSLayerModel",
      "state": {
       "_model_module_version": "^0.14.0",
       "_view_module_version": "^0.14.0",
       "attribution": "MRLC",
       "crs": {
        "custom": false,
        "name": "EPSG3857"
       },
       "format": "image/png",
       "layers": "NLCD_2004_Land_Cover_L48",
       "max_native_zoom": 18,
       "min_native_zoom": 0,
       "name": "NLCD 2004 CONUS Land Cover",
       "options": [
        "attribution",
        "detect_retina",
        "format",
        "layers",
        "max_native_zoom",
        "max_zoom",
        "min_native_zoom",
        "min_zoom",
        "no_wrap",
        "styles",
        "tile_size",
        "tms",
        "transparent",
        "uppercase"
       ],
       "transparent": true,
       "url": "https://www.mrlc.gov/geoserver/mrlc_display/NLCD_2004_Land_Cover_L48/wms?"
      }
     },
     "df6334a113a5480d86792287f8dd120b": {
      "model_module": "@jupyter-widgets/controls",
      "model_module_version": "1.5.0",
      "model_name": "DescriptionStyleModel",
      "state": {
       "description_width": ""
      }
     },
     "df68203d8c994fb486f50b63d82a647f": {
      "model_module": "@jupyter-widgets/base",
      "model_module_version": "1.2.0",
      "model_name": "LayoutModel",
      "state": {
       "grid_area": "pathlist",
       "width": "auto"
      }
     },
     "dfad92c2381541318fdeb55e9729be0a": {
      "model_module": "@jupyter-widgets/base",
      "model_module_version": "1.2.0",
      "model_name": "LayoutModel",
      "state": {
       "height": "auto",
       "padding": "0px 0px 0px 4px",
       "width": "auto"
      }
     },
     "e0a72ce25bf14263ba34cc9542200150": {
      "model_module": "@jupyter-widgets/controls",
      "model_module_version": "1.5.0",
      "model_name": "DescriptionStyleModel",
      "state": {
       "description_width": ""
      }
     },
     "e1194c824b404bbcafd7be60ae95a285": {
      "model_module": "@jupyter-widgets/base",
      "model_module_version": "1.2.0",
      "model_name": "LayoutModel",
      "state": {
       "height": "28px",
       "padding": "0px 0px 0px 4px",
       "width": "28px"
      }
     },
     "e1360dd90f0d49b5b85abef3774a26dc": {
      "model_module": "jupyter-leaflet",
      "model_module_version": "^0.14.0",
      "model_name": "LeafletTileLayerModel",
      "state": {
       "_model_module_version": "^0.14.0",
       "_view_module_version": "^0.14.0",
       "attribution": "\nImagery provided by services from the Global Imagery Browse Services (GIBS), operated by the NASA/GSFC/Earth Science Data and Information System (<a href=\"https://earthdata.nasa.gov\">ESDIS</a>) with funding provided by NASA/HQ.\n",
       "max_native_zoom": 18,
       "max_zoom": 5,
       "min_native_zoom": 0,
       "min_zoom": 1,
       "name": "NASAGIBS.BlueMarble3413",
       "options": [
        "attribution",
        "detect_retina",
        "max_native_zoom",
        "max_zoom",
        "min_native_zoom",
        "min_zoom",
        "no_wrap",
        "tile_size",
        "tms"
       ],
       "url": "https://gibs.earthdata.nasa.gov/wmts/epsg3413/best/BlueMarble_NextGeneration/default/EPSG3413_500m/{z}/{y}/{x}.jpeg"
      }
     },
     "e2177f0f3d224c7f95c7166fb19abb33": {
      "model_module": "@jupyter-widgets/base",
      "model_module_version": "1.2.0",
      "model_name": "LayoutModel",
      "state": {
       "grid_gap": "1px 1px",
       "grid_template_columns": "32px 32px 32px ",
       "grid_template_rows": "32px 32px 32px 32px 32px 32px ",
       "padding": "5px",
       "width": "107px"
      }
     },
     "e2d1567c08444d3fbd6f3917466aea48": {
      "model_module": "@jupyter-widgets/controls",
      "model_module_version": "1.5.0",
      "model_name": "DescriptionStyleModel",
      "state": {
       "description_width": ""
      }
     },
     "e37d1f7a4069416894fb92b6c065ad1b": {
      "model_module": "@jupyter-widgets/controls",
      "model_module_version": "1.5.0",
      "model_name": "ButtonModel",
      "state": {
       "button_style": "primary",
       "description": "import",
       "layout": "IPY_MODEL_60160bfbc1f545f68718ca94c65ea30a",
       "style": "IPY_MODEL_c42e74943bb048709a501dff4667755e",
       "tooltip": "Click to import the selected asset"
      }
     },
     "e42be4399e364606afef348db0e92c8d": {
      "model_module": "@jupyter-widgets/controls",
      "model_module_version": "1.5.0",
      "model_name": "ToggleButtonModel",
      "state": {
       "button_style": "primary",
       "icon": "globe",
       "layout": "IPY_MODEL_d79312cf792441469bfa2271d9ec1033",
       "style": "IPY_MODEL_fc867503d810429fbcff21c5b1c1adb0",
       "tooltip": "Create timelapse"
      }
     },
     "e498ac435ded42298eeb8412935fcd46": {
      "model_module": "@jupyter-widgets/controls",
      "model_module_version": "1.5.0",
      "model_name": "DescriptionStyleModel",
      "state": {
       "description_width": ""
      }
     },
     "e6de41a5e7e94232b6cca559540380e9": {
      "model_module": "@jupyter-widgets/controls",
      "model_module_version": "1.5.0",
      "model_name": "VBoxModel",
      "state": {
       "children": [
        "IPY_MODEL_7f182529248d4114b0dffbf3c9c357f4",
        "IPY_MODEL_35c51aaa8cf44dbf863ad38798d8754c",
        "IPY_MODEL_c6fe7a698003448c868d0d7fff7a52d9"
       ],
       "layout": "IPY_MODEL_b46d9c0bef8c4a548e0d9728be9a3fd0"
      }
     },
     "e70d92fbd69b42c48da7ea1b624bb125": {
      "model_module": "jupyter-leaflet",
      "model_module_version": "^0.14.0",
      "model_name": "LeafletMapStyleModel",
      "state": {
       "_model_module_version": "^0.14.0"
      }
     },
     "e71e96e1dacf475e849089a409f57481": {
      "model_module": "@jupyter-widgets/controls",
      "model_module_version": "1.5.0",
      "model_name": "HBoxModel",
      "state": {
       "children": [
        "IPY_MODEL_e37d1f7a4069416894fb92b6c065ad1b",
        "IPY_MODEL_03f860263ef0424da4c6bf883e7aecc6"
       ],
       "layout": "IPY_MODEL_c30e22a0032842399f5f1521c8080041"
      }
     },
     "e791e642c9a94c279a84aea5c56af7fe": {
      "model_module": "jupyter-leaflet",
      "model_module_version": "^0.14.0",
      "model_name": "LeafletTileLayerModel",
      "state": {
       "_model_module_version": "^0.14.0",
       "_view_module_version": "^0.14.0",
       "attribution": "Map tiles by <a href=\"https://labs.strava.com/heatmap\">Strava 2017</a>",
       "max_native_zoom": 18,
       "max_zoom": 15,
       "min_native_zoom": 0,
       "min_zoom": 1,
       "name": "Strava.All",
       "options": [
        "attribution",
        "detect_retina",
        "max_native_zoom",
        "max_zoom",
        "min_native_zoom",
        "min_zoom",
        "no_wrap",
        "tile_size",
        "tms"
       ],
       "url": "https://heatmap-external-a.strava.com//tiles/all/hot/{z}/{x}/{y}.png?v=19"
      }
     },
     "e7dabebed6d5438eb7e6a7f75839730d": {
      "model_module": "@jupyter-widgets/base",
      "model_module_version": "1.2.0",
      "model_name": "LayoutModel",
      "state": {
       "height": "28px",
       "padding": "0px 0px 0px 4px",
       "width": "28px"
      }
     },
     "e95904e94cfd451ab41c49ba875df078": {
      "model_module": "@jupyter-widgets/controls",
      "model_module_version": "1.5.0",
      "model_name": "GridBoxModel",
      "state": {
       "children": [
        "IPY_MODEL_f93e405d78894602a4c9c19252a25e9c",
        "IPY_MODEL_cda940b695334979bd896b3cbb875de9",
        "IPY_MODEL_9e2665942a734ca8affce73c600039ea",
        "IPY_MODEL_aa127a29991c41cbad0a3d13a573b834",
        "IPY_MODEL_2e0de7f0fe6a4257b5ddf165e68f0db5",
        "IPY_MODEL_288d9e39159e4b8492dfce306e7a51b1",
        "IPY_MODEL_dbbf5c28442a4d459e52d9deb5994287",
        "IPY_MODEL_a72897f8ac7f4824bf5180de1e345843",
        "IPY_MODEL_c8362732a93a490d8b62e99d7761f9c9",
        "IPY_MODEL_e42be4399e364606afef348db0e92c8d",
        "IPY_MODEL_3b9270834c214591b10fbed4e35333a5",
        "IPY_MODEL_0f6df18f2a5d41fb939c992e0e8017c7",
        "IPY_MODEL_d73113dbb59d42e096810d845d98010b",
        "IPY_MODEL_44631b9647154b81ac927d155f787988",
        "IPY_MODEL_2e544b7d51a14b4f9cc95a65e520961e",
        "IPY_MODEL_30b4af19f32e4dfc82ed3bf8b08f656f",
        "IPY_MODEL_b7176750582d440d88ccd676e07b2e9e",
        "IPY_MODEL_5ba693e509764788b76723f8123ff8b4"
       ],
       "layout": "IPY_MODEL_a64093522470449b91bbf62506b11183"
      }
     },
     "eaef2644cd784f0287a197c5fd5d79d8": {
      "model_module": "@jupyter-widgets/base",
      "model_module_version": "1.2.0",
      "model_name": "LayoutModel",
      "state": {
       "height": "auto",
       "padding": "0px 0px 0px 4px",
       "width": "auto"
      }
     },
     "eb5e1f21a9b74c648d56fbf2d45d44ff": {
      "model_module": "jupyter-leaflet",
      "model_module_version": "^0.14.0",
      "model_name": "LeafletTileLayerModel",
      "state": {
       "_model_module_version": "^0.14.0",
       "_view_module_version": "^0.14.0",
       "attribution": "&copy; <a href=\"http://www.openstreetmap.org/copyright\">OpenStreetMap</a>",
       "max_native_zoom": 18,
       "min_native_zoom": 0,
       "min_zoom": 1,
       "name": "OpenStreetMap.BlackAndWhite",
       "options": [
        "attribution",
        "detect_retina",
        "max_native_zoom",
        "max_zoom",
        "min_native_zoom",
        "min_zoom",
        "no_wrap",
        "tile_size",
        "tms"
       ],
       "url": "http://{s}.tiles.wmflabs.org/bw-mapnik/{z}/{x}/{y}.png"
      }
     },
     "eba60769cae84e798b6fedced19cb0c8": {
      "model_module": "jupyter-leaflet",
      "model_module_version": "^0.14.0",
      "model_name": "LeafletMarkerClusterModel",
      "state": {
       "_model_module_version": "^0.14.0",
       "_view_module_version": "^0.14.0",
       "disable_clustering_at_zoom": 18,
       "max_cluster_radius": 80,
       "name": "Marker Cluster",
       "options": [
        "disable_clustering_at_zoom",
        "max_cluster_radius"
       ]
      }
     },
     "efc5f33a5252401ca8f44eab24d0dd83": {
      "model_module": "@jupyter-widgets/controls",
      "model_module_version": "1.5.0",
      "model_name": "ButtonStyleModel",
      "state": {}
     },
     "f01a56199a4943b695b0fc17d5683541": {
      "model_module": "@jupyter-widgets/controls",
      "model_module_version": "1.5.0",
      "model_name": "ButtonModel",
      "state": {
       "description": "Cancel",
       "layout": "IPY_MODEL_b703c6b1469b4fa9b9e21a1d55356a4c",
       "style": "IPY_MODEL_1dbbe3fa34694eb3832de2cd00ee6e1a"
      }
     },
     "f04616a2f8f2408da93ac6e7561e0c0c": {
      "model_module": "@jupyter-widgets/controls",
      "model_module_version": "1.5.0",
      "model_name": "DescriptionStyleModel",
      "state": {
       "description_width": ""
      }
     },
     "f1584ee61cf94ee4b97162449ebc3dda": {
      "model_module": "jupyter-leaflet",
      "model_module_version": "^0.14.0",
      "model_name": "LeafletTileLayerModel",
      "state": {
       "_model_module_version": "^0.14.0",
       "_view_module_version": "^0.14.0",
       "attribution": "Map tiles by <a href=\"https://labs.strava.com/heatmap\">Strava 2017</a>",
       "max_native_zoom": 18,
       "max_zoom": 15,
       "min_native_zoom": 0,
       "min_zoom": 1,
       "name": "Strava.Run",
       "options": [
        "attribution",
        "detect_retina",
        "max_native_zoom",
        "max_zoom",
        "min_native_zoom",
        "min_zoom",
        "no_wrap",
        "tile_size",
        "tms"
       ],
       "url": "https://heatmap-external-a.strava.com//tiles/run/bluered/{z}/{x}/{y}.png?v=19"
      }
     },
     "f1c362fd8f9d444d9ef85898a081b3a6": {
      "model_module": "jupyter-leaflet",
      "model_module_version": "^0.14.0",
      "model_name": "LeafletTileLayerModel",
      "state": {
       "_model_module_version": "^0.14.0",
       "_view_module_version": "^0.14.0",
       "attribution": "Map tiles by <a href=\"https://labs.strava.com/heatmap\">Strava 2017</a>",
       "max_native_zoom": 18,
       "max_zoom": 15,
       "min_native_zoom": 0,
       "min_zoom": 1,
       "name": "Strava.Winter",
       "options": [
        "attribution",
        "detect_retina",
        "max_native_zoom",
        "max_zoom",
        "min_native_zoom",
        "min_zoom",
        "no_wrap",
        "tile_size",
        "tms"
       ],
       "url": "https://heatmap-external-a.strava.com//tiles/winter/hot/{z}/{x}/{y}.png?v=19"
      }
     },
     "f22b56ae159143c0816a00b55d3f1da3": {
      "model_module": "@jupyter-widgets/controls",
      "model_module_version": "1.5.0",
      "model_name": "DescriptionStyleModel",
      "state": {
       "description_width": ""
      }
     },
     "f23b4c10d70f499fa0f5976e3f2ed195": {
      "model_module": "@jupyter-widgets/controls",
      "model_module_version": "1.5.0",
      "model_name": "DescriptionStyleModel",
      "state": {
       "description_width": ""
      }
     },
     "f29ddce4221642518a49872893d1423a": {
      "model_module": "jupyter-leaflet",
      "model_module_version": "^0.14.0",
      "model_name": "LeafletTileLayerModel",
      "state": {
       "_model_module_version": "^0.14.0",
       "_view_module_version": "^0.14.0",
       "attribution": "\nImagery provided by services from the Global Imagery Browse Services (GIBS), operated by the NASA/GSFC/Earth Science Data and Information System (<a href=\"https://earthdata.nasa.gov\">ESDIS</a>) with funding provided by NASA/HQ.\n",
       "max_native_zoom": 18,
       "max_zoom": 9,
       "min_native_zoom": 0,
       "min_zoom": 1,
       "name": "NASAGIBS.ModisTerraBands367CR",
       "options": [
        "attribution",
        "detect_retina",
        "max_native_zoom",
        "max_zoom",
        "min_native_zoom",
        "min_zoom",
        "no_wrap",
        "tile_size",
        "tms"
       ],
       "url": "https://gibs.earthdata.nasa.gov/wmts/epsg3857/best/MODIS_Terra_CorrectedReflectance_Bands367/default/2021-07-26/GoogleMapsCompatible_Level9/{z}/{y}/{x}.jpg"
      }
     },
     "f33b51329c2e427b9da491da43daa879": {
      "model_module": "@jupyter-widgets/controls",
      "model_module_version": "1.5.0",
      "model_name": "DescriptionStyleModel",
      "state": {
       "description_width": ""
      }
     },
     "f357c404adb84322a97b049d39d3a19b": {
      "model_module": "jupyter-leaflet",
      "model_module_version": "^0.14.0",
      "model_name": "LeafletTileLayerModel",
      "state": {
       "_model_module_version": "^0.14.0",
       "_view_module_version": "^0.14.0",
       "attribution": "Google",
       "max_native_zoom": 18,
       "min_native_zoom": 0,
       "name": "Google Maps",
       "options": [
        "attribution",
        "detect_retina",
        "max_native_zoom",
        "max_zoom",
        "min_native_zoom",
        "min_zoom",
        "no_wrap",
        "tile_size",
        "tms"
       ],
       "url": "https://mt1.google.com/vt/lyrs=m&x={x}&y={y}&z={z}"
      }
     },
     "f4f80671eb104b43b091f007d086818e": {
      "model_module": "jupyter-leaflet",
      "model_module_version": "^0.14.0",
      "model_name": "LeafletTileLayerModel",
      "state": {
       "_model_module_version": "^0.14.0",
       "_view_module_version": "^0.14.0",
       "attribution": "\nImagery provided by services from the Global Imagery Browse Services (GIBS), operated by the NASA/GSFC/Earth Science Data and Information System (<a href=\"https://earthdata.nasa.gov\">ESDIS</a>) with funding provided by NASA/HQ.\n",
       "max_native_zoom": 18,
       "max_zoom": 9,
       "min_native_zoom": 0,
       "min_zoom": 1,
       "name": "NASAGIBS.ModisAquaBands721CR",
       "options": [
        "attribution",
        "detect_retina",
        "max_native_zoom",
        "max_zoom",
        "min_native_zoom",
        "min_zoom",
        "no_wrap",
        "tile_size",
        "tms"
       ],
       "url": "https://gibs.earthdata.nasa.gov/wmts/epsg3857/best/MODIS_Aqua_CorrectedReflectance_Bands721/default/2021-07-26/GoogleMapsCompatible_Level9/{z}/{y}/{x}.jpg"
      }
     },
     "f6259d2925394d7480ad36e43a7c6468": {
      "model_module": "@jupyter-widgets/controls",
      "model_module_version": "1.5.0",
      "model_name": "ToggleButtonModel",
      "state": {
       "button_style": "primary",
       "icon": "smile-o",
       "layout": "IPY_MODEL_2250ec555c3745a4bf6e1ece35ed2739",
       "style": "IPY_MODEL_a05fb703ba3d41848a30ce248068286f",
       "tooltip": "This is a placehold"
      }
     },
     "f68ee8a7fd1f491ea289c9e5c32663c2": {
      "model_module": "jupyter-leaflet",
      "model_module_version": "^0.14.0",
      "model_name": "LeafletTileLayerModel",
      "state": {
       "_model_module_version": "^0.14.0",
       "_view_module_version": "^0.14.0",
       "attribution": "&copy; <a href=\"http://www.openstreetmap.org/copyright\">OpenStreetMap</a>, Tiles courtesy of <a href=\"http://hot.openstreetmap.org/\" target=\"_blank\">Humanitarian OpenStreetMap Team</a>",
       "max_native_zoom": 18,
       "max_zoom": 19,
       "min_native_zoom": 0,
       "min_zoom": 1,
       "name": "OpenStreetMap.HOT",
       "options": [
        "attribution",
        "detect_retina",
        "max_native_zoom",
        "max_zoom",
        "min_native_zoom",
        "min_zoom",
        "no_wrap",
        "tile_size",
        "tms"
       ],
       "url": "http://{s}.tile.openstreetmap.fr/hot/{z}/{x}/{y}.png"
      }
     },
     "f69bd4125ec0408699ee8603c70a29e9": {
      "model_module": "jupyter-leaflet",
      "model_module_version": "^0.14.0",
      "model_name": "LeafletTileLayerModel",
      "state": {
       "_model_module_version": "^0.14.0",
       "_view_module_version": "^0.14.0",
       "attribution": "Google",
       "max_native_zoom": 18,
       "min_native_zoom": 0,
       "name": "Google Terrain",
       "options": [
        "attribution",
        "detect_retina",
        "max_native_zoom",
        "max_zoom",
        "min_native_zoom",
        "min_zoom",
        "no_wrap",
        "tile_size",
        "tms"
       ],
       "url": "https://mt1.google.com/vt/lyrs=p&x={x}&y={y}&z={z}"
      }
     },
     "f7405bfa747140d696c1a04940040c18": {
      "model_module": "@jupyter-widgets/output",
      "model_module_version": "1.0.0",
      "model_name": "OutputModel",
      "state": {
       "layout": "IPY_MODEL_ac51cc057cdb45968c6431c7fd76f09c"
      }
     },
     "f760c8814f86429e88a359ca4bfbbccc": {
      "model_module": "jupyter-leaflet",
      "model_module_version": "^0.14.0",
      "model_name": "LeafletMeasureControlModel",
      "state": {
       "_model_module_version": "^0.14.0",
       "_view_module_version": "^0.14.0",
       "active_color": "orange",
       "options": [
        "active_color",
        "capture_z_index",
        "completed_color",
        "popup_options",
        "position",
        "primary_area_unit",
        "primary_length_unit",
        "secondary_area_unit",
        "secondary_length_unit"
       ],
       "position": "bottomleft",
       "primary_length_unit": "kilometers",
       "secondary_area_unit": null,
       "secondary_length_unit": null
      }
     },
     "f7f726ada33c457e91da306986cf8336": {
      "model_module": "@jupyter-widgets/base",
      "model_module_version": "1.2.0",
      "model_name": "LayoutModel",
      "state": {
       "height": "auto",
       "padding": "0px 0px 0px 4px",
       "width": "auto"
      }
     },
     "f844b4115a604c4bb82fa57f4c960ee1": {
      "model_module": "@jupyter-widgets/base",
      "model_module_version": "1.2.0",
      "model_name": "LayoutModel",
      "state": {}
     },
     "f93e405d78894602a4c9c19252a25e9c": {
      "model_module": "@jupyter-widgets/controls",
      "model_module_version": "1.5.0",
      "model_name": "ToggleButtonModel",
      "state": {
       "button_style": "primary",
       "icon": "info",
       "layout": "IPY_MODEL_c32426373349481b9e369bb67cce7bfe",
       "style": "IPY_MODEL_df6334a113a5480d86792287f8dd120b",
       "tooltip": "Inspector"
      }
     },
     "f995ba825ef449f29d61776dd3cec488": {
      "model_module": "@jupyter-widgets/controls",
      "model_module_version": "1.5.0",
      "model_name": "VBoxModel",
      "state": {
       "children": [
        "IPY_MODEL_5e551bc0dbf14e9c8c53d2ad32027a78",
        "IPY_MODEL_fee50d1d337b4f7b9a6668215f4dd865"
       ],
       "layout": "IPY_MODEL_93bb42a960bf461e87f97ddf8b0b6a54"
      }
     },
     "f9d16c7846a441bb9a6e8eff9a081d8b": {
      "model_module": "@jupyter-widgets/controls",
      "model_module_version": "1.5.0",
      "model_name": "ToggleButtonModel",
      "state": {
       "button_style": "primary",
       "icon": "retweet",
       "layout": "IPY_MODEL_931d8f1073c648b4a5a1439a7f051b63",
       "style": "IPY_MODEL_e498ac435ded42298eeb8412935fcd46",
       "tooltip": "Convert Earth Engine JavaScript to Python"
      }
     },
     "fa8b18fcb0814ce2a3c5f075ab84d0f5": {
      "model_module": "jupyter-leaflet",
      "model_module_version": "^0.14.0",
      "model_name": "LeafletWidgetControlModel",
      "state": {
       "_model_module": "jupyter-leaflet",
       "_model_module_version": "^0.14.0",
       "_view_count": null,
       "_view_module": "jupyter-leaflet",
       "_view_module_version": "^0.14.0",
       "options": [
        "position",
        "transparent_bg"
       ],
       "position": "topleft",
       "widget": "IPY_MODEL_787774ec0d3046a79d115186b8111f65"
      }
     },
     "fb2ebcadd3c24cefa3ab923f14ea9938": {
      "model_module": "jupyter-leaflet",
      "model_module_version": "^0.14.0",
      "model_name": "LeafletTileLayerModel",
      "state": {
       "_model_module_version": "^0.14.0",
       "_view_module_version": "^0.14.0",
       "attribution": "&copy; <a href=\"http://www.openstreetmap.org/copyright\">OpenStreetMap</a> &copy; <a href=\"http://cartodb.com/attributions\">CartoDB</a>",
       "max_native_zoom": 18,
       "max_zoom": 20,
       "min_native_zoom": 0,
       "min_zoom": 1,
       "name": "CartoDB.DarkMatter",
       "options": [
        "attribution",
        "detect_retina",
        "max_native_zoom",
        "max_zoom",
        "min_native_zoom",
        "min_zoom",
        "no_wrap",
        "tile_size",
        "tms"
       ],
       "url": "http://c.basemaps.cartocdn.com/dark_all/{z}/{x}/{y}.png"
      }
     },
     "fb6ef07d9a734225a471993f3910facd": {
      "model_module": "@jupyter-widgets/base",
      "model_module_version": "1.2.0",
      "model_name": "LayoutModel",
      "state": {
       "height": "28px",
       "padding": "0px 0px 0px 4px",
       "width": "28px"
      }
     },
     "fbb98c1b12a84d74812f5709987e24ec": {
      "model_module": "@jupyter-widgets/controls",
      "model_module_version": "1.5.0",
      "model_name": "ToggleButtonModel",
      "state": {
       "button_style": "primary",
       "icon": "adjust",
       "layout": "IPY_MODEL_485c21df3d054abe933a62eaaf35ff96",
       "style": "IPY_MODEL_95d10b68ca3248a9ba22a07269b65d03",
       "tooltip": "Planet imagery"
      }
     },
     "fc20025fd605410b98afdf0cfb5e9a1e": {
      "model_module": "@jupyter-widgets/controls",
      "model_module_version": "1.5.0",
      "model_name": "GridBoxModel",
      "state": {
       "children": [
        "IPY_MODEL_5c1271864cbe46e585789e3b9de67d38",
        "IPY_MODEL_552ac2428ef845c28e7bb138abb4f0d0",
        "IPY_MODEL_42f4e928d3e849f09b97cffc9b8aa1e1"
       ],
       "layout": "IPY_MODEL_dba03da801db4c70bb048f7b32629fa5"
      }
     },
     "fc867503d810429fbcff21c5b1c1adb0": {
      "model_module": "@jupyter-widgets/controls",
      "model_module_version": "1.5.0",
      "model_name": "DescriptionStyleModel",
      "state": {
       "description_width": ""
      }
     },
     "fc8d8df79ff34a38997b0553d0a82c6d": {
      "model_module": "@jupyter-widgets/base",
      "model_module_version": "1.2.0",
      "model_name": "LayoutModel",
      "state": {
       "border": "1px solid black"
      }
     },
     "fdcf68fd040c4b2eb9ccb4158037a595": {
      "model_module": "@jupyter-widgets/controls",
      "model_module_version": "1.5.0",
      "model_name": "DescriptionStyleModel",
      "state": {
       "description_width": ""
      }
     },
     "fea189c91a96426b90a36993fb43c3c1": {
      "model_module": "@jupyter-widgets/controls",
      "model_module_version": "1.5.0",
      "model_name": "HBoxModel",
      "state": {
       "_view_count": 1,
       "children": [
        "IPY_MODEL_84ba4129bcd14cffaceb2bbc155bbb93"
       ],
       "layout": "IPY_MODEL_02581f1dde844034853c825719cb87c6"
      }
     },
     "fee50d1d337b4f7b9a6668215f4dd865": {
      "model_module": "@jupyter-widgets/controls",
      "model_module_version": "1.5.0",
      "model_name": "TextModel",
      "state": {
       "layout": "IPY_MODEL_8b4fb880cc904b4691bce57047be7915",
       "placeholder": "Search by place name or address",
       "style": "IPY_MODEL_fdcf68fd040c4b2eb9ccb4158037a595"
      }
     }
    },
    "version_major": 2,
    "version_minor": 0
   }
  }
 },
 "nbformat": 4,
 "nbformat_minor": 5
}
