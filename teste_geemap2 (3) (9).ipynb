{
 "cells": [
  {
   "cell_type": "code",
   "execution_count": 1,
   "id": "deadly-gravity",
   "metadata": {},
   "outputs": [],
   "source": [
    "import ee\n",
    "import geemap\n",
    "ee.Initialize()"
   ]
  },
  {
   "cell_type": "code",
   "execution_count": 2,
   "id": "authentic-catalyst",
   "metadata": {},
   "outputs": [],
   "source": [
    "import requests\n",
    "import pandas as pd\n",
    "import json\n",
    "import time"
   ]
  },
  {
   "cell_type": "code",
   "execution_count": 12,
   "id": "spare-prefix",
   "metadata": {},
   "outputs": [],
   "source": [
    "GEOCODE = '2201150 '\n",
    "Escala = 500;\n",
    "url = f'http://servicodados.ibge.gov.br/api/v3/malhas/municipios/{GEOCODE}?formato=application/vnd.geo+json'\n",
    "response = requests.get(url)\n",
    "geo = response.json();\n",
    "ee_object = geemap.geojson_to_ee(geo)\n",
    "geometry = ee_object.geometry()"
   ]
  },
  {
   "cell_type": "code",
   "execution_count": 4,
   "id": "noble-hearing",
   "metadata": {},
   "outputs": [
    {
     "data": {
      "text/plain": [
       "<Response [200]>"
      ]
     },
     "execution_count": 4,
     "metadata": {},
     "output_type": "execute_result"
    }
   ],
   "source": [
    "response"
   ]
  },
  {
   "cell_type": "code",
   "execution_count": 5,
   "id": "hidden-sequence",
   "metadata": {},
   "outputs": [
    {
     "data": {
      "application/vnd.jupyter.widget-view+json": {
       "model_id": "856b01179e7842ccbc6890e95c5505a5",
       "version_major": 2,
       "version_minor": 0
      },
      "text/plain": [
       "Map(center=[-11.77, -45.76], controls=(WidgetControl(options=['position', 'transparent_bg'], widget=HBox(child…"
      ]
     },
     "metadata": {},
     "output_type": "display_data"
    }
   ],
   "source": [
    "Map = geemap.Map(center=[-11.77,-45.76], zoom=8)\n",
    "\n",
    "Map.addLayer(geometry, {}, \"Geometria\")\n",
    "\n",
    "Map.addLayerControl() # This line is not needed for ipyleaflet-based Map.\n",
    "\n",
    "Map\n"
   ]
  },
  {
   "cell_type": "code",
   "execution_count": 6,
   "id": "graduate-fabric",
   "metadata": {},
   "outputs": [],
   "source": [
    "#Se precisar especificar a geometria manualmente no mapa\n",
    "\n",
    "#Map.draw_features\n",
    "#roi = ee.FeatureCollection(Map.draw_features)\n",
    "#geometry = roi.geometry()\n",
    "#Map"
   ]
  },
  {
   "cell_type": "code",
   "execution_count": 7,
   "id": "opening-implement",
   "metadata": {},
   "outputs": [],
   "source": [
    "\n",
    "def clusterization(image):\n",
    "\n",
    "          \n",
    "    # Load a pre-computed Landsat composite for input.\n",
    "    input = image.clip(geometry).select(\"EVI\");\n",
    "  \n",
    "    #Make the training dataset.\n",
    "    training = input.sample(**{\n",
    "    'region': geometry,\n",
    "    'scale': Escala,\n",
    "    'numPixels': 5000\n",
    "    });\n",
    "\n",
    "    #Instantiate the clusterer and train it.\n",
    "    clusterer = ee.Clusterer.wekaKMeans(5).train(training)\n",
    "    #Cluster the input using the trained clusterer.\n",
    "    result = input.cluster(clusterer)\n",
    " \n",
    "    #Combine the mean and standard deviation reducers.\n",
    "    reducers = ee.Reducer.mean()\n",
    "\n",
    "    #Inicialização Lista de EVI dos clustes\n",
    "    lista = ee.List([])\n",
    "\n",
    "    #Iteração sobre os 5 Clusters para calcular a estatística de cada região\n",
    "    for i in range(5):\n",
    "\n",
    "        #Cálculo da geometria\n",
    "        geom = result.select(\"cluster\").eq(i).selfMask().reduceToVectors(**{\n",
    "        'scale':Escala,\n",
    "        });\n",
    "\n",
    "\n",
    "\n",
    "        #Reducer para cálculo do EVI médio de cada cluster\n",
    "        stats = image.reduceRegion(**{\n",
    "        'reducer': reducers,\n",
    "        'geometry':geom.geometry(),\n",
    "        'scale':Escala,\n",
    "        'bestEffort':True,\n",
    "        'maxPixels':10000000000,\n",
    "        });\n",
    "\n",
    "        #Armarzena o EVI médio de cada clúster em uma lista\n",
    "        lista = lista.add(stats.get(\"EVI\"));\n",
    "\n",
    "\n",
    "    #Cópia da Lista para ordenar os 2 maiores EVIs\n",
    "    lista2 = lista;\n",
    "\n",
    "\n",
    "    #Ordenar a lista para pegar os 2 maiores valores de EVI médio nos clusters\n",
    "    #Agora nossos clustests de interesse estão nas posições 3 e 4 da lista 2\n",
    "    lista2 = lista2.sort()\n",
    "\n",
    "    #Pegar as chaves dos clusteres de interesse na lista original\n",
    "    chaves1 = lista.indexOf(lista2.get(3))\n",
    "    chaves2 = lista.indexOf(lista2.get(4))\n",
    "\n",
    "\n",
    "    #Cálculo da Geometria final\n",
    "\n",
    "    geom1 = result.select(\"cluster\").eq(chaves1).selfMask().reduceToVectors(**{\n",
    "    'scale':Escala,\n",
    "    });\n",
    "\n",
    "    geom2 = result.select(\"cluster\").eq(chaves2).selfMask().reduceToVectors(**{\n",
    "    'scale':Escala,\n",
    "    });\n",
    "\n",
    "    #Geom é a feature collection de nossos clusters de interesse\n",
    "    geom = geom1.merge(geom2);\n",
    "\n",
    "\n",
    "\n",
    "    stats = image.reduceRegion(**{\n",
    "    'reducer': reducers,\n",
    "    'geometry':geom.geometry(),\n",
    "    'scale':Escala,\n",
    "    'bestEffort':True,\n",
    "    'maxPixels':10000000000,\n",
    "    });\n",
    "\n",
    "\n",
    "    return image.set('EVI_Cluster', stats.get(\"EVI\"))\n",
    "    \n",
    "\n"
   ]
  },
  {
   "cell_type": "code",
   "execution_count": 8,
   "id": "matched-procurement",
   "metadata": {},
   "outputs": [],
   "source": [
    "import requests\n",
    "import pandas as pd\n",
    "import json\n",
    "import time\n",
    "#import os\n",
    "\n",
    "#out_dir = os.path.join(os.path.expanduser('~'), 'Downloads')\n",
    "\n",
    "\n",
    "stats = list();"
   ]
  },
  {
   "cell_type": "code",
   "execution_count": 13,
   "id": "animal-married",
   "metadata": {},
   "outputs": [
    {
     "name": "stdout",
     "output_type": "stream",
     "text": [
      "Safra 1999 / 2000\n",
      "Safra 2000 / 2001\n",
      "Safra 2001 / 2002\n",
      "Safra 2002 / 2003\n",
      "Safra 2003 / 2004\n",
      "Safra 2004 / 2005\n",
      "Safra 2005 / 2006\n",
      "Safra 2006 / 2007\n",
      "Safra 2007 / 2008\n",
      "Safra 2008 / 2009\n",
      "Safra 2009 / 2010\n",
      "Safra 2010 / 2011\n",
      "Safra 2011 / 2012\n",
      "Safra 2012 / 2013\n",
      "Safra 2013 / 2014\n",
      "Safra 2014 / 2015\n",
      "Safra 2015 / 2016\n",
      "Safra 2016 / 2017\n",
      "Safra 2017 / 2018\n",
      "Safra 2018 / 2019\n",
      "Safra 2019 / 2020\n",
      "Safra 2020 / 2021\n"
     ]
    }
   ],
   "source": [
    "#Dividir o processamento das imagens de acordo com o ano para não sobrecarregar o sistema\n",
    "ano = list(range(2000, 2022))\n",
    "\n",
    "#string_ints = [str(int) for int in ano]\n",
    "#stats = list();\n",
    "    \n",
    "for i in (ano):\n",
    "    \n",
    "    print (\"Safra\",i-1,\"/\",i)\n",
    "    #Filtrar a territorialidade \n",
    "    #4 principais meses de safra\n",
    "    #filter start and end date   \n",
    "    mcollection = ee.ImageCollection('MODIS/006/MOD13Q1').filterBounds(geometry).filterDate( str(i-1) + '-11-01', str(i-1) +'-12-31').filter(ee.Filter.calendarRange(11, 12,'month')).map(clusterization)\n",
    "    mcollection2 = ee.ImageCollection('MODIS/006/MOD13Q1').filterBounds(geometry).filterDate( str(i) + '-01-01', str(i) +'-02-28').filter(ee.Filter.calendarRange(1, 2,'month')).map(clusterization)    \n",
    "    mcollection = mcollection.merge(mcollection2)\n",
    "    \n",
    "    #Pegar a propriedade que nos interessa em cada imagem - o EVI_Cluster Calculado \n",
    "    a = mcollection.aggregate_array('EVI_Cluster')\n",
    "    \n",
    "    \n",
    "    #10s de soneca pra o GEE não derrubar as requests\n",
    "    time.sleep(10)\n",
    "    # Fazer a informação passar do servidor do google para o jupyter\n",
    "    x = a.getInfo()\n",
    "    #Salvar cada ano\n",
    "    stats.append(x)    \n",
    "    "
   ]
  },
  {
   "cell_type": "code",
   "execution_count": 14,
   "id": "inclusive-defendant",
   "metadata": {},
   "outputs": [
    {
     "data": {
      "text/plain": [
       "[[4648.192132335749],\n",
       " [4187.9359318363695,\n",
       "  4067.6739396411094,\n",
       "  4447.305420761296,\n",
       "  4456.22914522718,\n",
       "  4562.811276451284,\n",
       "  4786.196786369029,\n",
       "  5156.838287055143],\n",
       " [4648.192132335749],\n",
       " [4187.9359318363695,\n",
       "  4067.6739396411094,\n",
       "  4447.305420761296,\n",
       "  4456.22914522718,\n",
       "  4562.811276451284,\n",
       "  4786.196786369029,\n",
       "  5156.838287055143],\n",
       " [4530.398269828764],\n",
       " [4105.572274776766,\n",
       "  3866.1974138130836,\n",
       "  4353.674162899956,\n",
       "  4333.901256681487,\n",
       "  4491.513012973517,\n",
       "  4609.159843134976,\n",
       "  5029.449822962465],\n",
       " [3809.2022052231255,\n",
       "  4165.336913317309,\n",
       "  4203.195421431562,\n",
       "  4124.418825936671,\n",
       "  3840.640309463088,\n",
       "  4617.349444704459,\n",
       "  4766.325086493897,\n",
       "  4217.826660988075],\n",
       " [3747.088825478645,\n",
       "  3582.0407285713436,\n",
       "  4077.330931548318,\n",
       "  3779.191400038142,\n",
       "  4501.927481030977,\n",
       "  4984.556724224164,\n",
       "  5110.004016122193,\n",
       "  4966.372085999531],\n",
       " [3749.1709593131764,\n",
       "  3832.4832280816863,\n",
       "  4067.416449172959,\n",
       "  4376.044127296588,\n",
       "  4709.731717295694,\n",
       "  4298.6068072742255,\n",
       "  5515.027832468812,\n",
       "  5434.672803515197],\n",
       " [3433.3175123993265,\n",
       "  4022.200133144712,\n",
       "  4246.800239154985,\n",
       "  4301.716900420757,\n",
       "  4853.863565462863,\n",
       "  5124.535892531599,\n",
       "  5113.0584289232975],\n",
       " [3200.467581193575,\n",
       "  3400.5624119261292,\n",
       "  4336.396609768724,\n",
       "  3914.0211354319263,\n",
       "  4875.364534581383,\n",
       "  4647.747018013939,\n",
       "  5187.185553454917,\n",
       "  5319.4458484853],\n",
       " [4338.268822457931,\n",
       "  4573.072162343751,\n",
       "  4560.920712724383,\n",
       "  4561.06578760811,\n",
       "  4916.055690509294,\n",
       "  4880.682636312314,\n",
       "  5013.556911472485,\n",
       "  5948.722844318697],\n",
       " [2947.1449506454064,\n",
       "  3050.6551944422263,\n",
       "  3772.7298735800655,\n",
       "  3856.5103170990747,\n",
       "  3915.0714284330134,\n",
       "  5453.291956002548,\n",
       "  5735.779512032305,\n",
       "  6626.506648024544],\n",
       " [3978.946351874172,\n",
       "  4147.435134071698,\n",
       "  4209.838787928025,\n",
       "  5090.753395735658,\n",
       "  6302.692064481654,\n",
       "  7249.444477499188,\n",
       "  6633.516490386058],\n",
       " [4297.333592571276,\n",
       "  3741.264101873055,\n",
       "  4300.107521060692,\n",
       "  4811.661326386266,\n",
       "  5809.421202683612,\n",
       "  7083.4801088472395,\n",
       "  7489.16600660066,\n",
       "  6740.656237724023],\n",
       " [3591.320554472601,\n",
       "  4007.0017728924145,\n",
       "  3714.6259740530368,\n",
       "  4379.474452464721,\n",
       "  5808.020827295093,\n",
       "  6453.641819204809,\n",
       "  7848.967795273889,\n",
       "  6613.188752194626],\n",
       " [4601.814312612114,\n",
       "  4251.1273327378785,\n",
       "  4189.430552054449,\n",
       "  5539.721093833427,\n",
       "  6564.027622594662,\n",
       "  5762.33965818402,\n",
       "  6131.958284038249,\n",
       "  6594.405997420045],\n",
       " [3700.6562850573523,\n",
       "  3953.2462736961115,\n",
       "  4549.278419131222,\n",
       "  5934.963223811263,\n",
       "  6626.052710192502,\n",
       "  7067.662538374893,\n",
       "  7255.65260233926],\n",
       " [3770.391649145284,\n",
       "  3933.9312714776634,\n",
       "  4337.342053236756,\n",
       "  4909.415156320798,\n",
       "  6252.273207599927,\n",
       "  6838.801237661364,\n",
       "  6902.917770939084,\n",
       "  5903.518676163073],\n",
       " [3009.595918430595,\n",
       "  3769.5570305641795,\n",
       "  4223.921680716219,\n",
       "  4642.410795124782,\n",
       "  5484.262304912544,\n",
       "  7175.816675670809,\n",
       "  7664.139698168291,\n",
       "  6741.962039365054],\n",
       " [3401.8075768942235,\n",
       "  4027.9102791014298,\n",
       "  3992.3384703166744,\n",
       "  3975.5524281466105,\n",
       "  4079.9011520506256,\n",
       "  6420.648884253163,\n",
       "  6150.4904728299225,\n",
       "  5028.222456314289],\n",
       " [3959.3105826397145,\n",
       "  4740.998838403588,\n",
       "  5405.7347713029985,\n",
       "  5873.745429028235,\n",
       "  7435.613685879411,\n",
       "  7838.504510453514,\n",
       "  7798.449519714846],\n",
       " [2918.931811777966,\n",
       "  4525.651774262506,\n",
       "  4301.303876174097,\n",
       "  6329.562774957699,\n",
       "  7703.402839056205,\n",
       "  8049.336882382299,\n",
       "  7758.4878039665555,\n",
       "  7860.0548152634765],\n",
       " [3921.4409448818897,\n",
       "  4791.734370172006,\n",
       "  5473.6937732342,\n",
       "  5842.731081658829,\n",
       "  5666.18486006403,\n",
       "  7435.288810140384,\n",
       "  7002.020021396913,\n",
       "  6377.566843011173],\n",
       " [3620.9566535654126,\n",
       "  3948.504487026325,\n",
       "  4038.1066363636364,\n",
       "  3568.284574209246,\n",
       "  5390.338805970149,\n",
       "  6554.412937347437,\n",
       "  7137.187336420784,\n",
       "  7333.9436824056975],\n",
       " [4603.81383026493,\n",
       "  4151.758406240118,\n",
       "  5828.196212014811,\n",
       "  7242.951562241693,\n",
       "  7331.2673092587565,\n",
       "  7636.075040128411,\n",
       "  6981.6174851261685]]"
      ]
     },
     "execution_count": 14,
     "metadata": {},
     "output_type": "execute_result"
    }
   ],
   "source": [
    "stats"
   ]
  },
  {
   "cell_type": "code",
   "execution_count": 125,
   "id": "proprietary-cisco",
   "metadata": {},
   "outputs": [],
   "source": [
    "df = pd.DataFrame({'lin':stats})"
   ]
  },
  {
   "cell_type": "code",
   "execution_count": 126,
   "id": "located-dayton",
   "metadata": {},
   "outputs": [],
   "source": [
    "#Separate comma\n",
    "#df = df.apply(lambda x:pd.Series(x))"
   ]
  },
  {
   "cell_type": "code",
   "execution_count": 127,
   "id": "fourth-richmond",
   "metadata": {},
   "outputs": [],
   "source": [
    "df = pd.DataFrame(stats, columns = ['EVI1', 'EVI2','EVI3','EVI4','EVI5','EVI6','EVI7','EVI8'])"
   ]
  },
  {
   "cell_type": "code",
   "execution_count": 128,
   "id": "forward-nature",
   "metadata": {},
   "outputs": [
    {
     "data": {
      "text/html": [
       "<div>\n",
       "<style scoped>\n",
       "    .dataframe tbody tr th:only-of-type {\n",
       "        vertical-align: middle;\n",
       "    }\n",
       "\n",
       "    .dataframe tbody tr th {\n",
       "        vertical-align: top;\n",
       "    }\n",
       "\n",
       "    .dataframe thead th {\n",
       "        text-align: right;\n",
       "    }\n",
       "</style>\n",
       "<table border=\"1\" class=\"dataframe\">\n",
       "  <thead>\n",
       "    <tr style=\"text-align: right;\">\n",
       "      <th></th>\n",
       "      <th>EVI1</th>\n",
       "      <th>EVI2</th>\n",
       "      <th>EVI3</th>\n",
       "      <th>EVI4</th>\n",
       "      <th>EVI5</th>\n",
       "      <th>EVI6</th>\n",
       "      <th>EVI7</th>\n",
       "      <th>EVI8</th>\n",
       "    </tr>\n",
       "  </thead>\n",
       "  <tbody>\n",
       "    <tr>\n",
       "      <th>0</th>\n",
       "      <td>4648.192132</td>\n",
       "      <td>NaN</td>\n",
       "      <td>NaN</td>\n",
       "      <td>NaN</td>\n",
       "      <td>NaN</td>\n",
       "      <td>NaN</td>\n",
       "      <td>NaN</td>\n",
       "      <td>NaN</td>\n",
       "    </tr>\n",
       "    <tr>\n",
       "      <th>1</th>\n",
       "      <td>4187.935932</td>\n",
       "      <td>4067.673940</td>\n",
       "      <td>4447.305421</td>\n",
       "      <td>4456.229145</td>\n",
       "      <td>4562.811276</td>\n",
       "      <td>4786.196786</td>\n",
       "      <td>5156.838287</td>\n",
       "      <td>NaN</td>\n",
       "    </tr>\n",
       "    <tr>\n",
       "      <th>2</th>\n",
       "      <td>4648.192132</td>\n",
       "      <td>NaN</td>\n",
       "      <td>NaN</td>\n",
       "      <td>NaN</td>\n",
       "      <td>NaN</td>\n",
       "      <td>NaN</td>\n",
       "      <td>NaN</td>\n",
       "      <td>NaN</td>\n",
       "    </tr>\n",
       "    <tr>\n",
       "      <th>3</th>\n",
       "      <td>4187.935932</td>\n",
       "      <td>4067.673940</td>\n",
       "      <td>4447.305421</td>\n",
       "      <td>4456.229145</td>\n",
       "      <td>4562.811276</td>\n",
       "      <td>4786.196786</td>\n",
       "      <td>5156.838287</td>\n",
       "      <td>NaN</td>\n",
       "    </tr>\n",
       "    <tr>\n",
       "      <th>4</th>\n",
       "      <td>4530.398270</td>\n",
       "      <td>NaN</td>\n",
       "      <td>NaN</td>\n",
       "      <td>NaN</td>\n",
       "      <td>NaN</td>\n",
       "      <td>NaN</td>\n",
       "      <td>NaN</td>\n",
       "      <td>NaN</td>\n",
       "    </tr>\n",
       "    <tr>\n",
       "      <th>5</th>\n",
       "      <td>4105.572275</td>\n",
       "      <td>3866.197414</td>\n",
       "      <td>4353.674163</td>\n",
       "      <td>4333.901257</td>\n",
       "      <td>4491.513013</td>\n",
       "      <td>4609.159843</td>\n",
       "      <td>5029.449823</td>\n",
       "      <td>NaN</td>\n",
       "    </tr>\n",
       "    <tr>\n",
       "      <th>6</th>\n",
       "      <td>3809.202205</td>\n",
       "      <td>4165.336913</td>\n",
       "      <td>4203.195421</td>\n",
       "      <td>4124.418826</td>\n",
       "      <td>3840.640309</td>\n",
       "      <td>4617.349445</td>\n",
       "      <td>4766.325086</td>\n",
       "      <td>4217.826661</td>\n",
       "    </tr>\n",
       "    <tr>\n",
       "      <th>7</th>\n",
       "      <td>3747.088825</td>\n",
       "      <td>3582.040729</td>\n",
       "      <td>4077.330932</td>\n",
       "      <td>3779.191400</td>\n",
       "      <td>4501.927481</td>\n",
       "      <td>4984.556724</td>\n",
       "      <td>5110.004016</td>\n",
       "      <td>4966.372086</td>\n",
       "    </tr>\n",
       "    <tr>\n",
       "      <th>8</th>\n",
       "      <td>3749.170959</td>\n",
       "      <td>3832.483228</td>\n",
       "      <td>4067.416449</td>\n",
       "      <td>4376.044127</td>\n",
       "      <td>4709.731717</td>\n",
       "      <td>4298.606807</td>\n",
       "      <td>5515.027832</td>\n",
       "      <td>5434.672804</td>\n",
       "    </tr>\n",
       "    <tr>\n",
       "      <th>9</th>\n",
       "      <td>3433.317512</td>\n",
       "      <td>4022.200133</td>\n",
       "      <td>4246.800239</td>\n",
       "      <td>4301.716900</td>\n",
       "      <td>4853.863565</td>\n",
       "      <td>5124.535893</td>\n",
       "      <td>5113.058429</td>\n",
       "      <td>NaN</td>\n",
       "    </tr>\n",
       "    <tr>\n",
       "      <th>10</th>\n",
       "      <td>3200.467581</td>\n",
       "      <td>3400.562412</td>\n",
       "      <td>4336.396610</td>\n",
       "      <td>3914.021135</td>\n",
       "      <td>4875.364535</td>\n",
       "      <td>4647.747018</td>\n",
       "      <td>5187.185553</td>\n",
       "      <td>5319.445848</td>\n",
       "    </tr>\n",
       "    <tr>\n",
       "      <th>11</th>\n",
       "      <td>4338.268822</td>\n",
       "      <td>4573.072162</td>\n",
       "      <td>4560.920713</td>\n",
       "      <td>4561.065788</td>\n",
       "      <td>4916.055691</td>\n",
       "      <td>4880.682636</td>\n",
       "      <td>5013.556911</td>\n",
       "      <td>5948.722844</td>\n",
       "    </tr>\n",
       "    <tr>\n",
       "      <th>12</th>\n",
       "      <td>2947.144951</td>\n",
       "      <td>3050.655194</td>\n",
       "      <td>3772.729874</td>\n",
       "      <td>3856.510317</td>\n",
       "      <td>3915.071428</td>\n",
       "      <td>5453.291956</td>\n",
       "      <td>5735.779512</td>\n",
       "      <td>6626.506648</td>\n",
       "    </tr>\n",
       "    <tr>\n",
       "      <th>13</th>\n",
       "      <td>3978.946352</td>\n",
       "      <td>4147.435134</td>\n",
       "      <td>4209.838788</td>\n",
       "      <td>5090.753396</td>\n",
       "      <td>6302.692064</td>\n",
       "      <td>7249.444477</td>\n",
       "      <td>6633.516490</td>\n",
       "      <td>NaN</td>\n",
       "    </tr>\n",
       "    <tr>\n",
       "      <th>14</th>\n",
       "      <td>4297.333593</td>\n",
       "      <td>3741.264102</td>\n",
       "      <td>4300.107521</td>\n",
       "      <td>4811.661326</td>\n",
       "      <td>5809.421203</td>\n",
       "      <td>7083.480109</td>\n",
       "      <td>7489.166007</td>\n",
       "      <td>6740.656238</td>\n",
       "    </tr>\n",
       "    <tr>\n",
       "      <th>15</th>\n",
       "      <td>3591.320554</td>\n",
       "      <td>4007.001773</td>\n",
       "      <td>3714.625974</td>\n",
       "      <td>4379.474452</td>\n",
       "      <td>5808.020827</td>\n",
       "      <td>6453.641819</td>\n",
       "      <td>7848.967795</td>\n",
       "      <td>6613.188752</td>\n",
       "    </tr>\n",
       "    <tr>\n",
       "      <th>16</th>\n",
       "      <td>4601.814313</td>\n",
       "      <td>4251.127333</td>\n",
       "      <td>4189.430552</td>\n",
       "      <td>5539.721094</td>\n",
       "      <td>6564.027623</td>\n",
       "      <td>5762.339658</td>\n",
       "      <td>6131.958284</td>\n",
       "      <td>6594.405997</td>\n",
       "    </tr>\n",
       "    <tr>\n",
       "      <th>17</th>\n",
       "      <td>3700.656285</td>\n",
       "      <td>3953.246274</td>\n",
       "      <td>4549.278419</td>\n",
       "      <td>5934.963224</td>\n",
       "      <td>6626.052710</td>\n",
       "      <td>7067.662538</td>\n",
       "      <td>7255.652602</td>\n",
       "      <td>NaN</td>\n",
       "    </tr>\n",
       "    <tr>\n",
       "      <th>18</th>\n",
       "      <td>3770.391649</td>\n",
       "      <td>3933.931271</td>\n",
       "      <td>4337.342053</td>\n",
       "      <td>4909.415156</td>\n",
       "      <td>6252.273208</td>\n",
       "      <td>6838.801238</td>\n",
       "      <td>6902.917771</td>\n",
       "      <td>5903.518676</td>\n",
       "    </tr>\n",
       "    <tr>\n",
       "      <th>19</th>\n",
       "      <td>3009.595918</td>\n",
       "      <td>3769.557031</td>\n",
       "      <td>4223.921681</td>\n",
       "      <td>4642.410795</td>\n",
       "      <td>5484.262305</td>\n",
       "      <td>7175.816676</td>\n",
       "      <td>7664.139698</td>\n",
       "      <td>6741.962039</td>\n",
       "    </tr>\n",
       "    <tr>\n",
       "      <th>20</th>\n",
       "      <td>3401.807577</td>\n",
       "      <td>4027.910279</td>\n",
       "      <td>3992.338470</td>\n",
       "      <td>3975.552428</td>\n",
       "      <td>4079.901152</td>\n",
       "      <td>6420.648884</td>\n",
       "      <td>6150.490473</td>\n",
       "      <td>5028.222456</td>\n",
       "    </tr>\n",
       "    <tr>\n",
       "      <th>21</th>\n",
       "      <td>3959.310583</td>\n",
       "      <td>4740.998838</td>\n",
       "      <td>5405.734771</td>\n",
       "      <td>5873.745429</td>\n",
       "      <td>7435.613686</td>\n",
       "      <td>7838.504510</td>\n",
       "      <td>7798.449520</td>\n",
       "      <td>NaN</td>\n",
       "    </tr>\n",
       "    <tr>\n",
       "      <th>22</th>\n",
       "      <td>2918.931812</td>\n",
       "      <td>4525.651774</td>\n",
       "      <td>4301.303876</td>\n",
       "      <td>6329.562775</td>\n",
       "      <td>7703.402839</td>\n",
       "      <td>8049.336882</td>\n",
       "      <td>7758.487804</td>\n",
       "      <td>7860.054815</td>\n",
       "    </tr>\n",
       "    <tr>\n",
       "      <th>23</th>\n",
       "      <td>3921.440945</td>\n",
       "      <td>4791.734370</td>\n",
       "      <td>5473.693773</td>\n",
       "      <td>5842.731082</td>\n",
       "      <td>5666.184860</td>\n",
       "      <td>7435.288810</td>\n",
       "      <td>7002.020021</td>\n",
       "      <td>6377.566843</td>\n",
       "    </tr>\n",
       "    <tr>\n",
       "      <th>24</th>\n",
       "      <td>3620.956654</td>\n",
       "      <td>3948.504487</td>\n",
       "      <td>4038.106636</td>\n",
       "      <td>3568.284574</td>\n",
       "      <td>5390.338806</td>\n",
       "      <td>6554.412937</td>\n",
       "      <td>7137.187336</td>\n",
       "      <td>7333.943682</td>\n",
       "    </tr>\n",
       "    <tr>\n",
       "      <th>25</th>\n",
       "      <td>4603.813830</td>\n",
       "      <td>4151.758406</td>\n",
       "      <td>5828.196212</td>\n",
       "      <td>7242.951562</td>\n",
       "      <td>7331.267309</td>\n",
       "      <td>7636.075040</td>\n",
       "      <td>6981.617485</td>\n",
       "      <td>NaN</td>\n",
       "    </tr>\n",
       "  </tbody>\n",
       "</table>\n",
       "</div>"
      ],
      "text/plain": [
       "           EVI1         EVI2         EVI3         EVI4         EVI5  \\\n",
       "0   4648.192132          NaN          NaN          NaN          NaN   \n",
       "1   4187.935932  4067.673940  4447.305421  4456.229145  4562.811276   \n",
       "2   4648.192132          NaN          NaN          NaN          NaN   \n",
       "3   4187.935932  4067.673940  4447.305421  4456.229145  4562.811276   \n",
       "4   4530.398270          NaN          NaN          NaN          NaN   \n",
       "5   4105.572275  3866.197414  4353.674163  4333.901257  4491.513013   \n",
       "6   3809.202205  4165.336913  4203.195421  4124.418826  3840.640309   \n",
       "7   3747.088825  3582.040729  4077.330932  3779.191400  4501.927481   \n",
       "8   3749.170959  3832.483228  4067.416449  4376.044127  4709.731717   \n",
       "9   3433.317512  4022.200133  4246.800239  4301.716900  4853.863565   \n",
       "10  3200.467581  3400.562412  4336.396610  3914.021135  4875.364535   \n",
       "11  4338.268822  4573.072162  4560.920713  4561.065788  4916.055691   \n",
       "12  2947.144951  3050.655194  3772.729874  3856.510317  3915.071428   \n",
       "13  3978.946352  4147.435134  4209.838788  5090.753396  6302.692064   \n",
       "14  4297.333593  3741.264102  4300.107521  4811.661326  5809.421203   \n",
       "15  3591.320554  4007.001773  3714.625974  4379.474452  5808.020827   \n",
       "16  4601.814313  4251.127333  4189.430552  5539.721094  6564.027623   \n",
       "17  3700.656285  3953.246274  4549.278419  5934.963224  6626.052710   \n",
       "18  3770.391649  3933.931271  4337.342053  4909.415156  6252.273208   \n",
       "19  3009.595918  3769.557031  4223.921681  4642.410795  5484.262305   \n",
       "20  3401.807577  4027.910279  3992.338470  3975.552428  4079.901152   \n",
       "21  3959.310583  4740.998838  5405.734771  5873.745429  7435.613686   \n",
       "22  2918.931812  4525.651774  4301.303876  6329.562775  7703.402839   \n",
       "23  3921.440945  4791.734370  5473.693773  5842.731082  5666.184860   \n",
       "24  3620.956654  3948.504487  4038.106636  3568.284574  5390.338806   \n",
       "25  4603.813830  4151.758406  5828.196212  7242.951562  7331.267309   \n",
       "\n",
       "           EVI6         EVI7         EVI8  \n",
       "0           NaN          NaN          NaN  \n",
       "1   4786.196786  5156.838287          NaN  \n",
       "2           NaN          NaN          NaN  \n",
       "3   4786.196786  5156.838287          NaN  \n",
       "4           NaN          NaN          NaN  \n",
       "5   4609.159843  5029.449823          NaN  \n",
       "6   4617.349445  4766.325086  4217.826661  \n",
       "7   4984.556724  5110.004016  4966.372086  \n",
       "8   4298.606807  5515.027832  5434.672804  \n",
       "9   5124.535893  5113.058429          NaN  \n",
       "10  4647.747018  5187.185553  5319.445848  \n",
       "11  4880.682636  5013.556911  5948.722844  \n",
       "12  5453.291956  5735.779512  6626.506648  \n",
       "13  7249.444477  6633.516490          NaN  \n",
       "14  7083.480109  7489.166007  6740.656238  \n",
       "15  6453.641819  7848.967795  6613.188752  \n",
       "16  5762.339658  6131.958284  6594.405997  \n",
       "17  7067.662538  7255.652602          NaN  \n",
       "18  6838.801238  6902.917771  5903.518676  \n",
       "19  7175.816676  7664.139698  6741.962039  \n",
       "20  6420.648884  6150.490473  5028.222456  \n",
       "21  7838.504510  7798.449520          NaN  \n",
       "22  8049.336882  7758.487804  7860.054815  \n",
       "23  7435.288810  7002.020021  6377.566843  \n",
       "24  6554.412937  7137.187336  7333.943682  \n",
       "25  7636.075040  6981.617485          NaN  "
      ]
     },
     "execution_count": 128,
     "metadata": {},
     "output_type": "execute_result"
    }
   ],
   "source": [
    "df"
   ]
  },
  {
   "cell_type": "code",
   "execution_count": 19,
   "id": "twelve-large",
   "metadata": {},
   "outputs": [],
   "source": [
    "#Reshape da 1a linha - Imagens do MODIS a partir de Mar/2000\n",
    "#new_order =  ['EVI6', 'EVI7', 'EVI8','EVI1','EVI2','EVI3','EVI4','EVI5'] # specify new order of the third row\n",
    "#i = 0 # specify row number\n",
    "#df.loc[0] = df.loc[0, new_order].values"
   ]
  },
  {
   "cell_type": "code",
   "execution_count": 20,
   "id": "wanted-moscow",
   "metadata": {},
   "outputs": [
    {
     "data": {
      "text/html": [
       "<div>\n",
       "<style scoped>\n",
       "    .dataframe tbody tr th:only-of-type {\n",
       "        vertical-align: middle;\n",
       "    }\n",
       "\n",
       "    .dataframe tbody tr th {\n",
       "        vertical-align: top;\n",
       "    }\n",
       "\n",
       "    .dataframe thead th {\n",
       "        text-align: right;\n",
       "    }\n",
       "</style>\n",
       "<table border=\"1\" class=\"dataframe\">\n",
       "  <thead>\n",
       "    <tr style=\"text-align: right;\">\n",
       "      <th></th>\n",
       "      <th>EVI1</th>\n",
       "      <th>EVI2</th>\n",
       "      <th>EVI3</th>\n",
       "      <th>EVI4</th>\n",
       "      <th>EVI5</th>\n",
       "      <th>EVI6</th>\n",
       "      <th>EVI7</th>\n",
       "      <th>EVI8</th>\n",
       "    </tr>\n",
       "  </thead>\n",
       "  <tbody>\n",
       "    <tr>\n",
       "      <th>0</th>\n",
       "      <td>4648.192132</td>\n",
       "      <td>0.000000</td>\n",
       "      <td>0.000000</td>\n",
       "      <td>0.000000</td>\n",
       "      <td>0.000000</td>\n",
       "      <td>0.000000</td>\n",
       "      <td>0.000000</td>\n",
       "      <td>0.000000</td>\n",
       "    </tr>\n",
       "    <tr>\n",
       "      <th>1</th>\n",
       "      <td>4187.935932</td>\n",
       "      <td>4067.673940</td>\n",
       "      <td>4447.305421</td>\n",
       "      <td>4456.229145</td>\n",
       "      <td>4562.811276</td>\n",
       "      <td>4786.196786</td>\n",
       "      <td>5156.838287</td>\n",
       "      <td>0.000000</td>\n",
       "    </tr>\n",
       "    <tr>\n",
       "      <th>2</th>\n",
       "      <td>4648.192132</td>\n",
       "      <td>0.000000</td>\n",
       "      <td>0.000000</td>\n",
       "      <td>0.000000</td>\n",
       "      <td>0.000000</td>\n",
       "      <td>0.000000</td>\n",
       "      <td>0.000000</td>\n",
       "      <td>0.000000</td>\n",
       "    </tr>\n",
       "    <tr>\n",
       "      <th>3</th>\n",
       "      <td>4187.935932</td>\n",
       "      <td>4067.673940</td>\n",
       "      <td>4447.305421</td>\n",
       "      <td>4456.229145</td>\n",
       "      <td>4562.811276</td>\n",
       "      <td>4786.196786</td>\n",
       "      <td>5156.838287</td>\n",
       "      <td>0.000000</td>\n",
       "    </tr>\n",
       "    <tr>\n",
       "      <th>4</th>\n",
       "      <td>4530.398270</td>\n",
       "      <td>0.000000</td>\n",
       "      <td>0.000000</td>\n",
       "      <td>0.000000</td>\n",
       "      <td>0.000000</td>\n",
       "      <td>0.000000</td>\n",
       "      <td>0.000000</td>\n",
       "      <td>0.000000</td>\n",
       "    </tr>\n",
       "    <tr>\n",
       "      <th>5</th>\n",
       "      <td>4105.572275</td>\n",
       "      <td>3866.197414</td>\n",
       "      <td>4353.674163</td>\n",
       "      <td>4333.901257</td>\n",
       "      <td>4491.513013</td>\n",
       "      <td>4609.159843</td>\n",
       "      <td>5029.449823</td>\n",
       "      <td>0.000000</td>\n",
       "    </tr>\n",
       "    <tr>\n",
       "      <th>6</th>\n",
       "      <td>3809.202205</td>\n",
       "      <td>4165.336913</td>\n",
       "      <td>4203.195421</td>\n",
       "      <td>4124.418826</td>\n",
       "      <td>3840.640309</td>\n",
       "      <td>4617.349445</td>\n",
       "      <td>4766.325086</td>\n",
       "      <td>4217.826661</td>\n",
       "    </tr>\n",
       "    <tr>\n",
       "      <th>7</th>\n",
       "      <td>3747.088825</td>\n",
       "      <td>3582.040729</td>\n",
       "      <td>4077.330932</td>\n",
       "      <td>3779.191400</td>\n",
       "      <td>4501.927481</td>\n",
       "      <td>4984.556724</td>\n",
       "      <td>5110.004016</td>\n",
       "      <td>4966.372086</td>\n",
       "    </tr>\n",
       "    <tr>\n",
       "      <th>8</th>\n",
       "      <td>3749.170959</td>\n",
       "      <td>3832.483228</td>\n",
       "      <td>4067.416449</td>\n",
       "      <td>4376.044127</td>\n",
       "      <td>4709.731717</td>\n",
       "      <td>4298.606807</td>\n",
       "      <td>5515.027832</td>\n",
       "      <td>5434.672804</td>\n",
       "    </tr>\n",
       "    <tr>\n",
       "      <th>9</th>\n",
       "      <td>3433.317512</td>\n",
       "      <td>4022.200133</td>\n",
       "      <td>4246.800239</td>\n",
       "      <td>4301.716900</td>\n",
       "      <td>4853.863565</td>\n",
       "      <td>5124.535893</td>\n",
       "      <td>5113.058429</td>\n",
       "      <td>0.000000</td>\n",
       "    </tr>\n",
       "    <tr>\n",
       "      <th>10</th>\n",
       "      <td>3200.467581</td>\n",
       "      <td>3400.562412</td>\n",
       "      <td>4336.396610</td>\n",
       "      <td>3914.021135</td>\n",
       "      <td>4875.364535</td>\n",
       "      <td>4647.747018</td>\n",
       "      <td>5187.185553</td>\n",
       "      <td>5319.445848</td>\n",
       "    </tr>\n",
       "    <tr>\n",
       "      <th>11</th>\n",
       "      <td>4338.268822</td>\n",
       "      <td>4573.072162</td>\n",
       "      <td>4560.920713</td>\n",
       "      <td>4561.065788</td>\n",
       "      <td>4916.055691</td>\n",
       "      <td>4880.682636</td>\n",
       "      <td>5013.556911</td>\n",
       "      <td>5948.722844</td>\n",
       "    </tr>\n",
       "    <tr>\n",
       "      <th>12</th>\n",
       "      <td>2947.144951</td>\n",
       "      <td>3050.655194</td>\n",
       "      <td>3772.729874</td>\n",
       "      <td>3856.510317</td>\n",
       "      <td>3915.071428</td>\n",
       "      <td>5453.291956</td>\n",
       "      <td>5735.779512</td>\n",
       "      <td>6626.506648</td>\n",
       "    </tr>\n",
       "    <tr>\n",
       "      <th>13</th>\n",
       "      <td>3978.946352</td>\n",
       "      <td>4147.435134</td>\n",
       "      <td>4209.838788</td>\n",
       "      <td>5090.753396</td>\n",
       "      <td>6302.692064</td>\n",
       "      <td>7249.444477</td>\n",
       "      <td>6633.516490</td>\n",
       "      <td>0.000000</td>\n",
       "    </tr>\n",
       "    <tr>\n",
       "      <th>14</th>\n",
       "      <td>4297.333593</td>\n",
       "      <td>3741.264102</td>\n",
       "      <td>4300.107521</td>\n",
       "      <td>4811.661326</td>\n",
       "      <td>5809.421203</td>\n",
       "      <td>7083.480109</td>\n",
       "      <td>7489.166007</td>\n",
       "      <td>6740.656238</td>\n",
       "    </tr>\n",
       "    <tr>\n",
       "      <th>15</th>\n",
       "      <td>3591.320554</td>\n",
       "      <td>4007.001773</td>\n",
       "      <td>3714.625974</td>\n",
       "      <td>4379.474452</td>\n",
       "      <td>5808.020827</td>\n",
       "      <td>6453.641819</td>\n",
       "      <td>7848.967795</td>\n",
       "      <td>6613.188752</td>\n",
       "    </tr>\n",
       "    <tr>\n",
       "      <th>16</th>\n",
       "      <td>4601.814313</td>\n",
       "      <td>4251.127333</td>\n",
       "      <td>4189.430552</td>\n",
       "      <td>5539.721094</td>\n",
       "      <td>6564.027623</td>\n",
       "      <td>5762.339658</td>\n",
       "      <td>6131.958284</td>\n",
       "      <td>6594.405997</td>\n",
       "    </tr>\n",
       "    <tr>\n",
       "      <th>17</th>\n",
       "      <td>3700.656285</td>\n",
       "      <td>3953.246274</td>\n",
       "      <td>4549.278419</td>\n",
       "      <td>5934.963224</td>\n",
       "      <td>6626.052710</td>\n",
       "      <td>7067.662538</td>\n",
       "      <td>7255.652602</td>\n",
       "      <td>0.000000</td>\n",
       "    </tr>\n",
       "    <tr>\n",
       "      <th>18</th>\n",
       "      <td>3770.391649</td>\n",
       "      <td>3933.931271</td>\n",
       "      <td>4337.342053</td>\n",
       "      <td>4909.415156</td>\n",
       "      <td>6252.273208</td>\n",
       "      <td>6838.801238</td>\n",
       "      <td>6902.917771</td>\n",
       "      <td>5903.518676</td>\n",
       "    </tr>\n",
       "    <tr>\n",
       "      <th>19</th>\n",
       "      <td>3009.595918</td>\n",
       "      <td>3769.557031</td>\n",
       "      <td>4223.921681</td>\n",
       "      <td>4642.410795</td>\n",
       "      <td>5484.262305</td>\n",
       "      <td>7175.816676</td>\n",
       "      <td>7664.139698</td>\n",
       "      <td>6741.962039</td>\n",
       "    </tr>\n",
       "    <tr>\n",
       "      <th>20</th>\n",
       "      <td>3401.807577</td>\n",
       "      <td>4027.910279</td>\n",
       "      <td>3992.338470</td>\n",
       "      <td>3975.552428</td>\n",
       "      <td>4079.901152</td>\n",
       "      <td>6420.648884</td>\n",
       "      <td>6150.490473</td>\n",
       "      <td>5028.222456</td>\n",
       "    </tr>\n",
       "    <tr>\n",
       "      <th>21</th>\n",
       "      <td>3959.310583</td>\n",
       "      <td>4740.998838</td>\n",
       "      <td>5405.734771</td>\n",
       "      <td>5873.745429</td>\n",
       "      <td>7435.613686</td>\n",
       "      <td>7838.504510</td>\n",
       "      <td>7798.449520</td>\n",
       "      <td>0.000000</td>\n",
       "    </tr>\n",
       "    <tr>\n",
       "      <th>22</th>\n",
       "      <td>2918.931812</td>\n",
       "      <td>4525.651774</td>\n",
       "      <td>4301.303876</td>\n",
       "      <td>6329.562775</td>\n",
       "      <td>7703.402839</td>\n",
       "      <td>8049.336882</td>\n",
       "      <td>7758.487804</td>\n",
       "      <td>7860.054815</td>\n",
       "    </tr>\n",
       "    <tr>\n",
       "      <th>23</th>\n",
       "      <td>3921.440945</td>\n",
       "      <td>4791.734370</td>\n",
       "      <td>5473.693773</td>\n",
       "      <td>5842.731082</td>\n",
       "      <td>5666.184860</td>\n",
       "      <td>7435.288810</td>\n",
       "      <td>7002.020021</td>\n",
       "      <td>6377.566843</td>\n",
       "    </tr>\n",
       "    <tr>\n",
       "      <th>24</th>\n",
       "      <td>3620.956654</td>\n",
       "      <td>3948.504487</td>\n",
       "      <td>4038.106636</td>\n",
       "      <td>3568.284574</td>\n",
       "      <td>5390.338806</td>\n",
       "      <td>6554.412937</td>\n",
       "      <td>7137.187336</td>\n",
       "      <td>7333.943682</td>\n",
       "    </tr>\n",
       "    <tr>\n",
       "      <th>25</th>\n",
       "      <td>4603.813830</td>\n",
       "      <td>4151.758406</td>\n",
       "      <td>5828.196212</td>\n",
       "      <td>7242.951562</td>\n",
       "      <td>7331.267309</td>\n",
       "      <td>7636.075040</td>\n",
       "      <td>6981.617485</td>\n",
       "      <td>0.000000</td>\n",
       "    </tr>\n",
       "  </tbody>\n",
       "</table>\n",
       "</div>"
      ],
      "text/plain": [
       "           EVI1         EVI2         EVI3         EVI4         EVI5  \\\n",
       "0   4648.192132     0.000000     0.000000     0.000000     0.000000   \n",
       "1   4187.935932  4067.673940  4447.305421  4456.229145  4562.811276   \n",
       "2   4648.192132     0.000000     0.000000     0.000000     0.000000   \n",
       "3   4187.935932  4067.673940  4447.305421  4456.229145  4562.811276   \n",
       "4   4530.398270     0.000000     0.000000     0.000000     0.000000   \n",
       "5   4105.572275  3866.197414  4353.674163  4333.901257  4491.513013   \n",
       "6   3809.202205  4165.336913  4203.195421  4124.418826  3840.640309   \n",
       "7   3747.088825  3582.040729  4077.330932  3779.191400  4501.927481   \n",
       "8   3749.170959  3832.483228  4067.416449  4376.044127  4709.731717   \n",
       "9   3433.317512  4022.200133  4246.800239  4301.716900  4853.863565   \n",
       "10  3200.467581  3400.562412  4336.396610  3914.021135  4875.364535   \n",
       "11  4338.268822  4573.072162  4560.920713  4561.065788  4916.055691   \n",
       "12  2947.144951  3050.655194  3772.729874  3856.510317  3915.071428   \n",
       "13  3978.946352  4147.435134  4209.838788  5090.753396  6302.692064   \n",
       "14  4297.333593  3741.264102  4300.107521  4811.661326  5809.421203   \n",
       "15  3591.320554  4007.001773  3714.625974  4379.474452  5808.020827   \n",
       "16  4601.814313  4251.127333  4189.430552  5539.721094  6564.027623   \n",
       "17  3700.656285  3953.246274  4549.278419  5934.963224  6626.052710   \n",
       "18  3770.391649  3933.931271  4337.342053  4909.415156  6252.273208   \n",
       "19  3009.595918  3769.557031  4223.921681  4642.410795  5484.262305   \n",
       "20  3401.807577  4027.910279  3992.338470  3975.552428  4079.901152   \n",
       "21  3959.310583  4740.998838  5405.734771  5873.745429  7435.613686   \n",
       "22  2918.931812  4525.651774  4301.303876  6329.562775  7703.402839   \n",
       "23  3921.440945  4791.734370  5473.693773  5842.731082  5666.184860   \n",
       "24  3620.956654  3948.504487  4038.106636  3568.284574  5390.338806   \n",
       "25  4603.813830  4151.758406  5828.196212  7242.951562  7331.267309   \n",
       "\n",
       "           EVI6         EVI7         EVI8  \n",
       "0      0.000000     0.000000     0.000000  \n",
       "1   4786.196786  5156.838287     0.000000  \n",
       "2      0.000000     0.000000     0.000000  \n",
       "3   4786.196786  5156.838287     0.000000  \n",
       "4      0.000000     0.000000     0.000000  \n",
       "5   4609.159843  5029.449823     0.000000  \n",
       "6   4617.349445  4766.325086  4217.826661  \n",
       "7   4984.556724  5110.004016  4966.372086  \n",
       "8   4298.606807  5515.027832  5434.672804  \n",
       "9   5124.535893  5113.058429     0.000000  \n",
       "10  4647.747018  5187.185553  5319.445848  \n",
       "11  4880.682636  5013.556911  5948.722844  \n",
       "12  5453.291956  5735.779512  6626.506648  \n",
       "13  7249.444477  6633.516490     0.000000  \n",
       "14  7083.480109  7489.166007  6740.656238  \n",
       "15  6453.641819  7848.967795  6613.188752  \n",
       "16  5762.339658  6131.958284  6594.405997  \n",
       "17  7067.662538  7255.652602     0.000000  \n",
       "18  6838.801238  6902.917771  5903.518676  \n",
       "19  7175.816676  7664.139698  6741.962039  \n",
       "20  6420.648884  6150.490473  5028.222456  \n",
       "21  7838.504510  7798.449520     0.000000  \n",
       "22  8049.336882  7758.487804  7860.054815  \n",
       "23  7435.288810  7002.020021  6377.566843  \n",
       "24  6554.412937  7137.187336  7333.943682  \n",
       "25  7636.075040  6981.617485     0.000000  "
      ]
     },
     "execution_count": 20,
     "metadata": {},
     "output_type": "execute_result"
    }
   ],
   "source": [
    "#Corrigir os Nans\n",
    "#Features dos EVIS pronta\n",
    "#Vale a pena talvez pegar os n maiores valores para tentar reduzir o efeito de anos com safra atrasada\n",
    "df.fillna(0)\n"
   ]
  },
  {
   "cell_type": "code",
   "execution_count": 21,
   "id": "atlantic-coupon",
   "metadata": {},
   "outputs": [
    {
     "data": {
      "text/plain": [
       "{'error': 'Nenhuma estação próxima encontrada'}"
      ]
     },
     "execution_count": 21,
     "metadata": {},
     "output_type": "execute_result"
    }
   ],
   "source": [
    "url = f'https://apiprevmet3.inmet.gov.br/estacao/proxima/{GEOCODE}'\n",
    "response = requests.get(url).json()\n",
    "response"
   ]
  },
  {
   "cell_type": "code",
   "execution_count": 22,
   "id": "spoken-clerk",
   "metadata": {},
   "outputs": [
    {
     "ename": "KeyError",
     "evalue": "'dados'",
     "output_type": "error",
     "traceback": [
      "\u001b[1;31m---------------------------------------------------------------------------\u001b[0m",
      "\u001b[1;31mKeyError\u001b[0m                                  Traceback (most recent call last)",
      "\u001b[1;32m<ipython-input-22-49ec87d3c4b4>\u001b[0m in \u001b[0;36m<module>\u001b[1;34m\u001b[0m\n\u001b[1;32m----> 1\u001b[1;33m \u001b[0mestacao\u001b[0m \u001b[1;33m=\u001b[0m \u001b[0mresponse\u001b[0m\u001b[1;33m[\u001b[0m\u001b[1;34m'dados'\u001b[0m\u001b[1;33m]\u001b[0m\u001b[1;33m[\u001b[0m\u001b[1;34m'CD_ESTACAO'\u001b[0m\u001b[1;33m]\u001b[0m\u001b[1;33m\u001b[0m\u001b[1;33m\u001b[0m\u001b[0m\n\u001b[0m",
      "\u001b[1;31mKeyError\u001b[0m: 'dados'"
     ]
    }
   ],
   "source": [
    "estacao = response['dados']['CD_ESTACAO']"
   ]
  },
  {
   "cell_type": "code",
   "execution_count": 23,
   "id": "north-occasions",
   "metadata": {},
   "outputs": [
    {
     "ename": "NameError",
     "evalue": "name 'estacao' is not defined",
     "output_type": "error",
     "traceback": [
      "\u001b[1;31m---------------------------------------------------------------------------\u001b[0m",
      "\u001b[1;31mNameError\u001b[0m                                 Traceback (most recent call last)",
      "\u001b[1;32m<ipython-input-23-7f5342dc2ffa>\u001b[0m in \u001b[0;36m<module>\u001b[1;34m\u001b[0m\n\u001b[1;32m----> 1\u001b[1;33m \u001b[0mnew_url\u001b[0m \u001b[1;33m=\u001b[0m \u001b[1;34mf'https://apitempo.inmet.gov.br/estacao/diaria/1999-11-01/2021-04-30/{estacao}'\u001b[0m\u001b[1;33m\u001b[0m\u001b[1;33m\u001b[0m\u001b[0m\n\u001b[0m\u001b[0;32m      2\u001b[0m \u001b[0mjson_response\u001b[0m \u001b[1;33m=\u001b[0m \u001b[0mrequests\u001b[0m\u001b[1;33m.\u001b[0m\u001b[0mget\u001b[0m\u001b[1;33m(\u001b[0m\u001b[0mnew_url\u001b[0m\u001b[1;33m)\u001b[0m\u001b[1;33m.\u001b[0m\u001b[0mjson\u001b[0m\u001b[1;33m(\u001b[0m\u001b[1;33m)\u001b[0m\u001b[1;33m\u001b[0m\u001b[1;33m\u001b[0m\u001b[0m\n\u001b[0;32m      3\u001b[0m \u001b[0mdados_estacao\u001b[0m \u001b[1;33m=\u001b[0m \u001b[0mpd\u001b[0m\u001b[1;33m.\u001b[0m\u001b[0mDataFrame\u001b[0m\u001b[1;33m(\u001b[0m\u001b[0mjson_response\u001b[0m\u001b[1;33m)\u001b[0m\u001b[1;33m\u001b[0m\u001b[1;33m\u001b[0m\u001b[0m\n\u001b[0;32m      4\u001b[0m \u001b[0mdados_estacao\u001b[0m\u001b[1;33m\u001b[0m\u001b[1;33m\u001b[0m\u001b[0m\n",
      "\u001b[1;31mNameError\u001b[0m: name 'estacao' is not defined"
     ]
    }
   ],
   "source": [
    "new_url = f'https://apitempo.inmet.gov.br/estacao/diaria/1999-11-01/2021-04-30/{estacao}'\n",
    "json_response = requests.get(new_url).json()\n",
    "dados_estacao = pd.DataFrame(json_response)\n",
    "dados_estacao"
   ]
  },
  {
   "cell_type": "code",
   "execution_count": null,
   "id": "neutral-discharge",
   "metadata": {},
   "outputs": [],
   "source": [
    "dados_estacao['CHUVA'] = dados_estacao['CHUVA'].astype(float)\n",
    "dados_estacao['DT_MEDICAO'] = pd.to_datetime(dados_estacao['DT_MEDICAO'])\n",
    "dados_estacao['ANO'] = dados_estacao['DT_MEDICAO'].dt.year\n",
    "dados_estacao['MES'] = dados_estacao['DT_MEDICAO'].dt.month\n",
    "dados_estacao"
   ]
  },
  {
   "cell_type": "code",
   "execution_count": null,
   "id": "north-department",
   "metadata": {},
   "outputs": [],
   "source": [
    "b  = dados_estacao.groupby(['ANO', 'MES'])['CHUVA'].sum().fillna(0)"
   ]
  },
  {
   "cell_type": "code",
   "execution_count": null,
   "id": "adopted-jones",
   "metadata": {},
   "outputs": [],
   "source": [
    "mask = (dados_estacao['MES'] <= 4) | (dados_estacao['MES'] >= 11)  \n",
    "b = dados_estacao.loc[mask].groupby(['ANO', 'MES'])['CHUVA'].sum().fillna(0)"
   ]
  },
  {
   "cell_type": "code",
   "execution_count": null,
   "id": "laughing-barrel",
   "metadata": {},
   "outputs": [],
   "source": [
    "chuva = b.values.reshape(22,6)\n",
    "df2 = pd.DataFrame(chuva, columns = ['C_NOV', 'C_DEZ','C_JAN','C_FEV','C_MAR','C_ABR'])\n",
    "df2"
   ]
  },
  {
   "cell_type": "code",
   "execution_count": null,
   "id": "terminal-parade",
   "metadata": {},
   "outputs": [],
   "source": [
    "concat_data = pd.concat([df,df2],axis=1).fillna(0)"
   ]
  },
  {
   "cell_type": "code",
   "execution_count": null,
   "id": "signal-packet",
   "metadata": {},
   "outputs": [],
   "source": [
    "concat_data"
   ]
  },
  {
   "cell_type": "code",
   "execution_count": 24,
   "id": "valued-digit",
   "metadata": {},
   "outputs": [],
   "source": [
    "# Api PAM SIDRA/ https://apisidra.ibge.gov.br/values/t/5457/n6/2919553/v/112/p/last%2020/c782/40124"
   ]
  },
  {
   "cell_type": "code",
   "execution_count": 25,
   "id": "satisfactory-witness",
   "metadata": {},
   "outputs": [
    {
     "data": {
      "text/plain": [
       "array(['2397', '2217', '1152', '2609', '2731', '2760', '2613', '2716',\n",
       "       '3299', '2841', '2730', '2991', '2937', '1968', '2528', '2831',\n",
       "       '1184', '3055', '3518', '3155'], dtype=object)"
      ]
     },
     "execution_count": 25,
     "metadata": {},
     "output_type": "execute_result"
    }
   ],
   "source": [
    "url3 = f'https://apisidra.ibge.gov.br/values/t/5457/n6/{GEOCODE}/v/112/p/last%2020/c782/40124'\n",
    "json_response = requests.get(url3).json()\n",
    "produtividade = pd.DataFrame(json_response)\n",
    "Y = produtividade['V'].iloc[1:].values.ravel()\n",
    "Y"
   ]
  },
  {
   "cell_type": "code",
   "execution_count": 26,
   "id": "radical-rapid",
   "metadata": {},
   "outputs": [
    {
     "data": {
      "text/html": [
       "<div>\n",
       "<style scoped>\n",
       "    .dataframe tbody tr th:only-of-type {\n",
       "        vertical-align: middle;\n",
       "    }\n",
       "\n",
       "    .dataframe tbody tr th {\n",
       "        vertical-align: top;\n",
       "    }\n",
       "\n",
       "    .dataframe thead th {\n",
       "        text-align: right;\n",
       "    }\n",
       "</style>\n",
       "<table border=\"1\" class=\"dataframe\">\n",
       "  <thead>\n",
       "    <tr style=\"text-align: right;\">\n",
       "      <th></th>\n",
       "      <th>0</th>\n",
       "    </tr>\n",
       "  </thead>\n",
       "  <tbody>\n",
       "    <tr>\n",
       "      <th>0</th>\n",
       "      <td>2397</td>\n",
       "    </tr>\n",
       "    <tr>\n",
       "      <th>1</th>\n",
       "      <td>2217</td>\n",
       "    </tr>\n",
       "    <tr>\n",
       "      <th>2</th>\n",
       "      <td>1152</td>\n",
       "    </tr>\n",
       "    <tr>\n",
       "      <th>3</th>\n",
       "      <td>2609</td>\n",
       "    </tr>\n",
       "    <tr>\n",
       "      <th>4</th>\n",
       "      <td>2731</td>\n",
       "    </tr>\n",
       "    <tr>\n",
       "      <th>5</th>\n",
       "      <td>2760</td>\n",
       "    </tr>\n",
       "    <tr>\n",
       "      <th>6</th>\n",
       "      <td>2613</td>\n",
       "    </tr>\n",
       "    <tr>\n",
       "      <th>7</th>\n",
       "      <td>2716</td>\n",
       "    </tr>\n",
       "    <tr>\n",
       "      <th>8</th>\n",
       "      <td>3299</td>\n",
       "    </tr>\n",
       "    <tr>\n",
       "      <th>9</th>\n",
       "      <td>2841</td>\n",
       "    </tr>\n",
       "    <tr>\n",
       "      <th>10</th>\n",
       "      <td>2730</td>\n",
       "    </tr>\n",
       "    <tr>\n",
       "      <th>11</th>\n",
       "      <td>2991</td>\n",
       "    </tr>\n",
       "    <tr>\n",
       "      <th>12</th>\n",
       "      <td>2937</td>\n",
       "    </tr>\n",
       "    <tr>\n",
       "      <th>13</th>\n",
       "      <td>1968</td>\n",
       "    </tr>\n",
       "    <tr>\n",
       "      <th>14</th>\n",
       "      <td>2528</td>\n",
       "    </tr>\n",
       "    <tr>\n",
       "      <th>15</th>\n",
       "      <td>2831</td>\n",
       "    </tr>\n",
       "    <tr>\n",
       "      <th>16</th>\n",
       "      <td>1184</td>\n",
       "    </tr>\n",
       "    <tr>\n",
       "      <th>17</th>\n",
       "      <td>3055</td>\n",
       "    </tr>\n",
       "    <tr>\n",
       "      <th>18</th>\n",
       "      <td>3518</td>\n",
       "    </tr>\n",
       "    <tr>\n",
       "      <th>19</th>\n",
       "      <td>3155</td>\n",
       "    </tr>\n",
       "  </tbody>\n",
       "</table>\n",
       "</div>"
      ],
      "text/plain": [
       "       0\n",
       "0   2397\n",
       "1   2217\n",
       "2   1152\n",
       "3   2609\n",
       "4   2731\n",
       "5   2760\n",
       "6   2613\n",
       "7   2716\n",
       "8   3299\n",
       "9   2841\n",
       "10  2730\n",
       "11  2991\n",
       "12  2937\n",
       "13  1968\n",
       "14  2528\n",
       "15  2831\n",
       "16  1184\n",
       "17  3055\n",
       "18  3518\n",
       "19  3155"
      ]
     },
     "execution_count": 26,
     "metadata": {},
     "output_type": "execute_result"
    }
   ],
   "source": [
    "#Produtividade de Soja por ano - PAM/SIDRA\n",
    "df3 = pd.DataFrame(Y)\n",
    "df3"
   ]
  },
  {
   "cell_type": "code",
   "execution_count": 152,
   "id": "decent-farming",
   "metadata": {},
   "outputs": [],
   "source": [
    "import sklearn\n",
    "import numpy as np\n",
    "from sklearn import linear_model\n",
    "from sklearn.linear_model import LinearRegression\n",
    "from sklearn.svm import SVR\n",
    "from sklearn.pipeline import make_pipeline\n",
    "from sklearn.metrics import r2_score\n",
    "from sklearn.metrics import mean_squared_error"
   ]
  },
  {
   "cell_type": "code",
   "execution_count": 155,
   "id": "restricted-austria",
   "metadata": {},
   "outputs": [
    {
     "data": {
      "text/html": [
       "<div>\n",
       "<style scoped>\n",
       "    .dataframe tbody tr th:only-of-type {\n",
       "        vertical-align: middle;\n",
       "    }\n",
       "\n",
       "    .dataframe tbody tr th {\n",
       "        vertical-align: top;\n",
       "    }\n",
       "\n",
       "    .dataframe thead th {\n",
       "        text-align: right;\n",
       "    }\n",
       "</style>\n",
       "<table border=\"1\" class=\"dataframe\">\n",
       "  <thead>\n",
       "    <tr style=\"text-align: right;\">\n",
       "      <th></th>\n",
       "      <th>EVI1</th>\n",
       "      <th>EVI2</th>\n",
       "      <th>EVI3</th>\n",
       "      <th>EVI4</th>\n",
       "      <th>EVI5</th>\n",
       "      <th>EVI6</th>\n",
       "      <th>EVI7</th>\n",
       "      <th>EVI8</th>\n",
       "    </tr>\n",
       "  </thead>\n",
       "  <tbody>\n",
       "    <tr>\n",
       "      <th>0</th>\n",
       "      <td>0.000000</td>\n",
       "      <td>0.000000</td>\n",
       "      <td>0.000000</td>\n",
       "      <td>0.000000</td>\n",
       "      <td>0.000000</td>\n",
       "      <td>0.000000</td>\n",
       "      <td>0.000000</td>\n",
       "      <td>4648.192132</td>\n",
       "    </tr>\n",
       "    <tr>\n",
       "      <th>1</th>\n",
       "      <td>0.000000</td>\n",
       "      <td>4067.673940</td>\n",
       "      <td>4187.935932</td>\n",
       "      <td>4447.305421</td>\n",
       "      <td>4456.229145</td>\n",
       "      <td>4562.811276</td>\n",
       "      <td>4786.196786</td>\n",
       "      <td>5156.838287</td>\n",
       "    </tr>\n",
       "    <tr>\n",
       "      <th>2</th>\n",
       "      <td>0.000000</td>\n",
       "      <td>0.000000</td>\n",
       "      <td>0.000000</td>\n",
       "      <td>0.000000</td>\n",
       "      <td>0.000000</td>\n",
       "      <td>0.000000</td>\n",
       "      <td>0.000000</td>\n",
       "      <td>4648.192132</td>\n",
       "    </tr>\n",
       "    <tr>\n",
       "      <th>3</th>\n",
       "      <td>0.000000</td>\n",
       "      <td>4067.673940</td>\n",
       "      <td>4187.935932</td>\n",
       "      <td>4447.305421</td>\n",
       "      <td>4456.229145</td>\n",
       "      <td>4562.811276</td>\n",
       "      <td>4786.196786</td>\n",
       "      <td>5156.838287</td>\n",
       "    </tr>\n",
       "    <tr>\n",
       "      <th>4</th>\n",
       "      <td>0.000000</td>\n",
       "      <td>0.000000</td>\n",
       "      <td>0.000000</td>\n",
       "      <td>0.000000</td>\n",
       "      <td>0.000000</td>\n",
       "      <td>0.000000</td>\n",
       "      <td>0.000000</td>\n",
       "      <td>4530.398270</td>\n",
       "    </tr>\n",
       "    <tr>\n",
       "      <th>5</th>\n",
       "      <td>0.000000</td>\n",
       "      <td>3866.197414</td>\n",
       "      <td>4105.572275</td>\n",
       "      <td>4333.901257</td>\n",
       "      <td>4353.674163</td>\n",
       "      <td>4491.513013</td>\n",
       "      <td>4609.159843</td>\n",
       "      <td>5029.449823</td>\n",
       "    </tr>\n",
       "    <tr>\n",
       "      <th>6</th>\n",
       "      <td>3809.202205</td>\n",
       "      <td>3840.640309</td>\n",
       "      <td>4124.418826</td>\n",
       "      <td>4165.336913</td>\n",
       "      <td>4203.195421</td>\n",
       "      <td>4217.826661</td>\n",
       "      <td>4617.349445</td>\n",
       "      <td>4766.325086</td>\n",
       "    </tr>\n",
       "    <tr>\n",
       "      <th>7</th>\n",
       "      <td>3582.040729</td>\n",
       "      <td>3747.088825</td>\n",
       "      <td>3779.191400</td>\n",
       "      <td>4077.330932</td>\n",
       "      <td>4501.927481</td>\n",
       "      <td>4966.372086</td>\n",
       "      <td>4984.556724</td>\n",
       "      <td>5110.004016</td>\n",
       "    </tr>\n",
       "    <tr>\n",
       "      <th>8</th>\n",
       "      <td>3749.170959</td>\n",
       "      <td>3832.483228</td>\n",
       "      <td>4067.416449</td>\n",
       "      <td>4298.606807</td>\n",
       "      <td>4376.044127</td>\n",
       "      <td>4709.731717</td>\n",
       "      <td>5434.672804</td>\n",
       "      <td>5515.027832</td>\n",
       "    </tr>\n",
       "    <tr>\n",
       "      <th>9</th>\n",
       "      <td>0.000000</td>\n",
       "      <td>3433.317512</td>\n",
       "      <td>4022.200133</td>\n",
       "      <td>4246.800239</td>\n",
       "      <td>4301.716900</td>\n",
       "      <td>4853.863565</td>\n",
       "      <td>5113.058429</td>\n",
       "      <td>5124.535893</td>\n",
       "    </tr>\n",
       "    <tr>\n",
       "      <th>10</th>\n",
       "      <td>3200.467581</td>\n",
       "      <td>3400.562412</td>\n",
       "      <td>3914.021135</td>\n",
       "      <td>4336.396610</td>\n",
       "      <td>4647.747018</td>\n",
       "      <td>4875.364535</td>\n",
       "      <td>5187.185553</td>\n",
       "      <td>5319.445848</td>\n",
       "    </tr>\n",
       "    <tr>\n",
       "      <th>11</th>\n",
       "      <td>4338.268822</td>\n",
       "      <td>4560.920713</td>\n",
       "      <td>4561.065788</td>\n",
       "      <td>4573.072162</td>\n",
       "      <td>4880.682636</td>\n",
       "      <td>4916.055691</td>\n",
       "      <td>5013.556911</td>\n",
       "      <td>5948.722844</td>\n",
       "    </tr>\n",
       "    <tr>\n",
       "      <th>12</th>\n",
       "      <td>2947.144951</td>\n",
       "      <td>3050.655194</td>\n",
       "      <td>3772.729874</td>\n",
       "      <td>3856.510317</td>\n",
       "      <td>3915.071428</td>\n",
       "      <td>5453.291956</td>\n",
       "      <td>5735.779512</td>\n",
       "      <td>6626.506648</td>\n",
       "    </tr>\n",
       "    <tr>\n",
       "      <th>13</th>\n",
       "      <td>0.000000</td>\n",
       "      <td>3978.946352</td>\n",
       "      <td>4147.435134</td>\n",
       "      <td>4209.838788</td>\n",
       "      <td>5090.753396</td>\n",
       "      <td>6302.692064</td>\n",
       "      <td>6633.516490</td>\n",
       "      <td>7249.444477</td>\n",
       "    </tr>\n",
       "    <tr>\n",
       "      <th>14</th>\n",
       "      <td>3741.264102</td>\n",
       "      <td>4297.333593</td>\n",
       "      <td>4300.107521</td>\n",
       "      <td>4811.661326</td>\n",
       "      <td>5809.421203</td>\n",
       "      <td>6740.656238</td>\n",
       "      <td>7083.480109</td>\n",
       "      <td>7489.166007</td>\n",
       "    </tr>\n",
       "    <tr>\n",
       "      <th>15</th>\n",
       "      <td>3591.320554</td>\n",
       "      <td>3714.625974</td>\n",
       "      <td>4007.001773</td>\n",
       "      <td>4379.474452</td>\n",
       "      <td>5808.020827</td>\n",
       "      <td>6453.641819</td>\n",
       "      <td>6613.188752</td>\n",
       "      <td>7848.967795</td>\n",
       "    </tr>\n",
       "    <tr>\n",
       "      <th>16</th>\n",
       "      <td>4189.430552</td>\n",
       "      <td>4251.127333</td>\n",
       "      <td>4601.814313</td>\n",
       "      <td>5539.721094</td>\n",
       "      <td>5762.339658</td>\n",
       "      <td>6131.958284</td>\n",
       "      <td>6564.027623</td>\n",
       "      <td>6594.405997</td>\n",
       "    </tr>\n",
       "    <tr>\n",
       "      <th>17</th>\n",
       "      <td>0.000000</td>\n",
       "      <td>3700.656285</td>\n",
       "      <td>3953.246274</td>\n",
       "      <td>4549.278419</td>\n",
       "      <td>5934.963224</td>\n",
       "      <td>6626.052710</td>\n",
       "      <td>7067.662538</td>\n",
       "      <td>7255.652602</td>\n",
       "    </tr>\n",
       "    <tr>\n",
       "      <th>18</th>\n",
       "      <td>3770.391649</td>\n",
       "      <td>3933.931271</td>\n",
       "      <td>4337.342053</td>\n",
       "      <td>4909.415156</td>\n",
       "      <td>5903.518676</td>\n",
       "      <td>6252.273208</td>\n",
       "      <td>6838.801238</td>\n",
       "      <td>6902.917771</td>\n",
       "    </tr>\n",
       "    <tr>\n",
       "      <th>19</th>\n",
       "      <td>3009.595918</td>\n",
       "      <td>3769.557031</td>\n",
       "      <td>4223.921681</td>\n",
       "      <td>4642.410795</td>\n",
       "      <td>5484.262305</td>\n",
       "      <td>6741.962039</td>\n",
       "      <td>7175.816676</td>\n",
       "      <td>7664.139698</td>\n",
       "    </tr>\n",
       "    <tr>\n",
       "      <th>20</th>\n",
       "      <td>3401.807577</td>\n",
       "      <td>3975.552428</td>\n",
       "      <td>3992.338470</td>\n",
       "      <td>4027.910279</td>\n",
       "      <td>4079.901152</td>\n",
       "      <td>5028.222456</td>\n",
       "      <td>6150.490473</td>\n",
       "      <td>6420.648884</td>\n",
       "    </tr>\n",
       "    <tr>\n",
       "      <th>21</th>\n",
       "      <td>0.000000</td>\n",
       "      <td>3959.310583</td>\n",
       "      <td>4740.998838</td>\n",
       "      <td>5405.734771</td>\n",
       "      <td>5873.745429</td>\n",
       "      <td>7435.613686</td>\n",
       "      <td>7798.449520</td>\n",
       "      <td>7838.504510</td>\n",
       "    </tr>\n",
       "    <tr>\n",
       "      <th>22</th>\n",
       "      <td>2918.931812</td>\n",
       "      <td>4301.303876</td>\n",
       "      <td>4525.651774</td>\n",
       "      <td>6329.562775</td>\n",
       "      <td>7703.402839</td>\n",
       "      <td>7758.487804</td>\n",
       "      <td>7860.054815</td>\n",
       "      <td>8049.336882</td>\n",
       "    </tr>\n",
       "    <tr>\n",
       "      <th>23</th>\n",
       "      <td>3921.440945</td>\n",
       "      <td>4791.734370</td>\n",
       "      <td>5473.693773</td>\n",
       "      <td>5666.184860</td>\n",
       "      <td>5842.731082</td>\n",
       "      <td>6377.566843</td>\n",
       "      <td>7002.020021</td>\n",
       "      <td>7435.288810</td>\n",
       "    </tr>\n",
       "    <tr>\n",
       "      <th>24</th>\n",
       "      <td>3568.284574</td>\n",
       "      <td>3620.956654</td>\n",
       "      <td>3948.504487</td>\n",
       "      <td>4038.106636</td>\n",
       "      <td>5390.338806</td>\n",
       "      <td>6554.412937</td>\n",
       "      <td>7137.187336</td>\n",
       "      <td>7333.943682</td>\n",
       "    </tr>\n",
       "    <tr>\n",
       "      <th>25</th>\n",
       "      <td>0.000000</td>\n",
       "      <td>4151.758406</td>\n",
       "      <td>4603.813830</td>\n",
       "      <td>5828.196212</td>\n",
       "      <td>6981.617485</td>\n",
       "      <td>7242.951562</td>\n",
       "      <td>7331.267309</td>\n",
       "      <td>7636.075040</td>\n",
       "    </tr>\n",
       "  </tbody>\n",
       "</table>\n",
       "</div>"
      ],
      "text/plain": [
       "           EVI1         EVI2         EVI3         EVI4         EVI5  \\\n",
       "0      0.000000     0.000000     0.000000     0.000000     0.000000   \n",
       "1      0.000000  4067.673940  4187.935932  4447.305421  4456.229145   \n",
       "2      0.000000     0.000000     0.000000     0.000000     0.000000   \n",
       "3      0.000000  4067.673940  4187.935932  4447.305421  4456.229145   \n",
       "4      0.000000     0.000000     0.000000     0.000000     0.000000   \n",
       "5      0.000000  3866.197414  4105.572275  4333.901257  4353.674163   \n",
       "6   3809.202205  3840.640309  4124.418826  4165.336913  4203.195421   \n",
       "7   3582.040729  3747.088825  3779.191400  4077.330932  4501.927481   \n",
       "8   3749.170959  3832.483228  4067.416449  4298.606807  4376.044127   \n",
       "9      0.000000  3433.317512  4022.200133  4246.800239  4301.716900   \n",
       "10  3200.467581  3400.562412  3914.021135  4336.396610  4647.747018   \n",
       "11  4338.268822  4560.920713  4561.065788  4573.072162  4880.682636   \n",
       "12  2947.144951  3050.655194  3772.729874  3856.510317  3915.071428   \n",
       "13     0.000000  3978.946352  4147.435134  4209.838788  5090.753396   \n",
       "14  3741.264102  4297.333593  4300.107521  4811.661326  5809.421203   \n",
       "15  3591.320554  3714.625974  4007.001773  4379.474452  5808.020827   \n",
       "16  4189.430552  4251.127333  4601.814313  5539.721094  5762.339658   \n",
       "17     0.000000  3700.656285  3953.246274  4549.278419  5934.963224   \n",
       "18  3770.391649  3933.931271  4337.342053  4909.415156  5903.518676   \n",
       "19  3009.595918  3769.557031  4223.921681  4642.410795  5484.262305   \n",
       "20  3401.807577  3975.552428  3992.338470  4027.910279  4079.901152   \n",
       "21     0.000000  3959.310583  4740.998838  5405.734771  5873.745429   \n",
       "22  2918.931812  4301.303876  4525.651774  6329.562775  7703.402839   \n",
       "23  3921.440945  4791.734370  5473.693773  5666.184860  5842.731082   \n",
       "24  3568.284574  3620.956654  3948.504487  4038.106636  5390.338806   \n",
       "25     0.000000  4151.758406  4603.813830  5828.196212  6981.617485   \n",
       "\n",
       "           EVI6         EVI7         EVI8  \n",
       "0      0.000000     0.000000  4648.192132  \n",
       "1   4562.811276  4786.196786  5156.838287  \n",
       "2      0.000000     0.000000  4648.192132  \n",
       "3   4562.811276  4786.196786  5156.838287  \n",
       "4      0.000000     0.000000  4530.398270  \n",
       "5   4491.513013  4609.159843  5029.449823  \n",
       "6   4217.826661  4617.349445  4766.325086  \n",
       "7   4966.372086  4984.556724  5110.004016  \n",
       "8   4709.731717  5434.672804  5515.027832  \n",
       "9   4853.863565  5113.058429  5124.535893  \n",
       "10  4875.364535  5187.185553  5319.445848  \n",
       "11  4916.055691  5013.556911  5948.722844  \n",
       "12  5453.291956  5735.779512  6626.506648  \n",
       "13  6302.692064  6633.516490  7249.444477  \n",
       "14  6740.656238  7083.480109  7489.166007  \n",
       "15  6453.641819  6613.188752  7848.967795  \n",
       "16  6131.958284  6564.027623  6594.405997  \n",
       "17  6626.052710  7067.662538  7255.652602  \n",
       "18  6252.273208  6838.801238  6902.917771  \n",
       "19  6741.962039  7175.816676  7664.139698  \n",
       "20  5028.222456  6150.490473  6420.648884  \n",
       "21  7435.613686  7798.449520  7838.504510  \n",
       "22  7758.487804  7860.054815  8049.336882  \n",
       "23  6377.566843  7002.020021  7435.288810  \n",
       "24  6554.412937  7137.187336  7333.943682  \n",
       "25  7242.951562  7331.267309  7636.075040  "
      ]
     },
     "execution_count": 155,
     "metadata": {},
     "output_type": "execute_result"
    }
   ],
   "source": [
    "#Normalizar o Xtrain\n",
    "#from sklearn import preprocessing\n",
    "#from sklearn.preprocessing import StandardScaler\n",
    "#min_max_scaler = preprocessing.MinMaxScaler()\n",
    "#X_train_minmax = min_max_scaler.fit_transform(Xtrain)\n",
    "\n",
    "#Modelagem com os 3 maiores EVIS\n",
    "df = df.fillna(0)\n",
    "B = df.apply(lambda x: np.sort(x), axis=1, raw=True)#df = df.assign(max_value=df.values.max(1))\n",
    "B\n",
    "#df\n",
    "#c = ['1st Max','2nd Max','3rd Max']\n",
    "\n",
    "\n",
    "#xf = (df.apply(lambda x: pd.Series(x.nlargest(3)), axis=1))\n",
    "#xf.dropna(axis=0)\n",
    "#xf = xf.fillna(0)\n",
    "#xf"
   ]
  },
  {
   "cell_type": "code",
   "execution_count": 181,
   "id": "spread-climb",
   "metadata": {},
   "outputs": [],
   "source": [
    "#X_treino com dados do passado e X_Test com dados do futuro\n",
    "#Selecionei só 3 medidas do EVI para não ficar muita feature\n",
    "Xtrain = B.iloc[5:24,4:9].fillna(0)\n",
    "Xtest =  B.iloc[23:26,4:9].fillna(0)\n",
    "Ytrain = Y[0:19]\n",
    "Ytest = Y[19:20]"
   ]
  },
  {
   "cell_type": "code",
   "execution_count": 182,
   "id": "dense-trinidad",
   "metadata": {},
   "outputs": [],
   "source": [
    "# Regressão Linear Simples\n",
    "LR = LinearRegression()\n",
    "# fitting the training data\n",
    "LR.fit(Xtrain,Ytrain)\n",
    "Y_LR =  LR.predict(Xtrain)"
   ]
  },
  {
   "cell_type": "code",
   "execution_count": 183,
   "id": "killing-editor",
   "metadata": {},
   "outputs": [],
   "source": [
    "#Regressão Polinomial SVR\n",
    "\n",
    "svr_poly = SVR(kernel='poly', C=1e3, degree=3)\n",
    "Y_Poly = svr_poly.fit(Xtrain, Ytrain).predict(Xtrain)"
   ]
  },
  {
   "cell_type": "code",
   "execution_count": 184,
   "id": "patient-indicator",
   "metadata": {},
   "outputs": [],
   "source": [
    "#Regressão Ridge\n",
    "reg = linear_model.Ridge(alpha=.5)\n",
    "Y_Ridge = reg.fit(Xtrain, Ytrain).predict(Xtrain)"
   ]
  },
  {
   "cell_type": "code",
   "execution_count": 185,
   "id": "brutal-color",
   "metadata": {},
   "outputs": [],
   "source": [
    "#Regressão Bayseana\n",
    "regB = linear_model.BayesianRidge()\n",
    "Y_Bay = regB.fit(Xtrain, Ytrain).predict(Xtrain)"
   ]
  },
  {
   "cell_type": "code",
   "execution_count": 186,
   "id": "recent-saturn",
   "metadata": {},
   "outputs": [
    {
     "name": "stdout",
     "output_type": "stream",
     "text": [
      "r2 Linear  0.32760929550872275\n",
      "mean_sqrd_error Linear == 236341.22750648813\n",
      "r2 Poly  0.44099279713718065\n",
      "mean_sqrd_error Polinomial == 196487.61892020036\n",
      "r2 Ridge  0.3276092955084946\n",
      "mean_sqrd_error Ridge == 236341.2275065683\n",
      "r2 Bayseano  0.0029307729128191795\n",
      "mean_sqrd_error Bayseano == 350463.74595112604\n"
     ]
    }
   ],
   "source": [
    "# predicting the accuracy score\n",
    "score=r2_score(Ytrain,Y_LR)\n",
    "print(\"r2 Linear \",score)\n",
    "print(\"mean_sqrd_error Linear ==\",mean_squared_error(Ytrain,Y_LR))\n",
    "score=r2_score(Ytrain,Y_Poly)\n",
    "print(\"r2 Poly \",score)\n",
    "print(\"mean_sqrd_error Polinomial ==\",mean_squared_error(Ytrain,Y_Poly))\n",
    "score=r2_score(Ytrain,Y_Ridge)\n",
    "print(\"r2 Ridge \",score)\n",
    "print(\"mean_sqrd_error Ridge ==\",mean_squared_error(Ytrain,Y_Ridge))\n",
    "score=r2_score(Ytrain,Y_Bay)\n",
    "print(\"r2 Bayseano \",score)\n",
    "print(\"mean_sqrd_error Bayseano ==\",mean_squared_error(Ytrain,Y_Bay))\n"
   ]
  },
  {
   "cell_type": "code",
   "execution_count": 187,
   "id": "prescription-essex",
   "metadata": {},
   "outputs": [
    {
     "name": "stdout",
     "output_type": "stream",
     "text": [
      "Produtividade em 2019: ['3155']\n",
      "Produtividade Reg Linear: [3075.85274595 2529.80353076 2653.47380879]\n",
      "Produtividade Reg Polinomial: [3515.7714249  2441.17302015 2791.83025227]\n",
      "Produtividade Reg Ridge: [3075.85235221 2529.80359521 2653.47388354]\n",
      "Produtividade Reg Bayeseana: [2586.32186242 2585.99258038 2588.66253437]\n"
     ]
    }
   ],
   "source": [
    "print(\"Produtividade em 2019:\",Ytest)\n",
    "print(\"Produtividade Reg Linear:\",LR.predict(Xtest))\n",
    "print(\"Produtividade Reg Polinomial:\",svr_poly.predict(Xtest))\n",
    "print(\"Produtividade Reg Ridge:\",reg.predict(Xtest))\n",
    "print(\"Produtividade Reg Bayeseana:\",regB.predict(Xtest))"
   ]
  },
  {
   "cell_type": "code",
   "execution_count": 180,
   "id": "postal-civilian",
   "metadata": {},
   "outputs": [
    {
     "data": {
      "text/html": [
       "<div>\n",
       "<style scoped>\n",
       "    .dataframe tbody tr th:only-of-type {\n",
       "        vertical-align: middle;\n",
       "    }\n",
       "\n",
       "    .dataframe tbody tr th {\n",
       "        vertical-align: top;\n",
       "    }\n",
       "\n",
       "    .dataframe thead th {\n",
       "        text-align: right;\n",
       "    }\n",
       "</style>\n",
       "<table border=\"1\" class=\"dataframe\">\n",
       "  <thead>\n",
       "    <tr style=\"text-align: right;\">\n",
       "      <th></th>\n",
       "      <th>EVI5</th>\n",
       "      <th>EVI6</th>\n",
       "      <th>EVI7</th>\n",
       "      <th>EVI8</th>\n",
       "    </tr>\n",
       "  </thead>\n",
       "  <tbody>\n",
       "    <tr>\n",
       "      <th>5</th>\n",
       "      <td>4353.674163</td>\n",
       "      <td>4491.513013</td>\n",
       "      <td>4609.159843</td>\n",
       "      <td>5029.449823</td>\n",
       "    </tr>\n",
       "    <tr>\n",
       "      <th>6</th>\n",
       "      <td>4203.195421</td>\n",
       "      <td>4217.826661</td>\n",
       "      <td>4617.349445</td>\n",
       "      <td>4766.325086</td>\n",
       "    </tr>\n",
       "    <tr>\n",
       "      <th>7</th>\n",
       "      <td>4501.927481</td>\n",
       "      <td>4966.372086</td>\n",
       "      <td>4984.556724</td>\n",
       "      <td>5110.004016</td>\n",
       "    </tr>\n",
       "    <tr>\n",
       "      <th>8</th>\n",
       "      <td>4376.044127</td>\n",
       "      <td>4709.731717</td>\n",
       "      <td>5434.672804</td>\n",
       "      <td>5515.027832</td>\n",
       "    </tr>\n",
       "    <tr>\n",
       "      <th>9</th>\n",
       "      <td>4301.716900</td>\n",
       "      <td>4853.863565</td>\n",
       "      <td>5113.058429</td>\n",
       "      <td>5124.535893</td>\n",
       "    </tr>\n",
       "    <tr>\n",
       "      <th>10</th>\n",
       "      <td>4647.747018</td>\n",
       "      <td>4875.364535</td>\n",
       "      <td>5187.185553</td>\n",
       "      <td>5319.445848</td>\n",
       "    </tr>\n",
       "    <tr>\n",
       "      <th>11</th>\n",
       "      <td>4880.682636</td>\n",
       "      <td>4916.055691</td>\n",
       "      <td>5013.556911</td>\n",
       "      <td>5948.722844</td>\n",
       "    </tr>\n",
       "    <tr>\n",
       "      <th>12</th>\n",
       "      <td>3915.071428</td>\n",
       "      <td>5453.291956</td>\n",
       "      <td>5735.779512</td>\n",
       "      <td>6626.506648</td>\n",
       "    </tr>\n",
       "    <tr>\n",
       "      <th>13</th>\n",
       "      <td>5090.753396</td>\n",
       "      <td>6302.692064</td>\n",
       "      <td>6633.516490</td>\n",
       "      <td>7249.444477</td>\n",
       "    </tr>\n",
       "    <tr>\n",
       "      <th>14</th>\n",
       "      <td>5809.421203</td>\n",
       "      <td>6740.656238</td>\n",
       "      <td>7083.480109</td>\n",
       "      <td>7489.166007</td>\n",
       "    </tr>\n",
       "    <tr>\n",
       "      <th>15</th>\n",
       "      <td>5808.020827</td>\n",
       "      <td>6453.641819</td>\n",
       "      <td>6613.188752</td>\n",
       "      <td>7848.967795</td>\n",
       "    </tr>\n",
       "    <tr>\n",
       "      <th>16</th>\n",
       "      <td>5762.339658</td>\n",
       "      <td>6131.958284</td>\n",
       "      <td>6564.027623</td>\n",
       "      <td>6594.405997</td>\n",
       "    </tr>\n",
       "    <tr>\n",
       "      <th>17</th>\n",
       "      <td>5934.963224</td>\n",
       "      <td>6626.052710</td>\n",
       "      <td>7067.662538</td>\n",
       "      <td>7255.652602</td>\n",
       "    </tr>\n",
       "    <tr>\n",
       "      <th>18</th>\n",
       "      <td>5903.518676</td>\n",
       "      <td>6252.273208</td>\n",
       "      <td>6838.801238</td>\n",
       "      <td>6902.917771</td>\n",
       "    </tr>\n",
       "    <tr>\n",
       "      <th>19</th>\n",
       "      <td>5484.262305</td>\n",
       "      <td>6741.962039</td>\n",
       "      <td>7175.816676</td>\n",
       "      <td>7664.139698</td>\n",
       "    </tr>\n",
       "    <tr>\n",
       "      <th>20</th>\n",
       "      <td>4079.901152</td>\n",
       "      <td>5028.222456</td>\n",
       "      <td>6150.490473</td>\n",
       "      <td>6420.648884</td>\n",
       "    </tr>\n",
       "    <tr>\n",
       "      <th>21</th>\n",
       "      <td>5873.745429</td>\n",
       "      <td>7435.613686</td>\n",
       "      <td>7798.449520</td>\n",
       "      <td>7838.504510</td>\n",
       "    </tr>\n",
       "    <tr>\n",
       "      <th>22</th>\n",
       "      <td>7703.402839</td>\n",
       "      <td>7758.487804</td>\n",
       "      <td>7860.054815</td>\n",
       "      <td>8049.336882</td>\n",
       "    </tr>\n",
       "    <tr>\n",
       "      <th>23</th>\n",
       "      <td>5842.731082</td>\n",
       "      <td>6377.566843</td>\n",
       "      <td>7002.020021</td>\n",
       "      <td>7435.288810</td>\n",
       "    </tr>\n",
       "  </tbody>\n",
       "</table>\n",
       "</div>"
      ],
      "text/plain": [
       "           EVI5         EVI6         EVI7         EVI8\n",
       "5   4353.674163  4491.513013  4609.159843  5029.449823\n",
       "6   4203.195421  4217.826661  4617.349445  4766.325086\n",
       "7   4501.927481  4966.372086  4984.556724  5110.004016\n",
       "8   4376.044127  4709.731717  5434.672804  5515.027832\n",
       "9   4301.716900  4853.863565  5113.058429  5124.535893\n",
       "10  4647.747018  4875.364535  5187.185553  5319.445848\n",
       "11  4880.682636  4916.055691  5013.556911  5948.722844\n",
       "12  3915.071428  5453.291956  5735.779512  6626.506648\n",
       "13  5090.753396  6302.692064  6633.516490  7249.444477\n",
       "14  5809.421203  6740.656238  7083.480109  7489.166007\n",
       "15  5808.020827  6453.641819  6613.188752  7848.967795\n",
       "16  5762.339658  6131.958284  6564.027623  6594.405997\n",
       "17  5934.963224  6626.052710  7067.662538  7255.652602\n",
       "18  5903.518676  6252.273208  6838.801238  6902.917771\n",
       "19  5484.262305  6741.962039  7175.816676  7664.139698\n",
       "20  4079.901152  5028.222456  6150.490473  6420.648884\n",
       "21  5873.745429  7435.613686  7798.449520  7838.504510\n",
       "22  7703.402839  7758.487804  7860.054815  8049.336882\n",
       "23  5842.731082  6377.566843  7002.020021  7435.288810"
      ]
     },
     "execution_count": 180,
     "metadata": {},
     "output_type": "execute_result"
    }
   ],
   "source": [
    "#Tentativa de Plotar 1 dimensão de feature x Y\n",
    "#import matplotlib.pyplot as plt\n",
    "#import numpy as np\n",
    "\n",
    "#plt.plot(x_plot,y_plot, 'o')\n",
    "#plt.plot(x_plot,y_poly)\n",
    "#plt.plot(x_plot,y_prediction)\n",
    "#plt.show()\n",
    "\n",
    "Xtrain"
   ]
  },
  {
   "cell_type": "code",
   "execution_count": null,
   "id": "matched-determination",
   "metadata": {},
   "outputs": [],
   "source": []
  },
  {
   "cell_type": "code",
   "execution_count": null,
   "id": "express-operations",
   "metadata": {},
   "outputs": [],
   "source": []
  },
  {
   "cell_type": "code",
   "execution_count": null,
   "id": "arabic-gothic",
   "metadata": {},
   "outputs": [],
   "source": []
  }
 ],
 "metadata": {
  "kernelspec": {
   "display_name": "Python 3",
   "language": "python",
   "name": "python3"
  },
  "language_info": {
   "codemirror_mode": {
    "name": "ipython",
    "version": 3
   },
   "file_extension": ".py",
   "mimetype": "text/x-python",
   "name": "python",
   "nbconvert_exporter": "python",
   "pygments_lexer": "ipython3",
   "version": "3.8.5"
  },
  "widgets": {
   "application/vnd.jupyter.widget-state+json": {
    "state": {
     "00910cc5b6a449f49869f916484f7e7c": {
      "model_module": "jupyter-leaflet",
      "model_module_version": "^0.14.0",
      "model_name": "LeafletSearchControlModel",
      "state": {
       "_model_module": "jupyter-leaflet",
       "_model_module_version": "^0.14.0",
       "_view_count": null,
       "_view_module": "jupyter-leaflet",
       "_view_module_version": "^0.14.0",
       "marker": "IPY_MODEL_188bfeab5cc44dd2ae57f2c6ff9aee3c",
       "options": [
        "animate_location",
        "auto_collapse",
        "auto_type",
        "found_style",
        "jsonp_param",
        "position",
        "property_loc",
        "property_name",
        "url",
        "zoom"
       ],
       "position": "topleft",
       "url": "https://nominatim.openstreetmap.org/search?format=json&q={s}",
       "zoom": 5
      }
     },
     "00fc2bc61e25421e8fa06eef567965b4": {
      "model_module": "@jupyter-widgets/controls",
      "model_module_version": "1.5.0",
      "model_name": "DescriptionStyleModel",
      "state": {
       "description_width": ""
      }
     },
     "011a1bfe30714f768ee98d7355897d57": {
      "model_module": "@jupyter-widgets/controls",
      "model_module_version": "1.5.0",
      "model_name": "DescriptionStyleModel",
      "state": {
       "description_width": ""
      }
     },
     "024571c7c7274d4ab23d830365fe02f1": {
      "model_module": "@jupyter-widgets/controls",
      "model_module_version": "1.5.0",
      "model_name": "DescriptionStyleModel",
      "state": {
       "description_width": ""
      }
     },
     "02581f1dde844034853c825719cb87c6": {
      "model_module": "@jupyter-widgets/base",
      "model_module_version": "1.2.0",
      "model_name": "LayoutModel",
      "state": {}
     },
     "039bf12fa8ae483eb74afa42a2ba4ab2": {
      "model_module": "jupyter-leaflet",
      "model_module_version": "^0.14.0",
      "model_name": "LeafletTileLayerModel",
      "state": {
       "_model_module_version": "^0.14.0",
       "_view_module_version": "^0.14.0",
       "base": true,
       "max_native_zoom": 18,
       "max_zoom": 19,
       "min_native_zoom": 0,
       "min_zoom": 1,
       "options": [
        "attribution",
        "detect_retina",
        "max_native_zoom",
        "max_zoom",
        "min_native_zoom",
        "min_zoom",
        "no_wrap",
        "tile_size",
        "tms"
       ]
      }
     },
     "03a76a8b542c47e9a3097ad8545f6e4f": {
      "model_module": "jupyter-leaflet",
      "model_module_version": "^0.14.0",
      "model_name": "LeafletTileLayerModel",
      "state": {
       "_model_module_version": "^0.14.0",
       "_view_module_version": "^0.14.0",
       "attribution": "&copy; <a href=\"http://www.openstreetmap.org/copyright\">OpenStreetMap</a>",
       "max_native_zoom": 18,
       "min_native_zoom": 0,
       "min_zoom": 1,
       "name": "OpenStreetMap.DE",
       "options": [
        "attribution",
        "detect_retina",
        "max_native_zoom",
        "max_zoom",
        "min_native_zoom",
        "min_zoom",
        "no_wrap",
        "tile_size",
        "tms"
       ],
       "url": "http://{s}.tile.openstreetmap.de/tiles/osmde/{z}/{x}/{y}.png"
      }
     },
     "03b6e1d443c24c57b72ad096b5dea000": {
      "model_module": "@jupyter-widgets/base",
      "model_module_version": "1.2.0",
      "model_name": "LayoutModel",
      "state": {}
     },
     "03dd0faba1f64a08af7e7d6662062322": {
      "model_module": "jupyter-leaflet",
      "model_module_version": "^0.14.0",
      "model_name": "LeafletTileLayerModel",
      "state": {
       "_model_module_version": "^0.14.0",
       "_view_module_version": "^0.14.0",
       "attribution": "Map tiles by <a href=\"http://stamen.com/\">Stamen Design</a>, under <a href=\"http://creativecommons.org/licenses/by/3.0\">CC BY 3.0</a>. Data by <a href=\"http://openstreetmap.org/\">OpenStreetMap</a>, under <a href=\"http://creativecommons.org/licenses/by-sa/3.0\">CC BY SA</a>.",
       "max_native_zoom": 18,
       "max_zoom": 20,
       "min_native_zoom": 0,
       "name": "Stamen.Toner",
       "options": [
        "attribution",
        "detect_retina",
        "max_native_zoom",
        "max_zoom",
        "min_native_zoom",
        "min_zoom",
        "no_wrap",
        "tile_size",
        "tms"
       ],
       "url": "https://stamen-tiles-a.a.ssl.fastly.net/toner/{z}/{x}/{y}.png"
      }
     },
     "03f860263ef0424da4c6bf883e7aecc6": {
      "model_module": "@jupyter-widgets/controls",
      "model_module_version": "1.5.0",
      "model_name": "DropdownModel",
      "state": {
       "index": null,
       "layout": "IPY_MODEL_0890a68a4e6042249b03b52beb3cbdb6",
       "style": "IPY_MODEL_f22b56ae159143c0816a00b55d3f1da3"
      }
     },
     "04fd5c9de4924929a06f4f3a56e419c6": {
      "model_module": "@jupyter-widgets/controls",
      "model_module_version": "1.5.0",
      "model_name": "DescriptionStyleModel",
      "state": {
       "description_width": ""
      }
     },
     "0517bce4e5f64f0780d14f7efa1e7747": {
      "model_module": "jupyter-leaflet",
      "model_module_version": "^0.14.0",
      "model_name": "LeafletTileLayerModel",
      "state": {
       "_model_module_version": "^0.14.0",
       "_view_module_version": "^0.14.0",
       "attribution": "Map tiles by <a href=\"http://stamen.com/\">Stamen Design</a>, under <a href=\"http://creativecommons.org/licenses/by/3.0\">CC BY 3.0</a>. Data by <a href=\"http://openstreetmap.org/\">OpenStreetMap</a>, under <a href=\"http://creativecommons.org/licenses/by-sa/3.0\">CC BY SA</a>.",
       "max_native_zoom": 18,
       "min_native_zoom": 0,
       "name": "Stamen.Terrain",
       "options": [
        "attribution",
        "detect_retina",
        "max_native_zoom",
        "max_zoom",
        "min_native_zoom",
        "min_zoom",
        "no_wrap",
        "tile_size",
        "tms"
       ],
       "url": "https://stamen-tiles-a.a.ssl.fastly.net/terrain/{z}/{x}/{y}.png"
      }
     },
     "06bf965ec857430c8f7323f048028a0f": {
      "model_module": "@jupyter-widgets/controls",
      "model_module_version": "1.5.0",
      "model_name": "DescriptionStyleModel",
      "state": {
       "description_width": ""
      }
     },
     "08693aee89394d4e8c55c5581c62dd5f": {
      "model_module": "@jupyter-widgets/controls",
      "model_module_version": "1.5.0",
      "model_name": "HBoxModel",
      "state": {
       "children": [
        "IPY_MODEL_596acfdf61cc408a988549fb111e9c56",
        "IPY_MODEL_f01a56199a4943b695b0fc17d5683541",
        "IPY_MODEL_3b8c5c122052472f8c587f5a0e523d3f"
       ],
       "layout": "IPY_MODEL_a72641c4963349d89ca3d9508df34bb6"
      }
     },
     "0877111eb46646d4b6b9a0bee2484125": {
      "model_module": "jupyter-leaflet",
      "model_module_version": "^0.14.0",
      "model_name": "LeafletTileLayerModel",
      "state": {
       "_model_module_version": "^0.14.0",
       "_view_module_version": "^0.14.0",
       "attribution": "Map tiles <a href=\"https://labs.strava.com/heatmap\">Strava 2017</a>",
       "max_native_zoom": 18,
       "max_zoom": 15,
       "min_native_zoom": 0,
       "min_zoom": 1,
       "name": "Strava.Ride",
       "options": [
        "attribution",
        "detect_retina",
        "max_native_zoom",
        "max_zoom",
        "min_native_zoom",
        "min_zoom",
        "no_wrap",
        "tile_size",
        "tms"
       ],
       "url": "https://heatmap-external-a.strava.com//tiles/ride/hot/{z}/{x}/{y}.png?v=19"
      }
     },
     "087aac63356a481b938479545952d6e0": {
      "model_module": "@jupyter-widgets/controls",
      "model_module_version": "1.5.0",
      "model_name": "HTMLModel",
      "state": {
       "layout": "IPY_MODEL_43d8fb8da8e84708b0801066cc1c2526",
       "style": "IPY_MODEL_a808c09c4c0a4bd88b05b2ef1585168a"
      }
     },
     "0890a68a4e6042249b03b52beb3cbdb6": {
      "model_module": "@jupyter-widgets/base",
      "model_module_version": "1.2.0",
      "model_name": "LayoutModel",
      "state": {
       "max_width": "279px",
       "min_width": "279px"
      }
     },
     "095ef9819b3248dab49954879693dd8d": {
      "model_module": "@jupyter-widgets/controls",
      "model_module_version": "1.5.0",
      "model_name": "RadioButtonsModel",
      "state": {
       "index": null,
       "layout": "IPY_MODEL_35dd15a9213540178c106cedb3e10498",
       "style": "IPY_MODEL_d355cb6bf1ad490b89ebeeef613447c9"
      }
     },
     "0b42d0ced6cc4ba39c4b4e47177098bc": {
      "model_module": "@jupyter-widgets/controls",
      "model_module_version": "1.5.0",
      "model_name": "DescriptionStyleModel",
      "state": {
       "description_width": ""
      }
     },
     "0b7737f0cb1145d68eb432ad92ad0c9e": {
      "model_module": "jupyter-leaflet",
      "model_module_version": "^0.14.0",
      "model_name": "LeafletTileLayerModel",
      "state": {
       "_model_module_version": "^0.14.0",
       "_view_module_version": "^0.14.0",
       "attribution": "Map tiles by <a href=\"https://labs.strava.com/heatmap\">Strava 2017</a>",
       "max_native_zoom": 18,
       "max_zoom": 15,
       "min_native_zoom": 0,
       "min_zoom": 1,
       "name": "Strava.Run",
       "options": [
        "attribution",
        "detect_retina",
        "max_native_zoom",
        "max_zoom",
        "min_native_zoom",
        "min_zoom",
        "no_wrap",
        "tile_size",
        "tms"
       ],
       "url": "https://heatmap-external-a.strava.com//tiles/run/bluered/{z}/{x}/{y}.png?v=19"
      }
     },
     "0be3a760f6e746bcbe8332e10dc13905": {
      "model_module": "@jupyter-widgets/controls",
      "model_module_version": "1.5.0",
      "model_name": "DescriptionStyleModel",
      "state": {
       "description_width": ""
      }
     },
     "0c09ceb5a79f42468027d388c5e1e7fd": {
      "model_module": "@jupyter-widgets/base",
      "model_module_version": "1.2.0",
      "model_name": "LayoutModel",
      "state": {}
     },
     "0c2c9a56967843e48bf57d6a2e44accf": {
      "model_module": "@jupyter-widgets/controls",
      "model_module_version": "1.5.0",
      "model_name": "ToggleButtonModel",
      "state": {
       "button_style": "primary",
       "icon": "question",
       "layout": "IPY_MODEL_dadb9176678f421da237c99857735799",
       "style": "IPY_MODEL_277e5e4a49714520bb553002ca9df4ff",
       "tooltip": "Get help"
      }
     },
     "0c79049634144b50a8f773a397395814": {
      "model_module": "jupyter-leaflet",
      "model_module_version": "^0.14.0",
      "model_name": "LeafletWMSLayerModel",
      "state": {
       "_model_module_version": "^0.14.0",
       "_view_module_version": "^0.14.0",
       "attribution": "USGS",
       "crs": {
        "custom": false,
        "name": "EPSG3857"
       },
       "format": "image/png",
       "layers": "3DEPElevation:None",
       "max_native_zoom": 18,
       "min_native_zoom": 0,
       "name": "USGS 3DEP Elevation",
       "options": [
        "attribution",
        "detect_retina",
        "format",
        "layers",
        "max_native_zoom",
        "max_zoom",
        "min_native_zoom",
        "min_zoom",
        "no_wrap",
        "styles",
        "tile_size",
        "tms",
        "transparent",
        "uppercase"
       ],
       "transparent": true,
       "url": "https://elevation.nationalmap.gov/arcgis/services/3DEPElevation/ImageServer/WMSServer?"
      }
     },
     "0d07e8a53b794b969924b6de39f83060": {
      "model_module": "jupyter-leaflet",
      "model_module_version": "^0.14.0",
      "model_name": "LeafletTileLayerModel",
      "state": {
       "_model_module_version": "^0.14.0",
       "_view_module_version": "^0.14.0",
       "attribution": "Tiles &copy; Esri &mdash; Source: Esri, DeLorme, NAVTEQ, USGS, Intermap, iPC, NRCAN, Esri Japan, METI, Esri China (Hong Kong), Esri (Thailand), TomTom, 2012",
       "max_native_zoom": 18,
       "max_zoom": 20,
       "min_native_zoom": 0,
       "min_zoom": 1,
       "name": "Esri.WorldStreetMap",
       "options": [
        "attribution",
        "detect_retina",
        "max_native_zoom",
        "max_zoom",
        "min_native_zoom",
        "min_zoom",
        "no_wrap",
        "tile_size",
        "tms"
       ],
       "url": "http://server.arcgisonline.com/ArcGIS/rest/services/World_Street_Map/MapServer/tile/{z}/{y}/{x}"
      }
     },
     "0d6fd175c1004ced8ee92b170b196b68": {
      "model_module": "@jupyter-widgets/base",
      "model_module_version": "1.2.0",
      "model_name": "LayoutModel",
      "state": {
       "width": "auto"
      }
     },
     "0e20947d3cba4b6eaf1de4441b7e78d7": {
      "model_module": "jupyter-leaflet",
      "model_module_version": "^0.14.0",
      "model_name": "LeafletMapStyleModel",
      "state": {
       "_model_module_version": "^0.14.0"
      }
     },
     "0e67fe8cfdfa49d981fbd9bf684d4439": {
      "model_module": "@jupyter-widgets/controls",
      "model_module_version": "1.5.0",
      "model_name": "ToggleButtonModel",
      "state": {
       "button_style": "primary",
       "icon": "random",
       "layout": "IPY_MODEL_a93a3b8066654d8586686880e4267b90",
       "style": "IPY_MODEL_04fd5c9de4924929a06f4f3a56e419c6",
       "tooltip": "Sankey plots"
      }
     },
     "0ef4c92e95ef4e588f38505ae1b00978": {
      "model_module": "@jupyter-widgets/controls",
      "model_module_version": "1.5.0",
      "model_name": "GridBoxModel",
      "state": {
       "children": [
        "IPY_MODEL_0efc3574f08b4bfd85509fb8c2b7ae3e",
        "IPY_MODEL_ca9aa59826784a319daf2f105823d48e",
        "IPY_MODEL_6e5145192a924afa9cb93ab9d908d65c",
        "IPY_MODEL_5e51468e4a044218a0a23e4a30ba9216",
        "IPY_MODEL_646d7d12c7ce49249299f4b7479f10ac",
        "IPY_MODEL_f9d16c7846a441bb9a6e8eff9a081d8b",
        "IPY_MODEL_dc01b9a8a0fa407da4d9efed1be335ac",
        "IPY_MODEL_702cf9cb1a9b41b99cd76bc01c2dd5f5",
        "IPY_MODEL_bdb4b15ac33d4e7cb353c877092fd510",
        "IPY_MODEL_896b0b2371554d7e89fd0e3685f93117",
        "IPY_MODEL_3557abb9e13647d2aca1cdf4f0590149",
        "IPY_MODEL_212b6f4f4c814e02b799ea15ac5df3ca",
        "IPY_MODEL_c91e94cc389945b49558af97613e31fa",
        "IPY_MODEL_0e67fe8cfdfa49d981fbd9bf684d4439",
        "IPY_MODEL_fbb98c1b12a84d74812f5709987e24ec",
        "IPY_MODEL_f6259d2925394d7480ad36e43a7c6468",
        "IPY_MODEL_dd7ef69059b1499f8231ce78607ba5ff",
        "IPY_MODEL_0c2c9a56967843e48bf57d6a2e44accf"
       ],
       "layout": "IPY_MODEL_e2177f0f3d224c7f95c7166fb19abb33"
      }
     },
     "0efc3574f08b4bfd85509fb8c2b7ae3e": {
      "model_module": "@jupyter-widgets/controls",
      "model_module_version": "1.5.0",
      "model_name": "ToggleButtonModel",
      "state": {
       "button_style": "primary",
       "icon": "info",
       "layout": "IPY_MODEL_6a36a74fe54842c595d74c1a381ff3ae",
       "style": "IPY_MODEL_8b461559732b4ea99e0cdd2fa939c7bd",
       "tooltip": "Inspector"
      }
     },
     "0f12ae8a471a48028985600abcbdd360": {
      "model_module": "jupyter-leaflet",
      "model_module_version": "^0.14.0",
      "model_name": "LeafletTileLayerModel",
      "state": {
       "_model_module_version": "^0.14.0",
       "_view_module_version": "^0.14.0",
       "attribution": "&copy; <a href=\"http://www.openstreetmap.org/copyright\">OpenStreetMap</a>",
       "max_native_zoom": 18,
       "min_native_zoom": 0,
       "min_zoom": 1,
       "name": "OpenStreetMap.DE",
       "options": [
        "attribution",
        "detect_retina",
        "max_native_zoom",
        "max_zoom",
        "min_native_zoom",
        "min_zoom",
        "no_wrap",
        "tile_size",
        "tms"
       ],
       "url": "http://{s}.tile.openstreetmap.de/tiles/osmde/{z}/{x}/{y}.png"
      }
     },
     "0f6df18f2a5d41fb939c992e0e8017c7": {
      "model_module": "@jupyter-widgets/controls",
      "model_module_version": "1.5.0",
      "model_name": "ToggleButtonModel",
      "state": {
       "button_style": "primary",
       "icon": "hand-o-up",
       "layout": "IPY_MODEL_39c91a9f7e0247a4af4873a90035d28e",
       "style": "IPY_MODEL_4bd2ba59e39343188218db5ad620133a",
       "tooltip": "Collect training samples"
      }
     },
     "101127a2dd6a4284ba0eb38fd6d1c68e": {
      "model_module": "@jupyter-widgets/controls",
      "model_module_version": "1.5.0",
      "model_name": "ToggleButtonModel",
      "state": {
       "icon": "server",
       "layout": "IPY_MODEL_6ccae8165175450b9e296b2152555d35",
       "style": "IPY_MODEL_4ecf66e1d1de41969efc747d49774868",
       "tooltip": "Layers"
      }
     },
     "101a38cc119f4d29a546083f0f054ba0": {
      "model_module": "@jupyter-widgets/base",
      "model_module_version": "1.2.0",
      "model_name": "LayoutModel",
      "state": {}
     },
     "10b9d14967a247678861c1f5952330f1": {
      "model_module": "jupyter-leaflet",
      "model_module_version": "^0.14.0",
      "model_name": "LeafletWMSLayerModel",
      "state": {
       "_model_module_version": "^0.14.0",
       "_view_module_version": "^0.14.0",
       "attribution": "MRLC",
       "crs": {
        "custom": false,
        "name": "EPSG3857"
       },
       "format": "image/png",
       "layers": "NLCD_2004_Land_Cover_L48",
       "max_native_zoom": 18,
       "min_native_zoom": 0,
       "name": "NLCD 2004 CONUS Land Cover",
       "options": [
        "attribution",
        "detect_retina",
        "format",
        "layers",
        "max_native_zoom",
        "max_zoom",
        "min_native_zoom",
        "min_zoom",
        "no_wrap",
        "styles",
        "tile_size",
        "tms",
        "transparent",
        "uppercase"
       ],
       "transparent": true,
       "url": "https://www.mrlc.gov/geoserver/mrlc_display/NLCD_2004_Land_Cover_L48/wms?"
      }
     },
     "143e6da207f848fd8bc3ffb9677cf0d3": {
      "model_module": "@jupyter-widgets/base",
      "model_module_version": "1.2.0",
      "model_name": "LayoutModel",
      "state": {
       "height": "auto",
       "padding": "0px 0px 0px 4px",
       "width": "auto"
      }
     },
     "1547c1aca0234ab1a8a076543a60d53a": {
      "model_module": "@jupyter-widgets/controls",
      "model_module_version": "1.5.0",
      "model_name": "DescriptionStyleModel",
      "state": {
       "description_width": ""
      }
     },
     "1574bee730c4408f9f93a94dd88f5d0f": {
      "model_module": "@jupyter-widgets/base",
      "model_module_version": "1.2.0",
      "model_name": "LayoutModel",
      "state": {
       "height": "28px",
       "padding": "0px 0px 0px 4px",
       "width": "28px"
      }
     },
     "15905979668a47a48cb01ad925e2fc03": {
      "model_module": "jupyter-leaflet",
      "model_module_version": "^0.14.0",
      "model_name": "LeafletWMSLayerModel",
      "state": {
       "_model_module_version": "^0.14.0",
       "_view_module_version": "^0.14.0",
       "attribution": "MRLC",
       "crs": {
        "custom": false,
        "name": "EPSG3857"
       },
       "format": "image/png",
       "layers": "NLCD_2011_Land_Cover_L48",
       "max_native_zoom": 18,
       "min_native_zoom": 0,
       "name": "NLCD 2011 CONUS Land Cover",
       "options": [
        "attribution",
        "detect_retina",
        "format",
        "layers",
        "max_native_zoom",
        "max_zoom",
        "min_native_zoom",
        "min_zoom",
        "no_wrap",
        "styles",
        "tile_size",
        "tms",
        "transparent",
        "uppercase"
       ],
       "transparent": true,
       "url": "https://www.mrlc.gov/geoserver/mrlc_display/NLCD_2011_Land_Cover_L48/wms?"
      }
     },
     "16604e5bc2c04d2299a0cf1cd7e6b2a1": {
      "model_module": "jupyter-leaflet",
      "model_module_version": "^0.14.0",
      "model_name": "LeafletZoomControlModel",
      "state": {
       "_model_module_version": "^0.14.0",
       "_view_module_version": "^0.14.0",
       "options": [
        "position",
        "zoom_in_text",
        "zoom_in_title",
        "zoom_out_text",
        "zoom_out_title"
       ]
      }
     },
     "175854cfd2904079824a94062e487db9": {
      "model_module": "@jupyter-widgets/output",
      "model_module_version": "1.0.0",
      "model_name": "OutputModel",
      "state": {
       "layout": "IPY_MODEL_3db9c12eae274c93a4daa914f32eb6ad"
      }
     },
     "188bfeab5cc44dd2ae57f2c6ff9aee3c": {
      "model_module": "jupyter-leaflet",
      "model_module_version": "^0.14.0",
      "model_name": "LeafletMarkerModel",
      "state": {
       "_model_module_version": "^0.14.0",
       "_view_module_version": "^0.14.0",
       "icon": "IPY_MODEL_2aad652b8be14adeb522aa8d03105118",
       "options": [
        "alt",
        "draggable",
        "keyboard",
        "rise_offset",
        "rise_on_hover",
        "rotation_angle",
        "rotation_origin",
        "title",
        "z_index_offset"
       ]
      }
     },
     "19536afa489b4082b260a330ce1ba16a": {
      "model_module": "jupyter-leaflet",
      "model_module_version": "^0.14.0",
      "model_name": "LeafletWidgetControlModel",
      "state": {
       "_model_module": "jupyter-leaflet",
       "_model_module_version": "^0.14.0",
       "_view_count": null,
       "_view_module": "jupyter-leaflet",
       "_view_module_version": "^0.14.0",
       "options": [
        "position",
        "transparent_bg"
       ],
       "position": "topleft",
       "widget": "IPY_MODEL_fea189c91a96426b90a36993fb43c3c1"
      }
     },
     "1953c437342643568b8d452e9dc1d571": {
      "model_module": "jupyter-leaflet",
      "model_module_version": "^0.14.0",
      "model_name": "LeafletTileLayerModel",
      "state": {
       "_model_module_version": "^0.14.0",
       "_view_module_version": "^0.14.0",
       "attribution": "\nImagery provided by services from the Global Imagery Browse Services (GIBS), operated by the NASA/GSFC/Earth Science Data and Information System (<a href=\"https://earthdata.nasa.gov\">ESDIS</a>) with funding provided by NASA/HQ.\n",
       "max_native_zoom": 18,
       "max_zoom": 8,
       "min_native_zoom": 0,
       "min_zoom": 1,
       "name": "NASAGIBS.ViirsEarthAtNight2012",
       "options": [
        "attribution",
        "detect_retina",
        "max_native_zoom",
        "max_zoom",
        "min_native_zoom",
        "min_zoom",
        "no_wrap",
        "tile_size",
        "tms"
       ],
       "url": "http://gibs.earthdata.nasa.gov/wmts/epsg3857/best/VIIRS_Black_Marble/default/2012-01-01/GoogleMapsCompatible_Level8/{z}/{y}/{x}.png"
      }
     },
     "19c57970993e4c2fbdbab18fa31bc373": {
      "model_module": "@jupyter-widgets/controls",
      "model_module_version": "1.5.0",
      "model_name": "VBoxModel",
      "state": {
       "children": [
        "IPY_MODEL_d4bdd69ae1184f1a819e3afe83f10ea0",
        "IPY_MODEL_fc20025fd605410b98afdf0cfb5e9a1e",
        "IPY_MODEL_08693aee89394d4e8c55c5581c62dd5f"
       ],
       "layout": "IPY_MODEL_7d6476c3b37346669229817b6e395e2b"
      }
     },
     "1b33bad8721848809a2fd27e738d03a3": {
      "model_module": "@jupyter-widgets/base",
      "model_module_version": "1.2.0",
      "model_name": "LayoutModel",
      "state": {}
     },
     "1c3051b1cb9a43cca72494ac512e2e01": {
      "model_module": "@jupyter-widgets/controls",
      "model_module_version": "1.5.0",
      "model_name": "RadioButtonsModel",
      "state": {
       "index": null,
       "layout": "IPY_MODEL_101a38cc119f4d29a546083f0f054ba0",
       "style": "IPY_MODEL_d5e3d46657b041faa03d10e459c21282"
      }
     },
     "1da713450d6e4786a9037b4d36534769": {
      "model_module": "jupyter-leaflet",
      "model_module_version": "^0.14.0",
      "model_name": "LeafletTileLayerModel",
      "state": {
       "_model_module_version": "^0.14.0",
       "_view_module_version": "^0.14.0",
       "attribution": "\nImagery provided by services from the Global Imagery Browse Services (GIBS), operated by the NASA/GSFC/Earth Science Data and Information System (<a href=\"https://earthdata.nasa.gov\">ESDIS</a>) with funding provided by NASA/HQ.\n",
       "max_native_zoom": 18,
       "max_zoom": 5,
       "min_native_zoom": 0,
       "min_zoom": 1,
       "name": "NASAGIBS.BlueMarble3031",
       "options": [
        "attribution",
        "detect_retina",
        "max_native_zoom",
        "max_zoom",
        "min_native_zoom",
        "min_zoom",
        "no_wrap",
        "tile_size",
        "tms"
       ],
       "url": "https://gibs.earthdata.nasa.gov/wmts/epsg3031/best/BlueMarble_NextGeneration/default/EPSG3031_500m/{z}/{y}/{x}.jpeg"
      }
     },
     "1dbbe3fa34694eb3832de2cd00ee6e1a": {
      "model_module": "@jupyter-widgets/controls",
      "model_module_version": "1.5.0",
      "model_name": "ButtonStyleModel",
      "state": {}
     },
     "1dc952c7f20a4209b63a035e60d8dcdd": {
      "model_module": "@jupyter-widgets/base",
      "model_module_version": "1.2.0",
      "model_name": "LayoutModel",
      "state": {}
     },
     "1e9440d6bd444c868bc464c964e2992e": {
      "model_module": "jupyter-leaflet",
      "model_module_version": "^0.14.0",
      "model_name": "LeafletTileLayerModel",
      "state": {
       "_model_module_version": "^0.14.0",
       "_view_module_version": "^0.14.0",
       "attribution": "Google",
       "max_native_zoom": 18,
       "min_native_zoom": 0,
       "name": "Google Satellite",
       "options": [
        "attribution",
        "detect_retina",
        "max_native_zoom",
        "max_zoom",
        "min_native_zoom",
        "min_zoom",
        "no_wrap",
        "tile_size",
        "tms"
       ],
       "url": "https://mt1.google.com/vt/lyrs=y&x={x}&y={y}&z={z}"
      }
     },
     "1ecfc4c77e2747fda83d7bbf2727252e": {
      "model_module": "@jupyter-widgets/controls",
      "model_module_version": "1.5.0",
      "model_name": "ToggleButtonsStyleModel",
      "state": {
       "button_width": "",
       "description_width": ""
      }
     },
     "1f3f6326ebfd4c98b441f7b0b66543db": {
      "model_module": "@jupyter-widgets/controls",
      "model_module_version": "1.5.0",
      "model_name": "DescriptionStyleModel",
      "state": {
       "description_width": ""
      }
     },
     "1f89cbbf8d4943f98297e5abc163cbe4": {
      "model_module": "jupyter-leaflet",
      "model_module_version": "^0.14.0",
      "model_name": "LeafletWMSLayerModel",
      "state": {
       "_model_module_version": "^0.14.0",
       "_view_module_version": "^0.14.0",
       "attribution": "MRLC",
       "crs": {
        "custom": false,
        "name": "EPSG3857"
       },
       "format": "image/png",
       "layers": "NLCD_2016_Land_Cover_L48",
       "max_native_zoom": 18,
       "min_native_zoom": 0,
       "name": "NLCD 2016 CONUS Land Cover",
       "options": [
        "attribution",
        "detect_retina",
        "format",
        "layers",
        "max_native_zoom",
        "max_zoom",
        "min_native_zoom",
        "min_zoom",
        "no_wrap",
        "styles",
        "tile_size",
        "tms",
        "transparent",
        "uppercase"
       ],
       "transparent": true,
       "url": "https://www.mrlc.gov/geoserver/mrlc_display/NLCD_2016_Land_Cover_L48/wms?"
      }
     },
     "208f68844e58423897de1f9451c99f10": {
      "model_module": "jupyter-leaflet",
      "model_module_version": "^0.14.0",
      "model_name": "LeafletWMSLayerModel",
      "state": {
       "_model_module_version": "^0.14.0",
       "_view_module_version": "^0.14.0",
       "attribution": "MRLC",
       "crs": {
        "custom": false,
        "name": "EPSG3857"
       },
       "format": "image/png",
       "layers": "NLCD_2008_Land_Cover_L48",
       "max_native_zoom": 18,
       "min_native_zoom": 0,
       "name": "NLCD 2008 CONUS Land Cover",
       "options": [
        "attribution",
        "detect_retina",
        "format",
        "layers",
        "max_native_zoom",
        "max_zoom",
        "min_native_zoom",
        "min_zoom",
        "no_wrap",
        "styles",
        "tile_size",
        "tms",
        "transparent",
        "uppercase"
       ],
       "transparent": true,
       "url": "https://www.mrlc.gov/geoserver/mrlc_display/NLCD_2008_Land_Cover_L48/wms?"
      }
     },
     "212b6f4f4c814e02b799ea15ac5df3ca": {
      "model_module": "@jupyter-widgets/controls",
      "model_module_version": "1.5.0",
      "model_name": "ToggleButtonModel",
      "state": {
       "button_style": "primary",
       "icon": "hand-o-up",
       "layout": "IPY_MODEL_3e37c9e07aa14e9cb50c753ac0b43969",
       "style": "IPY_MODEL_8aadb538f66a49ccb68e533489d411ca",
       "tooltip": "Collect training samples"
      }
     },
     "218e9efd8cf444a998b94b5ada2f3d59": {
      "model_module": "@jupyter-widgets/base",
      "model_module_version": "1.2.0",
      "model_name": "LayoutModel",
      "state": {
       "height": "auto",
       "padding": "0px 0px 0px 4px",
       "width": "auto"
      }
     },
     "21b1ecea4066482c9fcd7e0451026912": {
      "model_module": "jupyter-leaflet",
      "model_module_version": "^0.14.0",
      "model_name": "LeafletTileLayerModel",
      "state": {
       "_model_module_version": "^0.14.0",
       "_view_module_version": "^0.14.0",
       "attribution": "Tiles &copy; Esri &mdash; Copyright: &copy;2012 DeLorme",
       "max_native_zoom": 18,
       "max_zoom": 11,
       "min_native_zoom": 0,
       "min_zoom": 1,
       "name": "Esri.DeLorme",
       "options": [
        "attribution",
        "detect_retina",
        "max_native_zoom",
        "max_zoom",
        "min_native_zoom",
        "min_zoom",
        "no_wrap",
        "tile_size",
        "tms"
       ],
       "url": "http://server.arcgisonline.com/ArcGIS/rest/services/Specialty/DeLorme_World_Base_Map/MapServer/tile/{z}/{y}/{x}"
      }
     },
     "21c8b45b3a854ecb8687597ed77edfd6": {
      "model_module": "jupyter-leaflet",
      "model_module_version": "^0.14.0",
      "model_name": "LeafletTileLayerModel",
      "state": {
       "_model_module_version": "^0.14.0",
       "_view_module_version": "^0.14.0",
       "attribution": "Google",
       "max_native_zoom": 18,
       "min_native_zoom": 0,
       "name": "Google Maps",
       "options": [
        "attribution",
        "detect_retina",
        "max_native_zoom",
        "max_zoom",
        "min_native_zoom",
        "min_zoom",
        "no_wrap",
        "tile_size",
        "tms"
       ],
       "url": "https://mt1.google.com/vt/lyrs=m&x={x}&y={y}&z={z}"
      }
     },
     "2250ec555c3745a4bf6e1ece35ed2739": {
      "model_module": "@jupyter-widgets/base",
      "model_module_version": "1.2.0",
      "model_name": "LayoutModel",
      "state": {
       "height": "auto",
       "padding": "0px 0px 0px 4px",
       "width": "auto"
      }
     },
     "22635b6b74d545329d77f733c866f8e6": {
      "model_module": "@jupyter-widgets/base",
      "model_module_version": "1.2.0",
      "model_name": "LayoutModel",
      "state": {
       "height": "28px",
       "width": "72px"
      }
     },
     "227281968d6540879fb47f8f8d40b000": {
      "model_module": "@jupyter-widgets/controls",
      "model_module_version": "1.5.0",
      "model_name": "ButtonStyleModel",
      "state": {}
     },
     "23080e2d4a2d4ccf8e005ca5e29a0a4c": {
      "model_module": "jupyter-leaflet",
      "model_module_version": "^0.14.0",
      "model_name": "LeafletTileLayerModel",
      "state": {
       "_model_module_version": "^0.14.0",
       "_view_module_version": "^0.14.0",
       "attribution": "Esri",
       "max_native_zoom": 18,
       "min_native_zoom": 0,
       "name": "Esri Standard",
       "options": [
        "attribution",
        "detect_retina",
        "max_native_zoom",
        "max_zoom",
        "min_native_zoom",
        "min_zoom",
        "no_wrap",
        "tile_size",
        "tms"
       ],
       "url": "https://server.arcgisonline.com/ArcGIS/rest/services/World_Street_Map/MapServer/tile/{z}/{y}/{x}"
      }
     },
     "243e62c085b14b32af987aee2be92cd8": {
      "model_module": "jupyter-leaflet",
      "model_module_version": "^0.14.0",
      "model_name": "LeafletTileLayerModel",
      "state": {
       "_model_module_version": "^0.14.0",
       "_view_module_version": "^0.14.0",
       "attribution": "Esri",
       "max_native_zoom": 18,
       "min_native_zoom": 0,
       "name": "Esri Satellite",
       "options": [
        "attribution",
        "detect_retina",
        "max_native_zoom",
        "max_zoom",
        "min_native_zoom",
        "min_zoom",
        "no_wrap",
        "tile_size",
        "tms"
       ],
       "url": "https://server.arcgisonline.com/ArcGIS/rest/services/World_Imagery/MapServer/tile/{z}/{y}/{x}"
      }
     },
     "253059dd7a834a0980711164070f0814": {
      "model_module": "@jupyter-widgets/base",
      "model_module_version": "1.2.0",
      "model_name": "LayoutModel",
      "state": {
       "display": "none",
       "grid_gap": "0px 0px",
       "grid_template_areas": "\n                    'pathlist filename'\n                    'dircontent dircontent'\n                    ",
       "grid_template_columns": "60% 40%",
       "grid_template_rows": "auto auto",
       "width": "500px"
      }
     },
     "26699d3e47db41cbaba2f272dfe4e9b5": {
      "model_module": "@jupyter-widgets/controls",
      "model_module_version": "1.5.0",
      "model_name": "ToggleButtonModel",
      "state": {
       "icon": "server",
       "layout": "IPY_MODEL_22635b6b74d545329d77f733c866f8e6",
       "style": "IPY_MODEL_b0d4e0df414545d8892b6d20af085ec7",
       "tooltip": "Layers"
      }
     },
     "26979c5bb6674e4ba2a1cd0911d71ba6": {
      "model_module": "jupyter-leaflet",
      "model_module_version": "^0.14.0",
      "model_name": "LeafletTileLayerModel",
      "state": {
       "_model_module_version": "^0.14.0",
       "_view_module_version": "^0.14.0",
       "attribution": "Google",
       "max_native_zoom": 18,
       "min_native_zoom": 0,
       "name": "Google Satellite",
       "options": [
        "attribution",
        "detect_retina",
        "max_native_zoom",
        "max_zoom",
        "min_native_zoom",
        "min_zoom",
        "no_wrap",
        "tile_size",
        "tms"
       ],
       "url": "https://mt1.google.com/vt/lyrs=s&x={x}&y={y}&z={z}"
      }
     },
     "277e5e4a49714520bb553002ca9df4ff": {
      "model_module": "@jupyter-widgets/controls",
      "model_module_version": "1.5.0",
      "model_name": "DescriptionStyleModel",
      "state": {
       "description_width": ""
      }
     },
     "2788846e2a074129a445b35af96edd15": {
      "model_module": "jupyter-leaflet",
      "model_module_version": "^0.14.0",
      "model_name": "LeafletTileLayerModel",
      "state": {
       "_model_module_version": "^0.14.0",
       "_view_module_version": "^0.14.0",
       "attribution": "Tiles &copy; Esri &mdash; Source: Esri, i-cubed, USDA, USGS, AEX, GeoEye, Getmapping, Aerogrid, IGN, IGP, UPR-EGP, and the GIS User Community",
       "max_native_zoom": 18,
       "max_zoom": 20,
       "min_native_zoom": 0,
       "min_zoom": 1,
       "name": "Esri.WorldImagery",
       "options": [
        "attribution",
        "detect_retina",
        "max_native_zoom",
        "max_zoom",
        "min_native_zoom",
        "min_zoom",
        "no_wrap",
        "tile_size",
        "tms"
       ],
       "url": "http://server.arcgisonline.com/ArcGIS/rest/services/World_Imagery/MapServer/tile/{z}/{y}/{x}"
      }
     },
     "27d3fbb01e8b4ff1861e60bf8400549b": {
      "model_module": "@jupyter-widgets/controls",
      "model_module_version": "1.5.0",
      "model_name": "DescriptionStyleModel",
      "state": {
       "description_width": ""
      }
     },
     "280a9be3d5d34bd6ba224a26c4007013": {
      "model_module": "jupyter-leaflet",
      "model_module_version": "^0.14.0",
      "model_name": "LeafletWidgetControlModel",
      "state": {
       "_model_module": "jupyter-leaflet",
       "_model_module_version": "^0.14.0",
       "_view_count": null,
       "_view_module": "jupyter-leaflet",
       "_view_module_version": "^0.14.0",
       "options": [
        "position",
        "transparent_bg"
       ],
       "position": "topright",
       "widget": "IPY_MODEL_452362e302be44149866fca2be87fdbb"
      }
     },
     "288d9e39159e4b8492dfce306e7a51b1": {
      "model_module": "@jupyter-widgets/controls",
      "model_module_version": "1.5.0",
      "model_name": "ToggleButtonModel",
      "state": {
       "button_style": "primary",
       "icon": "retweet",
       "layout": "IPY_MODEL_50cc7ffb34a94b59b46321080fe75451",
       "style": "IPY_MODEL_959a6861b47c4e5b89257ef5b59769df",
       "tooltip": "Convert Earth Engine JavaScript to Python"
      }
     },
     "2aad652b8be14adeb522aa8d03105118": {
      "model_module": "jupyter-leaflet",
      "model_module_version": "^0.14.0",
      "model_name": "LeafletAwesomeIconModel",
      "state": {
       "_model_module_version": "^0.14.0",
       "_view_module_version": "^0.14.0",
       "icon_color": "darkgreen",
       "marker_color": "green",
       "name": "check"
      }
     },
     "2b8ac4f6790c4417a359533576e52545": {
      "model_module": "jupyter-leaflet",
      "model_module_version": "^0.14.0",
      "model_name": "LeafletMarkerClusterModel",
      "state": {
       "_model_module_version": "^0.14.0",
       "_view_module_version": "^0.14.0",
       "disable_clustering_at_zoom": 18,
       "max_cluster_radius": 80,
       "name": "Marker Cluster",
       "options": [
        "disable_clustering_at_zoom",
        "max_cluster_radius"
       ]
      }
     },
     "2c1e2c790b07418294bdbf337ca0d793": {
      "model_module": "jupyter-leaflet",
      "model_module_version": "^0.14.0",
      "model_name": "LeafletTileLayerModel",
      "state": {
       "_model_module_version": "^0.14.0",
       "_view_module_version": "^0.14.0",
       "attribution": "\nImagery provided by services from the Global Imagery Browse Services (GIBS), operated by the NASA/GSFC/Earth Science Data and Information System (<a href=\"https://earthdata.nasa.gov\">ESDIS</a>) with funding provided by NASA/HQ.\n",
       "max_native_zoom": 18,
       "max_zoom": 5,
       "min_native_zoom": 0,
       "min_zoom": 1,
       "name": "NASAGIBS.BlueMarble3031",
       "options": [
        "attribution",
        "detect_retina",
        "max_native_zoom",
        "max_zoom",
        "min_native_zoom",
        "min_zoom",
        "no_wrap",
        "tile_size",
        "tms"
       ],
       "url": "https://gibs.earthdata.nasa.gov/wmts/epsg3031/best/BlueMarble_NextGeneration/default/EPSG3031_500m/{z}/{y}/{x}.jpeg"
      }
     },
     "2c5f8f6f66724ecf8dfb8bc9dda22160": {
      "model_module": "jupyter-leaflet",
      "model_module_version": "^0.14.0",
      "model_name": "LeafletTileLayerModel",
      "state": {
       "_model_module_version": "^0.14.0",
       "_view_module_version": "^0.14.0",
       "attribution": "Esri",
       "max_native_zoom": 18,
       "min_native_zoom": 0,
       "name": "Esri Terrain",
       "options": [
        "attribution",
        "detect_retina",
        "max_native_zoom",
        "max_zoom",
        "min_native_zoom",
        "min_zoom",
        "no_wrap",
        "tile_size",
        "tms"
       ],
       "url": "https://server.arcgisonline.com/ArcGIS/rest/services/World_Terrain_Base/MapServer/tile/{z}/{y}/{x}"
      }
     },
     "2d5a1c87f029457d96e3d44a41efaa21": {
      "model_module": "@jupyter-widgets/base",
      "model_module_version": "1.2.0",
      "model_name": "LayoutModel",
      "state": {
       "height": "auto",
       "padding": "0px 0px 0px 4px",
       "width": "auto"
      }
     },
     "2e0de7f0fe6a4257b5ddf165e68f0db5": {
      "model_module": "@jupyter-widgets/controls",
      "model_module_version": "1.5.0",
      "model_name": "ToggleButtonModel",
      "state": {
       "button_style": "primary",
       "icon": "folder-open",
       "layout": "IPY_MODEL_44d3ee70f0fc4735b65886ab5a5aace4",
       "style": "IPY_MODEL_f04616a2f8f2408da93ac6e7561e0c0c",
       "tooltip": "Open local vector/raster data"
      }
     },
     "2e544b7d51a14b4f9cc95a65e520961e": {
      "model_module": "@jupyter-widgets/controls",
      "model_module_version": "1.5.0",
      "model_name": "ToggleButtonModel",
      "state": {
       "button_style": "primary",
       "icon": "adjust",
       "layout": "IPY_MODEL_eaef2644cd784f0287a197c5fd5d79d8",
       "style": "IPY_MODEL_75b0e37835294bf9913be28f14c8375e",
       "tooltip": "Planet imagery"
      }
     },
     "2f09cb6e64ba4df98ad1339a784ab5eb": {
      "model_module": "@jupyter-widgets/base",
      "model_module_version": "1.2.0",
      "model_name": "LayoutModel",
      "state": {}
     },
     "2f3119e76f4e40c08d2319c9dda47f53": {
      "model_module": "jupyter-leaflet",
      "model_module_version": "^0.14.0",
      "model_name": "LeafletTileLayerModel",
      "state": {
       "_model_module_version": "^0.14.0",
       "_view_module_version": "^0.14.0",
       "attribution": "Esri",
       "max_native_zoom": 18,
       "min_native_zoom": 0,
       "name": "Esri Satellite",
       "options": [
        "attribution",
        "detect_retina",
        "max_native_zoom",
        "max_zoom",
        "min_native_zoom",
        "min_zoom",
        "no_wrap",
        "tile_size",
        "tms"
       ],
       "url": "https://server.arcgisonline.com/ArcGIS/rest/services/World_Imagery/MapServer/tile/{z}/{y}/{x}"
      }
     },
     "3074c015abce4353a52db8ebb96669de": {
      "model_module": "@jupyter-widgets/base",
      "model_module_version": "1.2.0",
      "model_name": "LayoutModel",
      "state": {
       "height": "auto",
       "padding": "0px 0px 0px 4px",
       "width": "auto"
      }
     },
     "30b4af19f32e4dfc82ed3bf8b08f656f": {
      "model_module": "@jupyter-widgets/controls",
      "model_module_version": "1.5.0",
      "model_name": "ToggleButtonModel",
      "state": {
       "button_style": "primary",
       "icon": "smile-o",
       "layout": "IPY_MODEL_8e0d727c38914ed4aed816b0af340e72",
       "style": "IPY_MODEL_340b8f9127af4d6391fdf16c9e0d7040",
       "tooltip": "This is a placehold"
      }
     },
     "314c6143b1314fb09668e7ea703bfecb": {
      "model_module": "@jupyter-widgets/controls",
      "model_module_version": "1.5.0",
      "model_name": "DescriptionStyleModel",
      "state": {
       "description_width": ""
      }
     },
     "31a3acef67274a2c94f7e4416b4b1af5": {
      "model_module": "@jupyter-widgets/controls",
      "model_module_version": "1.5.0",
      "model_name": "ToggleButtonsModel",
      "state": {
       "_options_labels": [
        "OK",
        "Cancel"
       ],
       "button_style": "primary",
       "icons": [],
       "index": null,
       "layout": "IPY_MODEL_1b33bad8721848809a2fd27e738d03a3",
       "style": "IPY_MODEL_541e09ce690d4ad6a90745d296c51bca",
       "tooltips": [
        "OK",
        "Cancel"
       ]
      }
     },
     "31cd9f29750a44b7bc7c215bddc8e45d": {
      "model_module": "jupyter-leaflet",
      "model_module_version": "^0.14.0",
      "model_name": "LeafletTileLayerModel",
      "state": {
       "_model_module_version": "^0.14.0",
       "_view_module_version": "^0.14.0",
       "attribution": "&copy; <a href=\"http://www.openstreetmap.org/copyright\">OpenStreetMap</a> &amp; USGS",
       "max_native_zoom": 18,
       "max_zoom": 20,
       "min_native_zoom": 0,
       "min_zoom": 1,
       "name": "MtbMap",
       "options": [
        "attribution",
        "detect_retina",
        "max_native_zoom",
        "max_zoom",
        "min_native_zoom",
        "min_zoom",
        "no_wrap",
        "tile_size",
        "tms"
       ],
       "url": "http://tile.mtbmap.cz/mtbmap_tiles/{z}/{x}/{y}.png"
      }
     },
     "321807722e0f4675ada16534fb90ecd9": {
      "model_module": "jupyter-leaflet",
      "model_module_version": "^0.14.0",
      "model_name": "LeafletTileLayerModel",
      "state": {
       "_model_module_version": "^0.14.0",
       "_view_module_version": "^0.14.0",
       "attribution": "Google",
       "max_native_zoom": 18,
       "min_native_zoom": 0,
       "name": "Google Terrain",
       "options": [
        "attribution",
        "detect_retina",
        "max_native_zoom",
        "max_zoom",
        "min_native_zoom",
        "min_zoom",
        "no_wrap",
        "tile_size",
        "tms"
       ],
       "url": "https://mt1.google.com/vt/lyrs=p&x={x}&y={y}&z={z}"
      }
     },
     "32484ef83dd84cf4a947eaa36eb07786": {
      "model_module": "jupyter-leaflet",
      "model_module_version": "^0.14.0",
      "model_name": "LeafletTileLayerModel",
      "state": {
       "_model_module_version": "^0.14.0",
       "_view_module_version": "^0.14.0",
       "attribution": "&copy; <a href=\"http://www.openstreetmap.org/copyright\">OpenStreetMap</a>",
       "max_native_zoom": 18,
       "min_native_zoom": 0,
       "min_zoom": 1,
       "name": "OpenStreetMap.BlackAndWhite",
       "options": [
        "attribution",
        "detect_retina",
        "max_native_zoom",
        "max_zoom",
        "min_native_zoom",
        "min_zoom",
        "no_wrap",
        "tile_size",
        "tms"
       ],
       "url": "http://{s}.tiles.wmflabs.org/bw-mapnik/{z}/{x}/{y}.png"
      }
     },
     "32791011b9d84297985bc0fcc2cb8ed9": {
      "model_module": "jupyter-leaflet",
      "model_module_version": "^0.14.0",
      "model_name": "LeafletTileLayerModel",
      "state": {
       "_model_module_version": "^0.14.0",
       "_view_module_version": "^0.14.0",
       "attribution": "Map tiles by <a href=\"http://stamen.com/\">Stamen Design</a>, under <a href=\"http://creativecommons.org/licenses/by/3.0\">CC BY 3.0</a>. Data by <a href=\"http://openstreetmap.org/\">OpenStreetMap</a>, under <a href=\"http://creativecommons.org/licenses/by-sa/3.0\">CC BY SA</a>.",
       "max_native_zoom": 18,
       "min_native_zoom": 0,
       "name": "Stamen.Terrain",
       "options": [
        "attribution",
        "detect_retina",
        "max_native_zoom",
        "max_zoom",
        "min_native_zoom",
        "min_zoom",
        "no_wrap",
        "tile_size",
        "tms"
       ],
       "url": "https://stamen-tiles-a.a.ssl.fastly.net/terrain/{z}/{x}/{y}.png"
      }
     },
     "328a27431525485596e1e0116fda43df": {
      "model_module": "@jupyter-widgets/base",
      "model_module_version": "1.2.0",
      "model_name": "LayoutModel",
      "state": {
       "grid_area": "pathlist",
       "width": "auto"
      }
     },
     "32a81029fee4459f9e12b068f8cde754": {
      "model_module": "@jupyter-widgets/base",
      "model_module_version": "1.2.0",
      "model_name": "LayoutModel",
      "state": {
       "grid_area": "dircontent",
       "width": "auto"
      }
     },
     "33287659a83c4af99c124f5dbfd61326": {
      "model_module": "jupyter-leaflet",
      "model_module_version": "^0.14.0",
      "model_name": "LeafletTileLayerModel",
      "state": {
       "_model_module_version": "^0.14.0",
       "_view_module_version": "^0.14.0",
       "attribution": "Google",
       "max_native_zoom": 18,
       "min_native_zoom": 0,
       "name": "Google Terrain",
       "options": [
        "attribution",
        "detect_retina",
        "max_native_zoom",
        "max_zoom",
        "min_native_zoom",
        "min_zoom",
        "no_wrap",
        "tile_size",
        "tms"
       ],
       "url": "https://mt1.google.com/vt/lyrs=p&x={x}&y={y}&z={z}"
      }
     },
     "340b8f9127af4d6391fdf16c9e0d7040": {
      "model_module": "@jupyter-widgets/controls",
      "model_module_version": "1.5.0",
      "model_name": "DescriptionStyleModel",
      "state": {
       "description_width": ""
      }
     },
     "3419231c3854472294aa4f0575d53ce6": {
      "model_module": "@jupyter-widgets/base",
      "model_module_version": "1.2.0",
      "model_name": "LayoutModel",
      "state": {}
     },
     "343ca844dcd34afdbb8af56a02281f84": {
      "model_module": "jupyter-leaflet",
      "model_module_version": "^0.14.0",
      "model_name": "LeafletTileLayerModel",
      "state": {
       "_model_module_version": "^0.14.0",
       "_view_module_version": "^0.14.0",
       "attribution": "Google",
       "max_native_zoom": 18,
       "min_native_zoom": 0,
       "name": "Google Satellite",
       "options": [
        "attribution",
        "detect_retina",
        "max_native_zoom",
        "max_zoom",
        "min_native_zoom",
        "min_zoom",
        "no_wrap",
        "tile_size",
        "tms"
       ],
       "url": "https://mt1.google.com/vt/lyrs=y&x={x}&y={y}&z={z}"
      }
     },
     "34473c9ed1cd4d2ab48e348c211fd5bc": {
      "model_module": "jupyter-leaflet",
      "model_module_version": "^0.14.0",
      "model_name": "LeafletZoomControlModel",
      "state": {
       "_model_module_version": "^0.14.0",
       "_view_module_version": "^0.14.0",
       "options": [
        "position",
        "zoom_in_text",
        "zoom_in_title",
        "zoom_out_text",
        "zoom_out_title"
       ]
      }
     },
     "34ab1f6a454249ec846bfa3d0b127751": {
      "model_module": "@jupyter-widgets/controls",
      "model_module_version": "1.5.0",
      "model_name": "DescriptionStyleModel",
      "state": {
       "description_width": ""
      }
     },
     "34eacb2fff88416296c00509f354e2f5": {
      "model_module": "jupyter-leaflet",
      "model_module_version": "^0.14.0",
      "model_name": "LeafletTileLayerModel",
      "state": {
       "_model_module_version": "^0.14.0",
       "_view_module_version": "^0.14.0",
       "attribution": "Google",
       "max_native_zoom": 18,
       "min_native_zoom": 0,
       "name": "Google Satellite",
       "options": [
        "attribution",
        "detect_retina",
        "max_native_zoom",
        "max_zoom",
        "min_native_zoom",
        "min_zoom",
        "no_wrap",
        "tile_size",
        "tms"
       ],
       "url": "https://mt1.google.com/vt/lyrs=y&x={x}&y={y}&z={z}"
      }
     },
     "3557abb9e13647d2aca1cdf4f0590149": {
      "model_module": "@jupyter-widgets/controls",
      "model_module_version": "1.5.0",
      "model_name": "ToggleButtonModel",
      "state": {
       "button_style": "primary",
       "icon": "fast-forward",
       "layout": "IPY_MODEL_81646d95d671433490a4a2f643b03a93",
       "style": "IPY_MODEL_d2e679eea8424a6d9d04cd6ad5302cc8",
       "tooltip": "Activate timeslider"
      }
     },
     "3583e07160e24fa997ddf3136d622830": {
      "model_module": "jupyter-leaflet",
      "model_module_version": "^0.14.0",
      "model_name": "LeafletWidgetControlModel",
      "state": {
       "_model_module": "jupyter-leaflet",
       "_model_module_version": "^0.14.0",
       "_view_count": null,
       "_view_module": "jupyter-leaflet",
       "_view_module_version": "^0.14.0",
       "options": [
        "position",
        "transparent_bg"
       ],
       "position": "topright",
       "widget": "IPY_MODEL_916b9315794e4d5980cef3979dda1ec2"
      }
     },
     "35bca83e5bfc4e719f18061cd51ac5e1": {
      "model_module": "@jupyter-widgets/controls",
      "model_module_version": "1.5.0",
      "model_name": "ToggleButtonModel",
      "state": {
       "icon": "globe",
       "layout": "IPY_MODEL_e7dabebed6d5438eb7e6a7f75839730d",
       "style": "IPY_MODEL_d3efe4d1c07644f7959f9ed2bc96c7d3",
       "tooltip": "Search location/data"
      }
     },
     "35c51aaa8cf44dbf863ad38798d8754c": {
      "model_module": "@jupyter-widgets/controls",
      "model_module_version": "1.5.0",
      "model_name": "GridBoxModel",
      "state": {
       "children": [
        "IPY_MODEL_5dfcb5bb65aa441393210c02661224d7",
        "IPY_MODEL_b2475decd1654745afaaee6826555b58",
        "IPY_MODEL_a22b18646cbe4b7c81ce6a37d8dfbb77"
       ],
       "layout": "IPY_MODEL_253059dd7a834a0980711164070f0814"
      }
     },
     "35dd15a9213540178c106cedb3e10498": {
      "model_module": "@jupyter-widgets/base",
      "model_module_version": "1.2.0",
      "model_name": "LayoutModel",
      "state": {}
     },
     "38974fc7e68748fe9cc4f336194330e8": {
      "model_module": "@jupyter-widgets/base",
      "model_module_version": "1.2.0",
      "model_name": "LayoutModel",
      "state": {
       "width": "340px"
      }
     },
     "3918dac4a5304c1086a6f6e652db4b59": {
      "model_module": "jupyter-leaflet",
      "model_module_version": "^0.14.0",
      "model_name": "LeafletDrawControlModel",
      "state": {
       "_model_module_version": "^0.14.0",
       "_view_module_version": "^0.14.0",
       "circle": {
        "shapeOptions": {
         "color": "#3388ff"
        }
       },
       "marker": {
        "shapeOptions": {
         "color": "#3388ff"
        }
       },
       "options": [
        "position"
       ],
       "rectangle": {
        "shapeOptions": {
         "color": "#3388ff"
        }
       }
      }
     },
     "39c91a9f7e0247a4af4873a90035d28e": {
      "model_module": "@jupyter-widgets/base",
      "model_module_version": "1.2.0",
      "model_name": "LayoutModel",
      "state": {
       "height": "auto",
       "padding": "0px 0px 0px 4px",
       "width": "auto"
      }
     },
     "3a0cd1826da64050b9cfd774246fde70": {
      "model_module": "@jupyter-widgets/controls",
      "model_module_version": "1.5.0",
      "model_name": "VBoxModel",
      "state": {
       "_view_count": 1,
       "children": [
        "IPY_MODEL_7eced15af30d499e839a73ee04b036d4"
       ],
       "layout": "IPY_MODEL_8eebf8553c8b4452af00ea7d702f1003"
      }
     },
     "3a5e5c0b6ed14ed78d8d840d6b50694a": {
      "model_module": "@jupyter-widgets/base",
      "model_module_version": "1.2.0",
      "model_name": "LayoutModel",
      "state": {
       "height": "auto",
       "padding": "0px 0px 0px 4px",
       "width": "auto"
      }
     },
     "3a7ae2ed9dcc40ce90f014a903028791": {
      "model_module": "@jupyter-widgets/base",
      "model_module_version": "1.2.0",
      "model_name": "LayoutModel",
      "state": {
       "grid_area": "dircontent",
       "width": "auto"
      }
     },
     "3af3b627eb6c4d9a9e51c02921e32491": {
      "model_module": "@jupyter-widgets/controls",
      "model_module_version": "1.5.0",
      "model_name": "HBoxModel",
      "state": {
       "children": [
        "IPY_MODEL_26699d3e47db41cbaba2f272dfe4e9b5",
        "IPY_MODEL_7eced15af30d499e839a73ee04b036d4"
       ],
       "layout": "IPY_MODEL_f844b4115a604c4bb82fa57f4c960ee1"
      }
     },
     "3b48163ec4a2405f908d8521690c000f": {
      "model_module": "@jupyter-widgets/controls",
      "model_module_version": "1.5.0",
      "model_name": "ToggleButtonsModel",
      "state": {
       "_options_labels": [
        "name/address",
        "lat-lon",
        "data"
       ],
       "button_style": "",
       "icons": [],
       "index": 0,
       "layout": "IPY_MODEL_2f09cb6e64ba4df98ad1339a784ab5eb",
       "style": "IPY_MODEL_c6253c629cc04f34804fffbb5514a643",
       "tooltips": [
        "Search by place name or address",
        "Search by lat-lon coordinates",
        "Search Earth Engine data catalog"
       ]
      }
     },
     "3b690308a01743ff97fc5fc9868d0112": {
      "model_module": "jupyter-leaflet",
      "model_module_version": "^0.14.0",
      "model_name": "LeafletTileLayerModel",
      "state": {
       "_model_module_version": "^0.14.0",
       "_view_module_version": "^0.14.0",
       "attribution": "\nImagery provided by services from the Global Imagery Browse Services (GIBS), operated by the NASA/GSFC/Earth Science Data and Information System (<a href=\"https://earthdata.nasa.gov\">ESDIS</a>) with funding provided by NASA/HQ.\n",
       "max_native_zoom": 18,
       "max_zoom": 8,
       "min_native_zoom": 0,
       "min_zoom": 1,
       "name": "NASAGIBS.ViirsEarthAtNight2012",
       "options": [
        "attribution",
        "detect_retina",
        "max_native_zoom",
        "max_zoom",
        "min_native_zoom",
        "min_zoom",
        "no_wrap",
        "tile_size",
        "tms"
       ],
       "url": "http://gibs.earthdata.nasa.gov/wmts/epsg3857/best/VIIRS_Black_Marble/default/2012-01-01/GoogleMapsCompatible_Level8/{z}/{y}/{x}.png"
      }
     },
     "3b8c5c122052472f8c587f5a0e523d3f": {
      "model_module": "@jupyter-widgets/controls",
      "model_module_version": "1.5.0",
      "model_name": "HTMLModel",
      "state": {
       "layout": "IPY_MODEL_6f50a8988d1a482e8879f0aa94c1211a",
       "placeholder": "",
       "style": "IPY_MODEL_b81b5f6a2b1147ceb50de2077e4beefb",
       "value": "<span style=\"margin-left:10px; color:black;\">No file selected</span>"
      }
     },
     "3b9270834c214591b10fbed4e35333a5": {
      "model_module": "@jupyter-widgets/controls",
      "model_module_version": "1.5.0",
      "model_name": "ToggleButtonModel",
      "state": {
       "button_style": "primary",
       "icon": "fast-forward",
       "layout": "IPY_MODEL_7ea03e0c69fb470c80dcc3a47d42bd90",
       "style": "IPY_MODEL_ddd8ea13eab044a3a768aaefdf06cf19",
       "tooltip": "Activate timeslider"
      }
     },
     "3bdc9baa63a347ee9d9e12358718b9fb": {
      "model_module": "jupyter-leaflet",
      "model_module_version": "^0.14.0",
      "model_name": "LeafletWMSLayerModel",
      "state": {
       "_model_module_version": "^0.14.0",
       "_view_module_version": "^0.14.0",
       "attribution": "MRLC",
       "crs": {
        "custom": false,
        "name": "EPSG3857"
       },
       "format": "image/png",
       "layers": "NLCD_2001_Land_Cover_L48",
       "max_native_zoom": 18,
       "min_native_zoom": 0,
       "name": "NLCD 2001 CONUS Land Cover",
       "options": [
        "attribution",
        "detect_retina",
        "format",
        "layers",
        "max_native_zoom",
        "max_zoom",
        "min_native_zoom",
        "min_zoom",
        "no_wrap",
        "styles",
        "tile_size",
        "tms",
        "transparent",
        "uppercase"
       ],
       "transparent": true,
       "url": "https://www.mrlc.gov/geoserver/mrlc_display/NLCD_2001_Land_Cover_L48/wms?"
      }
     },
     "3c96b12c7d384655ad5cfdae11f405aa": {
      "model_module": "@jupyter-widgets/base",
      "model_module_version": "1.2.0",
      "model_name": "LayoutModel",
      "state": {
       "height": "auto",
       "padding": "0px 0px 0px 4px",
       "width": "auto"
      }
     },
     "3d65a8e55a3b43518f257a5438f3d035": {
      "model_module": "jupyter-leaflet",
      "model_module_version": "^0.14.0",
      "model_name": "LeafletWMSLayerModel",
      "state": {
       "_model_module_version": "^0.14.0",
       "_view_module_version": "^0.14.0",
       "attribution": "MRLC",
       "crs": {
        "custom": false,
        "name": "EPSG3857"
       },
       "format": "image/png",
       "layers": "NLCD_2006_Land_Cover_L48",
       "max_native_zoom": 18,
       "min_native_zoom": 0,
       "name": "NLCD 2006 CONUS Land Cover",
       "options": [
        "attribution",
        "detect_retina",
        "format",
        "layers",
        "max_native_zoom",
        "max_zoom",
        "min_native_zoom",
        "min_zoom",
        "no_wrap",
        "styles",
        "tile_size",
        "tms",
        "transparent",
        "uppercase"
       ],
       "transparent": true,
       "url": "https://www.mrlc.gov/geoserver/mrlc_display/NLCD_2006_Land_Cover_L48/wms?"
      }
     },
     "3d93cea21a9145759c61b5643651c4c7": {
      "model_module": "jupyter-leaflet",
      "model_module_version": "^0.14.0",
      "model_name": "LeafletTileLayerModel",
      "state": {
       "_model_module_version": "^0.14.0",
       "_view_module_version": "^0.14.0",
       "attribution": "\nImagery provided by services from the Global Imagery Browse Services (GIBS), operated by the NASA/GSFC/Earth Science Data and Information System (<a href=\"https://earthdata.nasa.gov\">ESDIS</a>) with funding provided by NASA/HQ.\n",
       "max_native_zoom": 18,
       "max_zoom": 9,
       "min_native_zoom": 0,
       "min_zoom": 1,
       "name": "NASAGIBS.ViirsTrueColorCR",
       "options": [
        "attribution",
        "detect_retina",
        "max_native_zoom",
        "max_zoom",
        "min_native_zoom",
        "min_zoom",
        "no_wrap",
        "tile_size",
        "tms"
       ],
       "url": "https://gibs.earthdata.nasa.gov/wmts/epsg3857/best/VIIRS_SNPP_CorrectedReflectance_TrueColor/default/2021-07-21/GoogleMapsCompatible_Level9/{z}/{y}/{x}.jpg"
      }
     },
     "3db9c12eae274c93a4daa914f32eb6ad": {
      "model_module": "@jupyter-widgets/base",
      "model_module_version": "1.2.0",
      "model_name": "LayoutModel",
      "state": {
       "border": "1px solid black"
      }
     },
     "3e37c9e07aa14e9cb50c753ac0b43969": {
      "model_module": "@jupyter-widgets/base",
      "model_module_version": "1.2.0",
      "model_name": "LayoutModel",
      "state": {
       "height": "auto",
       "padding": "0px 0px 0px 4px",
       "width": "auto"
      }
     },
     "3e636bb78bc7452a8d7b781dc523edc8": {
      "model_module": "jupyter-leaflet",
      "model_module_version": "^0.14.0",
      "model_name": "LeafletDrawControlModel",
      "state": {
       "_model_module_version": "^0.14.0",
       "_view_module_version": "^0.14.0",
       "circle": {
        "shapeOptions": {
         "color": "#3388ff"
        }
       },
       "edit": false,
       "options": [
        "position"
       ],
       "polygon": {},
       "polyline": {},
       "rectangle": {
        "shapeOptions": {
         "color": "#3388ff"
        }
       },
       "remove": false
      }
     },
     "3f03f3f6dd6c4eb8a13054ea72bce373": {
      "model_module": "jupyter-leaflet",
      "model_module_version": "^0.14.0",
      "model_name": "LeafletWMSLayerModel",
      "state": {
       "_model_module_version": "^0.14.0",
       "_view_module_version": "^0.14.0",
       "attribution": "MRLC",
       "crs": {
        "custom": false,
        "name": "EPSG3857"
       },
       "format": "image/png",
       "layers": "NLCD_2011_Land_Cover_L48",
       "max_native_zoom": 18,
       "min_native_zoom": 0,
       "name": "NLCD 2011 CONUS Land Cover",
       "options": [
        "attribution",
        "detect_retina",
        "format",
        "layers",
        "max_native_zoom",
        "max_zoom",
        "min_native_zoom",
        "min_zoom",
        "no_wrap",
        "styles",
        "tile_size",
        "tms",
        "transparent",
        "uppercase"
       ],
       "transparent": true,
       "url": "https://www.mrlc.gov/geoserver/mrlc_display/NLCD_2011_Land_Cover_L48/wms?"
      }
     },
     "3f2e8aca14c047faaff05fb9873f5542": {
      "model_module": "@jupyter-widgets/base",
      "model_module_version": "1.2.0",
      "model_name": "LayoutModel",
      "state": {
       "width": "auto"
      }
     },
     "3f8792982ca74c5892c1a0437d9b3083": {
      "model_module": "jupyter-leaflet",
      "model_module_version": "^0.14.0",
      "model_name": "LeafletWMSLayerModel",
      "state": {
       "_model_module_version": "^0.14.0",
       "_view_module_version": "^0.14.0",
       "attribution": "USGS",
       "crs": {
        "custom": false,
        "name": "EPSG3857"
       },
       "format": "image/png",
       "layers": "0",
       "max_native_zoom": 18,
       "min_native_zoom": 0,
       "name": "USGS Hydrography",
       "options": [
        "attribution",
        "detect_retina",
        "format",
        "layers",
        "max_native_zoom",
        "max_zoom",
        "min_native_zoom",
        "min_zoom",
        "no_wrap",
        "styles",
        "tile_size",
        "tms",
        "transparent",
        "uppercase"
       ],
       "transparent": true,
       "url": "https://basemap.nationalmap.gov/arcgis/services/USGSHydroCached/MapServer/WMSServer?"
      }
     },
     "4125bbd0301f4242a93a3921a27d307c": {
      "model_module": "jupyter-leaflet",
      "model_module_version": "^0.14.0",
      "model_name": "LeafletFullScreenControlModel",
      "state": {
       "_model_module_version": "^0.14.0",
       "_view_module_version": "^0.14.0",
       "options": [
        "position"
       ]
      }
     },
     "41f613d32b7a4e90890615012b41d0fe": {
      "model_module": "jupyter-leaflet",
      "model_module_version": "^0.14.0",
      "model_name": "LeafletTileLayerModel",
      "state": {
       "_model_module_version": "^0.14.0",
       "_view_module_version": "^0.14.0",
       "attribution": "\nImagery provided by services from the Global Imagery Browse Services (GIBS), operated by the NASA/GSFC/Earth Science Data and Information System (<a href=\"https://earthdata.nasa.gov\">ESDIS</a>) with funding provided by NASA/HQ.\n",
       "max_native_zoom": 18,
       "max_zoom": 9,
       "min_native_zoom": 0,
       "min_zoom": 1,
       "name": "NASAGIBS.ModisAquaTrueColorCR",
       "options": [
        "attribution",
        "detect_retina",
        "max_native_zoom",
        "max_zoom",
        "min_native_zoom",
        "min_zoom",
        "no_wrap",
        "tile_size",
        "tms"
       ],
       "url": "https://gibs.earthdata.nasa.gov/wmts/epsg3857/best/MODIS_Aqua_CorrectedReflectance_TrueColor/default/2021-07-21/GoogleMapsCompatible_Level9/{z}/{y}/{x}.jpg"
      }
     },
     "42f4e928d3e849f09b97cffc9b8aa1e1": {
      "model_module": "@jupyter-widgets/controls",
      "model_module_version": "1.5.0",
      "model_name": "SelectModel",
      "state": {
       "_options_labels": [
        "📁 ..",
        "📁 3D Objects",
        "📁 Ambiente de Impressão",
        "📁 Ambiente de Rede",
        "📁 AppData",
        "📁 Configurações Locais",
        "📁 Contacts",
        "📁 Cookies",
        "📁 Dados de Aplicativos",
        "📁 Desktop",
        "📁 Documents",
        "📁 Downloads",
        "📁 Favorites",
        "📁 IntelGraphicsProfiles",
        "📁 Links",
        "📁 Menu Iniciar",
        "📁 Meus Documentos",
        "📁 MicrosoftEdgeBackups",
        "📁 Modelos",
        "📁 Music",
        "📁 OneDrive",
        "📁 Pictures",
        "📁 PycharmProjects",
        "📁 Recent",
        "📁 Repo_test",
        "📁 Saved Games",
        "📁 Searches",
        "📁 SendTo",
        "📁 Videos",
        "📁 miniconda3",
        "📁 scikit_learn_data",
        "📁 seaborn-data",
        "Cartola_FC-Copy1.ipynb",
        "Cartola_FC.ipynb",
        "NBA_Salary_2000_2019.txt",
        "NTUSER.DAT",
        "NTUSER.DAT{417c3328-95b9-11eb-932d-c12f88aab537}.TM.blf",
        "NTUSER.DAT{417c3328-95b9-11eb-932d-c12f88aab537}.TMContainer00000000000000000001.regtrans-ms",
        "NTUSER.DAT{417c3328-95b9-11eb-932d-c12f88aab537}.TMContainer00000000000000000002.regtrans-ms",
        "SEI_BA_TI.csv",
        "Teste.ipynb",
        "Teste_2.ipynb",
        "Untitled.ipynb",
        "Untitled1.ipynb",
        "Untitled10.ipynb",
        "Untitled11.ipynb",
        "Untitled2.ipynb",
        "Untitled3.ipynb",
        "Untitled4.ipynb",
        "Untitled5.ipynb",
        "Untitled6.ipynb",
        "Untitled7.ipynb",
        "Untitled8.ipynb",
        "Untitled9.ipynb",
        "a.jpeg",
        "big_in.txt",
        "data.csv",
        "enterprise.db",
        "mercado_rodada_9.csv",
        "mushroom.csv",
        "mushroom2.csv",
        "mushroom_r.csv",
        "ntuser.dat.LOG1",
        "ntuser.dat.LOG2",
        "ntuser.ini",
        "out.csv",
        "relatorio (61).csv",
        "solucao_exemplo.ipynb",
        "solucao_knn_sklearn.ipynb",
        "solucao_manual.ipynb",
        "solucao_manual2.ipynb",
        "temp.png",
        "teste_geemap.ipynb",
        "teste_geemap2 (3).ipynb",
        "teste_geemap2.ipynb",
        "teste_geemap3.ipynb",
        "untitled.txt",
        "zoo.db"
       ],
       "index": null,
       "layout": "IPY_MODEL_32a81029fee4459f9e12b068f8cde754",
       "rows": 8,
       "style": "IPY_MODEL_6ba1d58b0e4f46e681c3e97a319d33c0"
      }
     },
     "43d8fb8da8e84708b0801066cc1c2526": {
      "model_module": "@jupyter-widgets/base",
      "model_module_version": "1.2.0",
      "model_name": "LayoutModel",
      "state": {}
     },
     "44631b9647154b81ac927d155f787988": {
      "model_module": "@jupyter-widgets/controls",
      "model_module_version": "1.5.0",
      "model_name": "ToggleButtonModel",
      "state": {
       "button_style": "primary",
       "icon": "random",
       "layout": "IPY_MODEL_3074c015abce4353a52db8ebb96669de",
       "style": "IPY_MODEL_bfea87486eb2407b94d029b77f459440",
       "tooltip": "Sankey plots"
      }
     },
     "44d3ee70f0fc4735b65886ab5a5aace4": {
      "model_module": "@jupyter-widgets/base",
      "model_module_version": "1.2.0",
      "model_name": "LayoutModel",
      "state": {
       "height": "auto",
       "padding": "0px 0px 0px 4px",
       "width": "auto"
      }
     },
     "450a2ec587434ecab9031fdf10fa4c91": {
      "model_module": "jupyter-leaflet",
      "model_module_version": "^0.14.0",
      "model_name": "LeafletTileLayerModel",
      "state": {
       "_model_module_version": "^0.14.0",
       "_view_module_version": "^0.14.0",
       "attribution": "",
       "max_native_zoom": 18,
       "max_zoom": 19,
       "min_native_zoom": 0,
       "min_zoom": 1,
       "name": "Gaode.Satellite",
       "options": [
        "attribution",
        "detect_retina",
        "max_native_zoom",
        "max_zoom",
        "min_native_zoom",
        "min_zoom",
        "no_wrap",
        "tile_size",
        "tms"
       ],
       "url": "http://webst01.is.autonavi.com/appmaptile?style=6&x={x}&y={y}&z={z}"
      }
     },
     "452362e302be44149866fca2be87fdbb": {
      "model_module": "@jupyter-widgets/controls",
      "model_module_version": "1.5.0",
      "model_name": "VBoxModel",
      "state": {
       "_view_count": 1,
       "children": [
        "IPY_MODEL_6bab684c59554d42a0152a161c3ef9e9"
       ],
       "layout": "IPY_MODEL_dbeaa53173d24dda9faac2bf884d00d2"
      }
     },
     "4582a4fe7c1544d58892aa7e253c8a53": {
      "model_module": "@jupyter-widgets/output",
      "model_module_version": "1.0.0",
      "model_name": "OutputModel",
      "state": {
       "layout": "IPY_MODEL_b75b8b821fe141359e312f4bbf0d3adc"
      }
     },
     "468f496f627c4473947e64845b29a8f8": {
      "model_module": "@jupyter-widgets/output",
      "model_module_version": "1.0.0",
      "model_name": "OutputModel",
      "state": {
       "layout": "IPY_MODEL_c735f5d9a4c74a89b41704c5d1250ebd"
      }
     },
     "46ceb902341241af9e0152958c7020a5": {
      "model_module": "jupyter-leaflet",
      "model_module_version": "^0.14.0",
      "model_name": "LeafletWMSLayerModel",
      "state": {
       "_model_module_version": "^0.14.0",
       "_view_module_version": "^0.14.0",
       "attribution": "MRLC",
       "crs": {
        "custom": false,
        "name": "EPSG3857"
       },
       "format": "image/png",
       "layers": "NLCD_2013_Land_Cover_L48",
       "max_native_zoom": 18,
       "min_native_zoom": 0,
       "name": "NLCD 2013 CONUS Land Cover",
       "options": [
        "attribution",
        "detect_retina",
        "format",
        "layers",
        "max_native_zoom",
        "max_zoom",
        "min_native_zoom",
        "min_zoom",
        "no_wrap",
        "styles",
        "tile_size",
        "tms",
        "transparent",
        "uppercase"
       ],
       "transparent": true,
       "url": "https://www.mrlc.gov/geoserver/mrlc_display/NLCD_2013_Land_Cover_L48/wms?"
      }
     },
     "471064be5c9f4211acf8962068bd98a6": {
      "model_module": "jupyter-leaflet",
      "model_module_version": "^0.14.0",
      "model_name": "LeafletWMSLayerModel",
      "state": {
       "_model_module_version": "^0.14.0",
       "_view_module_version": "^0.14.0",
       "attribution": "MRLC",
       "crs": {
        "custom": false,
        "name": "EPSG3857"
       },
       "format": "image/png",
       "layers": "NLCD_2013_Land_Cover_L48",
       "max_native_zoom": 18,
       "min_native_zoom": 0,
       "name": "NLCD 2013 CONUS Land Cover",
       "options": [
        "attribution",
        "detect_retina",
        "format",
        "layers",
        "max_native_zoom",
        "max_zoom",
        "min_native_zoom",
        "min_zoom",
        "no_wrap",
        "styles",
        "tile_size",
        "tms",
        "transparent",
        "uppercase"
       ],
       "transparent": true,
       "url": "https://www.mrlc.gov/geoserver/mrlc_display/NLCD_2013_Land_Cover_L48/wms?"
      }
     },
     "472fcd3c176c4d719f0d16a1e45ebb4e": {
      "model_module": "jupyter-leaflet",
      "model_module_version": "^0.14.0",
      "model_name": "LeafletTileLayerModel",
      "state": {
       "_model_module_version": "^0.14.0",
       "_view_module_version": "^0.14.0",
       "attribution": "\nImagery provided by services from the Global Imagery Browse Services (GIBS), operated by the NASA/GSFC/Earth Science Data and Information System (<a href=\"https://earthdata.nasa.gov\">ESDIS</a>) with funding provided by NASA/HQ.\n",
       "max_native_zoom": 18,
       "max_zoom": 9,
       "min_native_zoom": 0,
       "min_zoom": 1,
       "name": "NASAGIBS.ModisTerraBands367CR",
       "options": [
        "attribution",
        "detect_retina",
        "max_native_zoom",
        "max_zoom",
        "min_native_zoom",
        "min_zoom",
        "no_wrap",
        "tile_size",
        "tms"
       ],
       "url": "https://gibs.earthdata.nasa.gov/wmts/epsg3857/best/MODIS_Terra_CorrectedReflectance_Bands367/default/2021-07-21/GoogleMapsCompatible_Level9/{z}/{y}/{x}.jpg"
      }
     },
     "478cd67d954d49da98f05dd31ac3552c": {
      "model_module": "@jupyter-widgets/base",
      "model_module_version": "1.2.0",
      "model_name": "LayoutModel",
      "state": {
       "height": "auto",
       "padding": "0px 0px 0px 4px",
       "width": "auto"
      }
     },
     "47e49ef24ef946ba81231795aa503a15": {
      "model_module": "@jupyter-widgets/controls",
      "model_module_version": "1.5.0",
      "model_name": "VBoxModel",
      "state": {
       "children": [
        "IPY_MODEL_0ef4c92e95ef4e588f38505ae1b00978"
       ],
       "layout": "IPY_MODEL_03b6e1d443c24c57b72ad096b5dea000"
      }
     },
     "485c21df3d054abe933a62eaaf35ff96": {
      "model_module": "@jupyter-widgets/base",
      "model_module_version": "1.2.0",
      "model_name": "LayoutModel",
      "state": {
       "height": "auto",
       "padding": "0px 0px 0px 4px",
       "width": "auto"
      }
     },
     "48b59dedfa9448768c8801bad603dd21": {
      "model_module": "jupyter-leaflet",
      "model_module_version": "^0.14.0",
      "model_name": "LeafletTileLayerModel",
      "state": {
       "_model_module_version": "^0.14.0",
       "_view_module_version": "^0.14.0",
       "attribution": "Map tiles by <a href=\"https://labs.strava.com/heatmap\">Strava 2017</a>",
       "max_native_zoom": 18,
       "max_zoom": 15,
       "min_native_zoom": 0,
       "min_zoom": 1,
       "name": "Strava.Water",
       "options": [
        "attribution",
        "detect_retina",
        "max_native_zoom",
        "max_zoom",
        "min_native_zoom",
        "min_zoom",
        "no_wrap",
        "tile_size",
        "tms"
       ],
       "url": "https://heatmap-external-a.strava.com//tiles/water/blue/{z}/{x}/{y}.png?v=19"
      }
     },
     "48c34eee38814c6fb0192dcba91e5f53": {
      "model_module": "jupyter-leaflet",
      "model_module_version": "^0.14.0",
      "model_name": "LeafletTileLayerModel",
      "state": {
       "_model_module_version": "^0.14.0",
       "_view_module_version": "^0.14.0",
       "attribution": "Esri",
       "max_native_zoom": 18,
       "min_native_zoom": 0,
       "name": "Esri Topo World",
       "options": [
        "attribution",
        "detect_retina",
        "max_native_zoom",
        "max_zoom",
        "min_native_zoom",
        "min_zoom",
        "no_wrap",
        "tile_size",
        "tms"
       ],
       "url": "https://services.arcgisonline.com/ArcGIS/rest/services/World_Topo_Map/MapServer/tile/{z}/{y}/{x}"
      }
     },
     "4955ccf022a44e6fbd3eacdb006d8bbc": {
      "model_module": "jupyter-leaflet",
      "model_module_version": "^0.14.0",
      "model_name": "LeafletTileLayerModel",
      "state": {
       "_model_module_version": "^0.14.0",
       "_view_module_version": "^0.14.0",
       "attribution": "Esri",
       "max_native_zoom": 18,
       "min_native_zoom": 0,
       "name": "Esri Satellite",
       "options": [
        "attribution",
        "detect_retina",
        "max_native_zoom",
        "max_zoom",
        "min_native_zoom",
        "min_zoom",
        "no_wrap",
        "tile_size",
        "tms"
       ],
       "url": "https://server.arcgisonline.com/ArcGIS/rest/services/World_Imagery/MapServer/tile/{z}/{y}/{x}"
      }
     },
     "497327042889428abccbc029f284d65c": {
      "model_module": "jupyter-leaflet",
      "model_module_version": "^0.14.0",
      "model_name": "LeafletMapStyleModel",
      "state": {
       "_model_module_version": "^0.14.0",
       "cursor": "move"
      }
     },
     "49b02604c1c24244a4fe9aac76a7f0fa": {
      "model_module": "jupyter-leaflet",
      "model_module_version": "^0.14.0",
      "model_name": "LeafletDrawControlModel",
      "state": {
       "_model_module_version": "^0.14.0",
       "_view_module_version": "^0.14.0",
       "circle": {
        "shapeOptions": {
         "color": "#3388ff"
        }
       },
       "marker": {
        "shapeOptions": {
         "color": "#3388ff"
        }
       },
       "options": [
        "position"
       ],
       "rectangle": {
        "shapeOptions": {
         "color": "#3388ff"
        }
       }
      }
     },
     "49f9381acc3f4450a9915940bf809721": {
      "model_module": "jupyter-leaflet",
      "model_module_version": "^0.14.0",
      "model_name": "LeafletTileLayerModel",
      "state": {
       "_model_module_version": "^0.14.0",
       "_view_module_version": "^0.14.0",
       "attribution": "\nImagery provided by services from the Global Imagery Browse Services (GIBS), operated by the NASA/GSFC/Earth Science Data and Information System (<a href=\"https://earthdata.nasa.gov\">ESDIS</a>) with funding provided by NASA/HQ.\n",
       "max_native_zoom": 18,
       "max_zoom": 8,
       "min_native_zoom": 0,
       "min_zoom": 1,
       "name": "NASAGIBS.BlueMarble",
       "options": [
        "attribution",
        "detect_retina",
        "max_native_zoom",
        "max_zoom",
        "min_native_zoom",
        "min_zoom",
        "no_wrap",
        "tile_size",
        "tms"
       ],
       "url": "https://gibs.earthdata.nasa.gov/wmts/epsg3857/best/BlueMarble_NextGeneration/default/EPSG3857_500m/{z}/{y}/{x}.jpeg"
      }
     },
     "4aff593455f34dfe874a8e1a646f4869": {
      "model_module": "@jupyter-widgets/base",
      "model_module_version": "1.2.0",
      "model_name": "LayoutModel",
      "state": {}
     },
     "4bd2ba59e39343188218db5ad620133a": {
      "model_module": "@jupyter-widgets/controls",
      "model_module_version": "1.5.0",
      "model_name": "DescriptionStyleModel",
      "state": {
       "description_width": ""
      }
     },
     "4e520dc030d344ccb2eb20d22cd8b2d1": {
      "model_module": "@jupyter-widgets/base",
      "model_module_version": "1.2.0",
      "model_name": "LayoutModel",
      "state": {
       "display": "none"
      }
     },
     "4e55619a047d4f25a8df1ff6becb0925": {
      "model_module": "@jupyter-widgets/base",
      "model_module_version": "1.2.0",
      "model_name": "LayoutModel",
      "state": {}
     },
     "4ebe5151fad1405c9b9636faf8df60ff": {
      "model_module": "jupyter-leaflet",
      "model_module_version": "^0.14.0",
      "model_name": "LeafletScaleControlModel",
      "state": {
       "_model_module_version": "^0.14.0",
       "_view_module_version": "^0.14.0",
       "imperial": true,
       "max_width": 100,
       "metric": true,
       "options": [
        "imperial",
        "max_width",
        "metric",
        "position",
        "update_when_idle"
       ],
       "position": "bottomleft",
       "update_when_idle": false
      }
     },
     "4ecf66e1d1de41969efc747d49774868": {
      "model_module": "@jupyter-widgets/controls",
      "model_module_version": "1.5.0",
      "model_name": "DescriptionStyleModel",
      "state": {
       "description_width": ""
      }
     },
     "4f39175319114c14b6914c5fe3ef1da5": {
      "model_module": "jupyter-leaflet",
      "model_module_version": "^0.14.0",
      "model_name": "LeafletWMSLayerModel",
      "state": {
       "_model_module_version": "^0.14.0",
       "_view_module_version": "^0.14.0",
       "attribution": "USGS",
       "crs": {
        "custom": false,
        "name": "EPSG3857"
       },
       "format": "image/png",
       "layers": "0",
       "max_native_zoom": 18,
       "min_native_zoom": 0,
       "name": "USGS NAIP Imagery",
       "options": [
        "attribution",
        "detect_retina",
        "format",
        "layers",
        "max_native_zoom",
        "max_zoom",
        "min_native_zoom",
        "min_zoom",
        "no_wrap",
        "styles",
        "tile_size",
        "tms",
        "transparent",
        "uppercase"
       ],
       "transparent": true,
       "url": "https://services.nationalmap.gov/arcgis/services/USGSNAIPImagery/ImageServer/WMSServer?"
      }
     },
     "50cc7ffb34a94b59b46321080fe75451": {
      "model_module": "@jupyter-widgets/base",
      "model_module_version": "1.2.0",
      "model_name": "LayoutModel",
      "state": {
       "height": "auto",
       "padding": "0px 0px 0px 4px",
       "width": "auto"
      }
     },
     "5184432316024197bd483c59b617a46e": {
      "model_module": "@jupyter-widgets/controls",
      "model_module_version": "1.5.0",
      "model_name": "ToggleButtonsModel",
      "state": {
       "_options_labels": [
        "OK",
        "Cancel"
       ],
       "button_style": "primary",
       "icons": [],
       "index": null,
       "layout": "IPY_MODEL_4e55619a047d4f25a8df1ff6becb0925",
       "style": "IPY_MODEL_dcb4b0a03247421c909925ad7e5db575",
       "tooltips": [
        "OK",
        "Cancel"
       ]
      }
     },
     "541e09ce690d4ad6a90745d296c51bca": {
      "model_module": "@jupyter-widgets/controls",
      "model_module_version": "1.5.0",
      "model_name": "ToggleButtonsStyleModel",
      "state": {
       "button_width": "",
       "description_width": ""
      }
     },
     "552ac2428ef845c28e7bb138abb4f0d0": {
      "model_module": "@jupyter-widgets/controls",
      "model_module_version": "1.5.0",
      "model_name": "TextModel",
      "state": {
       "layout": "IPY_MODEL_d96f18f993f246a8a69e6c7a619e7227",
       "placeholder": "output filename",
       "style": "IPY_MODEL_bce5ce339725448c845e3069dc1ea0c1",
       "value": "my_map.html"
      }
     },
     "561e4635d5184b19bd9f6f97b6ad7efe": {
      "model_module": "@jupyter-widgets/controls",
      "model_module_version": "1.5.0",
      "model_name": "DescriptionStyleModel",
      "state": {
       "description_width": ""
      }
     },
     "565dcf7653f249a892f72ca547800221": {
      "model_module": "jupyter-leaflet",
      "model_module_version": "^0.14.0",
      "model_name": "LeafletTileLayerModel",
      "state": {
       "_model_module_version": "^0.14.0",
       "_view_module_version": "^0.14.0",
       "attribution": "Tiles &copy; Esri &mdash; Esri, DeLorme, NAVTEQ, TomTom, Intermap, iPC, USGS, FAO, NPS, NRCAN, GeoBase, Kadaster NL, Ordnance Survey, Esri Japan, METI, Esri China (Hong Kong), and the GIS User Community",
       "max_native_zoom": 18,
       "max_zoom": 20,
       "min_native_zoom": 0,
       "min_zoom": 1,
       "name": "Esri.WorldTopoMap",
       "options": [
        "attribution",
        "detect_retina",
        "max_native_zoom",
        "max_zoom",
        "min_native_zoom",
        "min_zoom",
        "no_wrap",
        "tile_size",
        "tms"
       ],
       "url": "http://server.arcgisonline.com/ArcGIS/rest/services/World_Topo_Map/MapServer/tile/{z}/{y}/{x}"
      }
     },
     "56f832358adb48ad8cccb04f922359bb": {
      "model_module": "ipyevents",
      "model_module_version": "1.8.2",
      "model_name": "EventModel",
      "state": {
       "_supported_key_events": [
        "keydown",
        "keyup"
       ],
       "_supported_mouse_events": [
        "click",
        "auxclick",
        "dblclick",
        "mouseenter",
        "mouseleave",
        "mousedown",
        "mouseup",
        "mousemove",
        "wheel",
        "contextmenu",
        "dragstart",
        "drag",
        "dragend",
        "dragenter",
        "dragover",
        "dragleave",
        "drop"
       ],
       "_view_module": "@jupyter-widgets/controls",
       "_view_module_version": "1.5.0",
       "source": "IPY_MODEL_452362e302be44149866fca2be87fdbb",
       "throttle_or_debounce": "",
       "watched_events": [
        "mouseenter",
        "mouseleave"
       ],
       "xy_coordinate_system": ""
      }
     },
     "5714a4f27ae8424698fd93b5f2d71e62": {
      "model_module": "jupyter-leaflet",
      "model_module_version": "^0.14.0",
      "model_name": "LeafletTileLayerModel",
      "state": {
       "_model_module_version": "^0.14.0",
       "_view_module_version": "^0.14.0",
       "attribution": "Google",
       "max_native_zoom": 18,
       "min_native_zoom": 0,
       "name": "Google Satellite",
       "options": [
        "attribution",
        "detect_retina",
        "max_native_zoom",
        "max_zoom",
        "min_native_zoom",
        "min_zoom",
        "no_wrap",
        "tile_size",
        "tms"
       ],
       "url": "https://mt1.google.com/vt/lyrs=s&x={x}&y={y}&z={z}"
      }
     },
     "582e7769894645329db604b2270bc21d": {
      "model_module": "jupyter-leaflet",
      "model_module_version": "^0.14.0",
      "model_name": "LeafletWidgetControlModel",
      "state": {
       "_model_module": "jupyter-leaflet",
       "_model_module_version": "^0.14.0",
       "_view_count": null,
       "_view_module": "jupyter-leaflet",
       "_view_module_version": "^0.14.0",
       "options": [
        "position",
        "transparent_bg"
       ],
       "position": "topright",
       "widget": "IPY_MODEL_3a0cd1826da64050b9cfd774246fde70"
      }
     },
     "58918f21965044b09dd96bc5c5f29fd4": {
      "model_module": "@jupyter-widgets/controls",
      "model_module_version": "1.5.0",
      "model_name": "TextModel",
      "state": {
       "layout": "IPY_MODEL_38974fc7e68748fe9cc4f336194330e8",
       "placeholder": "Search by place name or address",
       "style": "IPY_MODEL_011a1bfe30714f768ee98d7355897d57"
      }
     },
     "589acdb49c604bdbbeed053eb0623eda": {
      "model_module": "@jupyter-widgets/controls",
      "model_module_version": "1.5.0",
      "model_name": "ButtonStyleModel",
      "state": {}
     },
     "58ada51ecbe44844b755ea25e417909d": {
      "model_module": "jupyter-leaflet",
      "model_module_version": "^0.14.0",
      "model_name": "LeafletWMSLayerModel",
      "state": {
       "_model_module_version": "^0.14.0",
       "_view_module_version": "^0.14.0",
       "attribution": "FWS",
       "crs": {
        "custom": false,
        "name": "EPSG3857"
       },
       "format": "image/png",
       "layers": "1",
       "max_native_zoom": 18,
       "min_native_zoom": 0,
       "name": "FWS NWI Wetlands",
       "options": [
        "attribution",
        "detect_retina",
        "format",
        "layers",
        "max_native_zoom",
        "max_zoom",
        "min_native_zoom",
        "min_zoom",
        "no_wrap",
        "styles",
        "tile_size",
        "tms",
        "transparent",
        "uppercase"
       ],
       "transparent": true,
       "url": "https://www.fws.gov/wetlands/arcgis/services/Wetlands/MapServer/WMSServer?"
      }
     },
     "58f8f699389b4e1b9a7b18d0c79fda00": {
      "model_module": "jupyter-leaflet",
      "model_module_version": "^0.14.0",
      "model_name": "LeafletTileLayerModel",
      "state": {
       "_model_module_version": "^0.14.0",
       "_view_module_version": "^0.14.0",
       "attribution": "Esri",
       "max_native_zoom": 18,
       "min_native_zoom": 0,
       "name": "Esri Shaded Relief",
       "options": [
        "attribution",
        "detect_retina",
        "max_native_zoom",
        "max_zoom",
        "min_native_zoom",
        "min_zoom",
        "no_wrap",
        "tile_size",
        "tms"
       ],
       "url": "https://services.arcgisonline.com/arcgis/rest/services/World_Shaded_Relief/MapServer/tile/{z}/{y}/{x}"
      }
     },
     "596acfdf61cc408a988549fb111e9c56": {
      "model_module": "@jupyter-widgets/controls",
      "model_module_version": "1.5.0",
      "model_name": "ButtonModel",
      "state": {
       "description": "Select",
       "layout": "IPY_MODEL_0d6fd175c1004ced8ee92b170b196b68",
       "style": "IPY_MODEL_efc5f33a5252401ca8f44eab24d0dd83"
      }
     },
     "5a04369fbe9d4db78ad6f2c3ff7aed2e": {
      "model_module": "jupyter-leaflet",
      "model_module_version": "^0.14.0",
      "model_name": "LeafletMeasureControlModel",
      "state": {
       "_model_module_version": "^0.14.0",
       "_view_module_version": "^0.14.0",
       "active_color": "orange",
       "options": [
        "active_color",
        "capture_z_index",
        "completed_color",
        "popup_options",
        "position",
        "primary_area_unit",
        "primary_length_unit",
        "secondary_area_unit",
        "secondary_length_unit"
       ],
       "position": "bottomleft",
       "primary_length_unit": "kilometers",
       "secondary_area_unit": null,
       "secondary_length_unit": null
      }
     },
     "5af830e5f9754a4b94f2e0a7eb314940": {
      "model_module": "@jupyter-widgets/base",
      "model_module_version": "1.2.0",
      "model_name": "LayoutModel",
      "state": {
       "height": "auto",
       "padding": "0px 0px 0px 4px",
       "width": "auto"
      }
     },
     "5ba693e509764788b76723f8123ff8b4": {
      "model_module": "@jupyter-widgets/controls",
      "model_module_version": "1.5.0",
      "model_name": "ToggleButtonModel",
      "state": {
       "button_style": "primary",
       "icon": "question",
       "layout": "IPY_MODEL_218e9efd8cf444a998b94b5ada2f3d59",
       "style": "IPY_MODEL_924f120cce8d4fe4adfdd8276d6713ef",
       "tooltip": "Get help"
      }
     },
     "5c1271864cbe46e585789e3b9de67d38": {
      "model_module": "@jupyter-widgets/controls",
      "model_module_version": "1.5.0",
      "model_name": "DropdownModel",
      "state": {
       "_options_labels": [
        "C:\\Users\\Guga",
        "C:\\Users",
        "C:\\",
        "D:\\"
       ],
       "index": 0,
       "layout": "IPY_MODEL_df68203d8c994fb486f50b63d82a647f",
       "style": "IPY_MODEL_956d05b99a0f4a519ff3dc6e7a5ebf3f"
      }
     },
     "5dfcb5bb65aa441393210c02661224d7": {
      "model_module": "@jupyter-widgets/controls",
      "model_module_version": "1.5.0",
      "model_name": "DropdownModel",
      "state": {
       "_options_labels": [
        "C:\\Users\\Guga",
        "C:\\Users",
        "C:\\",
        "D:\\"
       ],
       "index": 0,
       "layout": "IPY_MODEL_328a27431525485596e1e0116fda43df",
       "style": "IPY_MODEL_7245e0efb5564b1d9b2142ce9003537e"
      }
     },
     "5e51468e4a044218a0a23e4a30ba9216": {
      "model_module": "@jupyter-widgets/controls",
      "model_module_version": "1.5.0",
      "model_name": "ToggleButtonModel",
      "state": {
       "button_style": "primary",
       "icon": "eraser",
       "layout": "IPY_MODEL_78a0db99d40446fe80dc9a36876a4f34",
       "style": "IPY_MODEL_d94d9a51ea2e4232a9368672aaf85c73",
       "tooltip": "Remove all drawn features"
      }
     },
     "5e551bc0dbf14e9c8c53d2ad32027a78": {
      "model_module": "@jupyter-widgets/controls",
      "model_module_version": "1.5.0",
      "model_name": "ToggleButtonsModel",
      "state": {
       "_options_labels": [
        "name/address",
        "lat-lon",
        "data"
       ],
       "button_style": "",
       "icons": [],
       "index": 0,
       "layout": "IPY_MODEL_b15731162bfd4d98a7431c11e12f632c",
       "style": "IPY_MODEL_8d51e0ecbded43868578b2dce1fbd070",
       "tooltips": [
        "Search by place name or address",
        "Search by lat-lon coordinates",
        "Search Earth Engine data catalog"
       ]
      }
     },
     "5ea52021d1f64b87aeabef1bc3a2a9b4": {
      "model_module": "jupyter-leaflet",
      "model_module_version": "^0.14.0",
      "model_name": "LeafletTileLayerModel",
      "state": {
       "_model_module_version": "^0.14.0",
       "_view_module_version": "^0.14.0",
       "attribution": "Map tiles by <a href=\"https://labs.strava.com/heatmap\">Strava 2017</a>",
       "max_native_zoom": 18,
       "max_zoom": 15,
       "min_native_zoom": 0,
       "min_zoom": 1,
       "name": "Strava.All",
       "options": [
        "attribution",
        "detect_retina",
        "max_native_zoom",
        "max_zoom",
        "min_native_zoom",
        "min_zoom",
        "no_wrap",
        "tile_size",
        "tms"
       ],
       "url": "https://heatmap-external-a.strava.com//tiles/all/hot/{z}/{x}/{y}.png?v=19"
      }
     },
     "60160bfbc1f545f68718ca94c65ea30a": {
      "model_module": "@jupyter-widgets/base",
      "model_module_version": "1.2.0",
      "model_name": "LayoutModel",
      "state": {
       "max_width": "57px",
       "min_width": "57px"
      }
     },
     "603c39405dbc473d932333be626a6968": {
      "model_module": "jupyter-leaflet",
      "model_module_version": "^0.14.0",
      "model_name": "LeafletTileLayerModel",
      "state": {
       "_model_module_version": "^0.14.0",
       "_view_module_version": "^0.14.0",
       "attribution": "&copy; <a href=\"http://www.openstreetmap.org/copyright\">OpenStreetMap</a>",
       "max_native_zoom": 18,
       "max_zoom": 19,
       "min_native_zoom": 0,
       "min_zoom": 1,
       "name": "HikeBike.HikeBike",
       "options": [
        "attribution",
        "detect_retina",
        "max_native_zoom",
        "max_zoom",
        "min_native_zoom",
        "min_zoom",
        "no_wrap",
        "tile_size",
        "tms"
       ],
       "url": "http://{s}.tiles.wmflabs.org/hikebike/{z}/{x}/{y}.png"
      }
     },
     "60ae48522db34dd68129e7c990132208": {
      "model_module": "@jupyter-widgets/base",
      "model_module_version": "1.2.0",
      "model_name": "LayoutModel",
      "state": {}
     },
     "625c3aaa86804609ad8a2e140f7c0af5": {
      "model_module": "jupyter-leaflet",
      "model_module_version": "^0.14.0",
      "model_name": "LeafletTileLayerModel",
      "state": {
       "_model_module_version": "^0.14.0",
       "_view_module_version": "^0.14.0",
       "attribution": "\nImagery provided by services from the Global Imagery Browse Services (GIBS), operated by the NASA/GSFC/Earth Science Data and Information System (<a href=\"https://earthdata.nasa.gov\">ESDIS</a>) with funding provided by NASA/HQ.\n",
       "max_native_zoom": 18,
       "max_zoom": 9,
       "min_native_zoom": 0,
       "min_zoom": 1,
       "name": "NASAGIBS.ModisAquaBands721CR",
       "options": [
        "attribution",
        "detect_retina",
        "max_native_zoom",
        "max_zoom",
        "min_native_zoom",
        "min_zoom",
        "no_wrap",
        "tile_size",
        "tms"
       ],
       "url": "https://gibs.earthdata.nasa.gov/wmts/epsg3857/best/MODIS_Aqua_CorrectedReflectance_Bands721/default/2021-07-21/GoogleMapsCompatible_Level9/{z}/{y}/{x}.jpg"
      }
     },
     "62a0f72ce4e8447baf591d0d31161696": {
      "model_module": "@jupyter-widgets/controls",
      "model_module_version": "1.5.0",
      "model_name": "VBoxModel",
      "state": {
       "children": [
        "IPY_MODEL_9c3244c34f034c6e8dbdcf96999b502e",
        "IPY_MODEL_19c57970993e4c2fbdbab18fa31bc373"
       ],
       "layout": "IPY_MODEL_60ae48522db34dd68129e7c990132208"
      }
     },
     "646d7d12c7ce49249299f4b7479f10ac": {
      "model_module": "@jupyter-widgets/controls",
      "model_module_version": "1.5.0",
      "model_name": "ToggleButtonModel",
      "state": {
       "button_style": "primary",
       "icon": "folder-open",
       "layout": "IPY_MODEL_2d5a1c87f029457d96e3d44a41efaa21",
       "style": "IPY_MODEL_06bf965ec857430c8f7323f048028a0f",
       "tooltip": "Open local vector/raster data"
      }
     },
     "660e37c4f19840e7888b6a79282c9dc4": {
      "model_module": "@jupyter-widgets/controls",
      "model_module_version": "1.5.0",
      "model_name": "DescriptionStyleModel",
      "state": {
       "description_width": ""
      }
     },
     "674cc4ecccca458fab89733d9200b983": {
      "model_module": "@jupyter-widgets/controls",
      "model_module_version": "1.5.0",
      "model_name": "DescriptionStyleModel",
      "state": {
       "description_width": ""
      }
     },
     "67f08977a21f4c27be0b66691ff8479f": {
      "model_module": "@jupyter-widgets/controls",
      "model_module_version": "1.5.0",
      "model_name": "DescriptionStyleModel",
      "state": {
       "description_width": ""
      }
     },
     "68e97644ebb34566899efa3cb90a981b": {
      "model_module": "jupyter-leaflet",
      "model_module_version": "^0.14.0",
      "model_name": "LeafletWMSLayerModel",
      "state": {
       "_model_module_version": "^0.14.0",
       "_view_module_version": "^0.14.0",
       "attribution": "MRLC",
       "crs": {
        "custom": false,
        "name": "EPSG3857"
       },
       "format": "image/png",
       "layers": "NLCD_2016_Land_Cover_L48",
       "max_native_zoom": 18,
       "min_native_zoom": 0,
       "name": "NLCD 2016 CONUS Land Cover",
       "options": [
        "attribution",
        "detect_retina",
        "format",
        "layers",
        "max_native_zoom",
        "max_zoom",
        "min_native_zoom",
        "min_zoom",
        "no_wrap",
        "styles",
        "tile_size",
        "tms",
        "transparent",
        "uppercase"
       ],
       "transparent": true,
       "url": "https://www.mrlc.gov/geoserver/mrlc_display/NLCD_2016_Land_Cover_L48/wms?"
      }
     },
     "69866189dea041589d358388d1e04289": {
      "model_module": "jupyter-leaflet",
      "model_module_version": "^0.14.0",
      "model_name": "LeafletMapStyleModel",
      "state": {
       "_model_module_version": "^0.14.0"
      }
     },
     "6a36a74fe54842c595d74c1a381ff3ae": {
      "model_module": "@jupyter-widgets/base",
      "model_module_version": "1.2.0",
      "model_name": "LayoutModel",
      "state": {
       "height": "auto",
       "padding": "0px 0px 0px 4px",
       "width": "auto"
      }
     },
     "6ba1d58b0e4f46e681c3e97a319d33c0": {
      "model_module": "@jupyter-widgets/controls",
      "model_module_version": "1.5.0",
      "model_name": "DescriptionStyleModel",
      "state": {
       "description_width": ""
      }
     },
     "6bab684c59554d42a0152a161c3ef9e9": {
      "model_module": "@jupyter-widgets/controls",
      "model_module_version": "1.5.0",
      "model_name": "ToggleButtonModel",
      "state": {
       "icon": "wrench",
       "layout": "IPY_MODEL_1574bee730c4408f9f93a94dd88f5d0f",
       "style": "IPY_MODEL_1f3f6326ebfd4c98b441f7b0b66543db",
       "tooltip": "Toolbar"
      }
     },
     "6cb1a0d7c46244b4959e23ac4ed26ce8": {
      "model_module": "@jupyter-widgets/base",
      "model_module_version": "1.2.0",
      "model_name": "LayoutModel",
      "state": {
       "height": "600px"
      }
     },
     "6ccae8165175450b9e296b2152555d35": {
      "model_module": "@jupyter-widgets/base",
      "model_module_version": "1.2.0",
      "model_name": "LayoutModel",
      "state": {
       "height": "28px",
       "width": "72px"
      }
     },
     "6d473b1d355d4628b5968964d7d10a54": {
      "model_module": "@jupyter-widgets/base",
      "model_module_version": "1.2.0",
      "model_name": "LayoutModel",
      "state": {
       "height": "auto",
       "padding": "0px 0px 0px 4px",
       "width": "auto"
      }
     },
     "6e06d576d50949e38c70955fda1ec58d": {
      "model_module": "@jupyter-widgets/controls",
      "model_module_version": "1.5.0",
      "model_name": "ToggleButtonsModel",
      "state": {
       "_options_labels": [
        "HTML",
        "PNG",
        "JPG"
       ],
       "button_style": "",
       "icons": [],
       "index": 0,
       "layout": "IPY_MODEL_d9ed1ae655cc49a485a8f67f9aa356dc",
       "style": "IPY_MODEL_1ecfc4c77e2747fda83d7bbf2727252e",
       "tooltips": [
        "Save the map as an HTML file",
        "Take a screenshot and save as a PNG file",
        "Take a screenshot and save as a JPG file"
       ]
      }
     },
     "6e1f444d33c94a5a973379de50932e62": {
      "model_module": "jupyter-leaflet",
      "model_module_version": "^0.14.0",
      "model_name": "LeafletTileLayerModel",
      "state": {
       "_model_module_version": "^0.14.0",
       "_view_module_version": "^0.14.0",
       "attribution": "&copy; <a href=\"http://www.openstreetmap.org/copyright\">OpenStreetMap</a> &copy; <a href=\"http://cartodb.com/attributions\">CartoDB</a>",
       "max_native_zoom": 18,
       "max_zoom": 20,
       "min_native_zoom": 0,
       "min_zoom": 1,
       "name": "CartoDB.Positron",
       "options": [
        "attribution",
        "detect_retina",
        "max_native_zoom",
        "max_zoom",
        "min_native_zoom",
        "min_zoom",
        "no_wrap",
        "tile_size",
        "tms"
       ],
       "url": "http://c.basemaps.cartocdn.com/light_all/{z}/{x}/{y}.png"
      }
     },
     "6e5145192a924afa9cb93ab9d908d65c": {
      "model_module": "@jupyter-widgets/controls",
      "model_module_version": "1.5.0",
      "model_name": "ToggleButtonModel",
      "state": {
       "button_style": "primary",
       "icon": "camera",
       "layout": "IPY_MODEL_5af830e5f9754a4b94f2e0a7eb314940",
       "style": "IPY_MODEL_71f0d3678dd34214b729bb51a24c25c0",
       "tooltip": "Save map as HTML or image"
      }
     },
     "6f50a8988d1a482e8879f0aa94c1211a": {
      "model_module": "@jupyter-widgets/base",
      "model_module_version": "1.2.0",
      "model_name": "LayoutModel",
      "state": {}
     },
     "702cf9cb1a9b41b99cd76bc01c2dd5f5": {
      "model_module": "@jupyter-widgets/controls",
      "model_module_version": "1.5.0",
      "model_name": "ToggleButtonModel",
      "state": {
       "button_style": "primary",
       "icon": "google",
       "layout": "IPY_MODEL_8bd4b66aee694b8d96499e35a085a239",
       "style": "IPY_MODEL_e2d1567c08444d3fbd6f3917466aea48",
       "tooltip": "GEE Toolbox for cloud computing"
      }
     },
     "7045b4882d284fc39fe1878a813021ca": {
      "model_module": "jupyter-leaflet",
      "model_module_version": "^0.14.0",
      "model_name": "LeafletTileLayerModel",
      "state": {
       "_model_module_version": "^0.14.0",
       "_view_module_version": "^0.14.0",
       "attribution": "Tiles &copy; Esri &mdash; National Geographic, Esri, DeLorme, NAVTEQ, UNEP-WCMC, USGS, NASA, ESA, METI, NRCAN, GEBCO, NOAA, iPC",
       "max_native_zoom": 18,
       "max_zoom": 16,
       "min_native_zoom": 0,
       "min_zoom": 1,
       "name": "Esri.NatGeoWorldMap",
       "options": [
        "attribution",
        "detect_retina",
        "max_native_zoom",
        "max_zoom",
        "min_native_zoom",
        "min_zoom",
        "no_wrap",
        "tile_size",
        "tms"
       ],
       "url": "http://server.arcgisonline.com/ArcGIS/rest/services/NatGeo_World_Map/MapServer/tile/{z}/{y}/{x}"
      }
     },
     "71f0d3678dd34214b729bb51a24c25c0": {
      "model_module": "@jupyter-widgets/controls",
      "model_module_version": "1.5.0",
      "model_name": "DescriptionStyleModel",
      "state": {
       "description_width": ""
      }
     },
     "720de8ef7c9c49fa8ad84251144235fb": {
      "model_module": "jupyter-leaflet",
      "model_module_version": "^0.14.0",
      "model_name": "LeafletZoomControlModel",
      "state": {
       "_model_module_version": "^0.14.0",
       "_view_module_version": "^0.14.0",
       "options": [
        "position",
        "zoom_in_text",
        "zoom_in_title",
        "zoom_out_text",
        "zoom_out_title"
       ]
      }
     },
     "7245e0efb5564b1d9b2142ce9003537e": {
      "model_module": "@jupyter-widgets/controls",
      "model_module_version": "1.5.0",
      "model_name": "DescriptionStyleModel",
      "state": {
       "description_width": ""
      }
     },
     "72c987e4fa034ec28599c74f4608b380": {
      "model_module": "jupyter-leaflet",
      "model_module_version": "^0.14.0",
      "model_name": "LeafletTileLayerModel",
      "state": {
       "_model_module_version": "^0.14.0",
       "_view_module_version": "^0.14.0",
       "attribution": "Google",
       "max_native_zoom": 18,
       "min_native_zoom": 0,
       "name": "Google Satellite",
       "options": [
        "attribution",
        "detect_retina",
        "max_native_zoom",
        "max_zoom",
        "min_native_zoom",
        "min_zoom",
        "no_wrap",
        "tile_size",
        "tms"
       ],
       "url": "https://mt1.google.com/vt/lyrs=y&x={x}&y={y}&z={z}"
      }
     },
     "73543292e4354caa9b6a1ab0e2f12dbd": {
      "model_module": "@jupyter-widgets/base",
      "model_module_version": "1.2.0",
      "model_name": "LayoutModel",
      "state": {}
     },
     "751c46fe05fe4158836a82e462863d3a": {
      "model_module": "jupyter-leaflet",
      "model_module_version": "^0.14.0",
      "model_name": "LeafletTileLayerModel",
      "state": {
       "_model_module_version": "^0.14.0",
       "_view_module_version": "^0.14.0",
       "attribution": "Esri",
       "max_native_zoom": 18,
       "min_native_zoom": 0,
       "name": "Esri Physical Map",
       "options": [
        "attribution",
        "detect_retina",
        "max_native_zoom",
        "max_zoom",
        "min_native_zoom",
        "min_zoom",
        "no_wrap",
        "tile_size",
        "tms"
       ],
       "url": "https://services.arcgisonline.com/arcgis/rest/services/World_Physical_Map/MapServer/tile/{z}/{y}/{x}"
      }
     },
     "75552e285e60400f99ae365ac783f0f9": {
      "model_module": "jupyter-leaflet",
      "model_module_version": "^0.14.0",
      "model_name": "LeafletTileLayerModel",
      "state": {
       "_model_module_version": "^0.14.0",
       "_view_module_version": "^0.14.0",
       "attribution": "\nImagery provided by services from the Global Imagery Browse Services (GIBS), operated by the NASA/GSFC/Earth Science Data and Information System (<a href=\"https://earthdata.nasa.gov\">ESDIS</a>) with funding provided by NASA/HQ.\n",
       "max_native_zoom": 18,
       "max_zoom": 9,
       "min_native_zoom": 0,
       "min_zoom": 1,
       "name": "NASAGIBS.ModisTerraTrueColorCR",
       "options": [
        "attribution",
        "detect_retina",
        "max_native_zoom",
        "max_zoom",
        "min_native_zoom",
        "min_zoom",
        "no_wrap",
        "tile_size",
        "tms"
       ],
       "url": "https://gibs.earthdata.nasa.gov/wmts/epsg3857/best/MODIS_Terra_CorrectedReflectance_TrueColor/default/2021-07-21/GoogleMapsCompatible_Level9/{z}/{y}/{x}.jpg"
      }
     },
     "75b0e37835294bf9913be28f14c8375e": {
      "model_module": "@jupyter-widgets/controls",
      "model_module_version": "1.5.0",
      "model_name": "DescriptionStyleModel",
      "state": {
       "description_width": ""
      }
     },
     "75c3352fb904466596fb0c9466241fae": {
      "model_module": "jupyter-leaflet",
      "model_module_version": "^0.14.0",
      "model_name": "LeafletTileLayerModel",
      "state": {
       "_model_module_version": "^0.14.0",
       "_view_module_version": "^0.14.0",
       "attribution": "Esri",
       "max_native_zoom": 18,
       "min_native_zoom": 0,
       "name": "Esri Standard",
       "options": [
        "attribution",
        "detect_retina",
        "max_native_zoom",
        "max_zoom",
        "min_native_zoom",
        "min_zoom",
        "no_wrap",
        "tile_size",
        "tms"
       ],
       "url": "https://server.arcgisonline.com/ArcGIS/rest/services/World_Street_Map/MapServer/tile/{z}/{y}/{x}"
      }
     },
     "77fbfc50362b49d8b075f12d912ea8ed": {
      "model_module": "@jupyter-widgets/base",
      "model_module_version": "1.2.0",
      "model_name": "LayoutModel",
      "state": {
       "height": "auto",
       "padding": "0px 0px 0px 4px",
       "width": "auto"
      }
     },
     "7819f82bf1eb402e90ec35ee30b53ec3": {
      "model_module": "@jupyter-widgets/controls",
      "model_module_version": "1.5.0",
      "model_name": "HBoxModel",
      "state": {
       "children": [
        "IPY_MODEL_78ad8b340c974fcc865cf4be433ae38c",
        "IPY_MODEL_c3532fd9265d44049ccb362efef24146"
       ],
       "layout": "IPY_MODEL_ab9fd170c3f044c28e86acf62391ebc0"
      }
     },
     "787774ec0d3046a79d115186b8111f65": {
      "model_module": "@jupyter-widgets/controls",
      "model_module_version": "1.5.0",
      "model_name": "HBoxModel",
      "state": {
       "_view_count": 1,
       "children": [
        "IPY_MODEL_35bca83e5bfc4e719f18061cd51ac5e1"
       ],
       "layout": "IPY_MODEL_3419231c3854472294aa4f0575d53ce6"
      }
     },
     "78a0db99d40446fe80dc9a36876a4f34": {
      "model_module": "@jupyter-widgets/base",
      "model_module_version": "1.2.0",
      "model_name": "LayoutModel",
      "state": {
       "height": "auto",
       "padding": "0px 0px 0px 4px",
       "width": "auto"
      }
     },
     "78ad8b340c974fcc865cf4be433ae38c": {
      "model_module": "@jupyter-widgets/controls",
      "model_module_version": "1.5.0",
      "model_name": "ButtonModel",
      "state": {
       "button_style": "primary",
       "description": "import",
       "layout": "IPY_MODEL_c62d25dbbaf84e7ab099a894e35a5793",
       "style": "IPY_MODEL_589acdb49c604bdbbeed053eb0623eda",
       "tooltip": "Click to import the selected asset"
      }
     },
     "78dbfbbd578043068c53456bcb90c519": {
      "model_module": "jupyter-leaflet",
      "model_module_version": "^0.14.0",
      "model_name": "LeafletTileLayerModel",
      "state": {
       "_model_module_version": "^0.14.0",
       "_view_module_version": "^0.14.0",
       "attribution": "\nImagery provided by services from the Global Imagery Browse Services (GIBS), operated by the NASA/GSFC/Earth Science Data and Information System (<a href=\"https://earthdata.nasa.gov\">ESDIS</a>) with funding provided by NASA/HQ.\n",
       "max_native_zoom": 18,
       "max_zoom": 9,
       "min_native_zoom": 0,
       "min_zoom": 1,
       "name": "NASAGIBS.ModisAquaTrueColorCR",
       "options": [
        "attribution",
        "detect_retina",
        "max_native_zoom",
        "max_zoom",
        "min_native_zoom",
        "min_zoom",
        "no_wrap",
        "tile_size",
        "tms"
       ],
       "url": "https://gibs.earthdata.nasa.gov/wmts/epsg3857/best/MODIS_Aqua_CorrectedReflectance_TrueColor/default/2021-07-26/GoogleMapsCompatible_Level9/{z}/{y}/{x}.jpg"
      }
     },
     "79e5f2d91db04650aaa18eb716ea2914": {
      "model_module": "jupyter-leaflet",
      "model_module_version": "^0.14.0",
      "model_name": "LeafletWMSLayerModel",
      "state": {
       "_model_module_version": "^0.14.0",
       "_view_module_version": "^0.14.0",
       "attribution": "MRLC",
       "crs": {
        "custom": false,
        "name": "EPSG3857"
       },
       "format": "image/png",
       "layers": "NLCD_2001_Land_Cover_L48",
       "max_native_zoom": 18,
       "min_native_zoom": 0,
       "name": "NLCD 2001 CONUS Land Cover",
       "options": [
        "attribution",
        "detect_retina",
        "format",
        "layers",
        "max_native_zoom",
        "max_zoom",
        "min_native_zoom",
        "min_zoom",
        "no_wrap",
        "styles",
        "tile_size",
        "tms",
        "transparent",
        "uppercase"
       ],
       "transparent": true,
       "url": "https://www.mrlc.gov/geoserver/mrlc_display/NLCD_2001_Land_Cover_L48/wms?"
      }
     },
     "79fa84ea0d0a49799dfc1ba2a84fd1ac": {
      "model_module": "jupyter-leaflet",
      "model_module_version": "^0.14.0",
      "model_name": "LeafletTileLayerModel",
      "state": {
       "_model_module_version": "^0.14.0",
       "_view_module_version": "^0.14.0",
       "attribution": "",
       "max_native_zoom": 18,
       "max_zoom": 19,
       "min_native_zoom": 0,
       "min_zoom": 1,
       "name": "Gaode.Normal",
       "options": [
        "attribution",
        "detect_retina",
        "max_native_zoom",
        "max_zoom",
        "min_native_zoom",
        "min_zoom",
        "no_wrap",
        "tile_size",
        "tms"
       ],
       "url": "http://webrd01.is.autonavi.com/appmaptile?lang=zh_cn&size=1&scale=1&style=7&x={x}&y={y}&z={z}"
      }
     },
     "7a11979103734176af5abcd718e5a5d8": {
      "model_module": "jupyter-leaflet",
      "model_module_version": "^0.14.0",
      "model_name": "LeafletZoomControlModel",
      "state": {
       "_model_module_version": "^0.14.0",
       "_view_module_version": "^0.14.0",
       "options": [
        "position",
        "zoom_in_text",
        "zoom_in_title",
        "zoom_out_text",
        "zoom_out_title"
       ]
      }
     },
     "7abaf6abee004c93901b1ddaba9191ed": {
      "model_module": "jupyter-leaflet",
      "model_module_version": "^0.14.0",
      "model_name": "LeafletMapModel",
      "state": {
       "_model_module_version": "^0.14.0",
       "_view_module_version": "^0.14.0",
       "center": [
        -11.770570195625227,
        -45.75805664062501
       ],
       "controls": [
        "IPY_MODEL_fa8b18fcb0814ce2a3c5f075ab84d0f5",
        "IPY_MODEL_7a11979103734176af5abcd718e5a5d8",
        "IPY_MODEL_4ebe5151fad1405c9b9636faf8df60ff",
        "IPY_MODEL_4125bbd0301f4242a93a3921a27d307c",
        "IPY_MODEL_5a04369fbe9d4db78ad6f2c3ff7aed2e",
        "IPY_MODEL_3918dac4a5304c1086a6f6e652db4b59",
        "IPY_MODEL_582e7769894645329db604b2270bc21d"
       ],
       "default_style": "IPY_MODEL_0e20947d3cba4b6eaf1de4441b7e78d7",
       "dragging_style": "IPY_MODEL_d8fd4e4047db453b87df753f4cfea096",
       "east": -180,
       "fullscreen": false,
       "interpolation": "bilinear",
       "layers": [
        "IPY_MODEL_87b134d09c7041b8b51bf2e43ca35d28",
        "IPY_MODEL_a9c83f901f2b4120aa29029c3f3dbdf7"
       ],
       "layout": "IPY_MODEL_6cb1a0d7c46244b4959e23ac4ed26ce8",
       "modisdate": "yesterday",
       "north": -90,
       "options": [
        "bounce_at_zoom_limits",
        "box_zoom",
        "center",
        "close_popup_on_click",
        "double_click_zoom",
        "dragging",
        "fullscreen",
        "inertia",
        "inertia_deceleration",
        "inertia_max_speed",
        "interpolation",
        "keyboard",
        "keyboard_pan_offset",
        "keyboard_zoom_offset",
        "max_zoom",
        "min_zoom",
        "scroll_wheel_zoom",
        "tap",
        "tap_tolerance",
        "touch_zoom",
        "world_copy_jump",
        "zoom",
        "zoom_animation_threshold",
        "zoom_delta",
        "zoom_snap",
        "zoom_start"
       ],
       "scroll_wheel_zoom": true,
       "south": 90,
       "style": "IPY_MODEL_0e20947d3cba4b6eaf1de4441b7e78d7",
       "west": 180,
       "window_url": "http://localhost:8888/notebooks/teste_geemap2%20(3).ipynb",
       "zoom": 8
      }
     },
     "7b42d30971bf4040992052c6eb4e2038": {
      "model_module": "@jupyter-widgets/output",
      "model_module_version": "1.0.0",
      "model_name": "OutputModel",
      "state": {
       "layout": "IPY_MODEL_fc8d8df79ff34a38997b0553d0a82c6d"
      }
     },
     "7b59246dc1cb411ea6b5bceb4444a11e": {
      "model_module": "jupyter-leaflet",
      "model_module_version": "^0.14.0",
      "model_name": "LeafletWMSLayerModel",
      "state": {
       "_model_module_version": "^0.14.0",
       "_view_module_version": "^0.14.0",
       "attribution": "MRLC",
       "crs": {
        "custom": false,
        "name": "EPSG3857"
       },
       "format": "image/png",
       "layers": "NLCD_2006_Land_Cover_L48",
       "max_native_zoom": 18,
       "min_native_zoom": 0,
       "name": "NLCD 2006 CONUS Land Cover",
       "options": [
        "attribution",
        "detect_retina",
        "format",
        "layers",
        "max_native_zoom",
        "max_zoom",
        "min_native_zoom",
        "min_zoom",
        "no_wrap",
        "styles",
        "tile_size",
        "tms",
        "transparent",
        "uppercase"
       ],
       "transparent": true,
       "url": "https://www.mrlc.gov/geoserver/mrlc_display/NLCD_2006_Land_Cover_L48/wms?"
      }
     },
     "7bdfba6f750944a28e924995c467b559": {
      "model_module": "@jupyter-widgets/base",
      "model_module_version": "1.2.0",
      "model_name": "LayoutModel",
      "state": {
       "max_width": "279px",
       "min_width": "279px"
      }
     },
     "7d6476c3b37346669229817b6e395e2b": {
      "model_module": "@jupyter-widgets/base",
      "model_module_version": "1.2.0",
      "model_name": "LayoutModel",
      "state": {
       "width": "auto"
      }
     },
     "7e67d8aa7494438dbd460957b9de1973": {
      "model_module": "jupyter-leaflet",
      "model_module_version": "^0.14.0",
      "model_name": "LeafletTileLayerModel",
      "state": {
       "_model_module_version": "^0.14.0",
       "_view_module_version": "^0.14.0",
       "attribution": "Esri",
       "max_native_zoom": 18,
       "min_native_zoom": 0,
       "name": "Esri Ocean",
       "options": [
        "attribution",
        "detect_retina",
        "max_native_zoom",
        "max_zoom",
        "min_native_zoom",
        "min_zoom",
        "no_wrap",
        "tile_size",
        "tms"
       ],
       "url": "https://services.arcgisonline.com/ArcGIS/rest/services/Ocean/World_Ocean_Base/MapServer/tile/{z}/{y}/{x}"
      }
     },
     "7e723e9bcba14362b31f7336acc34992": {
      "model_module": "@jupyter-widgets/controls",
      "model_module_version": "1.5.0",
      "model_name": "DescriptionStyleModel",
      "state": {
       "description_width": ""
      }
     },
     "7ea03e0c69fb470c80dcc3a47d42bd90": {
      "model_module": "@jupyter-widgets/base",
      "model_module_version": "1.2.0",
      "model_name": "LayoutModel",
      "state": {
       "height": "auto",
       "padding": "0px 0px 0px 4px",
       "width": "auto"
      }
     },
     "7eced15af30d499e839a73ee04b036d4": {
      "model_module": "@jupyter-widgets/controls",
      "model_module_version": "1.5.0",
      "model_name": "ToggleButtonModel",
      "state": {
       "icon": "wrench",
       "layout": "IPY_MODEL_e1194c824b404bbcafd7be60ae95a285",
       "style": "IPY_MODEL_e0a72ce25bf14263ba34cc9542200150",
       "tooltip": "Toolbar"
      }
     },
     "7f182529248d4114b0dffbf3c9c357f4": {
      "model_module": "@jupyter-widgets/controls",
      "model_module_version": "1.5.0",
      "model_name": "HTMLModel",
      "state": {
       "layout": "IPY_MODEL_d11b8c07eec543978bab49e49c5e77fe",
       "style": "IPY_MODEL_d46efb2f0e9145a1b101c51d49bd5b84"
      }
     },
     "80f9f07659b84f48a22cc7c785ca6453": {
      "model_module": "jupyter-leaflet",
      "model_module_version": "^0.14.0",
      "model_name": "LeafletTileLayerModel",
      "state": {
       "_model_module_version": "^0.14.0",
       "_view_module_version": "^0.14.0",
       "attribution": "&copy; Openstreetmap France | &copy; <a href=\"http://www.openstreetmap.org/copyright\">OpenStreetMap</a>",
       "max_native_zoom": 18,
       "max_zoom": 20,
       "min_native_zoom": 0,
       "min_zoom": 1,
       "name": "OpenStreetMap.France",
       "options": [
        "attribution",
        "detect_retina",
        "max_native_zoom",
        "max_zoom",
        "min_native_zoom",
        "min_zoom",
        "no_wrap",
        "tile_size",
        "tms"
       ],
       "url": "http://{s}.tile.openstreetmap.fr/osmfr/{z}/{x}/{y}.png"
      }
     },
     "8145234e184444238676c94522fb8960": {
      "model_module": "jupyter-leaflet",
      "model_module_version": "^0.14.0",
      "model_name": "LeafletTileLayerModel",
      "state": {
       "_model_module_version": "^0.14.0",
       "_view_module_version": "^0.14.0",
       "attribution": "&copy; <a href=\"http://www.openstreetmap.org/copyright\">OpenStreetMap</a>",
       "max_native_zoom": 18,
       "max_zoom": 19,
       "min_native_zoom": 0,
       "min_zoom": 1,
       "name": "HikeBike.HikeBike",
       "options": [
        "attribution",
        "detect_retina",
        "max_native_zoom",
        "max_zoom",
        "min_native_zoom",
        "min_zoom",
        "no_wrap",
        "tile_size",
        "tms"
       ],
       "url": "http://{s}.tiles.wmflabs.org/hikebike/{z}/{x}/{y}.png"
      }
     },
     "81646d95d671433490a4a2f643b03a93": {
      "model_module": "@jupyter-widgets/base",
      "model_module_version": "1.2.0",
      "model_name": "LayoutModel",
      "state": {
       "height": "auto",
       "padding": "0px 0px 0px 4px",
       "width": "auto"
      }
     },
     "834c649b211849e397e59736e2aefefb": {
      "model_module": "@jupyter-widgets/base",
      "model_module_version": "1.2.0",
      "model_name": "LayoutModel",
      "state": {}
     },
     "83b159927e054177836ce25181cf8265": {
      "model_module": "jupyter-leaflet",
      "model_module_version": "^0.14.0",
      "model_name": "LeafletTileLayerModel",
      "state": {
       "_model_module_version": "^0.14.0",
       "_view_module_version": "^0.14.0",
       "attribution": "Map tiles by <a href=\"http://stamen.com/\">Stamen Design</a>, under <a href=\"http://creativecommons.org/licenses/by/3.0\">CC BY 3.0</a>. Data by <a href=\"http://openstreetmap.org/\">OpenStreetMap</a>, under <a href=\"http://creativecommons.org/licenses/by-sa/3.0\">CC BY SA</a>.",
       "max_native_zoom": 18,
       "max_zoom": 20,
       "min_native_zoom": 0,
       "name": "Stamen.Toner",
       "options": [
        "attribution",
        "detect_retina",
        "max_native_zoom",
        "max_zoom",
        "min_native_zoom",
        "min_zoom",
        "no_wrap",
        "tile_size",
        "tms"
       ],
       "url": "https://stamen-tiles-a.a.ssl.fastly.net/toner/{z}/{x}/{y}.png"
      }
     },
     "84ba4129bcd14cffaceb2bbc155bbb93": {
      "model_module": "@jupyter-widgets/controls",
      "model_module_version": "1.5.0",
      "model_name": "ToggleButtonModel",
      "state": {
       "icon": "globe",
       "layout": "IPY_MODEL_fb6ef07d9a734225a471993f3910facd",
       "style": "IPY_MODEL_8addaf2afe7e46c9b4b63aec0ed81e2f",
       "tooltip": "Search location/data"
      }
     },
     "854e7f55fce24691abe7e5eefde6bd02": {
      "model_module": "jupyter-leaflet",
      "model_module_version": "^0.14.0",
      "model_name": "LeafletTileLayerModel",
      "state": {
       "_model_module_version": "^0.14.0",
       "_view_module_version": "^0.14.0",
       "attribution": "Tiles courtesy of <a href=\"http://openstreetmap.se/\" target=\"_blank\">OpenStreetMap Sweden</a> &mdash; Map data &copy; <a href=\"http://www.openstreetmap.org/copyright\">OpenStreetMap</a>",
       "max_native_zoom": 18,
       "min_native_zoom": 0,
       "min_zoom": 1,
       "name": "Hydda.Full",
       "options": [
        "attribution",
        "detect_retina",
        "max_native_zoom",
        "max_zoom",
        "min_native_zoom",
        "min_zoom",
        "no_wrap",
        "tile_size",
        "tms"
       ],
       "url": "http://{s}.tile.openstreetmap.se/hydda/full/{z}/{x}/{y}.png"
      }
     },
     "85a687746d864cbda0374f62431997a5": {
      "model_module": "jupyter-leaflet",
      "model_module_version": "^0.14.0",
      "model_name": "LeafletWMSLayerModel",
      "state": {
       "_model_module_version": "^0.14.0",
       "_view_module_version": "^0.14.0",
       "attribution": "FWS",
       "crs": {
        "custom": false,
        "name": "EPSG3857"
       },
       "format": "image/png",
       "layers": "0",
       "max_native_zoom": 18,
       "min_native_zoom": 0,
       "name": "FWS NWI Wetlands Raster",
       "options": [
        "attribution",
        "detect_retina",
        "format",
        "layers",
        "max_native_zoom",
        "max_zoom",
        "min_native_zoom",
        "min_zoom",
        "no_wrap",
        "styles",
        "tile_size",
        "tms",
        "transparent",
        "uppercase"
       ],
       "transparent": true,
       "url": "https://www.fws.gov/wetlands/arcgis/services/Wetlands_Raster/ImageServer/WMSServer?"
      }
     },
     "86c41a48c1f44e1199fb2a29074ca7c0": {
      "model_module": "jupyter-leaflet",
      "model_module_version": "^0.14.0",
      "model_name": "LeafletMapStyleModel",
      "state": {
       "_model_module_version": "^0.14.0"
      }
     },
     "87b134d09c7041b8b51bf2e43ca35d28": {
      "model_module": "jupyter-leaflet",
      "model_module_version": "^0.14.0",
      "model_name": "LeafletTileLayerModel",
      "state": {
       "_model_module_version": "^0.14.0",
       "_view_module_version": "^0.14.0",
       "base": true,
       "max_native_zoom": 18,
       "max_zoom": 19,
       "min_native_zoom": 0,
       "min_zoom": 1,
       "options": [
        "attribution",
        "detect_retina",
        "max_native_zoom",
        "max_zoom",
        "min_native_zoom",
        "min_zoom",
        "no_wrap",
        "tile_size",
        "tms"
       ]
      }
     },
     "8849dba2d5a145469f2e8a56affeab8b": {
      "model_module": "jupyter-leaflet",
      "model_module_version": "^0.14.0",
      "model_name": "LeafletTileLayerModel",
      "state": {
       "_model_module_version": "^0.14.0",
       "_view_module_version": "^0.14.0",
       "attribution": "&copy; <a href=\"http://www.openstreetmap.org/copyright\">OpenStreetMap</a> &copy; <a href=\"http://cartodb.com/attributions\">CartoDB</a>",
       "max_native_zoom": 18,
       "max_zoom": 20,
       "min_native_zoom": 0,
       "min_zoom": 1,
       "name": "CartoDB.DarkMatter",
       "options": [
        "attribution",
        "detect_retina",
        "max_native_zoom",
        "max_zoom",
        "min_native_zoom",
        "min_zoom",
        "no_wrap",
        "tile_size",
        "tms"
       ],
       "url": "http://c.basemaps.cartocdn.com/dark_all/{z}/{x}/{y}.png"
      }
     },
     "8855b73d1dd248a7accb33b7518157a4": {
      "model_module": "jupyter-leaflet",
      "model_module_version": "^0.14.0",
      "model_name": "LeafletTileLayerModel",
      "state": {
       "_model_module_version": "^0.14.0",
       "_view_module_version": "^0.14.0",
       "attribution": "Esri",
       "max_native_zoom": 18,
       "min_native_zoom": 0,
       "name": "Esri Transportation",
       "options": [
        "attribution",
        "detect_retina",
        "max_native_zoom",
        "max_zoom",
        "min_native_zoom",
        "min_zoom",
        "no_wrap",
        "tile_size",
        "tms"
       ],
       "url": "https://server.arcgisonline.com/ArcGIS/rest/services/Reference/World_Transportation/MapServer/tile/{z}/{y}/{x}"
      }
     },
     "891b3719a5854488bf0bd9a723f53eaf": {
      "model_module": "jupyter-leaflet",
      "model_module_version": "^0.14.0",
      "model_name": "LeafletWidgetControlModel",
      "state": {
       "_model_module": "jupyter-leaflet",
       "_model_module_version": "^0.14.0",
       "_view_count": null,
       "_view_module": "jupyter-leaflet",
       "_view_module_version": "^0.14.0",
       "options": [
        "position",
        "transparent_bg"
       ],
       "position": "topright",
       "widget": "IPY_MODEL_4582a4fe7c1544d58892aa7e253c8a53"
      }
     },
     "896b0b2371554d7e89fd0e3685f93117": {
      "model_module": "@jupyter-widgets/controls",
      "model_module_version": "1.5.0",
      "model_name": "ToggleButtonModel",
      "state": {
       "button_style": "primary",
       "icon": "globe",
       "layout": "IPY_MODEL_3c96b12c7d384655ad5cfdae11f405aa",
       "style": "IPY_MODEL_314c6143b1314fb09668e7ea703bfecb",
       "tooltip": "Create timelapse"
      }
     },
     "89876d268e7641099a07aefd32c9d12c": {
      "model_module": "@jupyter-widgets/controls",
      "model_module_version": "1.5.0",
      "model_name": "ButtonModel",
      "state": {
       "description": "Cancel",
       "layout": "IPY_MODEL_cd51cd41df8748bab073ddfa178ab53f",
       "style": "IPY_MODEL_8f3e7eacbb2140ae8cf4024547babaa9"
      }
     },
     "8a9e49417e76448fa015e0873a346df6": {
      "model_module": "jupyter-leaflet",
      "model_module_version": "^0.14.0",
      "model_name": "LeafletWidgetControlModel",
      "state": {
       "_model_module": "jupyter-leaflet",
       "_model_module_version": "^0.14.0",
       "_view_count": null,
       "_view_module": "jupyter-leaflet",
       "_view_module_version": "^0.14.0",
       "options": [
        "position",
        "transparent_bg"
       ],
       "position": "topright",
       "widget": "IPY_MODEL_7b42d30971bf4040992052c6eb4e2038"
      }
     },
     "8aa994cabf5841e7a00ce8cc184254f7": {
      "model_module": "@jupyter-widgets/controls",
      "model_module_version": "1.5.0",
      "model_name": "VBoxModel",
      "state": {
       "children": [
        "IPY_MODEL_e95904e94cfd451ab41c49ba875df078"
       ],
       "layout": "IPY_MODEL_90b7b5094c2446f5a6ee2c5d21bab239"
      }
     },
     "8aadb538f66a49ccb68e533489d411ca": {
      "model_module": "@jupyter-widgets/controls",
      "model_module_version": "1.5.0",
      "model_name": "DescriptionStyleModel",
      "state": {
       "description_width": ""
      }
     },
     "8addaf2afe7e46c9b4b63aec0ed81e2f": {
      "model_module": "@jupyter-widgets/controls",
      "model_module_version": "1.5.0",
      "model_name": "DescriptionStyleModel",
      "state": {
       "description_width": ""
      }
     },
     "8b1acaab10144526a62dca39c5dd43f6": {
      "model_module": "@jupyter-widgets/base",
      "model_module_version": "1.2.0",
      "model_name": "LayoutModel",
      "state": {
       "height": "auto",
       "padding": "0px 0px 0px 4px",
       "width": "auto"
      }
     },
     "8b3bbf1a4e614ba8a1916481ed82cdc8": {
      "model_module": "@jupyter-widgets/base",
      "model_module_version": "1.2.0",
      "model_name": "LayoutModel",
      "state": {
       "height": "auto",
       "padding": "0px 0px 0px 4px",
       "width": "auto"
      }
     },
     "8b461559732b4ea99e0cdd2fa939c7bd": {
      "model_module": "@jupyter-widgets/controls",
      "model_module_version": "1.5.0",
      "model_name": "DescriptionStyleModel",
      "state": {
       "description_width": ""
      }
     },
     "8b4fb880cc904b4691bce57047be7915": {
      "model_module": "@jupyter-widgets/base",
      "model_module_version": "1.2.0",
      "model_name": "LayoutModel",
      "state": {
       "width": "340px"
      }
     },
     "8bd4b66aee694b8d96499e35a085a239": {
      "model_module": "@jupyter-widgets/base",
      "model_module_version": "1.2.0",
      "model_name": "LayoutModel",
      "state": {
       "height": "auto",
       "padding": "0px 0px 0px 4px",
       "width": "auto"
      }
     },
     "8d51e0ecbded43868578b2dce1fbd070": {
      "model_module": "@jupyter-widgets/controls",
      "model_module_version": "1.5.0",
      "model_name": "ToggleButtonsStyleModel",
      "state": {
       "button_width": "110px",
       "description_width": ""
      }
     },
     "8e0d727c38914ed4aed816b0af340e72": {
      "model_module": "@jupyter-widgets/base",
      "model_module_version": "1.2.0",
      "model_name": "LayoutModel",
      "state": {
       "height": "auto",
       "padding": "0px 0px 0px 4px",
       "width": "auto"
      }
     },
     "8e3c1723eac34e7e93768b275189c331": {
      "model_module": "jupyter-leaflet",
      "model_module_version": "^0.14.0",
      "model_name": "LeafletWidgetControlModel",
      "state": {
       "_model_module": "jupyter-leaflet",
       "_model_module_version": "^0.14.0",
       "_view_count": null,
       "_view_module": "jupyter-leaflet",
       "_view_module_version": "^0.14.0",
       "options": [
        "position",
        "transparent_bg"
       ],
       "position": "topright",
       "widget": "IPY_MODEL_175854cfd2904079824a94062e487db9"
      }
     },
     "8e45c1eec95542d58a5e11b9baf84e90": {
      "model_module": "jupyter-leaflet",
      "model_module_version": "^0.14.0",
      "model_name": "LeafletTileLayerModel",
      "state": {
       "_model_module_version": "^0.14.0",
       "_view_module_version": "^0.14.0",
       "attribution": "\nImagery provided by services from the Global Imagery Browse Services (GIBS), operated by the NASA/GSFC/Earth Science Data and Information System (<a href=\"https://earthdata.nasa.gov\">ESDIS</a>) with funding provided by NASA/HQ.\n",
       "max_native_zoom": 18,
       "max_zoom": 9,
       "min_native_zoom": 0,
       "min_zoom": 1,
       "name": "NASAGIBS.ViirsTrueColorCR",
       "options": [
        "attribution",
        "detect_retina",
        "max_native_zoom",
        "max_zoom",
        "min_native_zoom",
        "min_zoom",
        "no_wrap",
        "tile_size",
        "tms"
       ],
       "url": "https://gibs.earthdata.nasa.gov/wmts/epsg3857/best/VIIRS_SNPP_CorrectedReflectance_TrueColor/default/2021-07-26/GoogleMapsCompatible_Level9/{z}/{y}/{x}.jpg"
      }
     },
     "8e4aff412fae4fa793f2854ebd04b880": {
      "model_module": "@jupyter-widgets/base",
      "model_module_version": "1.2.0",
      "model_name": "LayoutModel",
      "state": {
       "height": "auto",
       "padding": "0px 0px 0px 4px",
       "width": "auto"
      }
     },
     "8eebf8553c8b4452af00ea7d702f1003": {
      "model_module": "@jupyter-widgets/base",
      "model_module_version": "1.2.0",
      "model_name": "LayoutModel",
      "state": {}
     },
     "8f2abffc36ab4a64bf3824007db7ffcd": {
      "model_module": "jupyter-leaflet",
      "model_module_version": "^0.14.0",
      "model_name": "LeafletTileLayerModel",
      "state": {
       "_model_module_version": "^0.14.0",
       "_view_module_version": "^0.14.0",
       "attribution": "Esri",
       "max_native_zoom": 18,
       "min_native_zoom": 0,
       "name": "Esri National Geographic",
       "options": [
        "attribution",
        "detect_retina",
        "max_native_zoom",
        "max_zoom",
        "min_native_zoom",
        "min_zoom",
        "no_wrap",
        "tile_size",
        "tms"
       ],
       "url": "http://services.arcgisonline.com/ArcGIS/rest/services/NatGeo_World_Map/MapServer/tile/{z}/{y}/{x}"
      }
     },
     "8f3e7eacbb2140ae8cf4024547babaa9": {
      "model_module": "@jupyter-widgets/controls",
      "model_module_version": "1.5.0",
      "model_name": "ButtonStyleModel",
      "state": {}
     },
     "90b7b5094c2446f5a6ee2c5d21bab239": {
      "model_module": "@jupyter-widgets/base",
      "model_module_version": "1.2.0",
      "model_name": "LayoutModel",
      "state": {}
     },
     "916b9315794e4d5980cef3979dda1ec2": {
      "model_module": "@jupyter-widgets/output",
      "model_module_version": "1.0.0",
      "model_name": "OutputModel",
      "state": {
       "layout": "IPY_MODEL_d4797054da41499fa1be13e81b8bc019"
      }
     },
     "924f120cce8d4fe4adfdd8276d6713ef": {
      "model_module": "@jupyter-widgets/controls",
      "model_module_version": "1.5.0",
      "model_name": "DescriptionStyleModel",
      "state": {
       "description_width": ""
      }
     },
     "92fe8b0f7f824d63bd69a7467d33ce16": {
      "model_module": "jupyter-leaflet",
      "model_module_version": "^0.14.0",
      "model_name": "LeafletTileLayerModel",
      "state": {
       "_model_module_version": "^0.14.0",
       "_view_module_version": "^0.14.0",
       "attribution": "Esri",
       "max_native_zoom": 18,
       "min_native_zoom": 0,
       "name": "Esri Transportation",
       "options": [
        "attribution",
        "detect_retina",
        "max_native_zoom",
        "max_zoom",
        "min_native_zoom",
        "min_zoom",
        "no_wrap",
        "tile_size",
        "tms"
       ],
       "url": "https://server.arcgisonline.com/ArcGIS/rest/services/Reference/World_Transportation/MapServer/tile/{z}/{y}/{x}"
      }
     },
     "931d8f1073c648b4a5a1439a7f051b63": {
      "model_module": "@jupyter-widgets/base",
      "model_module_version": "1.2.0",
      "model_name": "LayoutModel",
      "state": {
       "height": "auto",
       "padding": "0px 0px 0px 4px",
       "width": "auto"
      }
     },
     "93350a7b2edc43b6b7808d4d347f35c2": {
      "model_module": "jupyter-leaflet",
      "model_module_version": "^0.14.0",
      "model_name": "LeafletScaleControlModel",
      "state": {
       "_model_module_version": "^0.14.0",
       "_view_module_version": "^0.14.0",
       "imperial": true,
       "max_width": 100,
       "metric": true,
       "options": [
        "imperial",
        "max_width",
        "metric",
        "position",
        "update_when_idle"
       ],
       "position": "bottomleft",
       "update_when_idle": false
      }
     },
     "93bb42a960bf461e87f97ddf8b0b6a54": {
      "model_module": "@jupyter-widgets/base",
      "model_module_version": "1.2.0",
      "model_name": "LayoutModel",
      "state": {}
     },
     "956d05b99a0f4a519ff3dc6e7a5ebf3f": {
      "model_module": "@jupyter-widgets/controls",
      "model_module_version": "1.5.0",
      "model_name": "DescriptionStyleModel",
      "state": {
       "description_width": ""
      }
     },
     "957a35bae0774f2c86f1be698b7a7ac5": {
      "model_module": "jupyter-leaflet",
      "model_module_version": "^0.14.0",
      "model_name": "LeafletTileLayerModel",
      "state": {
       "_model_module_version": "^0.14.0",
       "_view_module_version": "^0.14.0",
       "max_native_zoom": 18,
       "max_zoom": 19,
       "min_native_zoom": 0,
       "min_zoom": 1,
       "name": "OpenStreetMap.Mapnik",
       "options": [
        "attribution",
        "detect_retina",
        "max_native_zoom",
        "max_zoom",
        "min_native_zoom",
        "min_zoom",
        "no_wrap",
        "tile_size",
        "tms"
       ]
      }
     },
     "959a6861b47c4e5b89257ef5b59769df": {
      "model_module": "@jupyter-widgets/controls",
      "model_module_version": "1.5.0",
      "model_name": "DescriptionStyleModel",
      "state": {
       "description_width": ""
      }
     },
     "95d10b68ca3248a9ba22a07269b65d03": {
      "model_module": "@jupyter-widgets/controls",
      "model_module_version": "1.5.0",
      "model_name": "DescriptionStyleModel",
      "state": {
       "description_width": ""
      }
     },
     "960df32317ff4de2a14a3239fc9bc5f0": {
      "model_module": "jupyter-leaflet",
      "model_module_version": "^0.14.0",
      "model_name": "LeafletTileLayerModel",
      "state": {
       "_model_module_version": "^0.14.0",
       "_view_module_version": "^0.14.0",
       "attribution": "Tiles &copy; Esri &mdash; Source: Esri, i-cubed, USDA, USGS, AEX, GeoEye, Getmapping, Aerogrid, IGN, IGP, UPR-EGP, and the GIS User Community",
       "max_native_zoom": 18,
       "max_zoom": 20,
       "min_native_zoom": 0,
       "min_zoom": 1,
       "name": "Esri.WorldImagery",
       "options": [
        "attribution",
        "detect_retina",
        "max_native_zoom",
        "max_zoom",
        "min_native_zoom",
        "min_zoom",
        "no_wrap",
        "tile_size",
        "tms"
       ],
       "url": "http://server.arcgisonline.com/ArcGIS/rest/services/World_Imagery/MapServer/tile/{z}/{y}/{x}"
      }
     },
     "977aad255ee24061bbadf72ca94981f8": {
      "model_module": "@jupyter-widgets/controls",
      "model_module_version": "1.5.0",
      "model_name": "VBoxModel",
      "state": {
       "children": [
        "IPY_MODEL_6e06d576d50949e38c70955fda1ec58d",
        "IPY_MODEL_e6de41a5e7e94232b6cca559540380e9"
       ],
       "layout": "IPY_MODEL_4aff593455f34dfe874a8e1a646f4869"
      }
     },
     "97971a9434f0433191078b683fdabf90": {
      "model_module": "ipyevents",
      "model_module_version": "1.8.2",
      "model_name": "EventModel",
      "state": {
       "_supported_key_events": [
        "keydown",
        "keyup"
       ],
       "_supported_mouse_events": [
        "click",
        "auxclick",
        "dblclick",
        "mouseenter",
        "mouseleave",
        "mousedown",
        "mouseup",
        "mousemove",
        "wheel",
        "contextmenu",
        "dragstart",
        "drag",
        "dragend",
        "dragenter",
        "dragover",
        "dragleave",
        "drop"
       ],
       "_view_module": "@jupyter-widgets/controls",
       "_view_module_version": "1.5.0",
       "source": "IPY_MODEL_fea189c91a96426b90a36993fb43c3c1",
       "throttle_or_debounce": "",
       "watched_events": [
        "mouseenter",
        "mouseleave"
       ],
       "xy_coordinate_system": ""
      }
     },
     "97fd496939cc44598f2570758fbb2020": {
      "model_module": "@jupyter-widgets/controls",
      "model_module_version": "1.5.0",
      "model_name": "ButtonModel",
      "state": {
       "description": "Select",
       "layout": "IPY_MODEL_3f2e8aca14c047faaff05fb9873f5542",
       "style": "IPY_MODEL_227281968d6540879fb47f8f8d40b000"
      }
     },
     "982d9580b23e4ca981f22489c65d650e": {
      "model_module": "jupyter-leaflet",
      "model_module_version": "^0.14.0",
      "model_name": "LeafletTileLayerModel",
      "state": {
       "_model_module_version": "^0.14.0",
       "_view_module_version": "^0.14.0",
       "attribution": "Tiles &copy; Esri &mdash; National Geographic, Esri, DeLorme, NAVTEQ, UNEP-WCMC, USGS, NASA, ESA, METI, NRCAN, GEBCO, NOAA, iPC",
       "max_native_zoom": 18,
       "max_zoom": 16,
       "min_native_zoom": 0,
       "min_zoom": 1,
       "name": "Esri.NatGeoWorldMap",
       "options": [
        "attribution",
        "detect_retina",
        "max_native_zoom",
        "max_zoom",
        "min_native_zoom",
        "min_zoom",
        "no_wrap",
        "tile_size",
        "tms"
       ],
       "url": "http://server.arcgisonline.com/ArcGIS/rest/services/NatGeo_World_Map/MapServer/tile/{z}/{y}/{x}"
      }
     },
     "98933d30723d436ab4613740e51902b1": {
      "model_module": "jupyter-leaflet",
      "model_module_version": "^0.14.0",
      "model_name": "LeafletTileLayerModel",
      "state": {
       "_model_module_version": "^0.14.0",
       "_view_module_version": "^0.14.0",
       "attribution": "Map data: &copy; <a href=\"http://www.openstreetmap.org/copyright\">OpenStreetMap</a>, <a href=\"http://viewfinderpanoramas.org\">SRTM</a> | Map style: &copy; <a href=\"https://opentopomap.org\">OpenTopoMap</a> (<a href=\"https://creativecommons.org/licenses/by-sa/3.0/\">CC-BY-SA</a>)",
       "max_native_zoom": 18,
       "max_zoom": 17,
       "min_native_zoom": 0,
       "min_zoom": 1,
       "name": "OpenTopoMap",
       "options": [
        "attribution",
        "detect_retina",
        "max_native_zoom",
        "max_zoom",
        "min_native_zoom",
        "min_zoom",
        "no_wrap",
        "tile_size",
        "tms"
       ],
       "url": "https://{s}.tile.opentopomap.org/{z}/{x}/{y}.png"
      }
     },
     "98be4f3edfdb4222996bb9af74621e73": {
      "model_module": "@jupyter-widgets/controls",
      "model_module_version": "1.5.0",
      "model_name": "DescriptionStyleModel",
      "state": {
       "description_width": ""
      }
     },
     "98d9aedcc09c4dabbbe9ffd0dd4b2c11": {
      "model_module": "jupyter-leaflet",
      "model_module_version": "^0.14.0",
      "model_name": "LeafletTileLayerModel",
      "state": {
       "_model_module_version": "^0.14.0",
       "_view_module_version": "^0.14.0",
       "attribution": "&copy; <a href=\"http://www.openstreetmap.org/copyright\">OpenStreetMap</a> &amp; USGS",
       "max_native_zoom": 18,
       "max_zoom": 20,
       "min_native_zoom": 0,
       "min_zoom": 1,
       "name": "MtbMap",
       "options": [
        "attribution",
        "detect_retina",
        "max_native_zoom",
        "max_zoom",
        "min_native_zoom",
        "min_zoom",
        "no_wrap",
        "tile_size",
        "tms"
       ],
       "url": "http://tile.mtbmap.cz/mtbmap_tiles/{z}/{x}/{y}.png"
      }
     },
     "99b3ddb469734ab680a7fee75d9579a6": {
      "model_module": "jupyter-leaflet",
      "model_module_version": "^0.14.0",
      "model_name": "LeafletTileLayerModel",
      "state": {
       "_model_module_version": "^0.14.0",
       "_view_module_version": "^0.14.0",
       "attribution": "Map tiles by <a href=\"https://labs.strava.com/heatmap\">Strava 2017</a>",
       "max_native_zoom": 18,
       "max_zoom": 15,
       "min_native_zoom": 0,
       "min_zoom": 1,
       "name": "Strava.Water",
       "options": [
        "attribution",
        "detect_retina",
        "max_native_zoom",
        "max_zoom",
        "min_native_zoom",
        "min_zoom",
        "no_wrap",
        "tile_size",
        "tms"
       ],
       "url": "https://heatmap-external-a.strava.com//tiles/water/blue/{z}/{x}/{y}.png?v=19"
      }
     },
     "9c068ee839a5421d8576d1e5f8411c20": {
      "model_module": "@jupyter-widgets/base",
      "model_module_version": "1.2.0",
      "model_name": "LayoutModel",
      "state": {
       "height": "600px"
      }
     },
     "9c311fcfd2e74033bb7ad94a41734a43": {
      "model_module": "jupyter-leaflet",
      "model_module_version": "^0.14.0",
      "model_name": "LeafletTileLayerModel",
      "state": {
       "_model_module_version": "^0.14.0",
       "_view_module_version": "^0.14.0",
       "attribution": "Tiles &copy; Esri &mdash; Copyright: &copy;2012 DeLorme",
       "max_native_zoom": 18,
       "max_zoom": 11,
       "min_native_zoom": 0,
       "min_zoom": 1,
       "name": "Esri.DeLorme",
       "options": [
        "attribution",
        "detect_retina",
        "max_native_zoom",
        "max_zoom",
        "min_native_zoom",
        "min_zoom",
        "no_wrap",
        "tile_size",
        "tms"
       ],
       "url": "http://server.arcgisonline.com/ArcGIS/rest/services/Specialty/DeLorme_World_Base_Map/MapServer/tile/{z}/{y}/{x}"
      }
     },
     "9c3244c34f034c6e8dbdcf96999b502e": {
      "model_module": "@jupyter-widgets/controls",
      "model_module_version": "1.5.0",
      "model_name": "ToggleButtonsModel",
      "state": {
       "_options_labels": [
        "HTML",
        "PNG",
        "JPG"
       ],
       "button_style": "",
       "icons": [],
       "index": 0,
       "layout": "IPY_MODEL_834c649b211849e397e59736e2aefefb",
       "style": "IPY_MODEL_ce97133acbda42e4b00bbf1b397b16c1",
       "tooltips": [
        "Save the map as an HTML file",
        "Take a screenshot and save as a PNG file",
        "Take a screenshot and save as a JPG file"
       ]
      }
     },
     "9c7466d5fbd84bc29c3089b9a053d6ac": {
      "model_module": "ipyevents",
      "model_module_version": "1.8.2",
      "model_name": "EventModel",
      "state": {
       "_supported_key_events": [
        "keydown",
        "keyup"
       ],
       "_supported_mouse_events": [
        "click",
        "auxclick",
        "dblclick",
        "mouseenter",
        "mouseleave",
        "mousedown",
        "mouseup",
        "mousemove",
        "wheel",
        "contextmenu",
        "dragstart",
        "drag",
        "dragend",
        "dragenter",
        "dragover",
        "dragleave",
        "drop"
       ],
       "_view_module": "@jupyter-widgets/controls",
       "_view_module_version": "1.5.0",
       "source": "IPY_MODEL_3a0cd1826da64050b9cfd774246fde70",
       "throttle_or_debounce": "",
       "watched_events": [
        "mouseenter",
        "mouseleave"
       ],
       "xy_coordinate_system": ""
      }
     },
     "9cfb5d37ed154857a00feda9f0ea528a": {
      "model_module": "jupyter-leaflet",
      "model_module_version": "^0.14.0",
      "model_name": "LeafletTileLayerModel",
      "state": {
       "_model_module_version": "^0.14.0",
       "_view_module_version": "^0.14.0",
       "attribution": "Map tiles by <a href=\"http://stamen.com/\">Stamen Design</a>, under <a href=\"http://creativecommons.org/licenses/by/3.0\">CC BY 3.0</a>. Data by <a href=\"http://openstreetmap.org/\">OpenStreetMap</a>, under <a href=\"http://creativecommons.org/licenses/by-sa/3.0\">CC BY SA</a>.",
       "max_native_zoom": 18,
       "min_native_zoom": 0,
       "min_zoom": 1,
       "name": "Stamen.Watercolor",
       "options": [
        "attribution",
        "detect_retina",
        "max_native_zoom",
        "max_zoom",
        "min_native_zoom",
        "min_zoom",
        "no_wrap",
        "tile_size",
        "tms"
       ],
       "url": "https://stamen-tiles-a.a.ssl.fastly.net/watercolor/{z}/{x}/{y}.png"
      }
     },
     "9d944e0e14804a0e9c58dd17d2057418": {
      "model_module": "@jupyter-widgets/controls",
      "model_module_version": "1.5.0",
      "model_name": "VBoxModel",
      "state": {
       "children": [
        "IPY_MODEL_3b48163ec4a2405f908d8521690c000f",
        "IPY_MODEL_58918f21965044b09dd96bc5c5f29fd4"
       ],
       "layout": "IPY_MODEL_1dc952c7f20a4209b63a035e60d8dcdd"
      }
     },
     "9d9dcb783024423ea60956bdcb32d851": {
      "model_module": "jupyter-leaflet",
      "model_module_version": "^0.14.0",
      "model_name": "LeafletAwesomeIconModel",
      "state": {
       "_model_module_version": "^0.14.0",
       "_view_module_version": "^0.14.0",
       "icon_color": "darkgreen",
       "marker_color": "green",
       "name": "check"
      }
     },
     "9e2665942a734ca8affce73c600039ea": {
      "model_module": "@jupyter-widgets/controls",
      "model_module_version": "1.5.0",
      "model_name": "ToggleButtonModel",
      "state": {
       "button_style": "primary",
       "icon": "camera",
       "layout": "IPY_MODEL_478cd67d954d49da98f05dd31ac3552c",
       "style": "IPY_MODEL_d88dc96a52c54ff593d7231cc0868f46",
       "tooltip": "Save map as HTML or image"
      }
     },
     "9f39230d50c94b7abd833e0d14acd29e": {
      "model_module": "jupyter-leaflet",
      "model_module_version": "^0.14.0",
      "model_name": "LeafletTileLayerModel",
      "state": {
       "_model_module_version": "^0.14.0",
       "_view_module_version": "^0.14.0",
       "attribution": "Esri",
       "max_native_zoom": 18,
       "min_native_zoom": 0,
       "name": "Esri Shaded Relief",
       "options": [
        "attribution",
        "detect_retina",
        "max_native_zoom",
        "max_zoom",
        "min_native_zoom",
        "min_zoom",
        "no_wrap",
        "tile_size",
        "tms"
       ],
       "url": "https://services.arcgisonline.com/arcgis/rest/services/World_Shaded_Relief/MapServer/tile/{z}/{y}/{x}"
      }
     },
     "a05fb703ba3d41848a30ce248068286f": {
      "model_module": "@jupyter-widgets/controls",
      "model_module_version": "1.5.0",
      "model_name": "DescriptionStyleModel",
      "state": {
       "description_width": ""
      }
     },
     "a14437c560364c11a9fceaefa87a2967": {
      "model_module": "@jupyter-widgets/base",
      "model_module_version": "1.2.0",
      "model_name": "LayoutModel",
      "state": {
       "width": "auto"
      }
     },
     "a22b18646cbe4b7c81ce6a37d8dfbb77": {
      "model_module": "@jupyter-widgets/controls",
      "model_module_version": "1.5.0",
      "model_name": "SelectModel",
      "state": {
       "_options_labels": [
        "📁 ..",
        "📁 3D Objects",
        "📁 Ambiente de Impressão",
        "📁 Ambiente de Rede",
        "📁 AppData",
        "📁 Configurações Locais",
        "📁 Contacts",
        "📁 Cookies",
        "📁 Dados de Aplicativos",
        "📁 Desktop",
        "📁 Documents",
        "📁 Downloads",
        "📁 Favorites",
        "📁 IntelGraphicsProfiles",
        "📁 Links",
        "📁 Menu Iniciar",
        "📁 Meus Documentos",
        "📁 MicrosoftEdgeBackups",
        "📁 Modelos",
        "📁 Music",
        "📁 OneDrive",
        "📁 Pictures",
        "📁 PycharmProjects",
        "📁 Recent",
        "📁 Repo_test",
        "📁 Saved Games",
        "📁 Searches",
        "📁 SendTo",
        "📁 Videos",
        "📁 miniconda3",
        "📁 scikit_learn_data",
        "📁 seaborn-data",
        "Cartola_FC-Copy1.ipynb",
        "Cartola_FC.ipynb",
        "NBA_Salary_2000_2019.txt",
        "NTUSER.DAT",
        "NTUSER.DAT{417c3328-95b9-11eb-932d-c12f88aab537}.TM.blf",
        "NTUSER.DAT{417c3328-95b9-11eb-932d-c12f88aab537}.TMContainer00000000000000000001.regtrans-ms",
        "NTUSER.DAT{417c3328-95b9-11eb-932d-c12f88aab537}.TMContainer00000000000000000002.regtrans-ms",
        "SEI_BA_TI.csv",
        "Teste.ipynb",
        "Teste_2.ipynb",
        "Untitled.ipynb",
        "Untitled1.ipynb",
        "Untitled10.ipynb",
        "Untitled11.ipynb",
        "Untitled2.ipynb",
        "Untitled3.ipynb",
        "Untitled4.ipynb",
        "Untitled5.ipynb",
        "Untitled6.ipynb",
        "Untitled7.ipynb",
        "Untitled8.ipynb",
        "Untitled9.ipynb",
        "a.jpeg",
        "big_in.txt",
        "data.csv",
        "enterprise.db",
        "mercado_rodada_9.csv",
        "mushroom.csv",
        "mushroom2.csv",
        "mushroom_r.csv",
        "ntuser.dat.LOG1",
        "ntuser.dat.LOG2",
        "ntuser.ini",
        "out.csv",
        "relatorio (61).csv",
        "solucao_exemplo.ipynb",
        "solucao_knn_sklearn.ipynb",
        "solucao_manual.ipynb",
        "solucao_manual2.ipynb",
        "temp.png",
        "teste_geemap.ipynb",
        "teste_geemap2 (3).ipynb",
        "teste_geemap2.ipynb",
        "teste_geemap3.ipynb",
        "untitled.txt",
        "zoo.db"
       ],
       "index": null,
       "layout": "IPY_MODEL_3a7ae2ed9dcc40ce90f014a903028791",
       "rows": 8,
       "style": "IPY_MODEL_34ab1f6a454249ec846bfa3d0b127751"
      }
     },
     "a37eadb289b846659141c3cf1498b42a": {
      "model_module": "@jupyter-widgets/controls",
      "model_module_version": "1.5.0",
      "model_name": "HBoxModel",
      "state": {
       "children": [
        "IPY_MODEL_101127a2dd6a4284ba0eb38fd6d1c68e",
        "IPY_MODEL_6bab684c59554d42a0152a161c3ef9e9"
       ],
       "layout": "IPY_MODEL_0c09ceb5a79f42468027d388c5e1e7fd"
      }
     },
     "a45fec5fa31d47f1a68edcb394789f5d": {
      "model_module": "jupyter-leaflet",
      "model_module_version": "^0.14.0",
      "model_name": "LeafletTileLayerModel",
      "state": {
       "_model_module_version": "^0.14.0",
       "_view_module_version": "^0.14.0",
       "attribution": "Map tiles by <a href=\"http://stamen.com/\">Stamen Design</a>, under <a href=\"http://creativecommons.org/licenses/by/3.0\">CC BY 3.0</a>. Data by <a href=\"http://openstreetmap.org/\">OpenStreetMap</a>, under <a href=\"http://creativecommons.org/licenses/by-sa/3.0\">CC BY SA</a>.",
       "max_native_zoom": 18,
       "min_native_zoom": 0,
       "min_zoom": 1,
       "name": "Stamen.Watercolor",
       "options": [
        "attribution",
        "detect_retina",
        "max_native_zoom",
        "max_zoom",
        "min_native_zoom",
        "min_zoom",
        "no_wrap",
        "tile_size",
        "tms"
       ],
       "url": "https://stamen-tiles-a.a.ssl.fastly.net/watercolor/{z}/{x}/{y}.png"
      }
     },
     "a59be6dabf144679a94aef700ea94e7d": {
      "model_module": "jupyter-leaflet",
      "model_module_version": "^0.14.0",
      "model_name": "LeafletTileLayerModel",
      "state": {
       "_model_module_version": "^0.14.0",
       "_view_module_version": "^0.14.0",
       "attribution": "Esri",
       "max_native_zoom": 18,
       "min_native_zoom": 0,
       "name": "Esri Topo World",
       "options": [
        "attribution",
        "detect_retina",
        "max_native_zoom",
        "max_zoom",
        "min_native_zoom",
        "min_zoom",
        "no_wrap",
        "tile_size",
        "tms"
       ],
       "url": "https://services.arcgisonline.com/ArcGIS/rest/services/World_Topo_Map/MapServer/tile/{z}/{y}/{x}"
      }
     },
     "a64093522470449b91bbf62506b11183": {
      "model_module": "@jupyter-widgets/base",
      "model_module_version": "1.2.0",
      "model_name": "LayoutModel",
      "state": {
       "grid_gap": "1px 1px",
       "grid_template_columns": "32px 32px 32px ",
       "grid_template_rows": "32px 32px 32px 32px 32px 32px ",
       "padding": "5px",
       "width": "107px"
      }
     },
     "a6af457a062946d79e2ab0228594fd64": {
      "model_module": "jupyter-leaflet",
      "model_module_version": "^0.14.0",
      "model_name": "LeafletTileLayerModel",
      "state": {
       "_model_module_version": "^0.14.0",
       "_view_module_version": "^0.14.0",
       "attribution": "Google",
       "max_native_zoom": 18,
       "min_native_zoom": 0,
       "name": "Google Satellite",
       "options": [
        "attribution",
        "detect_retina",
        "max_native_zoom",
        "max_zoom",
        "min_native_zoom",
        "min_zoom",
        "no_wrap",
        "tile_size",
        "tms"
       ],
       "url": "https://mt1.google.com/vt/lyrs=s&x={x}&y={y}&z={z}"
      }
     },
     "a6d34ff4e9fb43d39655b6476c7f4337": {
      "model_module": "@jupyter-widgets/controls",
      "model_module_version": "1.5.0",
      "model_name": "HTMLModel",
      "state": {
       "layout": "IPY_MODEL_c8a44e5808c04e59a5cba57fb1ccd5a8",
       "style": "IPY_MODEL_f33b51329c2e427b9da491da43daa879"
      }
     },
     "a72641c4963349d89ca3d9508df34bb6": {
      "model_module": "@jupyter-widgets/base",
      "model_module_version": "1.2.0",
      "model_name": "LayoutModel",
      "state": {
       "width": "auto"
      }
     },
     "a72897f8ac7f4824bf5180de1e345843": {
      "model_module": "@jupyter-widgets/controls",
      "model_module_version": "1.5.0",
      "model_name": "ToggleButtonModel",
      "state": {
       "button_style": "primary",
       "icon": "google",
       "layout": "IPY_MODEL_db1ef9a7efa9453a84f91e085b966551",
       "style": "IPY_MODEL_00fc2bc61e25421e8fa06eef567965b4",
       "tooltip": "GEE Toolbox for cloud computing"
      }
     },
     "a76820bc659747e3ac511fc37afacc49": {
      "model_module": "jupyter-leaflet",
      "model_module_version": "^0.14.0",
      "model_name": "LeafletTileLayerModel",
      "state": {
       "_model_module_version": "^0.14.0",
       "_view_module_version": "^0.14.0",
       "attribution": "\nImagery provided by services from the Global Imagery Browse Services (GIBS), operated by the NASA/GSFC/Earth Science Data and Information System (<a href=\"https://earthdata.nasa.gov\">ESDIS</a>) with funding provided by NASA/HQ.\n",
       "max_native_zoom": 18,
       "max_zoom": 5,
       "min_native_zoom": 0,
       "min_zoom": 1,
       "name": "NASAGIBS.BlueMarble3413",
       "options": [
        "attribution",
        "detect_retina",
        "max_native_zoom",
        "max_zoom",
        "min_native_zoom",
        "min_zoom",
        "no_wrap",
        "tile_size",
        "tms"
       ],
       "url": "https://gibs.earthdata.nasa.gov/wmts/epsg3413/best/BlueMarble_NextGeneration/default/EPSG3413_500m/{z}/{y}/{x}.jpeg"
      }
     },
     "a808c09c4c0a4bd88b05b2ef1585168a": {
      "model_module": "@jupyter-widgets/controls",
      "model_module_version": "1.5.0",
      "model_name": "DescriptionStyleModel",
      "state": {
       "description_width": ""
      }
     },
     "a93a3b8066654d8586686880e4267b90": {
      "model_module": "@jupyter-widgets/base",
      "model_module_version": "1.2.0",
      "model_name": "LayoutModel",
      "state": {
       "height": "auto",
       "padding": "0px 0px 0px 4px",
       "width": "auto"
      }
     },
     "a9c83f901f2b4120aa29029c3f3dbdf7": {
      "model_module": "jupyter-leaflet",
      "model_module_version": "^0.14.0",
      "model_name": "LeafletTileLayerModel",
      "state": {
       "_model_module_version": "^0.14.0",
       "_view_module_version": "^0.14.0",
       "attribution": "Google",
       "max_native_zoom": 18,
       "min_native_zoom": 0,
       "name": "Google Maps",
       "options": [
        "attribution",
        "detect_retina",
        "max_native_zoom",
        "max_zoom",
        "min_native_zoom",
        "min_zoom",
        "no_wrap",
        "tile_size",
        "tms"
       ],
       "url": "https://mt1.google.com/vt/lyrs=m&x={x}&y={y}&z={z}"
      }
     },
     "aa127a29991c41cbad0a3d13a573b834": {
      "model_module": "@jupyter-widgets/controls",
      "model_module_version": "1.5.0",
      "model_name": "ToggleButtonModel",
      "state": {
       "button_style": "primary",
       "icon": "eraser",
       "layout": "IPY_MODEL_8b3bbf1a4e614ba8a1916481ed82cdc8",
       "style": "IPY_MODEL_0b42d0ced6cc4ba39c4b4e47177098bc",
       "tooltip": "Remove all drawn features"
      }
     },
     "aa143b1f351e4891b62a18f78edd188f": {
      "model_module": "jupyter-leaflet",
      "model_module_version": "^0.14.0",
      "model_name": "LeafletWMSLayerModel",
      "state": {
       "_model_module_version": "^0.14.0",
       "_view_module_version": "^0.14.0",
       "attribution": "FWS",
       "crs": {
        "custom": false,
        "name": "EPSG3857"
       },
       "format": "image/png",
       "layers": "1",
       "max_native_zoom": 18,
       "min_native_zoom": 0,
       "name": "FWS NWI Wetlands",
       "options": [
        "attribution",
        "detect_retina",
        "format",
        "layers",
        "max_native_zoom",
        "max_zoom",
        "min_native_zoom",
        "min_zoom",
        "no_wrap",
        "styles",
        "tile_size",
        "tms",
        "transparent",
        "uppercase"
       ],
       "transparent": true,
       "url": "https://www.fws.gov/wetlands/arcgis/services/Wetlands/MapServer/WMSServer?"
      }
     },
     "aa5d0e17c9774bd0a28d4b6ee3518482": {
      "model_module": "jupyter-leaflet",
      "model_module_version": "^0.14.0",
      "model_name": "LeafletTileLayerModel",
      "state": {
       "_model_module_version": "^0.14.0",
       "_view_module_version": "^0.14.0",
       "attribution": "Tiles &copy; Esri &mdash; Source: Esri, DeLorme, NAVTEQ, USGS, Intermap, iPC, NRCAN, Esri Japan, METI, Esri China (Hong Kong), Esri (Thailand), TomTom, 2012",
       "max_native_zoom": 18,
       "max_zoom": 20,
       "min_native_zoom": 0,
       "min_zoom": 1,
       "name": "Esri.WorldStreetMap",
       "options": [
        "attribution",
        "detect_retina",
        "max_native_zoom",
        "max_zoom",
        "min_native_zoom",
        "min_zoom",
        "no_wrap",
        "tile_size",
        "tms"
       ],
       "url": "http://server.arcgisonline.com/ArcGIS/rest/services/World_Street_Map/MapServer/tile/{z}/{y}/{x}"
      }
     },
     "ab0b6fc014b8471d811477d8c39aecbb": {
      "model_module": "jupyter-leaflet",
      "model_module_version": "^0.14.0",
      "model_name": "LeafletTileLayerModel",
      "state": {
       "_model_module_version": "^0.14.0",
       "_view_module_version": "^0.14.0",
       "attribution": "\nImagery provided by services from the Global Imagery Browse Services (GIBS), operated by the NASA/GSFC/Earth Science Data and Information System (<a href=\"https://earthdata.nasa.gov\">ESDIS</a>) with funding provided by NASA/HQ.\n",
       "max_native_zoom": 18,
       "max_zoom": 9,
       "min_native_zoom": 0,
       "min_zoom": 1,
       "name": "NASAGIBS.ModisTerraTrueColorCR",
       "options": [
        "attribution",
        "detect_retina",
        "max_native_zoom",
        "max_zoom",
        "min_native_zoom",
        "min_zoom",
        "no_wrap",
        "tile_size",
        "tms"
       ],
       "url": "https://gibs.earthdata.nasa.gov/wmts/epsg3857/best/MODIS_Terra_CorrectedReflectance_TrueColor/default/2021-07-26/GoogleMapsCompatible_Level9/{z}/{y}/{x}.jpg"
      }
     },
     "ab9fd170c3f044c28e86acf62391ebc0": {
      "model_module": "@jupyter-widgets/base",
      "model_module_version": "1.2.0",
      "model_name": "LayoutModel",
      "state": {}
     },
     "abe39e36132047de864b244abfa0bac4": {
      "model_module": "jupyter-leaflet",
      "model_module_version": "^0.14.0",
      "model_name": "LeafletAttributionControlModel",
      "state": {
       "_model_module_version": "^0.14.0",
       "_view_module_version": "^0.14.0",
       "options": [
        "position",
        "prefix"
       ],
       "position": "bottomright",
       "prefix": "ipyleaflet"
      }
     },
     "ac51cc057cdb45968c6431c7fd76f09c": {
      "model_module": "@jupyter-widgets/base",
      "model_module_version": "1.2.0",
      "model_name": "LayoutModel",
      "state": {
       "max_height": "250px",
       "max_width": "340px",
       "overflow": "scroll"
      }
     },
     "acefd77850aa4769a42eb02c003ea02e": {
      "model_module": "@jupyter-widgets/controls",
      "model_module_version": "1.5.0",
      "model_name": "DescriptionStyleModel",
      "state": {
       "description_width": ""
      }
     },
     "b073736f636a4cfe889277493398c65b": {
      "model_module": "ipyevents",
      "model_module_version": "1.8.2",
      "model_name": "EventModel",
      "state": {
       "_supported_key_events": [
        "keydown",
        "keyup"
       ],
       "_supported_mouse_events": [
        "click",
        "auxclick",
        "dblclick",
        "mouseenter",
        "mouseleave",
        "mousedown",
        "mouseup",
        "mousemove",
        "wheel",
        "contextmenu",
        "dragstart",
        "drag",
        "dragend",
        "dragenter",
        "dragover",
        "dragleave",
        "drop"
       ],
       "_view_module": "@jupyter-widgets/controls",
       "_view_module_version": "1.5.0",
       "source": "IPY_MODEL_787774ec0d3046a79d115186b8111f65",
       "throttle_or_debounce": "",
       "watched_events": [
        "mouseenter",
        "mouseleave"
       ],
       "xy_coordinate_system": ""
      }
     },
     "b0d4e0df414545d8892b6d20af085ec7": {
      "model_module": "@jupyter-widgets/controls",
      "model_module_version": "1.5.0",
      "model_name": "DescriptionStyleModel",
      "state": {
       "description_width": ""
      }
     },
     "b15731162bfd4d98a7431c11e12f632c": {
      "model_module": "@jupyter-widgets/base",
      "model_module_version": "1.2.0",
      "model_name": "LayoutModel",
      "state": {}
     },
     "b2475decd1654745afaaee6826555b58": {
      "model_module": "@jupyter-widgets/controls",
      "model_module_version": "1.5.0",
      "model_name": "TextModel",
      "state": {
       "layout": "IPY_MODEL_d1286ed618af46a6a1c32a257e7bacaa",
       "placeholder": "output filename",
       "style": "IPY_MODEL_acefd77850aa4769a42eb02c003ea02e",
       "value": "my_map.html"
      }
     },
     "b2a6dda6aa88488a816c32ceaa8ed53f": {
      "model_module": "@jupyter-widgets/controls",
      "model_module_version": "1.5.0",
      "model_name": "DescriptionStyleModel",
      "state": {
       "description_width": ""
      }
     },
     "b2c562c89f7a4b99990c8458dbdde54b": {
      "model_module": "@jupyter-widgets/base",
      "model_module_version": "1.2.0",
      "model_name": "LayoutModel",
      "state": {
       "height": "auto",
       "padding": "0px 0px 0px 4px",
       "width": "auto"
      }
     },
     "b46d9c0bef8c4a548e0d9728be9a3fd0": {
      "model_module": "@jupyter-widgets/base",
      "model_module_version": "1.2.0",
      "model_name": "LayoutModel",
      "state": {
       "width": "auto"
      }
     },
     "b5d9eecc3cb4460a816d948a39cb3a7c": {
      "model_module": "@jupyter-widgets/controls",
      "model_module_version": "1.5.0",
      "model_name": "HTMLModel",
      "state": {
       "layout": "IPY_MODEL_73543292e4354caa9b6a1ab0e2f12dbd",
       "placeholder": "",
       "style": "IPY_MODEL_0be3a760f6e746bcbe8332e10dc13905",
       "value": "<span style=\"margin-left:10px; color:black;\">No file selected</span>"
      }
     },
     "b703c6b1469b4fa9b9e21a1d55356a4c": {
      "model_module": "@jupyter-widgets/base",
      "model_module_version": "1.2.0",
      "model_name": "LayoutModel",
      "state": {
       "display": "none",
       "width": "auto"
      }
     },
     "b7176750582d440d88ccd676e07b2e9e": {
      "model_module": "@jupyter-widgets/controls",
      "model_module_version": "1.5.0",
      "model_name": "ToggleButtonModel",
      "state": {
       "button_style": "primary",
       "icon": "spinner",
       "layout": "IPY_MODEL_b7e5877155904d4ca8c20311e527a3fb",
       "style": "IPY_MODEL_f23b4c10d70f499fa0f5976e3f2ed195",
       "tooltip": "This is a placehold"
      }
     },
     "b75b8b821fe141359e312f4bbf0d3adc": {
      "model_module": "@jupyter-widgets/base",
      "model_module_version": "1.2.0",
      "model_name": "LayoutModel",
      "state": {}
     },
     "b75c749b37a64f3d9019939b28501d41": {
      "model_module": "jupyter-leaflet",
      "model_module_version": "^0.14.0",
      "model_name": "LeafletTileLayerModel",
      "state": {
       "_model_module_version": "^0.14.0",
       "_view_module_version": "^0.14.0",
       "attribution": "Tiles courtesy of <a href=\"http://openstreetmap.se/\" target=\"_blank\">OpenStreetMap Sweden</a> &mdash; Map data &copy; <a href=\"http://www.openstreetmap.org/copyright\">OpenStreetMap</a>",
       "max_native_zoom": 18,
       "min_native_zoom": 0,
       "min_zoom": 1,
       "name": "Hydda.Base",
       "options": [
        "attribution",
        "detect_retina",
        "max_native_zoom",
        "max_zoom",
        "min_native_zoom",
        "min_zoom",
        "no_wrap",
        "tile_size",
        "tms"
       ],
       "url": "http://{s}.tile.openstreetmap.se/hydda/base/{z}/{x}/{y}.png"
      }
     },
     "b7e5877155904d4ca8c20311e527a3fb": {
      "model_module": "@jupyter-widgets/base",
      "model_module_version": "1.2.0",
      "model_name": "LayoutModel",
      "state": {
       "height": "auto",
       "padding": "0px 0px 0px 4px",
       "width": "auto"
      }
     },
     "b81b5f6a2b1147ceb50de2077e4beefb": {
      "model_module": "@jupyter-widgets/controls",
      "model_module_version": "1.5.0",
      "model_name": "DescriptionStyleModel",
      "state": {
       "description_width": ""
      }
     },
     "b8f030a4231b47f69d467977dd714d86": {
      "model_module": "jupyter-leaflet",
      "model_module_version": "^0.14.0",
      "model_name": "LeafletTileLayerModel",
      "state": {
       "_model_module_version": "^0.14.0",
       "_view_module_version": "^0.14.0",
       "attribution": "\nImagery provided by services from the Global Imagery Browse Services (GIBS), operated by the NASA/GSFC/Earth Science Data and Information System (<a href=\"https://earthdata.nasa.gov\">ESDIS</a>) with funding provided by NASA/HQ.\n",
       "max_native_zoom": 18,
       "max_zoom": 9,
       "min_native_zoom": 0,
       "min_zoom": 1,
       "name": "NASAGIBS.ModisTerraBands721CR",
       "options": [
        "attribution",
        "detect_retina",
        "max_native_zoom",
        "max_zoom",
        "min_native_zoom",
        "min_zoom",
        "no_wrap",
        "tile_size",
        "tms"
       ],
       "url": "https://gibs.earthdata.nasa.gov/wmts/epsg3857/best/MODIS_Terra_CorrectedReflectance_Bands721/default/2021-07-21/GoogleMapsCompatible_Level9/{z}/{y}/{x}.jpg"
      }
     },
     "bce5ce339725448c845e3069dc1ea0c1": {
      "model_module": "@jupyter-widgets/controls",
      "model_module_version": "1.5.0",
      "model_name": "DescriptionStyleModel",
      "state": {
       "description_width": ""
      }
     },
     "bdb4b15ac33d4e7cb353c877092fd510": {
      "model_module": "@jupyter-widgets/controls",
      "model_module_version": "1.5.0",
      "model_name": "ToggleButtonModel",
      "state": {
       "button_style": "primary",
       "icon": "map",
       "layout": "IPY_MODEL_8e4aff412fae4fa793f2854ebd04b880",
       "style": "IPY_MODEL_7e723e9bcba14362b31f7336acc34992",
       "tooltip": "Change basemap"
      }
     },
     "becdc1549fe34d7bacff9c47de9b3c2e": {
      "model_module": "jupyter-leaflet",
      "model_module_version": "^0.14.0",
      "model_name": "LeafletTileLayerModel",
      "state": {
       "_model_module_version": "^0.14.0",
       "_view_module_version": "^0.14.0",
       "attribution": "Google",
       "max_native_zoom": 18,
       "min_native_zoom": 0,
       "name": "Google Maps",
       "options": [
        "attribution",
        "detect_retina",
        "max_native_zoom",
        "max_zoom",
        "min_native_zoom",
        "min_zoom",
        "no_wrap",
        "tile_size",
        "tms"
       ],
       "url": "https://mt1.google.com/vt/lyrs=m&x={x}&y={y}&z={z}"
      }
     },
     "bfea87486eb2407b94d029b77f459440": {
      "model_module": "@jupyter-widgets/controls",
      "model_module_version": "1.5.0",
      "model_name": "DescriptionStyleModel",
      "state": {
       "description_width": ""
      }
     },
     "c0ba1471bf204d69a01cf6a3bfceccd3": {
      "model_module": "jupyter-leaflet",
      "model_module_version": "^0.14.0",
      "model_name": "LeafletTileLayerModel",
      "state": {
       "_model_module_version": "^0.14.0",
       "_view_module_version": "^0.14.0",
       "attribution": "&copy; <a href=\"http://www.openstreetmap.org/copyright\">OpenStreetMap</a> &copy; <a href=\"http://cartodb.com/attributions\">CartoDB</a>",
       "max_native_zoom": 18,
       "max_zoom": 20,
       "min_native_zoom": 0,
       "min_zoom": 1,
       "name": "CartoDB.Positron",
       "options": [
        "attribution",
        "detect_retina",
        "max_native_zoom",
        "max_zoom",
        "min_native_zoom",
        "min_zoom",
        "no_wrap",
        "tile_size",
        "tms"
       ],
       "url": "http://c.basemaps.cartocdn.com/light_all/{z}/{x}/{y}.png"
      }
     },
     "c1557bd9ea9941ff92a82ad0410e19e6": {
      "model_module": "jupyter-leaflet",
      "model_module_version": "^0.14.0",
      "model_name": "LeafletTileLayerModel",
      "state": {
       "_model_module_version": "^0.14.0",
       "_view_module_version": "^0.14.0",
       "attribution": "Tiles courtesy of <a href=\"http://openstreetmap.se/\" target=\"_blank\">OpenStreetMap Sweden</a> &mdash; Map data &copy; <a href=\"http://www.openstreetmap.org/copyright\">OpenStreetMap</a>",
       "max_native_zoom": 18,
       "min_native_zoom": 0,
       "min_zoom": 1,
       "name": "Hydda.Full",
       "options": [
        "attribution",
        "detect_retina",
        "max_native_zoom",
        "max_zoom",
        "min_native_zoom",
        "min_zoom",
        "no_wrap",
        "tile_size",
        "tms"
       ],
       "url": "http://{s}.tile.openstreetmap.se/hydda/full/{z}/{x}/{y}.png"
      }
     },
     "c21ada764b2a4c019f777329d764e7cf": {
      "model_module": "jupyter-leaflet",
      "model_module_version": "^0.14.0",
      "model_name": "LeafletTileLayerModel",
      "state": {
       "_model_module_version": "^0.14.0",
       "_view_module_version": "^0.14.0",
       "attribution": "Esri",
       "max_native_zoom": 18,
       "min_native_zoom": 0,
       "name": "Esri Ocean",
       "options": [
        "attribution",
        "detect_retina",
        "max_native_zoom",
        "max_zoom",
        "min_native_zoom",
        "min_zoom",
        "no_wrap",
        "tile_size",
        "tms"
       ],
       "url": "https://services.arcgisonline.com/ArcGIS/rest/services/Ocean/World_Ocean_Base/MapServer/tile/{z}/{y}/{x}"
      }
     },
     "c2ba00a20f804356a5dbd4e8382611bc": {
      "model_module": "jupyter-leaflet",
      "model_module_version": "^0.14.0",
      "model_name": "LeafletTileLayerModel",
      "state": {
       "_model_module_version": "^0.14.0",
       "_view_module_version": "^0.14.0",
       "attribution": "Map tiles by <a href=\"https://labs.strava.com/heatmap\">Strava 2017</a>",
       "max_native_zoom": 18,
       "max_zoom": 15,
       "min_native_zoom": 0,
       "min_zoom": 1,
       "name": "Strava.Winter",
       "options": [
        "attribution",
        "detect_retina",
        "max_native_zoom",
        "max_zoom",
        "min_native_zoom",
        "min_zoom",
        "no_wrap",
        "tile_size",
        "tms"
       ],
       "url": "https://heatmap-external-a.strava.com//tiles/winter/hot/{z}/{x}/{y}.png?v=19"
      }
     },
     "c2ffcefd27dd47afa965ef74dafe1098": {
      "model_module": "jupyter-leaflet",
      "model_module_version": "^0.14.0",
      "model_name": "LeafletTileLayerModel",
      "state": {
       "_model_module_version": "^0.14.0",
       "_view_module_version": "^0.14.0",
       "attribution": "&copy; Openstreetmap France | &copy; <a href=\"http://www.openstreetmap.org/copyright\">OpenStreetMap</a>",
       "max_native_zoom": 18,
       "max_zoom": 20,
       "min_native_zoom": 0,
       "min_zoom": 1,
       "name": "OpenStreetMap.France",
       "options": [
        "attribution",
        "detect_retina",
        "max_native_zoom",
        "max_zoom",
        "min_native_zoom",
        "min_zoom",
        "no_wrap",
        "tile_size",
        "tms"
       ],
       "url": "http://{s}.tile.openstreetmap.fr/osmfr/{z}/{x}/{y}.png"
      }
     },
     "c30e22a0032842399f5f1521c8080041": {
      "model_module": "@jupyter-widgets/base",
      "model_module_version": "1.2.0",
      "model_name": "LayoutModel",
      "state": {}
     },
     "c32426373349481b9e369bb67cce7bfe": {
      "model_module": "@jupyter-widgets/base",
      "model_module_version": "1.2.0",
      "model_name": "LayoutModel",
      "state": {
       "height": "auto",
       "padding": "0px 0px 0px 4px",
       "width": "auto"
      }
     },
     "c3365f9d538549c2aacc284f1141bcc0": {
      "model_module": "jupyter-leaflet",
      "model_module_version": "^0.14.0",
      "model_name": "LeafletTileLayerModel",
      "state": {
       "_model_module_version": "^0.14.0",
       "_view_module_version": "^0.14.0",
       "attribution": "Esri",
       "max_native_zoom": 18,
       "min_native_zoom": 0,
       "name": "Esri Satellite",
       "options": [
        "attribution",
        "detect_retina",
        "max_native_zoom",
        "max_zoom",
        "min_native_zoom",
        "min_zoom",
        "no_wrap",
        "tile_size",
        "tms"
       ],
       "url": "https://server.arcgisonline.com/ArcGIS/rest/services/World_Imagery/MapServer/tile/{z}/{y}/{x}"
      }
     },
     "c3532fd9265d44049ccb362efef24146": {
      "model_module": "@jupyter-widgets/controls",
      "model_module_version": "1.5.0",
      "model_name": "DropdownModel",
      "state": {
       "index": null,
       "layout": "IPY_MODEL_7bdfba6f750944a28e924995c467b559",
       "style": "IPY_MODEL_024571c7c7274d4ab23d830365fe02f1"
      }
     },
     "c3fb09542cd0475c90e01f7513fd7d27": {
      "model_module": "jupyter-leaflet",
      "model_module_version": "^0.14.0",
      "model_name": "LeafletWMSLayerModel",
      "state": {
       "_model_module_version": "^0.14.0",
       "_view_module_version": "^0.14.0",
       "attribution": "USGS",
       "crs": {
        "custom": false,
        "name": "EPSG3857"
       },
       "format": "image/png",
       "layers": "0",
       "max_native_zoom": 18,
       "min_native_zoom": 0,
       "name": "USGS Hydrography",
       "options": [
        "attribution",
        "detect_retina",
        "format",
        "layers",
        "max_native_zoom",
        "max_zoom",
        "min_native_zoom",
        "min_zoom",
        "no_wrap",
        "styles",
        "tile_size",
        "tms",
        "transparent",
        "uppercase"
       ],
       "transparent": true,
       "url": "https://basemap.nationalmap.gov/arcgis/services/USGSHydroCached/MapServer/WMSServer?"
      }
     },
     "c42e74943bb048709a501dff4667755e": {
      "model_module": "@jupyter-widgets/controls",
      "model_module_version": "1.5.0",
      "model_name": "ButtonStyleModel",
      "state": {}
     },
     "c4346ad6da08445f8d1b0d5b46cf2ef9": {
      "model_module": "jupyter-leaflet",
      "model_module_version": "^0.14.0",
      "model_name": "LeafletTileLayerModel",
      "state": {
       "_model_module_version": "^0.14.0",
       "_view_module_version": "^0.14.0",
       "attribution": "Google",
       "max_native_zoom": 18,
       "min_native_zoom": 0,
       "name": "Google Terrain",
       "options": [
        "attribution",
        "detect_retina",
        "max_native_zoom",
        "max_zoom",
        "min_native_zoom",
        "min_zoom",
        "no_wrap",
        "tile_size",
        "tms"
       ],
       "url": "https://mt1.google.com/vt/lyrs=p&x={x}&y={y}&z={z}"
      }
     },
     "c6253c629cc04f34804fffbb5514a643": {
      "model_module": "@jupyter-widgets/controls",
      "model_module_version": "1.5.0",
      "model_name": "ToggleButtonsStyleModel",
      "state": {
       "button_width": "110px",
       "description_width": ""
      }
     },
     "c62d25dbbaf84e7ab099a894e35a5793": {
      "model_module": "@jupyter-widgets/base",
      "model_module_version": "1.2.0",
      "model_name": "LayoutModel",
      "state": {
       "max_width": "57px",
       "min_width": "57px"
      }
     },
     "c6fe7a698003448c868d0d7fff7a52d9": {
      "model_module": "@jupyter-widgets/controls",
      "model_module_version": "1.5.0",
      "model_name": "HBoxModel",
      "state": {
       "children": [
        "IPY_MODEL_97fd496939cc44598f2570758fbb2020",
        "IPY_MODEL_89876d268e7641099a07aefd32c9d12c",
        "IPY_MODEL_b5d9eecc3cb4460a816d948a39cb3a7c"
       ],
       "layout": "IPY_MODEL_a14437c560364c11a9fceaefa87a2967"
      }
     },
     "c735f5d9a4c74a89b41704c5d1250ebd": {
      "model_module": "@jupyter-widgets/base",
      "model_module_version": "1.2.0",
      "model_name": "LayoutModel",
      "state": {
       "max_height": "250px",
       "max_width": "340px",
       "overflow": "scroll"
      }
     },
     "c7ecec660d6e49ba85622ce8c48b5395": {
      "model_module": "jupyter-leaflet",
      "model_module_version": "^0.14.0",
      "model_name": "LeafletMapModel",
      "state": {
       "_model_module_version": "^0.14.0",
       "_view_module_version": "^0.14.0",
       "bottom": 35226,
       "center": [
        -11.77,
        -45.76
       ],
       "controls": [
        "IPY_MODEL_19536afa489b4082b260a330ce1ba16a",
        "IPY_MODEL_720de8ef7c9c49fa8ad84251144235fb",
        "IPY_MODEL_93350a7b2edc43b6b7808d4d347f35c2",
        "IPY_MODEL_cbed40094c8f4772a0fc64a908b9c673",
        "IPY_MODEL_f760c8814f86429e88a359ca4bfbbccc",
        "IPY_MODEL_49b02604c1c24244a4fe9aac76a7f0fa",
        "IPY_MODEL_280a9be3d5d34bd6ba224a26c4007013"
       ],
       "default_style": "IPY_MODEL_86c41a48c1f44e1199fb2a29074ca7c0",
       "dragging_style": "IPY_MODEL_497327042889428abccbc029f284d65c",
       "east": -43.06640625000001,
       "fullscreen": false,
       "interpolation": "bilinear",
       "layers": [
        "IPY_MODEL_039bf12fa8ae483eb74afa42a2ba4ab2",
        "IPY_MODEL_f357c404adb84322a97b049d39d3a19b"
       ],
       "layout": "IPY_MODEL_9c068ee839a5421d8576d1e5f8411c20",
       "left": 23948,
       "modisdate": "yesterday",
       "north": -10.152746165571939,
       "options": [
        "bounce_at_zoom_limits",
        "box_zoom",
        "center",
        "close_popup_on_click",
        "double_click_zoom",
        "dragging",
        "fullscreen",
        "inertia",
        "inertia_deceleration",
        "inertia_max_speed",
        "interpolation",
        "keyboard",
        "keyboard_pan_offset",
        "keyboard_zoom_offset",
        "max_zoom",
        "min_zoom",
        "scroll_wheel_zoom",
        "tap",
        "tap_tolerance",
        "touch_zoom",
        "world_copy_jump",
        "zoom",
        "zoom_animation_threshold",
        "zoom_delta",
        "zoom_snap",
        "zoom_start"
       ],
       "right": 24928,
       "scroll_wheel_zoom": true,
       "south": -13.378931658431553,
       "style": "IPY_MODEL_e70d92fbd69b42c48da7ea1b624bb125",
       "top": 34626,
       "west": -48.44970703125001,
       "window_url": "http://localhost:8888/notebooks/teste_geemap2%20(3).ipynb#",
       "zoom": 8
      }
     },
     "c8362732a93a490d8b62e99d7761f9c9": {
      "model_module": "@jupyter-widgets/controls",
      "model_module_version": "1.5.0",
      "model_name": "ToggleButtonModel",
      "state": {
       "button_style": "primary",
       "icon": "map",
       "layout": "IPY_MODEL_77fbfc50362b49d8b075f12d912ea8ed",
       "style": "IPY_MODEL_660e37c4f19840e7888b6a79282c9dc4",
       "tooltip": "Change basemap"
      }
     },
     "c8a44e5808c04e59a5cba57fb1ccd5a8": {
      "model_module": "@jupyter-widgets/base",
      "model_module_version": "1.2.0",
      "model_name": "LayoutModel",
      "state": {}
     },
     "c91e94cc389945b49558af97613e31fa": {
      "model_module": "@jupyter-widgets/controls",
      "model_module_version": "1.5.0",
      "model_name": "ToggleButtonModel",
      "state": {
       "button_style": "primary",
       "icon": "line-chart",
       "layout": "IPY_MODEL_3a5e5c0b6ed14ed78d8d840d6b50694a",
       "style": "IPY_MODEL_674cc4ecccca458fab89733d9200b983",
       "tooltip": "Creating and plotting transects"
      }
     },
     "ca9aa59826784a319daf2f105823d48e": {
      "model_module": "@jupyter-widgets/controls",
      "model_module_version": "1.5.0",
      "model_name": "ToggleButtonModel",
      "state": {
       "button_style": "primary",
       "icon": "bar-chart",
       "layout": "IPY_MODEL_6d473b1d355d4628b5968964d7d10a54",
       "style": "IPY_MODEL_cc452fd39e874b00ad54934f584d091b",
       "tooltip": "Plotting"
      }
     },
     "cb656f803c834b31bc21d70286e8114d": {
      "model_module": "jupyter-leaflet",
      "model_module_version": "^0.14.0",
      "model_name": "LeafletTileLayerModel",
      "state": {
       "_model_module_version": "^0.14.0",
       "_view_module_version": "^0.14.0",
       "attribution": "Map tiles <a href=\"https://labs.strava.com/heatmap\">Strava 2017</a>",
       "max_native_zoom": 18,
       "max_zoom": 15,
       "min_native_zoom": 0,
       "min_zoom": 1,
       "name": "Strava.Ride",
       "options": [
        "attribution",
        "detect_retina",
        "max_native_zoom",
        "max_zoom",
        "min_native_zoom",
        "min_zoom",
        "no_wrap",
        "tile_size",
        "tms"
       ],
       "url": "https://heatmap-external-a.strava.com//tiles/ride/hot/{z}/{x}/{y}.png?v=19"
      }
     },
     "cb705f9cbe18462f9622baf980b4b9cc": {
      "model_module": "jupyter-leaflet",
      "model_module_version": "^0.14.0",
      "model_name": "LeafletTileLayerModel",
      "state": {
       "_model_module_version": "^0.14.0",
       "_view_module_version": "^0.14.0",
       "attribution": "",
       "max_native_zoom": 18,
       "max_zoom": 19,
       "min_native_zoom": 0,
       "min_zoom": 1,
       "name": "Gaode.Satellite",
       "options": [
        "attribution",
        "detect_retina",
        "max_native_zoom",
        "max_zoom",
        "min_native_zoom",
        "min_zoom",
        "no_wrap",
        "tile_size",
        "tms"
       ],
       "url": "http://webst01.is.autonavi.com/appmaptile?style=6&x={x}&y={y}&z={z}"
      }
     },
     "cbb0e43499cc4ea68610bda971fa92a8": {
      "model_module": "jupyter-leaflet",
      "model_module_version": "^0.14.0",
      "model_name": "LeafletTileLayerModel",
      "state": {
       "_model_module_version": "^0.14.0",
       "_view_module_version": "^0.14.0",
       "attribution": "",
       "max_native_zoom": 18,
       "max_zoom": 19,
       "min_native_zoom": 0,
       "min_zoom": 1,
       "name": "Gaode.Normal",
       "options": [
        "attribution",
        "detect_retina",
        "max_native_zoom",
        "max_zoom",
        "min_native_zoom",
        "min_zoom",
        "no_wrap",
        "tile_size",
        "tms"
       ],
       "url": "http://webrd01.is.autonavi.com/appmaptile?lang=zh_cn&size=1&scale=1&style=7&x={x}&y={y}&z={z}"
      }
     },
     "cbed40094c8f4772a0fc64a908b9c673": {
      "model_module": "jupyter-leaflet",
      "model_module_version": "^0.14.0",
      "model_name": "LeafletFullScreenControlModel",
      "state": {
       "_model_module_version": "^0.14.0",
       "_view_module_version": "^0.14.0",
       "options": [
        "position"
       ]
      }
     },
     "cc12bead1a6b4b28a80ea84271d9fb06": {
      "model_module": "jupyter-leaflet",
      "model_module_version": "^0.14.0",
      "model_name": "LeafletTileLayerModel",
      "state": {
       "_model_module_version": "^0.14.0",
       "_view_module_version": "^0.14.0",
       "attribution": "Esri",
       "max_native_zoom": 18,
       "min_native_zoom": 0,
       "name": "Esri National Geographic",
       "options": [
        "attribution",
        "detect_retina",
        "max_native_zoom",
        "max_zoom",
        "min_native_zoom",
        "min_zoom",
        "no_wrap",
        "tile_size",
        "tms"
       ],
       "url": "http://services.arcgisonline.com/ArcGIS/rest/services/NatGeo_World_Map/MapServer/tile/{z}/{y}/{x}"
      }
     },
     "cc452fd39e874b00ad54934f584d091b": {
      "model_module": "@jupyter-widgets/controls",
      "model_module_version": "1.5.0",
      "model_name": "DescriptionStyleModel",
      "state": {
       "description_width": ""
      }
     },
     "cc65aea00ea748729a3bf20e2eac18f8": {
      "model_module": "jupyter-leaflet",
      "model_module_version": "^0.14.0",
      "model_name": "LeafletTileLayerModel",
      "state": {
       "_model_module_version": "^0.14.0",
       "_view_module_version": "^0.14.0",
       "max_native_zoom": 18,
       "max_zoom": 19,
       "min_native_zoom": 0,
       "min_zoom": 1,
       "name": "OpenStreetMap.Mapnik",
       "options": [
        "attribution",
        "detect_retina",
        "max_native_zoom",
        "max_zoom",
        "min_native_zoom",
        "min_zoom",
        "no_wrap",
        "tile_size",
        "tms"
       ]
      }
     },
     "ccca1e487ceb441f99d669c462d58fc0": {
      "model_module": "jupyter-leaflet",
      "model_module_version": "^0.14.0",
      "model_name": "LeafletTileLayerModel",
      "state": {
       "_model_module_version": "^0.14.0",
       "_view_module_version": "^0.14.0",
       "attribution": "&copy; <a href=\"http://www.openstreetmap.org/copyright\">OpenStreetMap</a>, Tiles courtesy of <a href=\"http://hot.openstreetmap.org/\" target=\"_blank\">Humanitarian OpenStreetMap Team</a>",
       "max_native_zoom": 18,
       "max_zoom": 19,
       "min_native_zoom": 0,
       "min_zoom": 1,
       "name": "OpenStreetMap.HOT",
       "options": [
        "attribution",
        "detect_retina",
        "max_native_zoom",
        "max_zoom",
        "min_native_zoom",
        "min_zoom",
        "no_wrap",
        "tile_size",
        "tms"
       ],
       "url": "http://{s}.tile.openstreetmap.fr/hot/{z}/{x}/{y}.png"
      }
     },
     "cd22bd7228ba4f469f5583c1e5172d27": {
      "model_module": "jupyter-leaflet",
      "model_module_version": "^0.14.0",
      "model_name": "LeafletWMSLayerModel",
      "state": {
       "_model_module_version": "^0.14.0",
       "_view_module_version": "^0.14.0",
       "attribution": "USGS",
       "crs": {
        "custom": false,
        "name": "EPSG3857"
       },
       "format": "image/png",
       "layers": "3DEPElevation:None",
       "max_native_zoom": 18,
       "min_native_zoom": 0,
       "name": "USGS 3DEP Elevation",
       "options": [
        "attribution",
        "detect_retina",
        "format",
        "layers",
        "max_native_zoom",
        "max_zoom",
        "min_native_zoom",
        "min_zoom",
        "no_wrap",
        "styles",
        "tile_size",
        "tms",
        "transparent",
        "uppercase"
       ],
       "transparent": true,
       "url": "https://elevation.nationalmap.gov/arcgis/services/3DEPElevation/ImageServer/WMSServer?"
      }
     },
     "cd51cd41df8748bab073ddfa178ab53f": {
      "model_module": "@jupyter-widgets/base",
      "model_module_version": "1.2.0",
      "model_name": "LayoutModel",
      "state": {
       "display": "none",
       "width": "auto"
      }
     },
     "cda940b695334979bd896b3cbb875de9": {
      "model_module": "@jupyter-widgets/controls",
      "model_module_version": "1.5.0",
      "model_name": "ToggleButtonModel",
      "state": {
       "button_style": "primary",
       "icon": "bar-chart",
       "layout": "IPY_MODEL_8b1acaab10144526a62dca39c5dd43f6",
       "style": "IPY_MODEL_561e4635d5184b19bd9f6f97b6ad7efe",
       "tooltip": "Plotting"
      }
     },
     "ce97133acbda42e4b00bbf1b397b16c1": {
      "model_module": "@jupyter-widgets/controls",
      "model_module_version": "1.5.0",
      "model_name": "ToggleButtonsStyleModel",
      "state": {
       "button_width": "",
       "description_width": ""
      }
     },
     "cf170f1a41a24466892f9132b98eb25c": {
      "model_module": "jupyter-leaflet",
      "model_module_version": "^0.14.0",
      "model_name": "LeafletTileLayerModel",
      "state": {
       "_model_module_version": "^0.14.0",
       "_view_module_version": "^0.14.0",
       "attribution": "\nImagery provided by services from the Global Imagery Browse Services (GIBS), operated by the NASA/GSFC/Earth Science Data and Information System (<a href=\"https://earthdata.nasa.gov\">ESDIS</a>) with funding provided by NASA/HQ.\n",
       "max_native_zoom": 18,
       "max_zoom": 9,
       "min_native_zoom": 0,
       "min_zoom": 1,
       "name": "NASAGIBS.ModisTerraBands721CR",
       "options": [
        "attribution",
        "detect_retina",
        "max_native_zoom",
        "max_zoom",
        "min_native_zoom",
        "min_zoom",
        "no_wrap",
        "tile_size",
        "tms"
       ],
       "url": "https://gibs.earthdata.nasa.gov/wmts/epsg3857/best/MODIS_Terra_CorrectedReflectance_Bands721/default/2021-07-26/GoogleMapsCompatible_Level9/{z}/{y}/{x}.jpg"
      }
     },
     "cffdcc828df94bccad48afef51f3e655": {
      "model_module": "jupyter-leaflet",
      "model_module_version": "^0.14.0",
      "model_name": "LeafletTileLayerModel",
      "state": {
       "_model_module_version": "^0.14.0",
       "_view_module_version": "^0.14.0",
       "attribution": "Tiles courtesy of <a href=\"http://openstreetmap.se/\" target=\"_blank\">OpenStreetMap Sweden</a> &mdash; Map data &copy; <a href=\"http://www.openstreetmap.org/copyright\">OpenStreetMap</a>",
       "max_native_zoom": 18,
       "min_native_zoom": 0,
       "min_zoom": 1,
       "name": "Hydda.Base",
       "options": [
        "attribution",
        "detect_retina",
        "max_native_zoom",
        "max_zoom",
        "min_native_zoom",
        "min_zoom",
        "no_wrap",
        "tile_size",
        "tms"
       ],
       "url": "http://{s}.tile.openstreetmap.se/hydda/base/{z}/{x}/{y}.png"
      }
     },
     "d11b8c07eec543978bab49e49c5e77fe": {
      "model_module": "@jupyter-widgets/base",
      "model_module_version": "1.2.0",
      "model_name": "LayoutModel",
      "state": {
       "display": "none"
      }
     },
     "d11e12b499cd46a4b0905f78940245cb": {
      "model_module": "jupyter-leaflet",
      "model_module_version": "^0.14.0",
      "model_name": "LeafletDrawControlModel",
      "state": {
       "_model_module_version": "^0.14.0",
       "_view_module_version": "^0.14.0",
       "circle": {
        "shapeOptions": {
         "color": "#3388ff"
        }
       },
       "edit": false,
       "options": [
        "position"
       ],
       "polygon": {},
       "polyline": {},
       "rectangle": {
        "shapeOptions": {
         "color": "#3388ff"
        }
       },
       "remove": false
      }
     },
     "d1286ed618af46a6a1c32a257e7bacaa": {
      "model_module": "@jupyter-widgets/base",
      "model_module_version": "1.2.0",
      "model_name": "LayoutModel",
      "state": {
       "grid_area": "filename",
       "width": "auto"
      }
     },
     "d2e679eea8424a6d9d04cd6ad5302cc8": {
      "model_module": "@jupyter-widgets/controls",
      "model_module_version": "1.5.0",
      "model_name": "DescriptionStyleModel",
      "state": {
       "description_width": ""
      }
     },
     "d2f6949d3dbd4f64994539617371207c": {
      "model_module": "jupyter-leaflet",
      "model_module_version": "^0.14.0",
      "model_name": "LeafletTileLayerModel",
      "state": {
       "_model_module_version": "^0.14.0",
       "_view_module_version": "^0.14.0",
       "attribution": "\nImagery provided by services from the Global Imagery Browse Services (GIBS), operated by the NASA/GSFC/Earth Science Data and Information System (<a href=\"https://earthdata.nasa.gov\">ESDIS</a>) with funding provided by NASA/HQ.\n",
       "max_native_zoom": 18,
       "max_zoom": 8,
       "min_native_zoom": 0,
       "min_zoom": 1,
       "name": "NASAGIBS.BlueMarble",
       "options": [
        "attribution",
        "detect_retina",
        "max_native_zoom",
        "max_zoom",
        "min_native_zoom",
        "min_zoom",
        "no_wrap",
        "tile_size",
        "tms"
       ],
       "url": "https://gibs.earthdata.nasa.gov/wmts/epsg3857/best/BlueMarble_NextGeneration/default/EPSG3857_500m/{z}/{y}/{x}.jpeg"
      }
     },
     "d355cb6bf1ad490b89ebeeef613447c9": {
      "model_module": "@jupyter-widgets/controls",
      "model_module_version": "1.5.0",
      "model_name": "DescriptionStyleModel",
      "state": {
       "description_width": ""
      }
     },
     "d3a6398176b24fdbbd80c706ff862465": {
      "model_module": "jupyter-leaflet",
      "model_module_version": "^0.14.0",
      "model_name": "LeafletWMSLayerModel",
      "state": {
       "_model_module_version": "^0.14.0",
       "_view_module_version": "^0.14.0",
       "attribution": "FWS",
       "crs": {
        "custom": false,
        "name": "EPSG3857"
       },
       "format": "image/png",
       "layers": "0",
       "max_native_zoom": 18,
       "min_native_zoom": 0,
       "name": "FWS NWI Wetlands Raster",
       "options": [
        "attribution",
        "detect_retina",
        "format",
        "layers",
        "max_native_zoom",
        "max_zoom",
        "min_native_zoom",
        "min_zoom",
        "no_wrap",
        "styles",
        "tile_size",
        "tms",
        "transparent",
        "uppercase"
       ],
       "transparent": true,
       "url": "https://www.fws.gov/wetlands/arcgis/services/Wetlands_Raster/ImageServer/WMSServer?"
      }
     },
     "d3efe4d1c07644f7959f9ed2bc96c7d3": {
      "model_module": "@jupyter-widgets/controls",
      "model_module_version": "1.5.0",
      "model_name": "DescriptionStyleModel",
      "state": {
       "description_width": ""
      }
     },
     "d46efb2f0e9145a1b101c51d49bd5b84": {
      "model_module": "@jupyter-widgets/controls",
      "model_module_version": "1.5.0",
      "model_name": "DescriptionStyleModel",
      "state": {
       "description_width": ""
      }
     },
     "d4797054da41499fa1be13e81b8bc019": {
      "model_module": "@jupyter-widgets/base",
      "model_module_version": "1.2.0",
      "model_name": "LayoutModel",
      "state": {}
     },
     "d4bdd69ae1184f1a819e3afe83f10ea0": {
      "model_module": "@jupyter-widgets/controls",
      "model_module_version": "1.5.0",
      "model_name": "HTMLModel",
      "state": {
       "layout": "IPY_MODEL_4e520dc030d344ccb2eb20d22cd8b2d1",
       "style": "IPY_MODEL_b2a6dda6aa88488a816c32ceaa8ed53f"
      }
     },
     "d5aff1a371e145eb90bc4ee4d21c76b4": {
      "model_module": "jupyter-leaflet",
      "model_module_version": "^0.14.0",
      "model_name": "LeafletTileLayerModel",
      "state": {
       "_model_module_version": "^0.14.0",
       "_view_module_version": "^0.14.0",
       "attribution": "Esri",
       "max_native_zoom": 18,
       "min_native_zoom": 0,
       "name": "Esri Physical Map",
       "options": [
        "attribution",
        "detect_retina",
        "max_native_zoom",
        "max_zoom",
        "min_native_zoom",
        "min_zoom",
        "no_wrap",
        "tile_size",
        "tms"
       ],
       "url": "https://services.arcgisonline.com/arcgis/rest/services/World_Physical_Map/MapServer/tile/{z}/{y}/{x}"
      }
     },
     "d5d5b32782034643a65e95f64daa92af": {
      "model_module": "jupyter-leaflet",
      "model_module_version": "^0.14.0",
      "model_name": "LeafletTileLayerModel",
      "state": {
       "_model_module_version": "^0.14.0",
       "_view_module_version": "^0.14.0",
       "attribution": "Google",
       "max_native_zoom": 18,
       "min_native_zoom": 0,
       "name": "Google Satellite",
       "options": [
        "attribution",
        "detect_retina",
        "max_native_zoom",
        "max_zoom",
        "min_native_zoom",
        "min_zoom",
        "no_wrap",
        "tile_size",
        "tms"
       ],
       "url": "https://mt1.google.com/vt/lyrs=s&x={x}&y={y}&z={z}"
      }
     },
     "d5e3d46657b041faa03d10e459c21282": {
      "model_module": "@jupyter-widgets/controls",
      "model_module_version": "1.5.0",
      "model_name": "DescriptionStyleModel",
      "state": {
       "description_width": ""
      }
     },
     "d6b876299b8b4d5aa0325003600c4cdb": {
      "model_module": "jupyter-leaflet",
      "model_module_version": "^0.14.0",
      "model_name": "LeafletTileLayerModel",
      "state": {
       "_model_module_version": "^0.14.0",
       "_view_module_version": "^0.14.0",
       "attribution": "Tiles &copy; Esri &mdash; Esri, DeLorme, NAVTEQ, TomTom, Intermap, iPC, USGS, FAO, NPS, NRCAN, GeoBase, Kadaster NL, Ordnance Survey, Esri Japan, METI, Esri China (Hong Kong), and the GIS User Community",
       "max_native_zoom": 18,
       "max_zoom": 20,
       "min_native_zoom": 0,
       "min_zoom": 1,
       "name": "Esri.WorldTopoMap",
       "options": [
        "attribution",
        "detect_retina",
        "max_native_zoom",
        "max_zoom",
        "min_native_zoom",
        "min_zoom",
        "no_wrap",
        "tile_size",
        "tms"
       ],
       "url": "http://server.arcgisonline.com/ArcGIS/rest/services/World_Topo_Map/MapServer/tile/{z}/{y}/{x}"
      }
     },
     "d73113dbb59d42e096810d845d98010b": {
      "model_module": "@jupyter-widgets/controls",
      "model_module_version": "1.5.0",
      "model_name": "ToggleButtonModel",
      "state": {
       "button_style": "primary",
       "icon": "line-chart",
       "layout": "IPY_MODEL_dfad92c2381541318fdeb55e9729be0a",
       "style": "IPY_MODEL_27d3fbb01e8b4ff1861e60bf8400549b",
       "tooltip": "Creating and plotting transects"
      }
     },
     "d79312cf792441469bfa2271d9ec1033": {
      "model_module": "@jupyter-widgets/base",
      "model_module_version": "1.2.0",
      "model_name": "LayoutModel",
      "state": {
       "height": "auto",
       "padding": "0px 0px 0px 4px",
       "width": "auto"
      }
     },
     "d7b1752453ca41bd8d0dea2acde43800": {
      "model_module": "jupyter-leaflet",
      "model_module_version": "^0.14.0",
      "model_name": "LeafletAttributionControlModel",
      "state": {
       "_model_module_version": "^0.14.0",
       "_view_module_version": "^0.14.0",
       "options": [
        "position",
        "prefix"
       ],
       "position": "bottomright",
       "prefix": "ipyleaflet"
      }
     },
     "d88dc96a52c54ff593d7231cc0868f46": {
      "model_module": "@jupyter-widgets/controls",
      "model_module_version": "1.5.0",
      "model_name": "DescriptionStyleModel",
      "state": {
       "description_width": ""
      }
     },
     "d8fd4e4047db453b87df753f4cfea096": {
      "model_module": "jupyter-leaflet",
      "model_module_version": "^0.14.0",
      "model_name": "LeafletMapStyleModel",
      "state": {
       "_model_module_version": "^0.14.0",
       "cursor": "move"
      }
     },
     "d92f3f3b96c3405fa6bbdcf83b8df458": {
      "model_module": "jupyter-leaflet",
      "model_module_version": "^0.14.0",
      "model_name": "LeafletWMSLayerModel",
      "state": {
       "_model_module_version": "^0.14.0",
       "_view_module_version": "^0.14.0",
       "attribution": "MRLC",
       "crs": {
        "custom": false,
        "name": "EPSG3857"
       },
       "format": "image/png",
       "layers": "NLCD_2008_Land_Cover_L48",
       "max_native_zoom": 18,
       "min_native_zoom": 0,
       "name": "NLCD 2008 CONUS Land Cover",
       "options": [
        "attribution",
        "detect_retina",
        "format",
        "layers",
        "max_native_zoom",
        "max_zoom",
        "min_native_zoom",
        "min_zoom",
        "no_wrap",
        "styles",
        "tile_size",
        "tms",
        "transparent",
        "uppercase"
       ],
       "transparent": true,
       "url": "https://www.mrlc.gov/geoserver/mrlc_display/NLCD_2008_Land_Cover_L48/wms?"
      }
     },
     "d94d9a51ea2e4232a9368672aaf85c73": {
      "model_module": "@jupyter-widgets/controls",
      "model_module_version": "1.5.0",
      "model_name": "DescriptionStyleModel",
      "state": {
       "description_width": ""
      }
     },
     "d96f18f993f246a8a69e6c7a619e7227": {
      "model_module": "@jupyter-widgets/base",
      "model_module_version": "1.2.0",
      "model_name": "LayoutModel",
      "state": {
       "grid_area": "filename",
       "width": "auto"
      }
     },
     "d98fffa82ea64eefbbb3644036b1d83e": {
      "model_module": "jupyter-leaflet",
      "model_module_version": "^0.14.0",
      "model_name": "LeafletMarkerModel",
      "state": {
       "_model_module_version": "^0.14.0",
       "_view_module_version": "^0.14.0",
       "icon": "IPY_MODEL_9d9dcb783024423ea60956bdcb32d851",
       "options": [
        "alt",
        "draggable",
        "keyboard",
        "rise_offset",
        "rise_on_hover",
        "rotation_angle",
        "rotation_origin",
        "title",
        "z_index_offset"
       ]
      }
     },
     "d9a02e1299824ce0beebae28f6a8949e": {
      "model_module": "jupyter-leaflet",
      "model_module_version": "^0.14.0",
      "model_name": "LeafletTileLayerModel",
      "state": {
       "_model_module_version": "^0.14.0",
       "_view_module_version": "^0.14.0",
       "attribution": "Map data: &copy; <a href=\"http://www.openstreetmap.org/copyright\">OpenStreetMap</a>, <a href=\"http://viewfinderpanoramas.org\">SRTM</a> | Map style: &copy; <a href=\"https://opentopomap.org\">OpenTopoMap</a> (<a href=\"https://creativecommons.org/licenses/by-sa/3.0/\">CC-BY-SA</a>)",
       "max_native_zoom": 18,
       "max_zoom": 17,
       "min_native_zoom": 0,
       "min_zoom": 1,
       "name": "OpenTopoMap",
       "options": [
        "attribution",
        "detect_retina",
        "max_native_zoom",
        "max_zoom",
        "min_native_zoom",
        "min_zoom",
        "no_wrap",
        "tile_size",
        "tms"
       ],
       "url": "https://{s}.tile.opentopomap.org/{z}/{x}/{y}.png"
      }
     },
     "d9ed1ae655cc49a485a8f67f9aa356dc": {
      "model_module": "@jupyter-widgets/base",
      "model_module_version": "1.2.0",
      "model_name": "LayoutModel",
      "state": {}
     },
     "dadb9176678f421da237c99857735799": {
      "model_module": "@jupyter-widgets/base",
      "model_module_version": "1.2.0",
      "model_name": "LayoutModel",
      "state": {
       "height": "auto",
       "padding": "0px 0px 0px 4px",
       "width": "auto"
      }
     },
     "db1ef9a7efa9453a84f91e085b966551": {
      "model_module": "@jupyter-widgets/base",
      "model_module_version": "1.2.0",
      "model_name": "LayoutModel",
      "state": {
       "height": "auto",
       "padding": "0px 0px 0px 4px",
       "width": "auto"
      }
     },
     "dba03da801db4c70bb048f7b32629fa5": {
      "model_module": "@jupyter-widgets/base",
      "model_module_version": "1.2.0",
      "model_name": "LayoutModel",
      "state": {
       "display": "none",
       "grid_gap": "0px 0px",
       "grid_template_areas": "\n                    'pathlist filename'\n                    'dircontent dircontent'\n                    ",
       "grid_template_columns": "60% 40%",
       "grid_template_rows": "auto auto",
       "width": "500px"
      }
     },
     "dbbf5c28442a4d459e52d9deb5994287": {
      "model_module": "@jupyter-widgets/controls",
      "model_module_version": "1.5.0",
      "model_name": "ToggleButtonModel",
      "state": {
       "button_style": "primary",
       "icon": "gears",
       "layout": "IPY_MODEL_f7f726ada33c457e91da306986cf8336",
       "style": "IPY_MODEL_98be4f3edfdb4222996bb9af74621e73",
       "tooltip": "WhiteboxTools for local geoprocessing"
      }
     },
     "dbeaa53173d24dda9faac2bf884d00d2": {
      "model_module": "@jupyter-widgets/base",
      "model_module_version": "1.2.0",
      "model_name": "LayoutModel",
      "state": {}
     },
     "dc01b9a8a0fa407da4d9efed1be335ac": {
      "model_module": "@jupyter-widgets/controls",
      "model_module_version": "1.5.0",
      "model_name": "ToggleButtonModel",
      "state": {
       "button_style": "primary",
       "icon": "gears",
       "layout": "IPY_MODEL_b2c562c89f7a4b99990c8458dbdde54b",
       "style": "IPY_MODEL_67f08977a21f4c27be0b66691ff8479f",
       "tooltip": "WhiteboxTools for local geoprocessing"
      }
     },
     "dcb4b0a03247421c909925ad7e5db575": {
      "model_module": "@jupyter-widgets/controls",
      "model_module_version": "1.5.0",
      "model_name": "ToggleButtonsStyleModel",
      "state": {
       "button_width": "",
       "description_width": ""
      }
     },
     "dcc7160cef7148f7a1e13199f99b9c83": {
      "model_module": "jupyter-leaflet",
      "model_module_version": "^0.14.0",
      "model_name": "LeafletSearchControlModel",
      "state": {
       "_model_module": "jupyter-leaflet",
       "_model_module_version": "^0.14.0",
       "_view_count": null,
       "_view_module": "jupyter-leaflet",
       "_view_module_version": "^0.14.0",
       "marker": "IPY_MODEL_d98fffa82ea64eefbbb3644036b1d83e",
       "options": [
        "animate_location",
        "auto_collapse",
        "auto_type",
        "found_style",
        "jsonp_param",
        "position",
        "property_loc",
        "property_name",
        "url",
        "zoom"
       ],
       "position": "topleft",
       "url": "https://nominatim.openstreetmap.org/search?format=json&q={s}",
       "zoom": 5
      }
     },
     "dce805b4064247488b83a0f0d5975997": {
      "model_module": "jupyter-leaflet",
      "model_module_version": "^0.14.0",
      "model_name": "LeafletWMSLayerModel",
      "state": {
       "_model_module_version": "^0.14.0",
       "_view_module_version": "^0.14.0",
       "attribution": "USGS",
       "crs": {
        "custom": false,
        "name": "EPSG3857"
       },
       "format": "image/png",
       "layers": "0",
       "max_native_zoom": 18,
       "min_native_zoom": 0,
       "name": "USGS NAIP Imagery",
       "options": [
        "attribution",
        "detect_retina",
        "format",
        "layers",
        "max_native_zoom",
        "max_zoom",
        "min_native_zoom",
        "min_zoom",
        "no_wrap",
        "styles",
        "tile_size",
        "tms",
        "transparent",
        "uppercase"
       ],
       "transparent": true,
       "url": "https://services.nationalmap.gov/arcgis/services/USGSNAIPImagery/ImageServer/WMSServer?"
      }
     },
     "dd7ef69059b1499f8231ce78607ba5ff": {
      "model_module": "@jupyter-widgets/controls",
      "model_module_version": "1.5.0",
      "model_name": "ToggleButtonModel",
      "state": {
       "button_style": "primary",
       "icon": "spinner",
       "layout": "IPY_MODEL_143e6da207f848fd8bc3ffb9677cf0d3",
       "style": "IPY_MODEL_1547c1aca0234ab1a8a076543a60d53a",
       "tooltip": "This is a placehold"
      }
     },
     "ddd8ea13eab044a3a768aaefdf06cf19": {
      "model_module": "@jupyter-widgets/controls",
      "model_module_version": "1.5.0",
      "model_name": "DescriptionStyleModel",
      "state": {
       "description_width": ""
      }
     },
     "de763383d4ac4354b8535df2cedcdbb8": {
      "model_module": "jupyter-leaflet",
      "model_module_version": "^0.14.0",
      "model_name": "LeafletTileLayerModel",
      "state": {
       "_model_module_version": "^0.14.0",
       "_view_module_version": "^0.14.0",
       "attribution": "Esri",
       "max_native_zoom": 18,
       "min_native_zoom": 0,
       "name": "Esri Terrain",
       "options": [
        "attribution",
        "detect_retina",
        "max_native_zoom",
        "max_zoom",
        "min_native_zoom",
        "min_zoom",
        "no_wrap",
        "tile_size",
        "tms"
       ],
       "url": "https://server.arcgisonline.com/ArcGIS/rest/services/World_Terrain_Base/MapServer/tile/{z}/{y}/{x}"
      }
     },
     "df1e11451d434e6cbb30c5595a07253b": {
      "model_module": "jupyter-leaflet",
      "model_module_version": "^0.14.0",
      "model_name": "LeafletWMSLayerModel",
      "state": {
       "_model_module_version": "^0.14.0",
       "_view_module_version": "^0.14.0",
       "attribution": "MRLC",
       "crs": {
        "custom": false,
        "name": "EPSG3857"
       },
       "format": "image/png",
       "layers": "NLCD_2004_Land_Cover_L48",
       "max_native_zoom": 18,
       "min_native_zoom": 0,
       "name": "NLCD 2004 CONUS Land Cover",
       "options": [
        "attribution",
        "detect_retina",
        "format",
        "layers",
        "max_native_zoom",
        "max_zoom",
        "min_native_zoom",
        "min_zoom",
        "no_wrap",
        "styles",
        "tile_size",
        "tms",
        "transparent",
        "uppercase"
       ],
       "transparent": true,
       "url": "https://www.mrlc.gov/geoserver/mrlc_display/NLCD_2004_Land_Cover_L48/wms?"
      }
     },
     "df6334a113a5480d86792287f8dd120b": {
      "model_module": "@jupyter-widgets/controls",
      "model_module_version": "1.5.0",
      "model_name": "DescriptionStyleModel",
      "state": {
       "description_width": ""
      }
     },
     "df68203d8c994fb486f50b63d82a647f": {
      "model_module": "@jupyter-widgets/base",
      "model_module_version": "1.2.0",
      "model_name": "LayoutModel",
      "state": {
       "grid_area": "pathlist",
       "width": "auto"
      }
     },
     "dfad92c2381541318fdeb55e9729be0a": {
      "model_module": "@jupyter-widgets/base",
      "model_module_version": "1.2.0",
      "model_name": "LayoutModel",
      "state": {
       "height": "auto",
       "padding": "0px 0px 0px 4px",
       "width": "auto"
      }
     },
     "e0a72ce25bf14263ba34cc9542200150": {
      "model_module": "@jupyter-widgets/controls",
      "model_module_version": "1.5.0",
      "model_name": "DescriptionStyleModel",
      "state": {
       "description_width": ""
      }
     },
     "e1194c824b404bbcafd7be60ae95a285": {
      "model_module": "@jupyter-widgets/base",
      "model_module_version": "1.2.0",
      "model_name": "LayoutModel",
      "state": {
       "height": "28px",
       "padding": "0px 0px 0px 4px",
       "width": "28px"
      }
     },
     "e1360dd90f0d49b5b85abef3774a26dc": {
      "model_module": "jupyter-leaflet",
      "model_module_version": "^0.14.0",
      "model_name": "LeafletTileLayerModel",
      "state": {
       "_model_module_version": "^0.14.0",
       "_view_module_version": "^0.14.0",
       "attribution": "\nImagery provided by services from the Global Imagery Browse Services (GIBS), operated by the NASA/GSFC/Earth Science Data and Information System (<a href=\"https://earthdata.nasa.gov\">ESDIS</a>) with funding provided by NASA/HQ.\n",
       "max_native_zoom": 18,
       "max_zoom": 5,
       "min_native_zoom": 0,
       "min_zoom": 1,
       "name": "NASAGIBS.BlueMarble3413",
       "options": [
        "attribution",
        "detect_retina",
        "max_native_zoom",
        "max_zoom",
        "min_native_zoom",
        "min_zoom",
        "no_wrap",
        "tile_size",
        "tms"
       ],
       "url": "https://gibs.earthdata.nasa.gov/wmts/epsg3413/best/BlueMarble_NextGeneration/default/EPSG3413_500m/{z}/{y}/{x}.jpeg"
      }
     },
     "e2177f0f3d224c7f95c7166fb19abb33": {
      "model_module": "@jupyter-widgets/base",
      "model_module_version": "1.2.0",
      "model_name": "LayoutModel",
      "state": {
       "grid_gap": "1px 1px",
       "grid_template_columns": "32px 32px 32px ",
       "grid_template_rows": "32px 32px 32px 32px 32px 32px ",
       "padding": "5px",
       "width": "107px"
      }
     },
     "e2d1567c08444d3fbd6f3917466aea48": {
      "model_module": "@jupyter-widgets/controls",
      "model_module_version": "1.5.0",
      "model_name": "DescriptionStyleModel",
      "state": {
       "description_width": ""
      }
     },
     "e37d1f7a4069416894fb92b6c065ad1b": {
      "model_module": "@jupyter-widgets/controls",
      "model_module_version": "1.5.0",
      "model_name": "ButtonModel",
      "state": {
       "button_style": "primary",
       "description": "import",
       "layout": "IPY_MODEL_60160bfbc1f545f68718ca94c65ea30a",
       "style": "IPY_MODEL_c42e74943bb048709a501dff4667755e",
       "tooltip": "Click to import the selected asset"
      }
     },
     "e42be4399e364606afef348db0e92c8d": {
      "model_module": "@jupyter-widgets/controls",
      "model_module_version": "1.5.0",
      "model_name": "ToggleButtonModel",
      "state": {
       "button_style": "primary",
       "icon": "globe",
       "layout": "IPY_MODEL_d79312cf792441469bfa2271d9ec1033",
       "style": "IPY_MODEL_fc867503d810429fbcff21c5b1c1adb0",
       "tooltip": "Create timelapse"
      }
     },
     "e498ac435ded42298eeb8412935fcd46": {
      "model_module": "@jupyter-widgets/controls",
      "model_module_version": "1.5.0",
      "model_name": "DescriptionStyleModel",
      "state": {
       "description_width": ""
      }
     },
     "e6de41a5e7e94232b6cca559540380e9": {
      "model_module": "@jupyter-widgets/controls",
      "model_module_version": "1.5.0",
      "model_name": "VBoxModel",
      "state": {
       "children": [
        "IPY_MODEL_7f182529248d4114b0dffbf3c9c357f4",
        "IPY_MODEL_35c51aaa8cf44dbf863ad38798d8754c",
        "IPY_MODEL_c6fe7a698003448c868d0d7fff7a52d9"
       ],
       "layout": "IPY_MODEL_b46d9c0bef8c4a548e0d9728be9a3fd0"
      }
     },
     "e70d92fbd69b42c48da7ea1b624bb125": {
      "model_module": "jupyter-leaflet",
      "model_module_version": "^0.14.0",
      "model_name": "LeafletMapStyleModel",
      "state": {
       "_model_module_version": "^0.14.0"
      }
     },
     "e71e96e1dacf475e849089a409f57481": {
      "model_module": "@jupyter-widgets/controls",
      "model_module_version": "1.5.0",
      "model_name": "HBoxModel",
      "state": {
       "children": [
        "IPY_MODEL_e37d1f7a4069416894fb92b6c065ad1b",
        "IPY_MODEL_03f860263ef0424da4c6bf883e7aecc6"
       ],
       "layout": "IPY_MODEL_c30e22a0032842399f5f1521c8080041"
      }
     },
     "e791e642c9a94c279a84aea5c56af7fe": {
      "model_module": "jupyter-leaflet",
      "model_module_version": "^0.14.0",
      "model_name": "LeafletTileLayerModel",
      "state": {
       "_model_module_version": "^0.14.0",
       "_view_module_version": "^0.14.0",
       "attribution": "Map tiles by <a href=\"https://labs.strava.com/heatmap\">Strava 2017</a>",
       "max_native_zoom": 18,
       "max_zoom": 15,
       "min_native_zoom": 0,
       "min_zoom": 1,
       "name": "Strava.All",
       "options": [
        "attribution",
        "detect_retina",
        "max_native_zoom",
        "max_zoom",
        "min_native_zoom",
        "min_zoom",
        "no_wrap",
        "tile_size",
        "tms"
       ],
       "url": "https://heatmap-external-a.strava.com//tiles/all/hot/{z}/{x}/{y}.png?v=19"
      }
     },
     "e7dabebed6d5438eb7e6a7f75839730d": {
      "model_module": "@jupyter-widgets/base",
      "model_module_version": "1.2.0",
      "model_name": "LayoutModel",
      "state": {
       "height": "28px",
       "padding": "0px 0px 0px 4px",
       "width": "28px"
      }
     },
     "e95904e94cfd451ab41c49ba875df078": {
      "model_module": "@jupyter-widgets/controls",
      "model_module_version": "1.5.0",
      "model_name": "GridBoxModel",
      "state": {
       "children": [
        "IPY_MODEL_f93e405d78894602a4c9c19252a25e9c",
        "IPY_MODEL_cda940b695334979bd896b3cbb875de9",
        "IPY_MODEL_9e2665942a734ca8affce73c600039ea",
        "IPY_MODEL_aa127a29991c41cbad0a3d13a573b834",
        "IPY_MODEL_2e0de7f0fe6a4257b5ddf165e68f0db5",
        "IPY_MODEL_288d9e39159e4b8492dfce306e7a51b1",
        "IPY_MODEL_dbbf5c28442a4d459e52d9deb5994287",
        "IPY_MODEL_a72897f8ac7f4824bf5180de1e345843",
        "IPY_MODEL_c8362732a93a490d8b62e99d7761f9c9",
        "IPY_MODEL_e42be4399e364606afef348db0e92c8d",
        "IPY_MODEL_3b9270834c214591b10fbed4e35333a5",
        "IPY_MODEL_0f6df18f2a5d41fb939c992e0e8017c7",
        "IPY_MODEL_d73113dbb59d42e096810d845d98010b",
        "IPY_MODEL_44631b9647154b81ac927d155f787988",
        "IPY_MODEL_2e544b7d51a14b4f9cc95a65e520961e",
        "IPY_MODEL_30b4af19f32e4dfc82ed3bf8b08f656f",
        "IPY_MODEL_b7176750582d440d88ccd676e07b2e9e",
        "IPY_MODEL_5ba693e509764788b76723f8123ff8b4"
       ],
       "layout": "IPY_MODEL_a64093522470449b91bbf62506b11183"
      }
     },
     "eaef2644cd784f0287a197c5fd5d79d8": {
      "model_module": "@jupyter-widgets/base",
      "model_module_version": "1.2.0",
      "model_name": "LayoutModel",
      "state": {
       "height": "auto",
       "padding": "0px 0px 0px 4px",
       "width": "auto"
      }
     },
     "eb5e1f21a9b74c648d56fbf2d45d44ff": {
      "model_module": "jupyter-leaflet",
      "model_module_version": "^0.14.0",
      "model_name": "LeafletTileLayerModel",
      "state": {
       "_model_module_version": "^0.14.0",
       "_view_module_version": "^0.14.0",
       "attribution": "&copy; <a href=\"http://www.openstreetmap.org/copyright\">OpenStreetMap</a>",
       "max_native_zoom": 18,
       "min_native_zoom": 0,
       "min_zoom": 1,
       "name": "OpenStreetMap.BlackAndWhite",
       "options": [
        "attribution",
        "detect_retina",
        "max_native_zoom",
        "max_zoom",
        "min_native_zoom",
        "min_zoom",
        "no_wrap",
        "tile_size",
        "tms"
       ],
       "url": "http://{s}.tiles.wmflabs.org/bw-mapnik/{z}/{x}/{y}.png"
      }
     },
     "eba60769cae84e798b6fedced19cb0c8": {
      "model_module": "jupyter-leaflet",
      "model_module_version": "^0.14.0",
      "model_name": "LeafletMarkerClusterModel",
      "state": {
       "_model_module_version": "^0.14.0",
       "_view_module_version": "^0.14.0",
       "disable_clustering_at_zoom": 18,
       "max_cluster_radius": 80,
       "name": "Marker Cluster",
       "options": [
        "disable_clustering_at_zoom",
        "max_cluster_radius"
       ]
      }
     },
     "efc5f33a5252401ca8f44eab24d0dd83": {
      "model_module": "@jupyter-widgets/controls",
      "model_module_version": "1.5.0",
      "model_name": "ButtonStyleModel",
      "state": {}
     },
     "f01a56199a4943b695b0fc17d5683541": {
      "model_module": "@jupyter-widgets/controls",
      "model_module_version": "1.5.0",
      "model_name": "ButtonModel",
      "state": {
       "description": "Cancel",
       "layout": "IPY_MODEL_b703c6b1469b4fa9b9e21a1d55356a4c",
       "style": "IPY_MODEL_1dbbe3fa34694eb3832de2cd00ee6e1a"
      }
     },
     "f04616a2f8f2408da93ac6e7561e0c0c": {
      "model_module": "@jupyter-widgets/controls",
      "model_module_version": "1.5.0",
      "model_name": "DescriptionStyleModel",
      "state": {
       "description_width": ""
      }
     },
     "f1584ee61cf94ee4b97162449ebc3dda": {
      "model_module": "jupyter-leaflet",
      "model_module_version": "^0.14.0",
      "model_name": "LeafletTileLayerModel",
      "state": {
       "_model_module_version": "^0.14.0",
       "_view_module_version": "^0.14.0",
       "attribution": "Map tiles by <a href=\"https://labs.strava.com/heatmap\">Strava 2017</a>",
       "max_native_zoom": 18,
       "max_zoom": 15,
       "min_native_zoom": 0,
       "min_zoom": 1,
       "name": "Strava.Run",
       "options": [
        "attribution",
        "detect_retina",
        "max_native_zoom",
        "max_zoom",
        "min_native_zoom",
        "min_zoom",
        "no_wrap",
        "tile_size",
        "tms"
       ],
       "url": "https://heatmap-external-a.strava.com//tiles/run/bluered/{z}/{x}/{y}.png?v=19"
      }
     },
     "f1c362fd8f9d444d9ef85898a081b3a6": {
      "model_module": "jupyter-leaflet",
      "model_module_version": "^0.14.0",
      "model_name": "LeafletTileLayerModel",
      "state": {
       "_model_module_version": "^0.14.0",
       "_view_module_version": "^0.14.0",
       "attribution": "Map tiles by <a href=\"https://labs.strava.com/heatmap\">Strava 2017</a>",
       "max_native_zoom": 18,
       "max_zoom": 15,
       "min_native_zoom": 0,
       "min_zoom": 1,
       "name": "Strava.Winter",
       "options": [
        "attribution",
        "detect_retina",
        "max_native_zoom",
        "max_zoom",
        "min_native_zoom",
        "min_zoom",
        "no_wrap",
        "tile_size",
        "tms"
       ],
       "url": "https://heatmap-external-a.strava.com//tiles/winter/hot/{z}/{x}/{y}.png?v=19"
      }
     },
     "f22b56ae159143c0816a00b55d3f1da3": {
      "model_module": "@jupyter-widgets/controls",
      "model_module_version": "1.5.0",
      "model_name": "DescriptionStyleModel",
      "state": {
       "description_width": ""
      }
     },
     "f23b4c10d70f499fa0f5976e3f2ed195": {
      "model_module": "@jupyter-widgets/controls",
      "model_module_version": "1.5.0",
      "model_name": "DescriptionStyleModel",
      "state": {
       "description_width": ""
      }
     },
     "f29ddce4221642518a49872893d1423a": {
      "model_module": "jupyter-leaflet",
      "model_module_version": "^0.14.0",
      "model_name": "LeafletTileLayerModel",
      "state": {
       "_model_module_version": "^0.14.0",
       "_view_module_version": "^0.14.0",
       "attribution": "\nImagery provided by services from the Global Imagery Browse Services (GIBS), operated by the NASA/GSFC/Earth Science Data and Information System (<a href=\"https://earthdata.nasa.gov\">ESDIS</a>) with funding provided by NASA/HQ.\n",
       "max_native_zoom": 18,
       "max_zoom": 9,
       "min_native_zoom": 0,
       "min_zoom": 1,
       "name": "NASAGIBS.ModisTerraBands367CR",
       "options": [
        "attribution",
        "detect_retina",
        "max_native_zoom",
        "max_zoom",
        "min_native_zoom",
        "min_zoom",
        "no_wrap",
        "tile_size",
        "tms"
       ],
       "url": "https://gibs.earthdata.nasa.gov/wmts/epsg3857/best/MODIS_Terra_CorrectedReflectance_Bands367/default/2021-07-26/GoogleMapsCompatible_Level9/{z}/{y}/{x}.jpg"
      }
     },
     "f33b51329c2e427b9da491da43daa879": {
      "model_module": "@jupyter-widgets/controls",
      "model_module_version": "1.5.0",
      "model_name": "DescriptionStyleModel",
      "state": {
       "description_width": ""
      }
     },
     "f357c404adb84322a97b049d39d3a19b": {
      "model_module": "jupyter-leaflet",
      "model_module_version": "^0.14.0",
      "model_name": "LeafletTileLayerModel",
      "state": {
       "_model_module_version": "^0.14.0",
       "_view_module_version": "^0.14.0",
       "attribution": "Google",
       "max_native_zoom": 18,
       "min_native_zoom": 0,
       "name": "Google Maps",
       "options": [
        "attribution",
        "detect_retina",
        "max_native_zoom",
        "max_zoom",
        "min_native_zoom",
        "min_zoom",
        "no_wrap",
        "tile_size",
        "tms"
       ],
       "url": "https://mt1.google.com/vt/lyrs=m&x={x}&y={y}&z={z}"
      }
     },
     "f4f80671eb104b43b091f007d086818e": {
      "model_module": "jupyter-leaflet",
      "model_module_version": "^0.14.0",
      "model_name": "LeafletTileLayerModel",
      "state": {
       "_model_module_version": "^0.14.0",
       "_view_module_version": "^0.14.0",
       "attribution": "\nImagery provided by services from the Global Imagery Browse Services (GIBS), operated by the NASA/GSFC/Earth Science Data and Information System (<a href=\"https://earthdata.nasa.gov\">ESDIS</a>) with funding provided by NASA/HQ.\n",
       "max_native_zoom": 18,
       "max_zoom": 9,
       "min_native_zoom": 0,
       "min_zoom": 1,
       "name": "NASAGIBS.ModisAquaBands721CR",
       "options": [
        "attribution",
        "detect_retina",
        "max_native_zoom",
        "max_zoom",
        "min_native_zoom",
        "min_zoom",
        "no_wrap",
        "tile_size",
        "tms"
       ],
       "url": "https://gibs.earthdata.nasa.gov/wmts/epsg3857/best/MODIS_Aqua_CorrectedReflectance_Bands721/default/2021-07-26/GoogleMapsCompatible_Level9/{z}/{y}/{x}.jpg"
      }
     },
     "f6259d2925394d7480ad36e43a7c6468": {
      "model_module": "@jupyter-widgets/controls",
      "model_module_version": "1.5.0",
      "model_name": "ToggleButtonModel",
      "state": {
       "button_style": "primary",
       "icon": "smile-o",
       "layout": "IPY_MODEL_2250ec555c3745a4bf6e1ece35ed2739",
       "style": "IPY_MODEL_a05fb703ba3d41848a30ce248068286f",
       "tooltip": "This is a placehold"
      }
     },
     "f68ee8a7fd1f491ea289c9e5c32663c2": {
      "model_module": "jupyter-leaflet",
      "model_module_version": "^0.14.0",
      "model_name": "LeafletTileLayerModel",
      "state": {
       "_model_module_version": "^0.14.0",
       "_view_module_version": "^0.14.0",
       "attribution": "&copy; <a href=\"http://www.openstreetmap.org/copyright\">OpenStreetMap</a>, Tiles courtesy of <a href=\"http://hot.openstreetmap.org/\" target=\"_blank\">Humanitarian OpenStreetMap Team</a>",
       "max_native_zoom": 18,
       "max_zoom": 19,
       "min_native_zoom": 0,
       "min_zoom": 1,
       "name": "OpenStreetMap.HOT",
       "options": [
        "attribution",
        "detect_retina",
        "max_native_zoom",
        "max_zoom",
        "min_native_zoom",
        "min_zoom",
        "no_wrap",
        "tile_size",
        "tms"
       ],
       "url": "http://{s}.tile.openstreetmap.fr/hot/{z}/{x}/{y}.png"
      }
     },
     "f69bd4125ec0408699ee8603c70a29e9": {
      "model_module": "jupyter-leaflet",
      "model_module_version": "^0.14.0",
      "model_name": "LeafletTileLayerModel",
      "state": {
       "_model_module_version": "^0.14.0",
       "_view_module_version": "^0.14.0",
       "attribution": "Google",
       "max_native_zoom": 18,
       "min_native_zoom": 0,
       "name": "Google Terrain",
       "options": [
        "attribution",
        "detect_retina",
        "max_native_zoom",
        "max_zoom",
        "min_native_zoom",
        "min_zoom",
        "no_wrap",
        "tile_size",
        "tms"
       ],
       "url": "https://mt1.google.com/vt/lyrs=p&x={x}&y={y}&z={z}"
      }
     },
     "f7405bfa747140d696c1a04940040c18": {
      "model_module": "@jupyter-widgets/output",
      "model_module_version": "1.0.0",
      "model_name": "OutputModel",
      "state": {
       "layout": "IPY_MODEL_ac51cc057cdb45968c6431c7fd76f09c"
      }
     },
     "f760c8814f86429e88a359ca4bfbbccc": {
      "model_module": "jupyter-leaflet",
      "model_module_version": "^0.14.0",
      "model_name": "LeafletMeasureControlModel",
      "state": {
       "_model_module_version": "^0.14.0",
       "_view_module_version": "^0.14.0",
       "active_color": "orange",
       "options": [
        "active_color",
        "capture_z_index",
        "completed_color",
        "popup_options",
        "position",
        "primary_area_unit",
        "primary_length_unit",
        "secondary_area_unit",
        "secondary_length_unit"
       ],
       "position": "bottomleft",
       "primary_length_unit": "kilometers",
       "secondary_area_unit": null,
       "secondary_length_unit": null
      }
     },
     "f7f726ada33c457e91da306986cf8336": {
      "model_module": "@jupyter-widgets/base",
      "model_module_version": "1.2.0",
      "model_name": "LayoutModel",
      "state": {
       "height": "auto",
       "padding": "0px 0px 0px 4px",
       "width": "auto"
      }
     },
     "f844b4115a604c4bb82fa57f4c960ee1": {
      "model_module": "@jupyter-widgets/base",
      "model_module_version": "1.2.0",
      "model_name": "LayoutModel",
      "state": {}
     },
     "f93e405d78894602a4c9c19252a25e9c": {
      "model_module": "@jupyter-widgets/controls",
      "model_module_version": "1.5.0",
      "model_name": "ToggleButtonModel",
      "state": {
       "button_style": "primary",
       "icon": "info",
       "layout": "IPY_MODEL_c32426373349481b9e369bb67cce7bfe",
       "style": "IPY_MODEL_df6334a113a5480d86792287f8dd120b",
       "tooltip": "Inspector"
      }
     },
     "f995ba825ef449f29d61776dd3cec488": {
      "model_module": "@jupyter-widgets/controls",
      "model_module_version": "1.5.0",
      "model_name": "VBoxModel",
      "state": {
       "children": [
        "IPY_MODEL_5e551bc0dbf14e9c8c53d2ad32027a78",
        "IPY_MODEL_fee50d1d337b4f7b9a6668215f4dd865"
       ],
       "layout": "IPY_MODEL_93bb42a960bf461e87f97ddf8b0b6a54"
      }
     },
     "f9d16c7846a441bb9a6e8eff9a081d8b": {
      "model_module": "@jupyter-widgets/controls",
      "model_module_version": "1.5.0",
      "model_name": "ToggleButtonModel",
      "state": {
       "button_style": "primary",
       "icon": "retweet",
       "layout": "IPY_MODEL_931d8f1073c648b4a5a1439a7f051b63",
       "style": "IPY_MODEL_e498ac435ded42298eeb8412935fcd46",
       "tooltip": "Convert Earth Engine JavaScript to Python"
      }
     },
     "fa8b18fcb0814ce2a3c5f075ab84d0f5": {
      "model_module": "jupyter-leaflet",
      "model_module_version": "^0.14.0",
      "model_name": "LeafletWidgetControlModel",
      "state": {
       "_model_module": "jupyter-leaflet",
       "_model_module_version": "^0.14.0",
       "_view_count": null,
       "_view_module": "jupyter-leaflet",
       "_view_module_version": "^0.14.0",
       "options": [
        "position",
        "transparent_bg"
       ],
       "position": "topleft",
       "widget": "IPY_MODEL_787774ec0d3046a79d115186b8111f65"
      }
     },
     "fb2ebcadd3c24cefa3ab923f14ea9938": {
      "model_module": "jupyter-leaflet",
      "model_module_version": "^0.14.0",
      "model_name": "LeafletTileLayerModel",
      "state": {
       "_model_module_version": "^0.14.0",
       "_view_module_version": "^0.14.0",
       "attribution": "&copy; <a href=\"http://www.openstreetmap.org/copyright\">OpenStreetMap</a> &copy; <a href=\"http://cartodb.com/attributions\">CartoDB</a>",
       "max_native_zoom": 18,
       "max_zoom": 20,
       "min_native_zoom": 0,
       "min_zoom": 1,
       "name": "CartoDB.DarkMatter",
       "options": [
        "attribution",
        "detect_retina",
        "max_native_zoom",
        "max_zoom",
        "min_native_zoom",
        "min_zoom",
        "no_wrap",
        "tile_size",
        "tms"
       ],
       "url": "http://c.basemaps.cartocdn.com/dark_all/{z}/{x}/{y}.png"
      }
     },
     "fb6ef07d9a734225a471993f3910facd": {
      "model_module": "@jupyter-widgets/base",
      "model_module_version": "1.2.0",
      "model_name": "LayoutModel",
      "state": {
       "height": "28px",
       "padding": "0px 0px 0px 4px",
       "width": "28px"
      }
     },
     "fbb98c1b12a84d74812f5709987e24ec": {
      "model_module": "@jupyter-widgets/controls",
      "model_module_version": "1.5.0",
      "model_name": "ToggleButtonModel",
      "state": {
       "button_style": "primary",
       "icon": "adjust",
       "layout": "IPY_MODEL_485c21df3d054abe933a62eaaf35ff96",
       "style": "IPY_MODEL_95d10b68ca3248a9ba22a07269b65d03",
       "tooltip": "Planet imagery"
      }
     },
     "fc20025fd605410b98afdf0cfb5e9a1e": {
      "model_module": "@jupyter-widgets/controls",
      "model_module_version": "1.5.0",
      "model_name": "GridBoxModel",
      "state": {
       "children": [
        "IPY_MODEL_5c1271864cbe46e585789e3b9de67d38",
        "IPY_MODEL_552ac2428ef845c28e7bb138abb4f0d0",
        "IPY_MODEL_42f4e928d3e849f09b97cffc9b8aa1e1"
       ],
       "layout": "IPY_MODEL_dba03da801db4c70bb048f7b32629fa5"
      }
     },
     "fc867503d810429fbcff21c5b1c1adb0": {
      "model_module": "@jupyter-widgets/controls",
      "model_module_version": "1.5.0",
      "model_name": "DescriptionStyleModel",
      "state": {
       "description_width": ""
      }
     },
     "fc8d8df79ff34a38997b0553d0a82c6d": {
      "model_module": "@jupyter-widgets/base",
      "model_module_version": "1.2.0",
      "model_name": "LayoutModel",
      "state": {
       "border": "1px solid black"
      }
     },
     "fdcf68fd040c4b2eb9ccb4158037a595": {
      "model_module": "@jupyter-widgets/controls",
      "model_module_version": "1.5.0",
      "model_name": "DescriptionStyleModel",
      "state": {
       "description_width": ""
      }
     },
     "fea189c91a96426b90a36993fb43c3c1": {
      "model_module": "@jupyter-widgets/controls",
      "model_module_version": "1.5.0",
      "model_name": "HBoxModel",
      "state": {
       "_view_count": 1,
       "children": [
        "IPY_MODEL_84ba4129bcd14cffaceb2bbc155bbb93"
       ],
       "layout": "IPY_MODEL_02581f1dde844034853c825719cb87c6"
      }
     },
     "fee50d1d337b4f7b9a6668215f4dd865": {
      "model_module": "@jupyter-widgets/controls",
      "model_module_version": "1.5.0",
      "model_name": "TextModel",
      "state": {
       "layout": "IPY_MODEL_8b4fb880cc904b4691bce57047be7915",
       "placeholder": "Search by place name or address",
       "style": "IPY_MODEL_fdcf68fd040c4b2eb9ccb4158037a595"
      }
     }
    },
    "version_major": 2,
    "version_minor": 0
   }
  }
 },
 "nbformat": 4,
 "nbformat_minor": 5
}
